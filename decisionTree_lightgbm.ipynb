{
 "cells": [
  {
   "cell_type": "code",
   "execution_count": 1,
   "metadata": {},
   "outputs": [
    {
     "name": "stderr",
     "output_type": "stream",
     "text": [
      "c:\\thesis\\code\\DIFFUSION_TREE\\env\\lib\\site-packages\\tqdm\\auto.py:21: TqdmWarning: IProgress not found. Please update jupyter and ipywidgets. See https://ipywidgets.readthedocs.io/en/stable/user_install.html\n",
      "  from .autonotebook import tqdm as notebook_tqdm\n"
     ]
    }
   ],
   "source": [
    "import os\n",
    "import pickle\n",
    "import pandas as pd\n",
    "import numpy as np\n",
    "import lightgbm as lgb\n",
    "import shap\n",
    "import matplotlib.pyplot as plt\n",
    "from collections import deque\n",
    "from sklearn.model_selection import train_test_split\n",
    "from sklearn.metrics import mean_squared_error"
   ]
  },
  {
   "cell_type": "code",
   "execution_count": 2,
   "metadata": {},
   "outputs": [
    {
     "name": "stdout",
     "output_type": "stream",
     "text": [
      "所有座標點： ['(121.505, 25.11)', '(121.505, 25.115)', '(121.51, 25.11)', '(121.51, 25.115)', '(121.51, 25.12)', '(121.51, 25.125)', '(121.515, 25.105)', '(121.515, 25.11)', '(121.515, 25.115)', '(121.515, 25.12)', '(121.52, 25.105)', '(121.52, 25.11)', '(121.52, 25.115)', '(121.52, 25.12)', '(121.525, 25.105)', '(121.525, 25.11)', '(121.525, 25.115)', '(121.525, 25.12)', '(121.535, 25.02)', '(121.535, 25.025)', '(121.535, 25.03)', '(121.535, 25.035)', '(121.54, 25.015)', '(121.54, 25.02)', '(121.54, 25.025)', '(121.54, 25.03)', '(121.54, 25.035)', '(121.545, 25.015)', '(121.545, 25.02)', '(121.545, 25.025)', '(121.545, 25.03)', '(121.545, 25.035)', '(121.55, 25.015)', '(121.55, 25.02)', '(121.55, 25.025)', '(121.55, 25.03)', '(121.55, 25.035)', '(121.555, 25.015)', '(121.555, 25.02)', '(121.555, 25.025)', '(121.555, 25.03)', '(121.555, 25.035)', '(121.575, 25.06)', '(121.575, 25.065)', '(121.575, 25.07)', '(121.575, 25.075)', '(121.575, 25.08)', '(121.58, 25.06)', '(121.58, 25.065)', '(121.58, 25.07)', '(121.58, 25.075)', '(121.58, 25.08)', '(121.585, 25.06)', '(121.585, 25.065)', '(121.585, 25.07)', '(121.585, 25.075)', '(121.59, 25.06)', '(121.59, 25.065)', '(121.59, 25.07)', '(121.59, 25.075)', '(121.59, 25.08)', '(121.595, 25.06)', '(121.595, 25.065)', '(121.595, 25.07)', '(121.595, 25.075)', '(121.595, 25.08)', '(121.525, 25.1)', '(121.53, 25.1)', '(121.53, 25.105)', '(121.53, 25.11)', '(121.53, 25.115)', '(121.53, 25.12)', '(121.535, 25.1)', '(121.535, 25.105)', '(121.535, 25.11)', '(121.535, 25.115)', '(121.535, 25.12)', '(121.54, 25.105)', '(121.54, 25.115)', '(121.545, 25.1)', '(121.545, 25.105)', '(121.545, 25.05)', '(121.545, 25.055)', '(121.545, 25.06)', '(121.545, 25.065)', '(121.545, 25.07)', '(121.55, 25.05)', '(121.55, 25.055)', '(121.55, 25.06)', '(121.55, 25.065)', '(121.55, 25.07)', '(121.555, 25.05)', '(121.555, 25.055)', '(121.555, 25.06)', '(121.555, 25.065)', '(121.555, 25.07)', '(121.56, 25.05)', '(121.56, 25.055)', '(121.56, 25.06)', '(121.56, 25.065)', '(121.56, 25.07)', '(121.565, 25.05)', '(121.565, 25.055)', '(121.565, 25.06)', '(121.565, 25.065)', '(121.545, 24.985)', '(121.545, 24.99)', '(121.545, 24.995)', '(121.545, 25.0)', '(121.545, 25.005)', '(121.55, 24.985)', '(121.55, 24.99)', '(121.55, 24.995)', '(121.55, 25.0)', '(121.55, 25.005)', '(121.555, 24.985)', '(121.555, 24.99)', '(121.555, 24.995)', '(121.555, 25.0)', '(121.555, 25.005)', '(121.56, 24.985)', '(121.56, 24.99)', '(121.56, 24.995)', '(121.56, 25.0)', '(121.56, 25.005)', '(121.565, 24.985)', '(121.565, 24.99)', '(121.565, 24.995)', '(121.565, 25.005)', '(121.56, 25.02)', '(121.56, 25.025)', '(121.56, 25.03)', '(121.56, 25.035)', '(121.56, 25.04)', '(121.565, 25.02)', '(121.565, 25.025)', '(121.565, 25.03)', '(121.565, 25.035)', '(121.565, 25.04)', '(121.57, 25.02)', '(121.57, 25.025)', '(121.57, 25.03)', '(121.57, 25.035)', '(121.57, 25.04)', '(121.575, 25.02)', '(121.575, 25.03)', '(121.575, 25.035)', '(121.575, 25.04)', '(121.58, 25.03)', '(121.58, 25.035)', '(121.58, 25.04)', '(121.525, 25.055)', '(121.525, 25.06)', '(121.525, 25.065)', '(121.525, 25.07)', '(121.525, 25.075)', '(121.53, 25.055)', '(121.53, 25.06)', '(121.53, 25.065)', '(121.53, 25.07)', '(121.53, 25.075)', '(121.535, 25.055)', '(121.535, 25.06)', '(121.535, 25.065)', '(121.535, 25.07)', '(121.535, 25.075)', '(121.54, 25.055)', '(121.54, 25.06)', '(121.54, 25.065)', '(121.54, 25.07)', '(121.54, 25.075)', '(121.545, 25.075)', '(121.51, 25.025)', '(121.51, 25.03)', '(121.51, 25.035)', '(121.51, 25.04)', '(121.51, 25.045)', '(121.515, 25.025)', '(121.515, 25.03)', '(121.515, 25.035)', '(121.515, 25.04)', '(121.515, 25.045)', '(121.52, 25.025)', '(121.52, 25.03)', '(121.52, 25.035)', '(121.52, 25.04)', '(121.52, 25.045)', '(121.525, 25.025)', '(121.525, 25.03)', '(121.525, 25.035)', '(121.525, 25.04)', '(121.525, 25.045)', '(121.53, 25.025)', '(121.53, 25.03)', '(121.53, 25.035)', '(121.53, 25.04)', '(121.53, 25.045)']\n"
     ]
    }
   ],
   "source": [
    "# 設定與數據讀取\n",
    "plt.rcParams['font.sans-serif'] = ['Microsoft JhengHei']\n",
    "plt.rcParams['axes.unicode_minus'] = False\n",
    "\n",
    "data_path = r\"C:\\thesis\\code\\Taipei_5x5\\all_merged_5X5.csv\"\n",
    "df = pd.read_csv(data_path)\n",
    "result_dir = r\"C:\\thesis\\code\\result_lgb\"\n",
    "os.makedirs(result_dir, exist_ok=True)\n",
    "# 建立子目錄\n",
    "sub_dirs = [\"learning_curve\", \"tree\", \"shap_summary\", \"shap_bar\", \"model\", \"group_tree\"]\n",
    "for sub in sub_dirs:\n",
    "    os.makedirs(os.path.join(result_dir, sub), exist_ok=True)\n",
    "\n",
    "# 處理角度變數\n",
    "for col in ['最大陣風風向', '風向']:\n",
    "    df[f'sin_{col}'] = np.sin(np.deg2rad(df[col]))\n",
    "    df[f'cos_{col}'] = np.cos(np.deg2rad(df[col]))\n",
    "\n",
    "# 建立特徵名稱翻譯對應表\n",
    "feature_mapping = {\n",
    "    '測站氣壓': 'Station_Pressure',\n",
    "    '海平面氣壓': 'Sea_Level_Pressure',\n",
    "    '氣溫': 'Temperature',\n",
    "    '露點溫度': 'Dew_Point',\n",
    "    '相對溼度': 'Relative_Humidity',\n",
    "    '風速': 'Wind_Speed',\n",
    "    '風向': 'Wind_Direction',\n",
    "    '最大陣風': 'Max_Gust',\n",
    "    '最大陣風風向': 'Max_Gust_Direction',\n",
    "    '降水量': 'Precipitation',\n",
    "    '降水時數': 'Precipitation_Hours',\n",
    "    '日照時數': 'Sunshine_Hours',\n",
    "    '全天空日射量': 'Global_Radiation',\n",
    "    '能見度': 'Visibility',\n",
    "    '紫外線指數': 'UV_Index',\n",
    "    '總雲量': 'Total_Cloud_Cover',\n",
    "    'hoilday': 'Holiday',\n",
    "    'weekday': 'Weekday',\n",
    "    '年': 'Year',\n",
    "    '月': 'Month',\n",
    "    '日': 'Day',\n",
    "    '時': 'Hour'\n",
    "}\n",
    "\n",
    "df_original = df.copy()\n",
    "\n",
    "# 提取座標欄位（假設格式為 \"(經度, 緯度)\"）\n",
    "target_columns = [col for col in df.columns if '(' in col and ')' in col]\n",
    "print(\"所有座標點：\", target_columns)\n",
    "\n",
    "# 替換 DataFrame 欄位名稱為英文供 LightGBM 使用\n",
    "df_tree = df.rename(columns=feature_mapping)\n",
    "\n",
    "# 定義 X 與 y\n",
    "X = df_original[list(feature_mapping.keys())]\n",
    "y = df_original[target_columns]\n",
    "\n",
    "# 切分訓練集與測試集\n",
    "X_train, X_test, y_train, y_test = train_test_split(X, y, test_size=0.2, random_state=42)\n",
    "X_train_tree = X_train.rename(columns=feature_mapping)\n",
    "X_test_tree = X_test.rename(columns=feature_mapping)\n",
    "\n",
    "cat_features = ['Holiday', 'Month']\n",
    "\n",
    "# 解析座標字串函式\n",
    "def parse_coord_string(coord_str):\n",
    "    coord_str = coord_str.strip(\"() \")\n",
    "    lon_str, lat_str = coord_str.split(\",\")\n",
    "    return float(lon_str), float(lat_str)\n",
    "\n",
    "# ---------------------------\n",
    "# 定義輔助函式\n",
    "\n",
    "def get_feature_gain_vector(node, vector):\n",
    "    if \"split_feature\" in node:\n",
    "        feat_index = node[\"split_feature\"]\n",
    "        gain = node.get(\"split_gain\", 0)\n",
    "        vector[feat_index] += gain\n",
    "    if \"left_child\" in node:\n",
    "        get_feature_gain_vector(node[\"left_child\"], vector)\n",
    "    if \"right_child\" in node:\n",
    "        get_feature_gain_vector(node[\"right_child\"], vector)\n",
    "    return vector\n",
    "\n",
    "def get_breadth_first_path(tree_structure):\n",
    "    \"\"\"以廣度優先順序遍歷樹，返回所有節點的 (split_feature, threshold) 規則\"\"\"\n",
    "    path = []\n",
    "    q = deque([tree_structure])\n",
    "    while q:\n",
    "        node = q.popleft()\n",
    "        if \"split_feature\" in node:\n",
    "            rule = (node.get(\"split_feature\"), node.get(\"threshold\"))\n",
    "            path.append(rule)\n",
    "            if \"left_child\" in node:\n",
    "                q.append(node[\"left_child\"])\n",
    "            if \"right_child\" in node:\n",
    "                q.append(node[\"right_child\"])\n",
    "    return path\n",
    "\n",
    "def assign_group_by_feature_prefix(rule_paths, threshold):\n",
    "    \"\"\"\n",
    "    根據每個 target 的規則路徑（只取 split_feature）進行分組，\n",
    "    若某前綴下 target 數超過 threshold，則嘗試用更長前綴細分。\n",
    "    \"\"\"\n",
    "    groups_temp = {}\n",
    "    for target, path in rule_paths.items():\n",
    "        feature_path = tuple(rule[0] for rule in path)\n",
    "        for k in range(1, len(feature_path)+1):\n",
    "            prefix = feature_path[:k]\n",
    "            groups_temp.setdefault(prefix, []).append(target)\n",
    "    final_groups = {}\n",
    "    for target, path in rule_paths.items():\n",
    "        feature_path = tuple(rule[0] for rule in path)\n",
    "        assigned_prefix = feature_path  # 預設使用完整前綴\n",
    "        for k in range(1, len(feature_path)+1):\n",
    "            prefix = feature_path[:k]\n",
    "            if len(groups_temp[prefix]) <= threshold:\n",
    "                assigned_prefix = prefix\n",
    "                break\n",
    "        final_groups[target] = assigned_prefix\n",
    "    return final_groups"
   ]
  },
  {
   "cell_type": "code",
   "execution_count": 3,
   "metadata": {},
   "outputs": [
    {
     "name": "stdout",
     "output_type": "stream",
     "text": [
      "訓練與預測 (121.505, 25.11) 的決策樹...\n",
      "[LightGBM] [Info] Auto-choosing row-wise multi-threading, the overhead of testing was 0.000545 seconds.\n",
      "You can set `force_row_wise=true` to remove the overhead.\n",
      "And if memory is not enough, you can set `force_col_wise=true`.\n",
      "[LightGBM] [Info] Total Bins 500\n",
      "[LightGBM] [Info] Number of data points in the train set: 13585, number of used features: 22\n",
      "[LightGBM] [Info] Start training from score 329.393007\n",
      "Training until validation scores don't improve for 10 rounds\n",
      "[10]\tvalid_0's l2: 8001.68\n",
      "[20]\tvalid_0's l2: 4665.21\n",
      "[30]\tvalid_0's l2: 3213.54\n",
      "[40]\tvalid_0's l2: 2542.4\n",
      "[50]\tvalid_0's l2: 2171.86\n",
      "[60]\tvalid_0's l2: 1929.85\n",
      "[70]\tvalid_0's l2: 1774.79\n",
      "[80]\tvalid_0's l2: 1642.43\n",
      "[90]\tvalid_0's l2: 1549.26\n",
      "[100]\tvalid_0's l2: 1482.72\n",
      "Did not meet early stopping. Best iteration is:\n",
      "[100]\tvalid_0's l2: 1482.72\n",
      "LightGBM 總樹數: 100\n",
      "學習曲線已儲存至: C:\\thesis\\code\\result_lgb\\learning_curve\\(121.505_25.11).png\n",
      "最佳決策樹圖（Highest split_gain）已儲存至: C:\\thesis\\code\\result_lgb\\tree\\(121.505_25.11).png\n",
      "SHAP 特徵重要性圖已儲存至: C:\\thesis\\code\\result_lgb\\shap_summary\\(121.505_25.11).png\n",
      "SHAP 特徵影響條形圖已儲存至: C:\\thesis\\code\\result_lgb\\shap_bar\\(121.505_25.11).png\n",
      "訓練與預測 (121.505, 25.115) 的決策樹...\n",
      "[LightGBM] [Info] Auto-choosing row-wise multi-threading, the overhead of testing was 0.000471 seconds.\n",
      "You can set `force_row_wise=true` to remove the overhead.\n",
      "And if memory is not enough, you can set `force_col_wise=true`.\n",
      "[LightGBM] [Info] Total Bins 500\n",
      "[LightGBM] [Info] Number of data points in the train set: 13585, number of used features: 22\n",
      "[LightGBM] [Info] Start training from score 2675.114980\n",
      "Training until validation scores don't improve for 10 rounds\n",
      "[10]\tvalid_0's l2: 130477\n",
      "[20]\tvalid_0's l2: 79868.5\n",
      "[30]\tvalid_0's l2: 58069.9\n",
      "[40]\tvalid_0's l2: 47856.3\n",
      "[50]\tvalid_0's l2: 41428.2\n",
      "[60]\tvalid_0's l2: 36911.1\n",
      "[70]\tvalid_0's l2: 33492.3\n",
      "[80]\tvalid_0's l2: 31044.3\n",
      "[90]\tvalid_0's l2: 28812.6\n",
      "[100]\tvalid_0's l2: 26869\n",
      "Did not meet early stopping. Best iteration is:\n",
      "[100]\tvalid_0's l2: 26869\n",
      "LightGBM 總樹數: 100\n",
      "學習曲線已儲存至: C:\\thesis\\code\\result_lgb\\learning_curve\\(121.505_25.115).png\n",
      "最佳決策樹圖（Highest split_gain）已儲存至: C:\\thesis\\code\\result_lgb\\tree\\(121.505_25.115).png\n",
      "SHAP 特徵重要性圖已儲存至: C:\\thesis\\code\\result_lgb\\shap_summary\\(121.505_25.115).png\n",
      "SHAP 特徵影響條形圖已儲存至: C:\\thesis\\code\\result_lgb\\shap_bar\\(121.505_25.115).png\n",
      "訓練與預測 (121.51, 25.11) 的決策樹...\n",
      "[LightGBM] [Info] Auto-choosing col-wise multi-threading, the overhead of testing was 0.001543 seconds.\n",
      "You can set `force_col_wise=true` to remove the overhead.\n",
      "[LightGBM] [Info] Total Bins 500\n",
      "[LightGBM] [Info] Number of data points in the train set: 13585, number of used features: 22\n",
      "[LightGBM] [Info] Start training from score 2791.946338\n",
      "Training until validation scores don't improve for 10 rounds\n",
      "[10]\tvalid_0's l2: 75848.6\n",
      "[20]\tvalid_0's l2: 58701.4\n",
      "[30]\tvalid_0's l2: 48924.2\n",
      "[40]\tvalid_0's l2: 40604.8\n",
      "[50]\tvalid_0's l2: 35301.7\n",
      "[60]\tvalid_0's l2: 30792.7\n",
      "[70]\tvalid_0's l2: 27315.2\n",
      "[80]\tvalid_0's l2: 24988.3\n",
      "[90]\tvalid_0's l2: 22900.9\n",
      "[100]\tvalid_0's l2: 21654.3\n",
      "Did not meet early stopping. Best iteration is:\n",
      "[100]\tvalid_0's l2: 21654.3\n",
      "LightGBM 總樹數: 100\n",
      "學習曲線已儲存至: C:\\thesis\\code\\result_lgb\\learning_curve\\(121.51_25.11).png\n",
      "最佳決策樹圖（Highest split_gain）已儲存至: C:\\thesis\\code\\result_lgb\\tree\\(121.51_25.11).png\n",
      "SHAP 特徵重要性圖已儲存至: C:\\thesis\\code\\result_lgb\\shap_summary\\(121.51_25.11).png\n",
      "SHAP 特徵影響條形圖已儲存至: C:\\thesis\\code\\result_lgb\\shap_bar\\(121.51_25.11).png\n",
      "訓練與預測 (121.51, 25.115) 的決策樹...\n",
      "[LightGBM] [Info] Auto-choosing row-wise multi-threading, the overhead of testing was 0.000549 seconds.\n",
      "You can set `force_row_wise=true` to remove the overhead.\n",
      "And if memory is not enough, you can set `force_col_wise=true`.\n",
      "[LightGBM] [Info] Total Bins 500\n",
      "[LightGBM] [Info] Number of data points in the train set: 13585, number of used features: 22\n",
      "[LightGBM] [Info] Start training from score 2254.477070\n",
      "Training until validation scores don't improve for 10 rounds\n",
      "[10]\tvalid_0's l2: 104988\n",
      "[20]\tvalid_0's l2: 64571.2\n",
      "[30]\tvalid_0's l2: 47301\n",
      "[40]\tvalid_0's l2: 38650.9\n",
      "[50]\tvalid_0's l2: 32864\n",
      "[60]\tvalid_0's l2: 29345.6\n",
      "[70]\tvalid_0's l2: 26465.2\n",
      "[80]\tvalid_0's l2: 23843.5\n",
      "[90]\tvalid_0's l2: 22160.1\n",
      "[100]\tvalid_0's l2: 20533.6\n",
      "Did not meet early stopping. Best iteration is:\n",
      "[100]\tvalid_0's l2: 20533.6\n",
      "LightGBM 總樹數: 100\n",
      "學習曲線已儲存至: C:\\thesis\\code\\result_lgb\\learning_curve\\(121.51_25.115).png\n",
      "最佳決策樹圖（Highest split_gain）已儲存至: C:\\thesis\\code\\result_lgb\\tree\\(121.51_25.115).png\n",
      "SHAP 特徵重要性圖已儲存至: C:\\thesis\\code\\result_lgb\\shap_summary\\(121.51_25.115).png\n",
      "SHAP 特徵影響條形圖已儲存至: C:\\thesis\\code\\result_lgb\\shap_bar\\(121.51_25.115).png\n",
      "訓練與預測 (121.51, 25.12) 的決策樹...\n",
      "[LightGBM] [Info] Auto-choosing col-wise multi-threading, the overhead of testing was 0.001016 seconds.\n",
      "You can set `force_col_wise=true` to remove the overhead.\n",
      "[LightGBM] [Info] Total Bins 500\n",
      "[LightGBM] [Info] Number of data points in the train set: 13585, number of used features: 22\n",
      "[LightGBM] [Info] Start training from score 1631.858888\n",
      "Training until validation scores don't improve for 10 rounds\n",
      "[10]\tvalid_0's l2: 109567\n",
      "[20]\tvalid_0's l2: 69477.1\n",
      "[30]\tvalid_0's l2: 51850.3\n",
      "[40]\tvalid_0's l2: 42960.9\n",
      "[50]\tvalid_0's l2: 37294.3\n",
      "[60]\tvalid_0's l2: 32866\n",
      "[70]\tvalid_0's l2: 29644.8\n",
      "[80]\tvalid_0's l2: 26997.6\n",
      "[90]\tvalid_0's l2: 25067.4\n",
      "[100]\tvalid_0's l2: 23377.5\n",
      "Did not meet early stopping. Best iteration is:\n",
      "[100]\tvalid_0's l2: 23377.5\n",
      "LightGBM 總樹數: 100\n",
      "學習曲線已儲存至: C:\\thesis\\code\\result_lgb\\learning_curve\\(121.51_25.12).png\n",
      "最佳決策樹圖（Highest split_gain）已儲存至: C:\\thesis\\code\\result_lgb\\tree\\(121.51_25.12).png\n",
      "SHAP 特徵重要性圖已儲存至: C:\\thesis\\code\\result_lgb\\shap_summary\\(121.51_25.12).png\n",
      "SHAP 特徵影響條形圖已儲存至: C:\\thesis\\code\\result_lgb\\shap_bar\\(121.51_25.12).png\n",
      "訓練與預測 (121.51, 25.125) 的決策樹...\n",
      "[LightGBM] [Info] Auto-choosing row-wise multi-threading, the overhead of testing was 0.000776 seconds.\n",
      "You can set `force_row_wise=true` to remove the overhead.\n",
      "And if memory is not enough, you can set `force_col_wise=true`.\n",
      "[LightGBM] [Info] Total Bins 500\n",
      "[LightGBM] [Info] Number of data points in the train set: 13585, number of used features: 22\n",
      "[LightGBM] [Info] Start training from score 433.352963\n",
      "Training until validation scores don't improve for 10 rounds\n",
      "[10]\tvalid_0's l2: 17066.2\n",
      "[20]\tvalid_0's l2: 9863.93\n",
      "[30]\tvalid_0's l2: 6771.51\n",
      "[40]\tvalid_0's l2: 5305.59\n",
      "[50]\tvalid_0's l2: 4478.09\n",
      "[60]\tvalid_0's l2: 4005.58\n",
      "[70]\tvalid_0's l2: 3644.96\n",
      "[80]\tvalid_0's l2: 3404.73\n",
      "[90]\tvalid_0's l2: 3213.5\n",
      "[100]\tvalid_0's l2: 3047.57\n",
      "Did not meet early stopping. Best iteration is:\n",
      "[100]\tvalid_0's l2: 3047.57\n",
      "LightGBM 總樹數: 100\n",
      "學習曲線已儲存至: C:\\thesis\\code\\result_lgb\\learning_curve\\(121.51_25.125).png\n",
      "最佳決策樹圖（Highest split_gain）已儲存至: C:\\thesis\\code\\result_lgb\\tree\\(121.51_25.125).png\n",
      "SHAP 特徵重要性圖已儲存至: C:\\thesis\\code\\result_lgb\\shap_summary\\(121.51_25.125).png\n",
      "SHAP 特徵影響條形圖已儲存至: C:\\thesis\\code\\result_lgb\\shap_bar\\(121.51_25.125).png\n",
      "訓練與預測 (121.515, 25.105) 的決策樹...\n",
      "[LightGBM] [Info] Auto-choosing col-wise multi-threading, the overhead of testing was 0.000938 seconds.\n",
      "You can set `force_col_wise=true` to remove the overhead.\n",
      "[LightGBM] [Info] Total Bins 500\n",
      "[LightGBM] [Info] Number of data points in the train set: 13585, number of used features: 22\n",
      "[LightGBM] [Info] Start training from score 2370.361207\n",
      "Training until validation scores don't improve for 10 rounds\n",
      "[10]\tvalid_0's l2: 202414\n",
      "[20]\tvalid_0's l2: 121666\n",
      "[30]\tvalid_0's l2: 87198.9\n",
      "[40]\tvalid_0's l2: 70926.1\n",
      "[50]\tvalid_0's l2: 59886\n",
      "[60]\tvalid_0's l2: 52929.7\n",
      "[70]\tvalid_0's l2: 47557\n",
      "[80]\tvalid_0's l2: 43638.1\n",
      "[90]\tvalid_0's l2: 39692.4\n",
      "[100]\tvalid_0's l2: 36966.4\n",
      "Did not meet early stopping. Best iteration is:\n",
      "[100]\tvalid_0's l2: 36966.4\n",
      "LightGBM 總樹數: 100\n",
      "學習曲線已儲存至: C:\\thesis\\code\\result_lgb\\learning_curve\\(121.515_25.105).png\n",
      "最佳決策樹圖（Highest split_gain）已儲存至: C:\\thesis\\code\\result_lgb\\tree\\(121.515_25.105).png\n",
      "SHAP 特徵重要性圖已儲存至: C:\\thesis\\code\\result_lgb\\shap_summary\\(121.515_25.105).png\n",
      "SHAP 特徵影響條形圖已儲存至: C:\\thesis\\code\\result_lgb\\shap_bar\\(121.515_25.105).png\n",
      "訓練與預測 (121.515, 25.11) 的決策樹...\n",
      "[LightGBM] [Info] Auto-choosing row-wise multi-threading, the overhead of testing was 0.000512 seconds.\n",
      "You can set `force_row_wise=true` to remove the overhead.\n",
      "And if memory is not enough, you can set `force_col_wise=true`.\n",
      "[LightGBM] [Info] Total Bins 500\n",
      "[LightGBM] [Info] Number of data points in the train set: 13585, number of used features: 22\n",
      "[LightGBM] [Info] Start training from score 2560.987928\n",
      "Training until validation scores don't improve for 10 rounds\n",
      "[10]\tvalid_0's l2: 137422\n",
      "[20]\tvalid_0's l2: 87337.5\n",
      "[30]\tvalid_0's l2: 65548.4\n",
      "[40]\tvalid_0's l2: 53684.8\n",
      "[50]\tvalid_0's l2: 46059.1\n",
      "[60]\tvalid_0's l2: 41221.6\n",
      "[70]\tvalid_0's l2: 37881.3\n",
      "[80]\tvalid_0's l2: 35104.5\n",
      "[90]\tvalid_0's l2: 33263.8\n",
      "[100]\tvalid_0's l2: 31546.9\n",
      "Did not meet early stopping. Best iteration is:\n",
      "[100]\tvalid_0's l2: 31546.9\n",
      "LightGBM 總樹數: 100\n",
      "學習曲線已儲存至: C:\\thesis\\code\\result_lgb\\learning_curve\\(121.515_25.11).png\n",
      "最佳決策樹圖（Highest split_gain）已儲存至: C:\\thesis\\code\\result_lgb\\tree\\(121.515_25.11).png\n",
      "SHAP 特徵重要性圖已儲存至: C:\\thesis\\code\\result_lgb\\shap_summary\\(121.515_25.11).png\n",
      "SHAP 特徵影響條形圖已儲存至: C:\\thesis\\code\\result_lgb\\shap_bar\\(121.515_25.11).png\n",
      "訓練與預測 (121.515, 25.115) 的決策樹...\n",
      "[LightGBM] [Info] Auto-choosing row-wise multi-threading, the overhead of testing was 0.000564 seconds.\n",
      "You can set `force_row_wise=true` to remove the overhead.\n",
      "And if memory is not enough, you can set `force_col_wise=true`.\n",
      "[LightGBM] [Info] Total Bins 500\n",
      "[LightGBM] [Info] Number of data points in the train set: 13585, number of used features: 22\n",
      "[LightGBM] [Info] Start training from score 3047.798822\n",
      "Training until validation scores don't improve for 10 rounds\n",
      "[10]\tvalid_0's l2: 92196.3\n",
      "[20]\tvalid_0's l2: 70015.3\n",
      "[30]\tvalid_0's l2: 56897.2\n",
      "[40]\tvalid_0's l2: 48441.1\n",
      "[50]\tvalid_0's l2: 42331.4\n",
      "[60]\tvalid_0's l2: 38400.4\n",
      "[70]\tvalid_0's l2: 35707.5\n",
      "[80]\tvalid_0's l2: 33251\n",
      "[90]\tvalid_0's l2: 31077.3\n",
      "[100]\tvalid_0's l2: 29350.1\n",
      "Did not meet early stopping. Best iteration is:\n",
      "[100]\tvalid_0's l2: 29350.1\n",
      "LightGBM 總樹數: 100\n",
      "學習曲線已儲存至: C:\\thesis\\code\\result_lgb\\learning_curve\\(121.515_25.115).png\n",
      "最佳決策樹圖（Highest split_gain）已儲存至: C:\\thesis\\code\\result_lgb\\tree\\(121.515_25.115).png\n",
      "SHAP 特徵重要性圖已儲存至: C:\\thesis\\code\\result_lgb\\shap_summary\\(121.515_25.115).png\n",
      "SHAP 特徵影響條形圖已儲存至: C:\\thesis\\code\\result_lgb\\shap_bar\\(121.515_25.115).png\n",
      "訓練與預測 (121.515, 25.12) 的決策樹...\n",
      "[LightGBM] [Info] Auto-choosing col-wise multi-threading, the overhead of testing was 0.001257 seconds.\n",
      "You can set `force_col_wise=true` to remove the overhead.\n",
      "[LightGBM] [Info] Total Bins 500\n",
      "[LightGBM] [Info] Number of data points in the train set: 13585, number of used features: 22\n",
      "[LightGBM] [Info] Start training from score 1714.757159\n",
      "Training until validation scores don't improve for 10 rounds\n",
      "[10]\tvalid_0's l2: 83847.4\n",
      "[20]\tvalid_0's l2: 55039.3\n",
      "[30]\tvalid_0's l2: 41042.3\n",
      "[40]\tvalid_0's l2: 33628.3\n",
      "[50]\tvalid_0's l2: 28349\n",
      "[60]\tvalid_0's l2: 24838.8\n",
      "[70]\tvalid_0's l2: 22260.9\n",
      "[80]\tvalid_0's l2: 20075.7\n",
      "[90]\tvalid_0's l2: 18545.3\n",
      "[100]\tvalid_0's l2: 17588.1\n",
      "Did not meet early stopping. Best iteration is:\n",
      "[100]\tvalid_0's l2: 17588.1\n",
      "LightGBM 總樹數: 100\n",
      "學習曲線已儲存至: C:\\thesis\\code\\result_lgb\\learning_curve\\(121.515_25.12).png\n",
      "最佳決策樹圖（Highest split_gain）已儲存至: C:\\thesis\\code\\result_lgb\\tree\\(121.515_25.12).png\n",
      "SHAP 特徵重要性圖已儲存至: C:\\thesis\\code\\result_lgb\\shap_summary\\(121.515_25.12).png\n",
      "SHAP 特徵影響條形圖已儲存至: C:\\thesis\\code\\result_lgb\\shap_bar\\(121.515_25.12).png\n",
      "訓練與預測 (121.52, 25.105) 的決策樹...\n",
      "[LightGBM] [Info] Auto-choosing row-wise multi-threading, the overhead of testing was 0.000506 seconds.\n",
      "You can set `force_row_wise=true` to remove the overhead.\n",
      "And if memory is not enough, you can set `force_col_wise=true`.\n",
      "[LightGBM] [Info] Total Bins 500\n",
      "[LightGBM] [Info] Number of data points in the train set: 13585, number of used features: 22\n",
      "[LightGBM] [Info] Start training from score 2234.078543\n",
      "Training until validation scores don't improve for 10 rounds\n",
      "[10]\tvalid_0's l2: 141399\n",
      "[20]\tvalid_0's l2: 85300\n",
      "[30]\tvalid_0's l2: 62308.3\n",
      "[40]\tvalid_0's l2: 49328.7\n",
      "[50]\tvalid_0's l2: 42518.7\n",
      "[60]\tvalid_0's l2: 37682.2\n",
      "[70]\tvalid_0's l2: 34651.4\n",
      "[80]\tvalid_0's l2: 32210.6\n",
      "[90]\tvalid_0's l2: 30342.6\n",
      "[100]\tvalid_0's l2: 29143.3\n",
      "Did not meet early stopping. Best iteration is:\n",
      "[100]\tvalid_0's l2: 29143.3\n",
      "LightGBM 總樹數: 100\n",
      "學習曲線已儲存至: C:\\thesis\\code\\result_lgb\\learning_curve\\(121.52_25.105).png\n",
      "最佳決策樹圖（Highest split_gain）已儲存至: C:\\thesis\\code\\result_lgb\\tree\\(121.52_25.105).png\n",
      "SHAP 特徵重要性圖已儲存至: C:\\thesis\\code\\result_lgb\\shap_summary\\(121.52_25.105).png\n",
      "SHAP 特徵影響條形圖已儲存至: C:\\thesis\\code\\result_lgb\\shap_bar\\(121.52_25.105).png\n",
      "訓練與預測 (121.52, 25.11) 的決策樹...\n",
      "[LightGBM] [Info] Auto-choosing row-wise multi-threading, the overhead of testing was 0.000572 seconds.\n",
      "You can set `force_row_wise=true` to remove the overhead.\n",
      "And if memory is not enough, you can set `force_col_wise=true`.\n",
      "[LightGBM] [Info] Total Bins 500\n",
      "[LightGBM] [Info] Number of data points in the train set: 13585, number of used features: 22\n",
      "[LightGBM] [Info] Start training from score 3615.141627\n",
      "Training until validation scores don't improve for 10 rounds\n",
      "[10]\tvalid_0's l2: 209484\n",
      "[20]\tvalid_0's l2: 136885\n",
      "[30]\tvalid_0's l2: 102755\n",
      "[40]\tvalid_0's l2: 86042.4\n",
      "[50]\tvalid_0's l2: 75367.4\n",
      "[60]\tvalid_0's l2: 67592.9\n",
      "[70]\tvalid_0's l2: 61200.1\n",
      "[80]\tvalid_0's l2: 56079\n",
      "[90]\tvalid_0's l2: 51510.1\n",
      "[100]\tvalid_0's l2: 48081.6\n",
      "Did not meet early stopping. Best iteration is:\n",
      "[100]\tvalid_0's l2: 48081.6\n",
      "LightGBM 總樹數: 100\n",
      "學習曲線已儲存至: C:\\thesis\\code\\result_lgb\\learning_curve\\(121.52_25.11).png\n",
      "最佳決策樹圖（Highest split_gain）已儲存至: C:\\thesis\\code\\result_lgb\\tree\\(121.52_25.11).png\n",
      "SHAP 特徵重要性圖已儲存至: C:\\thesis\\code\\result_lgb\\shap_summary\\(121.52_25.11).png\n",
      "SHAP 特徵影響條形圖已儲存至: C:\\thesis\\code\\result_lgb\\shap_bar\\(121.52_25.11).png\n",
      "訓練與預測 (121.52, 25.115) 的決策樹...\n",
      "[LightGBM] [Info] Auto-choosing row-wise multi-threading, the overhead of testing was 0.000560 seconds.\n",
      "You can set `force_row_wise=true` to remove the overhead.\n",
      "And if memory is not enough, you can set `force_col_wise=true`.\n",
      "[LightGBM] [Info] Total Bins 500\n",
      "[LightGBM] [Info] Number of data points in the train set: 13585, number of used features: 22\n",
      "[LightGBM] [Info] Start training from score 1852.276849\n",
      "Training until validation scores don't improve for 10 rounds\n",
      "[10]\tvalid_0's l2: 144573\n",
      "[20]\tvalid_0's l2: 77473.4\n",
      "[30]\tvalid_0's l2: 49606.2\n",
      "[40]\tvalid_0's l2: 38234.3\n",
      "[50]\tvalid_0's l2: 32169.9\n",
      "[60]\tvalid_0's l2: 28530.9\n",
      "[70]\tvalid_0's l2: 26124.4\n",
      "[80]\tvalid_0's l2: 23606.5\n",
      "[90]\tvalid_0's l2: 21705.4\n",
      "[100]\tvalid_0's l2: 20211.1\n",
      "Did not meet early stopping. Best iteration is:\n",
      "[100]\tvalid_0's l2: 20211.1\n",
      "LightGBM 總樹數: 100\n",
      "學習曲線已儲存至: C:\\thesis\\code\\result_lgb\\learning_curve\\(121.52_25.115).png\n",
      "最佳決策樹圖（Highest split_gain）已儲存至: C:\\thesis\\code\\result_lgb\\tree\\(121.52_25.115).png\n",
      "SHAP 特徵重要性圖已儲存至: C:\\thesis\\code\\result_lgb\\shap_summary\\(121.52_25.115).png\n",
      "SHAP 特徵影響條形圖已儲存至: C:\\thesis\\code\\result_lgb\\shap_bar\\(121.52_25.115).png\n",
      "訓練與預測 (121.52, 25.12) 的決策樹...\n",
      "[LightGBM] [Info] Auto-choosing row-wise multi-threading, the overhead of testing was 0.000625 seconds.\n",
      "You can set `force_row_wise=true` to remove the overhead.\n",
      "And if memory is not enough, you can set `force_col_wise=true`.\n",
      "[LightGBM] [Info] Total Bins 500\n",
      "[LightGBM] [Info] Number of data points in the train set: 13585, number of used features: 22\n",
      "[LightGBM] [Info] Start training from score 2990.393081\n",
      "Training until validation scores don't improve for 10 rounds\n",
      "[10]\tvalid_0's l2: 742976\n",
      "[20]\tvalid_0's l2: 350475\n",
      "[30]\tvalid_0's l2: 196096\n",
      "[40]\tvalid_0's l2: 137273\n",
      "[50]\tvalid_0's l2: 107624\n",
      "[60]\tvalid_0's l2: 89573.9\n",
      "[70]\tvalid_0's l2: 78452.4\n",
      "[80]\tvalid_0's l2: 70760.8\n",
      "[90]\tvalid_0's l2: 64162.6\n",
      "[100]\tvalid_0's l2: 59432.4\n",
      "Did not meet early stopping. Best iteration is:\n",
      "[100]\tvalid_0's l2: 59432.4\n",
      "LightGBM 總樹數: 100\n",
      "學習曲線已儲存至: C:\\thesis\\code\\result_lgb\\learning_curve\\(121.52_25.12).png\n",
      "最佳決策樹圖（Highest split_gain）已儲存至: C:\\thesis\\code\\result_lgb\\tree\\(121.52_25.12).png\n",
      "SHAP 特徵重要性圖已儲存至: C:\\thesis\\code\\result_lgb\\shap_summary\\(121.52_25.12).png\n",
      "SHAP 特徵影響條形圖已儲存至: C:\\thesis\\code\\result_lgb\\shap_bar\\(121.52_25.12).png\n",
      "訓練與預測 (121.525, 25.105) 的決策樹...\n",
      "[LightGBM] [Info] Auto-choosing row-wise multi-threading, the overhead of testing was 0.000599 seconds.\n",
      "You can set `force_row_wise=true` to remove the overhead.\n",
      "And if memory is not enough, you can set `force_col_wise=true`.\n",
      "[LightGBM] [Info] Total Bins 500\n",
      "[LightGBM] [Info] Number of data points in the train set: 13585, number of used features: 22\n",
      "[LightGBM] [Info] Start training from score 2989.787486\n",
      "Training until validation scores don't improve for 10 rounds\n",
      "[10]\tvalid_0's l2: 475732\n",
      "[20]\tvalid_0's l2: 234433\n",
      "[30]\tvalid_0's l2: 134426\n",
      "[40]\tvalid_0's l2: 97725.6\n",
      "[50]\tvalid_0's l2: 77481.2\n",
      "[60]\tvalid_0's l2: 66067.1\n",
      "[70]\tvalid_0's l2: 57566.3\n",
      "[80]\tvalid_0's l2: 51351\n",
      "[90]\tvalid_0's l2: 47578.3\n",
      "[100]\tvalid_0's l2: 44245.1\n",
      "Did not meet early stopping. Best iteration is:\n",
      "[100]\tvalid_0's l2: 44245.1\n",
      "LightGBM 總樹數: 100\n",
      "學習曲線已儲存至: C:\\thesis\\code\\result_lgb\\learning_curve\\(121.525_25.105).png\n",
      "最佳決策樹圖（Highest split_gain）已儲存至: C:\\thesis\\code\\result_lgb\\tree\\(121.525_25.105).png\n",
      "SHAP 特徵重要性圖已儲存至: C:\\thesis\\code\\result_lgb\\shap_summary\\(121.525_25.105).png\n",
      "SHAP 特徵影響條形圖已儲存至: C:\\thesis\\code\\result_lgb\\shap_bar\\(121.525_25.105).png\n",
      "訓練與預測 (121.525, 25.11) 的決策樹...\n",
      "[LightGBM] [Info] Auto-choosing row-wise multi-threading, the overhead of testing was 0.000356 seconds.\n",
      "You can set `force_row_wise=true` to remove the overhead.\n",
      "And if memory is not enough, you can set `force_col_wise=true`.\n",
      "[LightGBM] [Info] Total Bins 500\n",
      "[LightGBM] [Info] Number of data points in the train set: 13585, number of used features: 22\n",
      "[LightGBM] [Info] Start training from score 2379.236953\n",
      "Training until validation scores don't improve for 10 rounds\n",
      "[10]\tvalid_0's l2: 90470.8\n",
      "[20]\tvalid_0's l2: 61124.3\n",
      "[30]\tvalid_0's l2: 46937.2\n",
      "[40]\tvalid_0's l2: 38874.6\n",
      "[50]\tvalid_0's l2: 33149\n",
      "[60]\tvalid_0's l2: 29572.1\n",
      "[70]\tvalid_0's l2: 26556\n",
      "[80]\tvalid_0's l2: 23668.5\n",
      "[90]\tvalid_0's l2: 21192.6\n",
      "[100]\tvalid_0's l2: 19414\n",
      "Did not meet early stopping. Best iteration is:\n",
      "[100]\tvalid_0's l2: 19414\n",
      "LightGBM 總樹數: 100\n",
      "學習曲線已儲存至: C:\\thesis\\code\\result_lgb\\learning_curve\\(121.525_25.11).png\n",
      "最佳決策樹圖（Highest split_gain）已儲存至: C:\\thesis\\code\\result_lgb\\tree\\(121.525_25.11).png\n",
      "SHAP 特徵重要性圖已儲存至: C:\\thesis\\code\\result_lgb\\shap_summary\\(121.525_25.11).png\n",
      "SHAP 特徵影響條形圖已儲存至: C:\\thesis\\code\\result_lgb\\shap_bar\\(121.525_25.11).png\n",
      "訓練與預測 (121.525, 25.115) 的決策樹...\n",
      "[LightGBM] [Info] Auto-choosing row-wise multi-threading, the overhead of testing was 0.000656 seconds.\n",
      "You can set `force_row_wise=true` to remove the overhead.\n",
      "And if memory is not enough, you can set `force_col_wise=true`.\n",
      "[LightGBM] [Info] Total Bins 500\n",
      "[LightGBM] [Info] Number of data points in the train set: 13585, number of used features: 22\n",
      "[LightGBM] [Info] Start training from score 4618.740007\n",
      "Training until validation scores don't improve for 10 rounds\n",
      "[10]\tvalid_0's l2: 372596\n",
      "[20]\tvalid_0's l2: 239982\n",
      "[30]\tvalid_0's l2: 183733\n",
      "[40]\tvalid_0's l2: 152751\n",
      "[50]\tvalid_0's l2: 133222\n",
      "[60]\tvalid_0's l2: 119454\n",
      "[70]\tvalid_0's l2: 105586\n",
      "[80]\tvalid_0's l2: 94142.2\n",
      "[90]\tvalid_0's l2: 85611.3\n",
      "[100]\tvalid_0's l2: 78261.3\n",
      "Did not meet early stopping. Best iteration is:\n",
      "[100]\tvalid_0's l2: 78261.3\n",
      "LightGBM 總樹數: 100\n",
      "學習曲線已儲存至: C:\\thesis\\code\\result_lgb\\learning_curve\\(121.525_25.115).png\n",
      "最佳決策樹圖（Highest split_gain）已儲存至: C:\\thesis\\code\\result_lgb\\tree\\(121.525_25.115).png\n",
      "SHAP 特徵重要性圖已儲存至: C:\\thesis\\code\\result_lgb\\shap_summary\\(121.525_25.115).png\n",
      "SHAP 特徵影響條形圖已儲存至: C:\\thesis\\code\\result_lgb\\shap_bar\\(121.525_25.115).png\n",
      "訓練與預測 (121.525, 25.12) 的決策樹...\n",
      "[LightGBM] [Info] Auto-choosing row-wise multi-threading, the overhead of testing was 0.000580 seconds.\n",
      "You can set `force_row_wise=true` to remove the overhead.\n",
      "And if memory is not enough, you can set `force_col_wise=true`.\n",
      "[LightGBM] [Info] Total Bins 500\n",
      "[LightGBM] [Info] Number of data points in the train set: 13585, number of used features: 22\n",
      "[LightGBM] [Info] Start training from score 2981.410894\n",
      "Training until validation scores don't improve for 10 rounds\n",
      "[10]\tvalid_0's l2: 147295\n",
      "[20]\tvalid_0's l2: 98741.1\n",
      "[30]\tvalid_0's l2: 76937.7\n",
      "[40]\tvalid_0's l2: 64997.1\n",
      "[50]\tvalid_0's l2: 57071.9\n",
      "[60]\tvalid_0's l2: 51807.1\n",
      "[70]\tvalid_0's l2: 47554.2\n",
      "[80]\tvalid_0's l2: 44121.5\n",
      "[90]\tvalid_0's l2: 41514.7\n",
      "[100]\tvalid_0's l2: 39138.7\n",
      "Did not meet early stopping. Best iteration is:\n",
      "[100]\tvalid_0's l2: 39138.7\n",
      "LightGBM 總樹數: 100\n",
      "學習曲線已儲存至: C:\\thesis\\code\\result_lgb\\learning_curve\\(121.525_25.12).png\n",
      "最佳決策樹圖（Highest split_gain）已儲存至: C:\\thesis\\code\\result_lgb\\tree\\(121.525_25.12).png\n",
      "SHAP 特徵重要性圖已儲存至: C:\\thesis\\code\\result_lgb\\shap_summary\\(121.525_25.12).png\n",
      "SHAP 特徵影響條形圖已儲存至: C:\\thesis\\code\\result_lgb\\shap_bar\\(121.525_25.12).png\n",
      "訓練與預測 (121.535, 25.02) 的決策樹...\n",
      "[LightGBM] [Info] Auto-choosing row-wise multi-threading, the overhead of testing was 0.000688 seconds.\n",
      "You can set `force_row_wise=true` to remove the overhead.\n",
      "And if memory is not enough, you can set `force_col_wise=true`.\n",
      "[LightGBM] [Info] Total Bins 500\n",
      "[LightGBM] [Info] Number of data points in the train set: 13585, number of used features: 22\n",
      "[LightGBM] [Info] Start training from score 2684.896724\n",
      "Training until validation scores don't improve for 10 rounds\n",
      "[10]\tvalid_0's l2: 431714\n",
      "[20]\tvalid_0's l2: 261528\n",
      "[30]\tvalid_0's l2: 180126\n",
      "[40]\tvalid_0's l2: 141746\n",
      "[50]\tvalid_0's l2: 118236\n",
      "[60]\tvalid_0's l2: 103842\n",
      "[70]\tvalid_0's l2: 93613.8\n",
      "[80]\tvalid_0's l2: 84613.7\n",
      "[90]\tvalid_0's l2: 78609.3\n",
      "[100]\tvalid_0's l2: 71623.4\n",
      "Did not meet early stopping. Best iteration is:\n",
      "[100]\tvalid_0's l2: 71623.4\n",
      "LightGBM 總樹數: 100\n",
      "學習曲線已儲存至: C:\\thesis\\code\\result_lgb\\learning_curve\\(121.535_25.02).png\n",
      "最佳決策樹圖（Highest split_gain）已儲存至: C:\\thesis\\code\\result_lgb\\tree\\(121.535_25.02).png\n",
      "SHAP 特徵重要性圖已儲存至: C:\\thesis\\code\\result_lgb\\shap_summary\\(121.535_25.02).png\n",
      "SHAP 特徵影響條形圖已儲存至: C:\\thesis\\code\\result_lgb\\shap_bar\\(121.535_25.02).png\n",
      "訓練與預測 (121.535, 25.025) 的決策樹...\n",
      "[LightGBM] [Info] Auto-choosing row-wise multi-threading, the overhead of testing was 0.000554 seconds.\n",
      "You can set `force_row_wise=true` to remove the overhead.\n",
      "And if memory is not enough, you can set `force_col_wise=true`.\n",
      "[LightGBM] [Info] Total Bins 500\n",
      "[LightGBM] [Info] Number of data points in the train set: 13585, number of used features: 22\n",
      "[LightGBM] [Info] Start training from score 3807.631432\n",
      "Training until validation scores don't improve for 10 rounds\n",
      "[10]\tvalid_0's l2: 178857\n",
      "[20]\tvalid_0's l2: 122649\n",
      "[30]\tvalid_0's l2: 95981.1\n",
      "[40]\tvalid_0's l2: 82385.1\n",
      "[50]\tvalid_0's l2: 73179.2\n",
      "[60]\tvalid_0's l2: 66423.4\n",
      "[70]\tvalid_0's l2: 61535.8\n",
      "[80]\tvalid_0's l2: 57632.8\n",
      "[90]\tvalid_0's l2: 54153.8\n",
      "[100]\tvalid_0's l2: 51866\n",
      "Did not meet early stopping. Best iteration is:\n",
      "[100]\tvalid_0's l2: 51866\n",
      "LightGBM 總樹數: 100\n",
      "學習曲線已儲存至: C:\\thesis\\code\\result_lgb\\learning_curve\\(121.535_25.025).png\n"
     ]
    },
    {
     "name": "stderr",
     "output_type": "stream",
     "text": [
      "c:\\thesis\\code\\DIFFUSION_TREE\\env\\lib\\site-packages\\lightgbm\\plotting.py:821: RuntimeWarning: More than 20 figures have been opened. Figures created through the pyplot interface (`matplotlib.pyplot.figure`) are retained until explicitly closed and may consume too much memory. (To control this warning, see the rcParam `figure.max_open_warning`). Consider using `matplotlib.pyplot.close()`.\n",
      "  _, ax = plt.subplots(1, 1, figsize=figsize, dpi=dpi)\n"
     ]
    },
    {
     "name": "stdout",
     "output_type": "stream",
     "text": [
      "最佳決策樹圖（Highest split_gain）已儲存至: C:\\thesis\\code\\result_lgb\\tree\\(121.535_25.025).png\n"
     ]
    },
    {
     "name": "stderr",
     "output_type": "stream",
     "text": [
      "C:\\Users\\702A\\AppData\\Local\\Temp\\ipykernel_64952\\3854499083.py:77: RuntimeWarning: More than 20 figures have been opened. Figures created through the pyplot interface (`matplotlib.pyplot.figure`) are retained until explicitly closed and may consume too much memory. (To control this warning, see the rcParam `figure.max_open_warning`). Consider using `matplotlib.pyplot.close()`.\n",
      "  plt.figure(figsize=(10, 6))\n"
     ]
    },
    {
     "name": "stdout",
     "output_type": "stream",
     "text": [
      "SHAP 特徵重要性圖已儲存至: C:\\thesis\\code\\result_lgb\\shap_summary\\(121.535_25.025).png\n",
      "SHAP 特徵影響條形圖已儲存至: C:\\thesis\\code\\result_lgb\\shap_bar\\(121.535_25.025).png\n",
      "訓練與預測 (121.535, 25.03) 的決策樹...\n",
      "[LightGBM] [Info] Auto-choosing row-wise multi-threading, the overhead of testing was 0.000559 seconds.\n",
      "You can set `force_row_wise=true` to remove the overhead.\n",
      "And if memory is not enough, you can set `force_col_wise=true`.\n",
      "[LightGBM] [Info] Total Bins 500\n",
      "[LightGBM] [Info] Number of data points in the train set: 13585, number of used features: 22\n"
     ]
    },
    {
     "name": "stderr",
     "output_type": "stream",
     "text": [
      "C:\\Users\\702A\\AppData\\Local\\Temp\\ipykernel_64952\\3854499083.py:84: RuntimeWarning: More than 20 figures have been opened. Figures created through the pyplot interface (`matplotlib.pyplot.figure`) are retained until explicitly closed and may consume too much memory. (To control this warning, see the rcParam `figure.max_open_warning`). Consider using `matplotlib.pyplot.close()`.\n",
      "  plt.figure(figsize=(10, 6))\n"
     ]
    },
    {
     "name": "stdout",
     "output_type": "stream",
     "text": [
      "[LightGBM] [Info] Start training from score 712.137725\n",
      "Training until validation scores don't improve for 10 rounds\n",
      "[10]\tvalid_0's l2: 40237.2\n",
      "[20]\tvalid_0's l2: 24475.9\n",
      "[30]\tvalid_0's l2: 17622.2\n",
      "[40]\tvalid_0's l2: 14538.8\n",
      "[50]\tvalid_0's l2: 12707.8\n",
      "[60]\tvalid_0's l2: 11329.4\n",
      "[70]\tvalid_0's l2: 10459.7\n",
      "[80]\tvalid_0's l2: 9680.35\n",
      "[90]\tvalid_0's l2: 9145.43\n",
      "[100]\tvalid_0's l2: 8754.23\n",
      "Did not meet early stopping. Best iteration is:\n",
      "[100]\tvalid_0's l2: 8754.23\n",
      "LightGBM 總樹數: 100\n"
     ]
    },
    {
     "name": "stderr",
     "output_type": "stream",
     "text": [
      "C:\\Users\\702A\\AppData\\Local\\Temp\\ipykernel_64952\\3854499083.py:43: RuntimeWarning: More than 20 figures have been opened. Figures created through the pyplot interface (`matplotlib.pyplot.figure`) are retained until explicitly closed and may consume too much memory. (To control this warning, see the rcParam `figure.max_open_warning`). Consider using `matplotlib.pyplot.close()`.\n",
      "  plt.figure(figsize=(8, 5))\n",
      "C:\\Users\\702A\\AppData\\Local\\Temp\\ipykernel_64952\\3854499083.py:66: RuntimeWarning: More than 20 figures have been opened. Figures created through the pyplot interface (`matplotlib.pyplot.figure`) are retained until explicitly closed and may consume too much memory. (To control this warning, see the rcParam `figure.max_open_warning`). Consider using `matplotlib.pyplot.close()`.\n",
      "  plt.figure(figsize=(30, 18))\n"
     ]
    },
    {
     "name": "stdout",
     "output_type": "stream",
     "text": [
      "學習曲線已儲存至: C:\\thesis\\code\\result_lgb\\learning_curve\\(121.535_25.03).png\n",
      "最佳決策樹圖（Highest split_gain）已儲存至: C:\\thesis\\code\\result_lgb\\tree\\(121.535_25.03).png\n",
      "SHAP 特徵重要性圖已儲存至: C:\\thesis\\code\\result_lgb\\shap_summary\\(121.535_25.03).png\n",
      "SHAP 特徵影響條形圖已儲存至: C:\\thesis\\code\\result_lgb\\shap_bar\\(121.535_25.03).png\n",
      "訓練與預測 (121.535, 25.035) 的決策樹...\n",
      "[LightGBM] [Info] Auto-choosing row-wise multi-threading, the overhead of testing was 0.000514 seconds.\n",
      "You can set `force_row_wise=true` to remove the overhead.\n",
      "And if memory is not enough, you can set `force_col_wise=true`.\n",
      "[LightGBM] [Info] Total Bins 500\n",
      "[LightGBM] [Info] Number of data points in the train set: 13585, number of used features: 22\n",
      "[LightGBM] [Info] Start training from score 5208.532867\n",
      "Training until validation scores don't improve for 10 rounds\n",
      "[10]\tvalid_0's l2: 540555\n",
      "[20]\tvalid_0's l2: 314387\n",
      "[30]\tvalid_0's l2: 213545\n",
      "[40]\tvalid_0's l2: 163571\n",
      "[50]\tvalid_0's l2: 136815\n",
      "[60]\tvalid_0's l2: 117891\n",
      "[70]\tvalid_0's l2: 104073\n",
      "[80]\tvalid_0's l2: 93976.5\n",
      "[90]\tvalid_0's l2: 87736.1\n",
      "[100]\tvalid_0's l2: 81975\n",
      "Did not meet early stopping. Best iteration is:\n",
      "[100]\tvalid_0's l2: 81975\n",
      "LightGBM 總樹數: 100\n",
      "學習曲線已儲存至: C:\\thesis\\code\\result_lgb\\learning_curve\\(121.535_25.035).png\n",
      "最佳決策樹圖（Highest split_gain）已儲存至: C:\\thesis\\code\\result_lgb\\tree\\(121.535_25.035).png\n",
      "SHAP 特徵重要性圖已儲存至: C:\\thesis\\code\\result_lgb\\shap_summary\\(121.535_25.035).png\n",
      "SHAP 特徵影響條形圖已儲存至: C:\\thesis\\code\\result_lgb\\shap_bar\\(121.535_25.035).png\n",
      "訓練與預測 (121.54, 25.015) 的決策樹...\n",
      "[LightGBM] [Info] Auto-choosing row-wise multi-threading, the overhead of testing was 0.000383 seconds.\n",
      "You can set `force_row_wise=true` to remove the overhead.\n",
      "And if memory is not enough, you can set `force_col_wise=true`.\n",
      "[LightGBM] [Info] Total Bins 500\n",
      "[LightGBM] [Info] Number of data points in the train set: 13585, number of used features: 22\n",
      "[LightGBM] [Info] Start training from score 1687.339639\n",
      "Training until validation scores don't improve for 10 rounds\n",
      "[10]\tvalid_0's l2: 128762\n",
      "[20]\tvalid_0's l2: 83861.7\n",
      "[30]\tvalid_0's l2: 62276.3\n",
      "[40]\tvalid_0's l2: 51147.6\n",
      "[50]\tvalid_0's l2: 44408.8\n",
      "[60]\tvalid_0's l2: 40326.4\n",
      "[70]\tvalid_0's l2: 36604.5\n",
      "[80]\tvalid_0's l2: 33086.5\n",
      "[90]\tvalid_0's l2: 30426.6\n",
      "[100]\tvalid_0's l2: 28296\n",
      "Did not meet early stopping. Best iteration is:\n",
      "[100]\tvalid_0's l2: 28296\n",
      "LightGBM 總樹數: 100\n",
      "學習曲線已儲存至: C:\\thesis\\code\\result_lgb\\learning_curve\\(121.54_25.015).png\n",
      "最佳決策樹圖（Highest split_gain）已儲存至: C:\\thesis\\code\\result_lgb\\tree\\(121.54_25.015).png\n",
      "SHAP 特徵重要性圖已儲存至: C:\\thesis\\code\\result_lgb\\shap_summary\\(121.54_25.015).png\n",
      "SHAP 特徵影響條形圖已儲存至: C:\\thesis\\code\\result_lgb\\shap_bar\\(121.54_25.015).png\n",
      "訓練與預測 (121.54, 25.02) 的決策樹...\n",
      "[LightGBM] [Info] Auto-choosing row-wise multi-threading, the overhead of testing was 0.000470 seconds.\n",
      "You can set `force_row_wise=true` to remove the overhead.\n",
      "And if memory is not enough, you can set `force_col_wise=true`.\n",
      "[LightGBM] [Info] Total Bins 500\n",
      "[LightGBM] [Info] Number of data points in the train set: 13585, number of used features: 22\n",
      "[LightGBM] [Info] Start training from score 1398.763857\n",
      "Training until validation scores don't improve for 10 rounds\n",
      "[10]\tvalid_0's l2: 436054\n",
      "[20]\tvalid_0's l2: 265227\n",
      "[30]\tvalid_0's l2: 187428\n",
      "[40]\tvalid_0's l2: 146862\n",
      "[50]\tvalid_0's l2: 119760\n",
      "[60]\tvalid_0's l2: 103942\n",
      "[70]\tvalid_0's l2: 91503.1\n",
      "[80]\tvalid_0's l2: 82276.4\n",
      "[90]\tvalid_0's l2: 74475.5\n",
      "[100]\tvalid_0's l2: 69833.5\n",
      "Did not meet early stopping. Best iteration is:\n",
      "[100]\tvalid_0's l2: 69833.5\n",
      "LightGBM 總樹數: 100\n",
      "學習曲線已儲存至: C:\\thesis\\code\\result_lgb\\learning_curve\\(121.54_25.02).png\n",
      "最佳決策樹圖（Highest split_gain）已儲存至: C:\\thesis\\code\\result_lgb\\tree\\(121.54_25.02).png\n",
      "SHAP 特徵重要性圖已儲存至: C:\\thesis\\code\\result_lgb\\shap_summary\\(121.54_25.02).png\n",
      "SHAP 特徵影響條形圖已儲存至: C:\\thesis\\code\\result_lgb\\shap_bar\\(121.54_25.02).png\n",
      "訓練與預測 (121.54, 25.025) 的決策樹...\n",
      "[LightGBM] [Info] Auto-choosing row-wise multi-threading, the overhead of testing was 0.000653 seconds.\n",
      "You can set `force_row_wise=true` to remove the overhead.\n",
      "And if memory is not enough, you can set `force_col_wise=true`.\n",
      "[LightGBM] [Info] Total Bins 500\n",
      "[LightGBM] [Info] Number of data points in the train set: 13585, number of used features: 22\n",
      "[LightGBM] [Info] Start training from score 2106.296283\n",
      "Training until validation scores don't improve for 10 rounds\n",
      "[10]\tvalid_0's l2: 80541.3\n",
      "[20]\tvalid_0's l2: 51304.4\n",
      "[30]\tvalid_0's l2: 38408.9\n",
      "[40]\tvalid_0's l2: 32232.9\n",
      "[50]\tvalid_0's l2: 28128\n",
      "[60]\tvalid_0's l2: 25296.9\n",
      "[70]\tvalid_0's l2: 23351.7\n",
      "[80]\tvalid_0's l2: 21708.8\n",
      "[90]\tvalid_0's l2: 20249.8\n",
      "[100]\tvalid_0's l2: 19299.8\n",
      "Did not meet early stopping. Best iteration is:\n",
      "[100]\tvalid_0's l2: 19299.8\n",
      "LightGBM 總樹數: 100\n",
      "學習曲線已儲存至: C:\\thesis\\code\\result_lgb\\learning_curve\\(121.54_25.025).png\n",
      "最佳決策樹圖（Highest split_gain）已儲存至: C:\\thesis\\code\\result_lgb\\tree\\(121.54_25.025).png\n",
      "SHAP 特徵重要性圖已儲存至: C:\\thesis\\code\\result_lgb\\shap_summary\\(121.54_25.025).png\n",
      "SHAP 特徵影響條形圖已儲存至: C:\\thesis\\code\\result_lgb\\shap_bar\\(121.54_25.025).png\n",
      "訓練與預測 (121.54, 25.03) 的決策樹...\n",
      "[LightGBM] [Info] Auto-choosing row-wise multi-threading, the overhead of testing was 0.000549 seconds.\n",
      "You can set `force_row_wise=true` to remove the overhead.\n",
      "And if memory is not enough, you can set `force_col_wise=true`.\n",
      "[LightGBM] [Info] Total Bins 500\n",
      "[LightGBM] [Info] Number of data points in the train set: 13585, number of used features: 22\n",
      "[LightGBM] [Info] Start training from score 3134.279868\n",
      "Training until validation scores don't improve for 10 rounds\n",
      "[10]\tvalid_0's l2: 175762\n",
      "[20]\tvalid_0's l2: 130575\n",
      "[30]\tvalid_0's l2: 109486\n",
      "[40]\tvalid_0's l2: 87494.3\n",
      "[50]\tvalid_0's l2: 75533.5\n",
      "[60]\tvalid_0's l2: 66039.7\n",
      "[70]\tvalid_0's l2: 60944.3\n",
      "[80]\tvalid_0's l2: 54700.4\n",
      "[90]\tvalid_0's l2: 50395.6\n",
      "[100]\tvalid_0's l2: 47746.8\n",
      "Did not meet early stopping. Best iteration is:\n",
      "[100]\tvalid_0's l2: 47746.8\n",
      "LightGBM 總樹數: 100\n",
      "學習曲線已儲存至: C:\\thesis\\code\\result_lgb\\learning_curve\\(121.54_25.03).png\n",
      "最佳決策樹圖（Highest split_gain）已儲存至: C:\\thesis\\code\\result_lgb\\tree\\(121.54_25.03).png\n",
      "SHAP 特徵重要性圖已儲存至: C:\\thesis\\code\\result_lgb\\shap_summary\\(121.54_25.03).png\n",
      "SHAP 特徵影響條形圖已儲存至: C:\\thesis\\code\\result_lgb\\shap_bar\\(121.54_25.03).png\n",
      "訓練與預測 (121.54, 25.035) 的決策樹...\n",
      "[LightGBM] [Info] Auto-choosing row-wise multi-threading, the overhead of testing was 0.000513 seconds.\n",
      "You can set `force_row_wise=true` to remove the overhead.\n",
      "And if memory is not enough, you can set `force_col_wise=true`.\n",
      "[LightGBM] [Info] Total Bins 500\n",
      "[LightGBM] [Info] Number of data points in the train set: 13585, number of used features: 22\n",
      "[LightGBM] [Info] Start training from score 3149.394479\n",
      "Training until validation scores don't improve for 10 rounds\n",
      "[10]\tvalid_0's l2: 588505\n",
      "[20]\tvalid_0's l2: 318586\n",
      "[30]\tvalid_0's l2: 203749\n",
      "[40]\tvalid_0's l2: 154758\n",
      "[50]\tvalid_0's l2: 127200\n",
      "[60]\tvalid_0's l2: 110894\n",
      "[70]\tvalid_0's l2: 100917\n",
      "[80]\tvalid_0's l2: 93838\n",
      "[90]\tvalid_0's l2: 85739.4\n",
      "[100]\tvalid_0's l2: 81021.8\n",
      "Did not meet early stopping. Best iteration is:\n",
      "[100]\tvalid_0's l2: 81021.8\n",
      "LightGBM 總樹數: 100\n",
      "學習曲線已儲存至: C:\\thesis\\code\\result_lgb\\learning_curve\\(121.54_25.035).png\n",
      "最佳決策樹圖（Highest split_gain）已儲存至: C:\\thesis\\code\\result_lgb\\tree\\(121.54_25.035).png\n",
      "SHAP 特徵重要性圖已儲存至: C:\\thesis\\code\\result_lgb\\shap_summary\\(121.54_25.035).png\n",
      "SHAP 特徵影響條形圖已儲存至: C:\\thesis\\code\\result_lgb\\shap_bar\\(121.54_25.035).png\n",
      "訓練與預測 (121.545, 25.015) 的決策樹...\n",
      "[LightGBM] [Info] Auto-choosing row-wise multi-threading, the overhead of testing was 0.000624 seconds.\n",
      "You can set `force_row_wise=true` to remove the overhead.\n",
      "And if memory is not enough, you can set `force_col_wise=true`.\n",
      "[LightGBM] [Info] Total Bins 500\n",
      "[LightGBM] [Info] Number of data points in the train set: 13585, number of used features: 22\n",
      "[LightGBM] [Info] Start training from score 761.793964\n",
      "Training until validation scores don't improve for 10 rounds\n",
      "[10]\tvalid_0's l2: 85434.3\n",
      "[20]\tvalid_0's l2: 69173.8\n",
      "[30]\tvalid_0's l2: 59829.7\n",
      "[40]\tvalid_0's l2: 54808.5\n",
      "[50]\tvalid_0's l2: 50627.1\n",
      "[60]\tvalid_0's l2: 47557.2\n",
      "[70]\tvalid_0's l2: 45417.5\n",
      "[80]\tvalid_0's l2: 43176.2\n",
      "[90]\tvalid_0's l2: 41547.3\n",
      "[100]\tvalid_0's l2: 40610.8\n",
      "Did not meet early stopping. Best iteration is:\n",
      "[100]\tvalid_0's l2: 40610.8\n",
      "LightGBM 總樹數: 100\n",
      "學習曲線已儲存至: C:\\thesis\\code\\result_lgb\\learning_curve\\(121.545_25.015).png\n",
      "最佳決策樹圖（Highest split_gain）已儲存至: C:\\thesis\\code\\result_lgb\\tree\\(121.545_25.015).png\n",
      "SHAP 特徵重要性圖已儲存至: C:\\thesis\\code\\result_lgb\\shap_summary\\(121.545_25.015).png\n",
      "SHAP 特徵影響條形圖已儲存至: C:\\thesis\\code\\result_lgb\\shap_bar\\(121.545_25.015).png\n",
      "訓練與預測 (121.545, 25.02) 的決策樹...\n",
      "[LightGBM] [Info] Auto-choosing row-wise multi-threading, the overhead of testing was 0.000512 seconds.\n",
      "You can set `force_row_wise=true` to remove the overhead.\n",
      "And if memory is not enough, you can set `force_col_wise=true`.\n",
      "[LightGBM] [Info] Total Bins 500\n",
      "[LightGBM] [Info] Number of data points in the train set: 13585, number of used features: 22\n",
      "[LightGBM] [Info] Start training from score 2333.322782\n",
      "Training until validation scores don't improve for 10 rounds\n",
      "[10]\tvalid_0's l2: 253323\n",
      "[20]\tvalid_0's l2: 154919\n",
      "[30]\tvalid_0's l2: 109942\n",
      "[40]\tvalid_0's l2: 89245.9\n",
      "[50]\tvalid_0's l2: 76331.1\n",
      "[60]\tvalid_0's l2: 68041.5\n",
      "[70]\tvalid_0's l2: 61182.4\n",
      "[80]\tvalid_0's l2: 55134\n",
      "[90]\tvalid_0's l2: 49579.8\n",
      "[100]\tvalid_0's l2: 45087.8\n",
      "Did not meet early stopping. Best iteration is:\n",
      "[100]\tvalid_0's l2: 45087.8\n",
      "LightGBM 總樹數: 100\n",
      "學習曲線已儲存至: C:\\thesis\\code\\result_lgb\\learning_curve\\(121.545_25.02).png\n",
      "最佳決策樹圖（Highest split_gain）已儲存至: C:\\thesis\\code\\result_lgb\\tree\\(121.545_25.02).png\n",
      "SHAP 特徵重要性圖已儲存至: C:\\thesis\\code\\result_lgb\\shap_summary\\(121.545_25.02).png\n",
      "SHAP 特徵影響條形圖已儲存至: C:\\thesis\\code\\result_lgb\\shap_bar\\(121.545_25.02).png\n",
      "訓練與預測 (121.545, 25.025) 的決策樹...\n",
      "[LightGBM] [Info] Auto-choosing row-wise multi-threading, the overhead of testing was 0.000558 seconds.\n",
      "You can set `force_row_wise=true` to remove the overhead.\n",
      "And if memory is not enough, you can set `force_col_wise=true`.\n",
      "[LightGBM] [Info] Total Bins 500\n",
      "[LightGBM] [Info] Number of data points in the train set: 13585, number of used features: 22\n",
      "[LightGBM] [Info] Start training from score 2924.722267\n",
      "Training until validation scores don't improve for 10 rounds\n",
      "[10]\tvalid_0's l2: 96978.5\n",
      "[20]\tvalid_0's l2: 67194.1\n",
      "[30]\tvalid_0's l2: 52418.1\n",
      "[40]\tvalid_0's l2: 43136\n",
      "[50]\tvalid_0's l2: 37769.1\n",
      "[60]\tvalid_0's l2: 33446.9\n",
      "[70]\tvalid_0's l2: 30572\n",
      "[80]\tvalid_0's l2: 27853.6\n",
      "[90]\tvalid_0's l2: 25560.1\n",
      "[100]\tvalid_0's l2: 23989.8\n",
      "Did not meet early stopping. Best iteration is:\n",
      "[100]\tvalid_0's l2: 23989.8\n",
      "LightGBM 總樹數: 100\n",
      "學習曲線已儲存至: C:\\thesis\\code\\result_lgb\\learning_curve\\(121.545_25.025).png\n",
      "最佳決策樹圖（Highest split_gain）已儲存至: C:\\thesis\\code\\result_lgb\\tree\\(121.545_25.025).png\n",
      "SHAP 特徵重要性圖已儲存至: C:\\thesis\\code\\result_lgb\\shap_summary\\(121.545_25.025).png\n",
      "SHAP 特徵影響條形圖已儲存至: C:\\thesis\\code\\result_lgb\\shap_bar\\(121.545_25.025).png\n",
      "訓練與預測 (121.545, 25.03) 的決策樹...\n",
      "[LightGBM] [Info] Auto-choosing col-wise multi-threading, the overhead of testing was 0.001267 seconds.\n",
      "You can set `force_col_wise=true` to remove the overhead.\n",
      "[LightGBM] [Info] Total Bins 500\n",
      "[LightGBM] [Info] Number of data points in the train set: 13585, number of used features: 22\n",
      "[LightGBM] [Info] Start training from score 8159.767317\n",
      "Training until validation scores don't improve for 10 rounds\n",
      "[10]\tvalid_0's l2: 1.96383e+06\n",
      "[20]\tvalid_0's l2: 1.06559e+06\n",
      "[30]\tvalid_0's l2: 683151\n",
      "[40]\tvalid_0's l2: 520821\n",
      "[50]\tvalid_0's l2: 432634\n",
      "[60]\tvalid_0's l2: 378476\n",
      "[70]\tvalid_0's l2: 344583\n",
      "[80]\tvalid_0's l2: 316138\n",
      "[90]\tvalid_0's l2: 288677\n",
      "[100]\tvalid_0's l2: 270780\n",
      "Did not meet early stopping. Best iteration is:\n",
      "[100]\tvalid_0's l2: 270780\n",
      "LightGBM 總樹數: 100\n",
      "學習曲線已儲存至: C:\\thesis\\code\\result_lgb\\learning_curve\\(121.545_25.03).png\n",
      "最佳決策樹圖（Highest split_gain）已儲存至: C:\\thesis\\code\\result_lgb\\tree\\(121.545_25.03).png\n",
      "SHAP 特徵重要性圖已儲存至: C:\\thesis\\code\\result_lgb\\shap_summary\\(121.545_25.03).png\n",
      "SHAP 特徵影響條形圖已儲存至: C:\\thesis\\code\\result_lgb\\shap_bar\\(121.545_25.03).png\n",
      "訓練與預測 (121.545, 25.035) 的決策樹...\n",
      "[LightGBM] [Info] Auto-choosing row-wise multi-threading, the overhead of testing was 0.000372 seconds.\n",
      "You can set `force_row_wise=true` to remove the overhead.\n",
      "And if memory is not enough, you can set `force_col_wise=true`.\n",
      "[LightGBM] [Info] Total Bins 500\n",
      "[LightGBM] [Info] Number of data points in the train set: 13585, number of used features: 22\n",
      "[LightGBM] [Info] Start training from score 3235.704306\n",
      "Training until validation scores don't improve for 10 rounds\n",
      "[10]\tvalid_0's l2: 418058\n",
      "[20]\tvalid_0's l2: 209837\n",
      "[30]\tvalid_0's l2: 123325\n",
      "[40]\tvalid_0's l2: 89746.6\n",
      "[50]\tvalid_0's l2: 71503\n",
      "[60]\tvalid_0's l2: 61707.8\n",
      "[70]\tvalid_0's l2: 55706.7\n",
      "[80]\tvalid_0's l2: 50240.5\n",
      "[90]\tvalid_0's l2: 44741.2\n",
      "[100]\tvalid_0's l2: 40894.5\n",
      "Did not meet early stopping. Best iteration is:\n",
      "[100]\tvalid_0's l2: 40894.5\n",
      "LightGBM 總樹數: 100\n",
      "學習曲線已儲存至: C:\\thesis\\code\\result_lgb\\learning_curve\\(121.545_25.035).png\n",
      "最佳決策樹圖（Highest split_gain）已儲存至: C:\\thesis\\code\\result_lgb\\tree\\(121.545_25.035).png\n",
      "SHAP 特徵重要性圖已儲存至: C:\\thesis\\code\\result_lgb\\shap_summary\\(121.545_25.035).png\n",
      "SHAP 特徵影響條形圖已儲存至: C:\\thesis\\code\\result_lgb\\shap_bar\\(121.545_25.035).png\n",
      "訓練與預測 (121.55, 25.015) 的決策樹...\n",
      "[LightGBM] [Info] Auto-choosing row-wise multi-threading, the overhead of testing was 0.000489 seconds.\n",
      "You can set `force_row_wise=true` to remove the overhead.\n",
      "And if memory is not enough, you can set `force_col_wise=true`.\n",
      "[LightGBM] [Info] Total Bins 500\n",
      "[LightGBM] [Info] Number of data points in the train set: 13585, number of used features: 22\n",
      "[LightGBM] [Info] Start training from score 367.456680\n",
      "Training until validation scores don't improve for 10 rounds\n",
      "[10]\tvalid_0's l2: 3720.68\n",
      "[20]\tvalid_0's l2: 2296.95\n",
      "[30]\tvalid_0's l2: 1703.7\n",
      "[40]\tvalid_0's l2: 1411.46\n",
      "[50]\tvalid_0's l2: 1222.6\n",
      "[60]\tvalid_0's l2: 1109.62\n",
      "[70]\tvalid_0's l2: 1015.31\n",
      "[80]\tvalid_0's l2: 946.171\n",
      "[90]\tvalid_0's l2: 898.719\n",
      "[100]\tvalid_0's l2: 859.092\n",
      "Did not meet early stopping. Best iteration is:\n",
      "[100]\tvalid_0's l2: 859.092\n",
      "LightGBM 總樹數: 100\n",
      "學習曲線已儲存至: C:\\thesis\\code\\result_lgb\\learning_curve\\(121.55_25.015).png\n",
      "最佳決策樹圖（Highest split_gain）已儲存至: C:\\thesis\\code\\result_lgb\\tree\\(121.55_25.015).png\n",
      "SHAP 特徵重要性圖已儲存至: C:\\thesis\\code\\result_lgb\\shap_summary\\(121.55_25.015).png\n",
      "SHAP 特徵影響條形圖已儲存至: C:\\thesis\\code\\result_lgb\\shap_bar\\(121.55_25.015).png\n",
      "訓練與預測 (121.55, 25.02) 的決策樹...\n",
      "[LightGBM] [Info] Auto-choosing row-wise multi-threading, the overhead of testing was 0.000484 seconds.\n",
      "You can set `force_row_wise=true` to remove the overhead.\n",
      "And if memory is not enough, you can set `force_col_wise=true`.\n",
      "[LightGBM] [Info] Total Bins 500\n",
      "[LightGBM] [Info] Number of data points in the train set: 13585, number of used features: 22\n",
      "[LightGBM] [Info] Start training from score 4845.335885\n",
      "Training until validation scores don't improve for 10 rounds\n",
      "[10]\tvalid_0's l2: 1.42675e+06\n",
      "[20]\tvalid_0's l2: 709810\n",
      "[30]\tvalid_0's l2: 414921\n",
      "[40]\tvalid_0's l2: 300600\n",
      "[50]\tvalid_0's l2: 239072\n",
      "[60]\tvalid_0's l2: 207791\n",
      "[70]\tvalid_0's l2: 184934\n",
      "[80]\tvalid_0's l2: 166946\n",
      "[90]\tvalid_0's l2: 153277\n",
      "[100]\tvalid_0's l2: 144064\n",
      "Did not meet early stopping. Best iteration is:\n",
      "[100]\tvalid_0's l2: 144064\n",
      "LightGBM 總樹數: 100\n",
      "學習曲線已儲存至: C:\\thesis\\code\\result_lgb\\learning_curve\\(121.55_25.02).png\n",
      "最佳決策樹圖（Highest split_gain）已儲存至: C:\\thesis\\code\\result_lgb\\tree\\(121.55_25.02).png\n",
      "SHAP 特徵重要性圖已儲存至: C:\\thesis\\code\\result_lgb\\shap_summary\\(121.55_25.02).png\n",
      "SHAP 特徵影響條形圖已儲存至: C:\\thesis\\code\\result_lgb\\shap_bar\\(121.55_25.02).png\n",
      "訓練與預測 (121.55, 25.025) 的決策樹...\n",
      "[LightGBM] [Info] Auto-choosing col-wise multi-threading, the overhead of testing was 0.001217 seconds.\n",
      "You can set `force_col_wise=true` to remove the overhead.\n",
      "[LightGBM] [Info] Total Bins 500\n",
      "[LightGBM] [Info] Number of data points in the train set: 13585, number of used features: 22\n",
      "[LightGBM] [Info] Start training from score 5043.407582\n",
      "Training until validation scores don't improve for 10 rounds\n",
      "[10]\tvalid_0's l2: 540305\n",
      "[20]\tvalid_0's l2: 289028\n",
      "[30]\tvalid_0's l2: 183499\n",
      "[40]\tvalid_0's l2: 142490\n",
      "[50]\tvalid_0's l2: 118050\n",
      "[60]\tvalid_0's l2: 104176\n",
      "[70]\tvalid_0's l2: 93775\n",
      "[80]\tvalid_0's l2: 85407.5\n",
      "[90]\tvalid_0's l2: 79885.2\n",
      "[100]\tvalid_0's l2: 75089.6\n",
      "Did not meet early stopping. Best iteration is:\n",
      "[100]\tvalid_0's l2: 75089.6\n",
      "LightGBM 總樹數: 100\n",
      "學習曲線已儲存至: C:\\thesis\\code\\result_lgb\\learning_curve\\(121.55_25.025).png\n",
      "最佳決策樹圖（Highest split_gain）已儲存至: C:\\thesis\\code\\result_lgb\\tree\\(121.55_25.025).png\n",
      "SHAP 特徵重要性圖已儲存至: C:\\thesis\\code\\result_lgb\\shap_summary\\(121.55_25.025).png\n",
      "SHAP 特徵影響條形圖已儲存至: C:\\thesis\\code\\result_lgb\\shap_bar\\(121.55_25.025).png\n",
      "訓練與預測 (121.55, 25.03) 的決策樹...\n",
      "[LightGBM] [Info] Auto-choosing row-wise multi-threading, the overhead of testing was 0.000730 seconds.\n",
      "You can set `force_row_wise=true` to remove the overhead.\n",
      "And if memory is not enough, you can set `force_col_wise=true`.\n",
      "[LightGBM] [Info] Total Bins 500\n",
      "[LightGBM] [Info] Number of data points in the train set: 13585, number of used features: 22\n",
      "[LightGBM] [Info] Start training from score 3813.437689\n",
      "Training until validation scores don't improve for 10 rounds\n",
      "[10]\tvalid_0's l2: 567269\n",
      "[20]\tvalid_0's l2: 308247\n",
      "[30]\tvalid_0's l2: 200158\n",
      "[40]\tvalid_0's l2: 154132\n",
      "[50]\tvalid_0's l2: 127176\n",
      "[60]\tvalid_0's l2: 112100\n",
      "[70]\tvalid_0's l2: 99820.1\n",
      "[80]\tvalid_0's l2: 88864.2\n",
      "[90]\tvalid_0's l2: 82317\n",
      "[100]\tvalid_0's l2: 77060.1\n",
      "Did not meet early stopping. Best iteration is:\n",
      "[100]\tvalid_0's l2: 77060.1\n",
      "LightGBM 總樹數: 100\n",
      "學習曲線已儲存至: C:\\thesis\\code\\result_lgb\\learning_curve\\(121.55_25.03).png\n",
      "最佳決策樹圖（Highest split_gain）已儲存至: C:\\thesis\\code\\result_lgb\\tree\\(121.55_25.03).png\n",
      "SHAP 特徵重要性圖已儲存至: C:\\thesis\\code\\result_lgb\\shap_summary\\(121.55_25.03).png\n",
      "SHAP 特徵影響條形圖已儲存至: C:\\thesis\\code\\result_lgb\\shap_bar\\(121.55_25.03).png\n",
      "訓練與預測 (121.55, 25.035) 的決策樹...\n",
      "[LightGBM] [Info] Auto-choosing row-wise multi-threading, the overhead of testing was 0.000468 seconds.\n",
      "You can set `force_row_wise=true` to remove the overhead.\n",
      "And if memory is not enough, you can set `force_col_wise=true`.\n",
      "[LightGBM] [Info] Total Bins 500\n",
      "[LightGBM] [Info] Number of data points in the train set: 13585, number of used features: 22\n",
      "[LightGBM] [Info] Start training from score 2791.294148\n",
      "Training until validation scores don't improve for 10 rounds\n",
      "[10]\tvalid_0's l2: 339071\n",
      "[20]\tvalid_0's l2: 168354\n",
      "[30]\tvalid_0's l2: 98195.7\n",
      "[40]\tvalid_0's l2: 71987.3\n",
      "[50]\tvalid_0's l2: 58424.4\n",
      "[60]\tvalid_0's l2: 51000.2\n",
      "[70]\tvalid_0's l2: 45847.7\n",
      "[80]\tvalid_0's l2: 40822\n",
      "[90]\tvalid_0's l2: 37585.9\n",
      "[100]\tvalid_0's l2: 35330.3\n",
      "Did not meet early stopping. Best iteration is:\n",
      "[100]\tvalid_0's l2: 35330.3\n",
      "LightGBM 總樹數: 100\n",
      "學習曲線已儲存至: C:\\thesis\\code\\result_lgb\\learning_curve\\(121.55_25.035).png\n",
      "最佳決策樹圖（Highest split_gain）已儲存至: C:\\thesis\\code\\result_lgb\\tree\\(121.55_25.035).png\n",
      "SHAP 特徵重要性圖已儲存至: C:\\thesis\\code\\result_lgb\\shap_summary\\(121.55_25.035).png\n",
      "SHAP 特徵影響條形圖已儲存至: C:\\thesis\\code\\result_lgb\\shap_bar\\(121.55_25.035).png\n",
      "訓練與預測 (121.555, 25.015) 的決策樹...\n",
      "[LightGBM] [Info] Auto-choosing row-wise multi-threading, the overhead of testing was 0.000523 seconds.\n",
      "You can set `force_row_wise=true` to remove the overhead.\n",
      "And if memory is not enough, you can set `force_col_wise=true`.\n",
      "[LightGBM] [Info] Total Bins 500\n",
      "[LightGBM] [Info] Number of data points in the train set: 13585, number of used features: 22\n",
      "[LightGBM] [Info] Start training from score 1126.873905\n",
      "Training until validation scores don't improve for 10 rounds\n",
      "[10]\tvalid_0's l2: 22047.5\n",
      "[20]\tvalid_0's l2: 14360.9\n",
      "[30]\tvalid_0's l2: 10804.8\n",
      "[40]\tvalid_0's l2: 8909.9\n",
      "[50]\tvalid_0's l2: 7686.92\n",
      "[60]\tvalid_0's l2: 6857.94\n",
      "[70]\tvalid_0's l2: 6312.83\n",
      "[80]\tvalid_0's l2: 5794.54\n",
      "[90]\tvalid_0's l2: 5369.27\n",
      "[100]\tvalid_0's l2: 5026.31\n",
      "Did not meet early stopping. Best iteration is:\n",
      "[100]\tvalid_0's l2: 5026.31\n",
      "LightGBM 總樹數: 100\n",
      "學習曲線已儲存至: C:\\thesis\\code\\result_lgb\\learning_curve\\(121.555_25.015).png\n",
      "最佳決策樹圖（Highest split_gain）已儲存至: C:\\thesis\\code\\result_lgb\\tree\\(121.555_25.015).png\n",
      "SHAP 特徵重要性圖已儲存至: C:\\thesis\\code\\result_lgb\\shap_summary\\(121.555_25.015).png\n",
      "SHAP 特徵影響條形圖已儲存至: C:\\thesis\\code\\result_lgb\\shap_bar\\(121.555_25.015).png\n",
      "訓練與預測 (121.555, 25.02) 的決策樹...\n",
      "[LightGBM] [Info] Auto-choosing row-wise multi-threading, the overhead of testing was 0.000395 seconds.\n",
      "You can set `force_row_wise=true` to remove the overhead.\n",
      "And if memory is not enough, you can set `force_col_wise=true`.\n",
      "[LightGBM] [Info] Total Bins 500\n",
      "[LightGBM] [Info] Number of data points in the train set: 13585, number of used features: 22\n",
      "[LightGBM] [Info] Start training from score 4526.472948\n",
      "Training until validation scores don't improve for 10 rounds\n",
      "[10]\tvalid_0's l2: 199061\n",
      "[20]\tvalid_0's l2: 140732\n",
      "[30]\tvalid_0's l2: 111579\n",
      "[40]\tvalid_0's l2: 95581.6\n",
      "[50]\tvalid_0's l2: 84781\n",
      "[60]\tvalid_0's l2: 76122.2\n",
      "[70]\tvalid_0's l2: 69617.3\n",
      "[80]\tvalid_0's l2: 63575.9\n",
      "[90]\tvalid_0's l2: 59645.4\n",
      "[100]\tvalid_0's l2: 56379.4\n",
      "Did not meet early stopping. Best iteration is:\n",
      "[100]\tvalid_0's l2: 56379.4\n",
      "LightGBM 總樹數: 100\n",
      "學習曲線已儲存至: C:\\thesis\\code\\result_lgb\\learning_curve\\(121.555_25.02).png\n",
      "最佳決策樹圖（Highest split_gain）已儲存至: C:\\thesis\\code\\result_lgb\\tree\\(121.555_25.02).png\n",
      "SHAP 特徵重要性圖已儲存至: C:\\thesis\\code\\result_lgb\\shap_summary\\(121.555_25.02).png\n",
      "SHAP 特徵影響條形圖已儲存至: C:\\thesis\\code\\result_lgb\\shap_bar\\(121.555_25.02).png\n",
      "訓練與預測 (121.555, 25.025) 的決策樹...\n",
      "[LightGBM] [Info] Auto-choosing row-wise multi-threading, the overhead of testing was 0.000550 seconds.\n",
      "You can set `force_row_wise=true` to remove the overhead.\n",
      "And if memory is not enough, you can set `force_col_wise=true`.\n",
      "[LightGBM] [Info] Total Bins 500\n",
      "[LightGBM] [Info] Number of data points in the train set: 13585, number of used features: 22\n",
      "[LightGBM] [Info] Start training from score 3972.558116\n",
      "Training until validation scores don't improve for 10 rounds\n",
      "[10]\tvalid_0's l2: 158164\n",
      "[20]\tvalid_0's l2: 110264\n",
      "[30]\tvalid_0's l2: 86804.3\n",
      "[40]\tvalid_0's l2: 73391.1\n",
      "[50]\tvalid_0's l2: 63928.5\n",
      "[60]\tvalid_0's l2: 56582.7\n",
      "[70]\tvalid_0's l2: 50347\n",
      "[80]\tvalid_0's l2: 45848.5\n",
      "[90]\tvalid_0's l2: 42230.5\n",
      "[100]\tvalid_0's l2: 39383.2\n",
      "Did not meet early stopping. Best iteration is:\n",
      "[100]\tvalid_0's l2: 39383.2\n",
      "LightGBM 總樹數: 100\n",
      "學習曲線已儲存至: C:\\thesis\\code\\result_lgb\\learning_curve\\(121.555_25.025).png\n",
      "最佳決策樹圖（Highest split_gain）已儲存至: C:\\thesis\\code\\result_lgb\\tree\\(121.555_25.025).png\n",
      "SHAP 特徵重要性圖已儲存至: C:\\thesis\\code\\result_lgb\\shap_summary\\(121.555_25.025).png\n",
      "SHAP 特徵影響條形圖已儲存至: C:\\thesis\\code\\result_lgb\\shap_bar\\(121.555_25.025).png\n",
      "訓練與預測 (121.555, 25.03) 的決策樹...\n",
      "[LightGBM] [Info] Auto-choosing row-wise multi-threading, the overhead of testing was 0.000563 seconds.\n",
      "You can set `force_row_wise=true` to remove the overhead.\n",
      "And if memory is not enough, you can set `force_col_wise=true`.\n",
      "[LightGBM] [Info] Total Bins 500\n",
      "[LightGBM] [Info] Number of data points in the train set: 13585, number of used features: 22\n",
      "[LightGBM] [Info] Start training from score 4051.402650\n",
      "Training until validation scores don't improve for 10 rounds\n",
      "[10]\tvalid_0's l2: 314412\n",
      "[20]\tvalid_0's l2: 194898\n",
      "[30]\tvalid_0's l2: 140600\n",
      "[40]\tvalid_0's l2: 113787\n",
      "[50]\tvalid_0's l2: 97168.5\n",
      "[60]\tvalid_0's l2: 84418\n",
      "[70]\tvalid_0's l2: 75535.7\n",
      "[80]\tvalid_0's l2: 68467.7\n",
      "[90]\tvalid_0's l2: 62715\n",
      "[100]\tvalid_0's l2: 59142.3\n",
      "Did not meet early stopping. Best iteration is:\n",
      "[100]\tvalid_0's l2: 59142.3\n",
      "LightGBM 總樹數: 100\n",
      "學習曲線已儲存至: C:\\thesis\\code\\result_lgb\\learning_curve\\(121.555_25.03).png\n",
      "最佳決策樹圖（Highest split_gain）已儲存至: C:\\thesis\\code\\result_lgb\\tree\\(121.555_25.03).png\n",
      "SHAP 特徵重要性圖已儲存至: C:\\thesis\\code\\result_lgb\\shap_summary\\(121.555_25.03).png\n",
      "SHAP 特徵影響條形圖已儲存至: C:\\thesis\\code\\result_lgb\\shap_bar\\(121.555_25.03).png\n",
      "訓練與預測 (121.555, 25.035) 的決策樹...\n",
      "[LightGBM] [Info] Auto-choosing row-wise multi-threading, the overhead of testing was 0.000419 seconds.\n",
      "You can set `force_row_wise=true` to remove the overhead.\n",
      "And if memory is not enough, you can set `force_col_wise=true`.\n",
      "[LightGBM] [Info] Total Bins 500\n",
      "[LightGBM] [Info] Number of data points in the train set: 13585, number of used features: 22\n",
      "[LightGBM] [Info] Start training from score 3961.235333\n",
      "Training until validation scores don't improve for 10 rounds\n",
      "[10]\tvalid_0's l2: 353042\n",
      "[20]\tvalid_0's l2: 197163\n",
      "[30]\tvalid_0's l2: 131069\n",
      "[40]\tvalid_0's l2: 103784\n",
      "[50]\tvalid_0's l2: 87960.2\n",
      "[60]\tvalid_0's l2: 77782.9\n",
      "[70]\tvalid_0's l2: 70432.5\n",
      "[80]\tvalid_0's l2: 63991.3\n",
      "[90]\tvalid_0's l2: 58782.6\n",
      "[100]\tvalid_0's l2: 53856.2\n",
      "Did not meet early stopping. Best iteration is:\n",
      "[100]\tvalid_0's l2: 53856.2\n",
      "LightGBM 總樹數: 100\n",
      "學習曲線已儲存至: C:\\thesis\\code\\result_lgb\\learning_curve\\(121.555_25.035).png\n",
      "最佳決策樹圖（Highest split_gain）已儲存至: C:\\thesis\\code\\result_lgb\\tree\\(121.555_25.035).png\n",
      "SHAP 特徵重要性圖已儲存至: C:\\thesis\\code\\result_lgb\\shap_summary\\(121.555_25.035).png\n",
      "SHAP 特徵影響條形圖已儲存至: C:\\thesis\\code\\result_lgb\\shap_bar\\(121.555_25.035).png\n",
      "訓練與預測 (121.575, 25.06) 的決策樹...\n",
      "[LightGBM] [Info] Auto-choosing row-wise multi-threading, the overhead of testing was 0.000481 seconds.\n",
      "You can set `force_row_wise=true` to remove the overhead.\n",
      "And if memory is not enough, you can set `force_col_wise=true`.\n",
      "[LightGBM] [Info] Total Bins 500\n",
      "[LightGBM] [Info] Number of data points in the train set: 13585, number of used features: 22\n",
      "[LightGBM] [Info] Start training from score 1738.542878\n",
      "Training until validation scores don't improve for 10 rounds\n",
      "[10]\tvalid_0's l2: 564683\n",
      "[20]\tvalid_0's l2: 264223\n",
      "[30]\tvalid_0's l2: 139523\n",
      "[40]\tvalid_0's l2: 92876.4\n",
      "[50]\tvalid_0's l2: 69840.1\n",
      "[60]\tvalid_0's l2: 57324.9\n",
      "[70]\tvalid_0's l2: 49945.8\n",
      "[80]\tvalid_0's l2: 45345.3\n",
      "[90]\tvalid_0's l2: 41130.6\n",
      "[100]\tvalid_0's l2: 38217.5\n",
      "Did not meet early stopping. Best iteration is:\n",
      "[100]\tvalid_0's l2: 38217.5\n",
      "LightGBM 總樹數: 100\n",
      "學習曲線已儲存至: C:\\thesis\\code\\result_lgb\\learning_curve\\(121.575_25.06).png\n",
      "最佳決策樹圖（Highest split_gain）已儲存至: C:\\thesis\\code\\result_lgb\\tree\\(121.575_25.06).png\n",
      "SHAP 特徵重要性圖已儲存至: C:\\thesis\\code\\result_lgb\\shap_summary\\(121.575_25.06).png\n",
      "SHAP 特徵影響條形圖已儲存至: C:\\thesis\\code\\result_lgb\\shap_bar\\(121.575_25.06).png\n",
      "訓練與預測 (121.575, 25.065) 的決策樹...\n",
      "[LightGBM] [Info] Auto-choosing row-wise multi-threading, the overhead of testing was 0.000533 seconds.\n",
      "You can set `force_row_wise=true` to remove the overhead.\n",
      "And if memory is not enough, you can set `force_col_wise=true`.\n",
      "[LightGBM] [Info] Total Bins 500\n",
      "[LightGBM] [Info] Number of data points in the train set: 13585, number of used features: 22\n",
      "[LightGBM] [Info] Start training from score 845.341112\n",
      "Training until validation scores don't improve for 10 rounds\n",
      "[10]\tvalid_0's l2: 123692\n",
      "[20]\tvalid_0's l2: 59388.2\n",
      "[30]\tvalid_0's l2: 33647.3\n",
      "[40]\tvalid_0's l2: 24581.5\n",
      "[50]\tvalid_0's l2: 20193.7\n",
      "[60]\tvalid_0's l2: 17702.6\n",
      "[70]\tvalid_0's l2: 15975.2\n",
      "[80]\tvalid_0's l2: 14919.8\n",
      "[90]\tvalid_0's l2: 14028.9\n",
      "[100]\tvalid_0's l2: 13402.1\n",
      "Did not meet early stopping. Best iteration is:\n",
      "[100]\tvalid_0's l2: 13402.1\n",
      "LightGBM 總樹數: 100\n",
      "學習曲線已儲存至: C:\\thesis\\code\\result_lgb\\learning_curve\\(121.575_25.065).png\n",
      "最佳決策樹圖（Highest split_gain）已儲存至: C:\\thesis\\code\\result_lgb\\tree\\(121.575_25.065).png\n",
      "SHAP 特徵重要性圖已儲存至: C:\\thesis\\code\\result_lgb\\shap_summary\\(121.575_25.065).png\n",
      "SHAP 特徵影響條形圖已儲存至: C:\\thesis\\code\\result_lgb\\shap_bar\\(121.575_25.065).png\n",
      "訓練與預測 (121.575, 25.07) 的決策樹...\n",
      "[LightGBM] [Info] Auto-choosing col-wise multi-threading, the overhead of testing was 0.001068 seconds.\n",
      "You can set `force_col_wise=true` to remove the overhead.\n",
      "[LightGBM] [Info] Total Bins 500\n",
      "[LightGBM] [Info] Number of data points in the train set: 13585, number of used features: 22\n",
      "[LightGBM] [Info] Start training from score 1191.697240\n",
      "Training until validation scores don't improve for 10 rounds\n",
      "[10]\tvalid_0's l2: 248692\n",
      "[20]\tvalid_0's l2: 116152\n",
      "[30]\tvalid_0's l2: 62499.3\n",
      "[40]\tvalid_0's l2: 42470.3\n",
      "[50]\tvalid_0's l2: 33093.9\n",
      "[60]\tvalid_0's l2: 27796.8\n",
      "[70]\tvalid_0's l2: 23829.8\n",
      "[80]\tvalid_0's l2: 21496.6\n",
      "[90]\tvalid_0's l2: 19503.2\n",
      "[100]\tvalid_0's l2: 18368.5\n",
      "Did not meet early stopping. Best iteration is:\n",
      "[100]\tvalid_0's l2: 18368.5\n",
      "LightGBM 總樹數: 100\n",
      "學習曲線已儲存至: C:\\thesis\\code\\result_lgb\\learning_curve\\(121.575_25.07).png\n",
      "最佳決策樹圖（Highest split_gain）已儲存至: C:\\thesis\\code\\result_lgb\\tree\\(121.575_25.07).png\n",
      "SHAP 特徵重要性圖已儲存至: C:\\thesis\\code\\result_lgb\\shap_summary\\(121.575_25.07).png\n",
      "SHAP 特徵影響條形圖已儲存至: C:\\thesis\\code\\result_lgb\\shap_bar\\(121.575_25.07).png\n",
      "訓練與預測 (121.575, 25.075) 的決策樹...\n",
      "[LightGBM] [Info] Auto-choosing row-wise multi-threading, the overhead of testing was 0.000497 seconds.\n",
      "You can set `force_row_wise=true` to remove the overhead.\n",
      "And if memory is not enough, you can set `force_col_wise=true`.\n",
      "[LightGBM] [Info] Total Bins 500\n",
      "[LightGBM] [Info] Number of data points in the train set: 13585, number of used features: 22\n",
      "[LightGBM] [Info] Start training from score 4064.477438\n",
      "Training until validation scores don't improve for 10 rounds\n",
      "[10]\tvalid_0's l2: 2.14046e+06\n",
      "[20]\tvalid_0's l2: 996795\n",
      "[30]\tvalid_0's l2: 536269\n",
      "[40]\tvalid_0's l2: 367728\n",
      "[50]\tvalid_0's l2: 284407\n",
      "[60]\tvalid_0's l2: 238448\n",
      "[70]\tvalid_0's l2: 210740\n",
      "[80]\tvalid_0's l2: 189749\n",
      "[90]\tvalid_0's l2: 178892\n",
      "[100]\tvalid_0's l2: 166217\n",
      "Did not meet early stopping. Best iteration is:\n",
      "[100]\tvalid_0's l2: 166217\n",
      "LightGBM 總樹數: 100\n",
      "學習曲線已儲存至: C:\\thesis\\code\\result_lgb\\learning_curve\\(121.575_25.075).png\n",
      "最佳決策樹圖（Highest split_gain）已儲存至: C:\\thesis\\code\\result_lgb\\tree\\(121.575_25.075).png\n",
      "SHAP 特徵重要性圖已儲存至: C:\\thesis\\code\\result_lgb\\shap_summary\\(121.575_25.075).png\n",
      "SHAP 特徵影響條形圖已儲存至: C:\\thesis\\code\\result_lgb\\shap_bar\\(121.575_25.075).png\n",
      "訓練與預測 (121.575, 25.08) 的決策樹...\n",
      "[LightGBM] [Info] Auto-choosing row-wise multi-threading, the overhead of testing was 0.000502 seconds.\n",
      "You can set `force_row_wise=true` to remove the overhead.\n",
      "And if memory is not enough, you can set `force_col_wise=true`.\n",
      "[LightGBM] [Info] Total Bins 500\n",
      "[LightGBM] [Info] Number of data points in the train set: 13585, number of used features: 22\n",
      "[LightGBM] [Info] Start training from score 2501.348767\n",
      "Training until validation scores don't improve for 10 rounds\n",
      "[10]\tvalid_0's l2: 1.29059e+06\n",
      "[20]\tvalid_0's l2: 605264\n",
      "[30]\tvalid_0's l2: 328640\n",
      "[40]\tvalid_0's l2: 228324\n",
      "[50]\tvalid_0's l2: 174434\n",
      "[60]\tvalid_0's l2: 146943\n",
      "[70]\tvalid_0's l2: 127410\n",
      "[80]\tvalid_0's l2: 114991\n",
      "[90]\tvalid_0's l2: 105167\n",
      "[100]\tvalid_0's l2: 96772.6\n",
      "Did not meet early stopping. Best iteration is:\n",
      "[100]\tvalid_0's l2: 96772.6\n",
      "LightGBM 總樹數: 100\n",
      "學習曲線已儲存至: C:\\thesis\\code\\result_lgb\\learning_curve\\(121.575_25.08).png\n",
      "最佳決策樹圖（Highest split_gain）已儲存至: C:\\thesis\\code\\result_lgb\\tree\\(121.575_25.08).png\n",
      "SHAP 特徵重要性圖已儲存至: C:\\thesis\\code\\result_lgb\\shap_summary\\(121.575_25.08).png\n",
      "SHAP 特徵影響條形圖已儲存至: C:\\thesis\\code\\result_lgb\\shap_bar\\(121.575_25.08).png\n",
      "訓練與預測 (121.58, 25.06) 的決策樹...\n",
      "[LightGBM] [Info] Auto-choosing row-wise multi-threading, the overhead of testing was 0.000538 seconds.\n",
      "You can set `force_row_wise=true` to remove the overhead.\n",
      "And if memory is not enough, you can set `force_col_wise=true`.\n",
      "[LightGBM] [Info] Total Bins 500\n",
      "[LightGBM] [Info] Number of data points in the train set: 13585, number of used features: 22\n",
      "[LightGBM] [Info] Start training from score 2202.052190\n",
      "Training until validation scores don't improve for 10 rounds\n",
      "[10]\tvalid_0's l2: 53331.1\n",
      "[20]\tvalid_0's l2: 38701.3\n",
      "[30]\tvalid_0's l2: 31199.9\n",
      "[40]\tvalid_0's l2: 26182.5\n",
      "[50]\tvalid_0's l2: 23131.3\n",
      "[60]\tvalid_0's l2: 20919.6\n",
      "[70]\tvalid_0's l2: 18888\n",
      "[80]\tvalid_0's l2: 17484.7\n",
      "[90]\tvalid_0's l2: 16371.1\n",
      "[100]\tvalid_0's l2: 15477.7\n",
      "Did not meet early stopping. Best iteration is:\n",
      "[100]\tvalid_0's l2: 15477.7\n",
      "LightGBM 總樹數: 100\n",
      "學習曲線已儲存至: C:\\thesis\\code\\result_lgb\\learning_curve\\(121.58_25.06).png\n",
      "最佳決策樹圖（Highest split_gain）已儲存至: C:\\thesis\\code\\result_lgb\\tree\\(121.58_25.06).png\n",
      "SHAP 特徵重要性圖已儲存至: C:\\thesis\\code\\result_lgb\\shap_summary\\(121.58_25.06).png\n",
      "SHAP 特徵影響條形圖已儲存至: C:\\thesis\\code\\result_lgb\\shap_bar\\(121.58_25.06).png\n",
      "訓練與預測 (121.58, 25.065) 的決策樹...\n",
      "[LightGBM] [Info] Auto-choosing row-wise multi-threading, the overhead of testing was 0.000477 seconds.\n",
      "You can set `force_row_wise=true` to remove the overhead.\n",
      "And if memory is not enough, you can set `force_col_wise=true`.\n",
      "[LightGBM] [Info] Total Bins 500\n",
      "[LightGBM] [Info] Number of data points in the train set: 13585, number of used features: 22\n",
      "[LightGBM] [Info] Start training from score 1701.495179\n",
      "Training until validation scores don't improve for 10 rounds\n",
      "[10]\tvalid_0's l2: 291000\n",
      "[20]\tvalid_0's l2: 143630\n",
      "[30]\tvalid_0's l2: 82829.4\n",
      "[40]\tvalid_0's l2: 59349.2\n",
      "[50]\tvalid_0's l2: 46590.4\n",
      "[60]\tvalid_0's l2: 39518.1\n",
      "[70]\tvalid_0's l2: 34190.5\n",
      "[80]\tvalid_0's l2: 30564.6\n",
      "[90]\tvalid_0's l2: 27431.4\n",
      "[100]\tvalid_0's l2: 25142\n",
      "Did not meet early stopping. Best iteration is:\n",
      "[100]\tvalid_0's l2: 25142\n",
      "LightGBM 總樹數: 100\n",
      "學習曲線已儲存至: C:\\thesis\\code\\result_lgb\\learning_curve\\(121.58_25.065).png\n",
      "最佳決策樹圖（Highest split_gain）已儲存至: C:\\thesis\\code\\result_lgb\\tree\\(121.58_25.065).png\n",
      "SHAP 特徵重要性圖已儲存至: C:\\thesis\\code\\result_lgb\\shap_summary\\(121.58_25.065).png\n",
      "SHAP 特徵影響條形圖已儲存至: C:\\thesis\\code\\result_lgb\\shap_bar\\(121.58_25.065).png\n",
      "訓練與預測 (121.58, 25.07) 的決策樹...\n",
      "[LightGBM] [Info] Auto-choosing row-wise multi-threading, the overhead of testing was 0.000617 seconds.\n",
      "You can set `force_row_wise=true` to remove the overhead.\n",
      "And if memory is not enough, you can set `force_col_wise=true`.\n",
      "[LightGBM] [Info] Total Bins 500\n",
      "[LightGBM] [Info] Number of data points in the train set: 13585, number of used features: 22\n",
      "[LightGBM] [Info] Start training from score 2157.150239\n",
      "Training until validation scores don't improve for 10 rounds\n",
      "[10]\tvalid_0's l2: 604447\n",
      "[20]\tvalid_0's l2: 291943\n",
      "[30]\tvalid_0's l2: 162996\n",
      "[40]\tvalid_0's l2: 114752\n",
      "[50]\tvalid_0's l2: 89779.1\n",
      "[60]\tvalid_0's l2: 75953.8\n",
      "[70]\tvalid_0's l2: 67822.8\n",
      "[80]\tvalid_0's l2: 61599.3\n",
      "[90]\tvalid_0's l2: 56749.9\n",
      "[100]\tvalid_0's l2: 53247.5\n",
      "Did not meet early stopping. Best iteration is:\n",
      "[100]\tvalid_0's l2: 53247.5\n",
      "LightGBM 總樹數: 100\n",
      "學習曲線已儲存至: C:\\thesis\\code\\result_lgb\\learning_curve\\(121.58_25.07).png\n",
      "最佳決策樹圖（Highest split_gain）已儲存至: C:\\thesis\\code\\result_lgb\\tree\\(121.58_25.07).png\n",
      "SHAP 特徵重要性圖已儲存至: C:\\thesis\\code\\result_lgb\\shap_summary\\(121.58_25.07).png\n",
      "SHAP 特徵影響條形圖已儲存至: C:\\thesis\\code\\result_lgb\\shap_bar\\(121.58_25.07).png\n",
      "訓練與預測 (121.58, 25.075) 的決策樹...\n",
      "[LightGBM] [Info] Auto-choosing row-wise multi-threading, the overhead of testing was 0.000436 seconds.\n",
      "You can set `force_row_wise=true` to remove the overhead.\n",
      "And if memory is not enough, you can set `force_col_wise=true`.\n",
      "[LightGBM] [Info] Total Bins 500\n",
      "[LightGBM] [Info] Number of data points in the train set: 13585, number of used features: 22\n",
      "[LightGBM] [Info] Start training from score 2764.033419\n",
      "Training until validation scores don't improve for 10 rounds\n",
      "[10]\tvalid_0's l2: 205043\n",
      "[20]\tvalid_0's l2: 130724\n",
      "[30]\tvalid_0's l2: 96749.3\n",
      "[40]\tvalid_0's l2: 76703.8\n",
      "[50]\tvalid_0's l2: 65222.5\n",
      "[60]\tvalid_0's l2: 55836.2\n",
      "[70]\tvalid_0's l2: 48659.3\n",
      "[80]\tvalid_0's l2: 42968.4\n",
      "[90]\tvalid_0's l2: 39103.7\n",
      "[100]\tvalid_0's l2: 35718\n",
      "Did not meet early stopping. Best iteration is:\n",
      "[100]\tvalid_0's l2: 35718\n",
      "LightGBM 總樹數: 100\n",
      "學習曲線已儲存至: C:\\thesis\\code\\result_lgb\\learning_curve\\(121.58_25.075).png\n",
      "最佳決策樹圖（Highest split_gain）已儲存至: C:\\thesis\\code\\result_lgb\\tree\\(121.58_25.075).png\n",
      "SHAP 特徵重要性圖已儲存至: C:\\thesis\\code\\result_lgb\\shap_summary\\(121.58_25.075).png\n",
      "SHAP 特徵影響條形圖已儲存至: C:\\thesis\\code\\result_lgb\\shap_bar\\(121.58_25.075).png\n",
      "訓練與預測 (121.58, 25.08) 的決策樹...\n",
      "[LightGBM] [Info] Auto-choosing row-wise multi-threading, the overhead of testing was 0.000516 seconds.\n",
      "You can set `force_row_wise=true` to remove the overhead.\n",
      "And if memory is not enough, you can set `force_col_wise=true`.\n",
      "[LightGBM] [Info] Total Bins 500\n",
      "[LightGBM] [Info] Number of data points in the train set: 13585, number of used features: 22\n",
      "[LightGBM] [Info] Start training from score 2933.005962\n",
      "Training until validation scores don't improve for 10 rounds\n",
      "[10]\tvalid_0's l2: 114131\n",
      "[20]\tvalid_0's l2: 77970.2\n",
      "[30]\tvalid_0's l2: 60325.8\n",
      "[40]\tvalid_0's l2: 51174.9\n",
      "[50]\tvalid_0's l2: 44863.4\n",
      "[60]\tvalid_0's l2: 40450.3\n",
      "[70]\tvalid_0's l2: 37184.4\n",
      "[80]\tvalid_0's l2: 34574.6\n",
      "[90]\tvalid_0's l2: 32308\n",
      "[100]\tvalid_0's l2: 30883.8\n",
      "Did not meet early stopping. Best iteration is:\n",
      "[100]\tvalid_0's l2: 30883.8\n",
      "LightGBM 總樹數: 100\n",
      "學習曲線已儲存至: C:\\thesis\\code\\result_lgb\\learning_curve\\(121.58_25.08).png\n",
      "最佳決策樹圖（Highest split_gain）已儲存至: C:\\thesis\\code\\result_lgb\\tree\\(121.58_25.08).png\n",
      "SHAP 特徵重要性圖已儲存至: C:\\thesis\\code\\result_lgb\\shap_summary\\(121.58_25.08).png\n",
      "SHAP 特徵影響條形圖已儲存至: C:\\thesis\\code\\result_lgb\\shap_bar\\(121.58_25.08).png\n",
      "訓練與預測 (121.585, 25.06) 的決策樹...\n",
      "[LightGBM] [Info] Auto-choosing row-wise multi-threading, the overhead of testing was 0.000566 seconds.\n",
      "You can set `force_row_wise=true` to remove the overhead.\n",
      "And if memory is not enough, you can set `force_col_wise=true`.\n",
      "[LightGBM] [Info] Total Bins 500\n",
      "[LightGBM] [Info] Number of data points in the train set: 13585, number of used features: 22\n",
      "[LightGBM] [Info] Start training from score 1533.100920\n",
      "Training until validation scores don't improve for 10 rounds\n",
      "[10]\tvalid_0's l2: 67527.2\n",
      "[20]\tvalid_0's l2: 41385.8\n",
      "[30]\tvalid_0's l2: 30034.3\n",
      "[40]\tvalid_0's l2: 24279.9\n",
      "[50]\tvalid_0's l2: 20798.4\n",
      "[60]\tvalid_0's l2: 18430.3\n",
      "[70]\tvalid_0's l2: 16824.8\n",
      "[80]\tvalid_0's l2: 15619.9\n",
      "[90]\tvalid_0's l2: 14663.3\n",
      "[100]\tvalid_0's l2: 13850.6\n",
      "Did not meet early stopping. Best iteration is:\n",
      "[100]\tvalid_0's l2: 13850.6\n",
      "LightGBM 總樹數: 100\n",
      "學習曲線已儲存至: C:\\thesis\\code\\result_lgb\\learning_curve\\(121.585_25.06).png\n",
      "最佳決策樹圖（Highest split_gain）已儲存至: C:\\thesis\\code\\result_lgb\\tree\\(121.585_25.06).png\n",
      "SHAP 特徵重要性圖已儲存至: C:\\thesis\\code\\result_lgb\\shap_summary\\(121.585_25.06).png\n",
      "SHAP 特徵影響條形圖已儲存至: C:\\thesis\\code\\result_lgb\\shap_bar\\(121.585_25.06).png\n",
      "訓練與預測 (121.585, 25.065) 的決策樹...\n",
      "[LightGBM] [Info] Auto-choosing row-wise multi-threading, the overhead of testing was 0.000522 seconds.\n",
      "You can set `force_row_wise=true` to remove the overhead.\n",
      "And if memory is not enough, you can set `force_col_wise=true`.\n",
      "[LightGBM] [Info] Total Bins 500\n",
      "[LightGBM] [Info] Number of data points in the train set: 13585, number of used features: 22\n",
      "[LightGBM] [Info] Start training from score 1694.118439\n",
      "Training until validation scores don't improve for 10 rounds\n",
      "[10]\tvalid_0's l2: 292678\n",
      "[20]\tvalid_0's l2: 132920\n",
      "[30]\tvalid_0's l2: 69477.6\n",
      "[40]\tvalid_0's l2: 47171.6\n",
      "[50]\tvalid_0's l2: 36535\n",
      "[60]\tvalid_0's l2: 31519.9\n",
      "[70]\tvalid_0's l2: 28211.1\n",
      "[80]\tvalid_0's l2: 25855.5\n",
      "[90]\tvalid_0's l2: 24224.4\n",
      "[100]\tvalid_0's l2: 22754.1\n",
      "Did not meet early stopping. Best iteration is:\n",
      "[100]\tvalid_0's l2: 22754.1\n",
      "LightGBM 總樹數: 100\n",
      "學習曲線已儲存至: C:\\thesis\\code\\result_lgb\\learning_curve\\(121.585_25.065).png\n",
      "最佳決策樹圖（Highest split_gain）已儲存至: C:\\thesis\\code\\result_lgb\\tree\\(121.585_25.065).png\n",
      "SHAP 特徵重要性圖已儲存至: C:\\thesis\\code\\result_lgb\\shap_summary\\(121.585_25.065).png\n",
      "SHAP 特徵影響條形圖已儲存至: C:\\thesis\\code\\result_lgb\\shap_bar\\(121.585_25.065).png\n",
      "訓練與預測 (121.585, 25.07) 的決策樹...\n",
      "[LightGBM] [Info] Auto-choosing row-wise multi-threading, the overhead of testing was 0.000624 seconds.\n",
      "You can set `force_row_wise=true` to remove the overhead.\n",
      "And if memory is not enough, you can set `force_col_wise=true`.\n",
      "[LightGBM] [Info] Total Bins 500\n",
      "[LightGBM] [Info] Number of data points in the train set: 13585, number of used features: 22\n",
      "[LightGBM] [Info] Start training from score 265.157527\n",
      "Training until validation scores don't improve for 10 rounds\n",
      "[10]\tvalid_0's l2: 29861.1\n",
      "[20]\tvalid_0's l2: 13730.6\n",
      "[30]\tvalid_0's l2: 7312.81\n",
      "[40]\tvalid_0's l2: 5056\n",
      "[50]\tvalid_0's l2: 3918.22\n",
      "[60]\tvalid_0's l2: 3384.3\n",
      "[70]\tvalid_0's l2: 3065.49\n",
      "[80]\tvalid_0's l2: 2780.18\n",
      "[90]\tvalid_0's l2: 2587.98\n",
      "[100]\tvalid_0's l2: 2383.56\n",
      "Did not meet early stopping. Best iteration is:\n",
      "[100]\tvalid_0's l2: 2383.56\n",
      "LightGBM 總樹數: 100\n",
      "學習曲線已儲存至: C:\\thesis\\code\\result_lgb\\learning_curve\\(121.585_25.07).png\n",
      "最佳決策樹圖（Highest split_gain）已儲存至: C:\\thesis\\code\\result_lgb\\tree\\(121.585_25.07).png\n",
      "SHAP 特徵重要性圖已儲存至: C:\\thesis\\code\\result_lgb\\shap_summary\\(121.585_25.07).png\n",
      "SHAP 特徵影響條形圖已儲存至: C:\\thesis\\code\\result_lgb\\shap_bar\\(121.585_25.07).png\n",
      "訓練與預測 (121.585, 25.075) 的決策樹...\n",
      "[LightGBM] [Info] Auto-choosing row-wise multi-threading, the overhead of testing was 0.000517 seconds.\n",
      "You can set `force_row_wise=true` to remove the overhead.\n",
      "And if memory is not enough, you can set `force_col_wise=true`.\n",
      "[LightGBM] [Info] Total Bins 500\n",
      "[LightGBM] [Info] Number of data points in the train set: 13585, number of used features: 22\n",
      "[LightGBM] [Info] Start training from score 2003.929849\n",
      "Training until validation scores don't improve for 10 rounds\n",
      "[10]\tvalid_0's l2: 125754\n",
      "[20]\tvalid_0's l2: 68146.6\n",
      "[30]\tvalid_0's l2: 44791.1\n",
      "[40]\tvalid_0's l2: 33311.7\n",
      "[50]\tvalid_0's l2: 27269.1\n",
      "[60]\tvalid_0's l2: 23651.8\n",
      "[70]\tvalid_0's l2: 21319.3\n",
      "[80]\tvalid_0's l2: 19536.5\n",
      "[90]\tvalid_0's l2: 18351.7\n",
      "[100]\tvalid_0's l2: 17436.6\n",
      "Did not meet early stopping. Best iteration is:\n",
      "[100]\tvalid_0's l2: 17436.6\n",
      "LightGBM 總樹數: 100\n",
      "學習曲線已儲存至: C:\\thesis\\code\\result_lgb\\learning_curve\\(121.585_25.075).png\n",
      "最佳決策樹圖（Highest split_gain）已儲存至: C:\\thesis\\code\\result_lgb\\tree\\(121.585_25.075).png\n",
      "SHAP 特徵重要性圖已儲存至: C:\\thesis\\code\\result_lgb\\shap_summary\\(121.585_25.075).png\n",
      "SHAP 特徵影響條形圖已儲存至: C:\\thesis\\code\\result_lgb\\shap_bar\\(121.585_25.075).png\n",
      "訓練與預測 (121.59, 25.06) 的決策樹...\n",
      "[LightGBM] [Info] Auto-choosing row-wise multi-threading, the overhead of testing was 0.000418 seconds.\n",
      "You can set `force_row_wise=true` to remove the overhead.\n",
      "And if memory is not enough, you can set `force_col_wise=true`.\n",
      "[LightGBM] [Info] Total Bins 500\n",
      "[LightGBM] [Info] Number of data points in the train set: 13585, number of used features: 22\n",
      "[LightGBM] [Info] Start training from score 1636.670445\n",
      "Training until validation scores don't improve for 10 rounds\n",
      "[10]\tvalid_0's l2: 152803\n",
      "[20]\tvalid_0's l2: 82376.7\n",
      "[30]\tvalid_0's l2: 52645.7\n",
      "[40]\tvalid_0's l2: 40834.6\n",
      "[50]\tvalid_0's l2: 33740\n",
      "[60]\tvalid_0's l2: 29367.1\n",
      "[70]\tvalid_0's l2: 26445.6\n",
      "[80]\tvalid_0's l2: 24020.3\n",
      "[90]\tvalid_0's l2: 21959.7\n",
      "[100]\tvalid_0's l2: 20374.9\n",
      "Did not meet early stopping. Best iteration is:\n",
      "[100]\tvalid_0's l2: 20374.9\n",
      "LightGBM 總樹數: 100\n",
      "學習曲線已儲存至: C:\\thesis\\code\\result_lgb\\learning_curve\\(121.59_25.06).png\n",
      "最佳決策樹圖（Highest split_gain）已儲存至: C:\\thesis\\code\\result_lgb\\tree\\(121.59_25.06).png\n",
      "SHAP 特徵重要性圖已儲存至: C:\\thesis\\code\\result_lgb\\shap_summary\\(121.59_25.06).png\n",
      "SHAP 特徵影響條形圖已儲存至: C:\\thesis\\code\\result_lgb\\shap_bar\\(121.59_25.06).png\n",
      "訓練與預測 (121.59, 25.065) 的決策樹...\n",
      "[LightGBM] [Info] Auto-choosing row-wise multi-threading, the overhead of testing was 0.000546 seconds.\n",
      "You can set `force_row_wise=true` to remove the overhead.\n",
      "And if memory is not enough, you can set `force_col_wise=true`.\n",
      "[LightGBM] [Info] Total Bins 500\n",
      "[LightGBM] [Info] Number of data points in the train set: 13585, number of used features: 22\n",
      "[LightGBM] [Info] Start training from score 1678.115053\n",
      "Training until validation scores don't improve for 10 rounds\n",
      "[10]\tvalid_0's l2: 31965\n",
      "[20]\tvalid_0's l2: 23511.4\n",
      "[30]\tvalid_0's l2: 19052.5\n",
      "[40]\tvalid_0's l2: 16343\n",
      "[50]\tvalid_0's l2: 14445.4\n",
      "[60]\tvalid_0's l2: 12964.5\n",
      "[70]\tvalid_0's l2: 11962.5\n",
      "[80]\tvalid_0's l2: 11153.1\n",
      "[90]\tvalid_0's l2: 10447.7\n",
      "[100]\tvalid_0's l2: 9886.54\n",
      "Did not meet early stopping. Best iteration is:\n",
      "[100]\tvalid_0's l2: 9886.54\n",
      "LightGBM 總樹數: 100\n",
      "學習曲線已儲存至: C:\\thesis\\code\\result_lgb\\learning_curve\\(121.59_25.065).png\n",
      "最佳決策樹圖（Highest split_gain）已儲存至: C:\\thesis\\code\\result_lgb\\tree\\(121.59_25.065).png\n",
      "SHAP 特徵重要性圖已儲存至: C:\\thesis\\code\\result_lgb\\shap_summary\\(121.59_25.065).png\n",
      "SHAP 特徵影響條形圖已儲存至: C:\\thesis\\code\\result_lgb\\shap_bar\\(121.59_25.065).png\n",
      "訓練與預測 (121.59, 25.07) 的決策樹...\n",
      "[LightGBM] [Info] Auto-choosing row-wise multi-threading, the overhead of testing was 0.000538 seconds.\n",
      "You can set `force_row_wise=true` to remove the overhead.\n",
      "And if memory is not enough, you can set `force_col_wise=true`.\n",
      "[LightGBM] [Info] Total Bins 500\n",
      "[LightGBM] [Info] Number of data points in the train set: 13585, number of used features: 22\n",
      "[LightGBM] [Info] Start training from score 1790.328524\n",
      "Training until validation scores don't improve for 10 rounds\n",
      "[10]\tvalid_0's l2: 75038.6\n",
      "[20]\tvalid_0's l2: 48455.7\n",
      "[30]\tvalid_0's l2: 35370\n",
      "[40]\tvalid_0's l2: 28242.2\n",
      "[50]\tvalid_0's l2: 22218.6\n",
      "[60]\tvalid_0's l2: 18632.8\n",
      "[70]\tvalid_0's l2: 16684.7\n",
      "[80]\tvalid_0's l2: 15328.2\n",
      "[90]\tvalid_0's l2: 14218.6\n",
      "[100]\tvalid_0's l2: 13402.2\n",
      "Did not meet early stopping. Best iteration is:\n",
      "[100]\tvalid_0's l2: 13402.2\n",
      "LightGBM 總樹數: 100\n",
      "學習曲線已儲存至: C:\\thesis\\code\\result_lgb\\learning_curve\\(121.59_25.07).png\n",
      "最佳決策樹圖（Highest split_gain）已儲存至: C:\\thesis\\code\\result_lgb\\tree\\(121.59_25.07).png\n",
      "SHAP 特徵重要性圖已儲存至: C:\\thesis\\code\\result_lgb\\shap_summary\\(121.59_25.07).png\n",
      "SHAP 特徵影響條形圖已儲存至: C:\\thesis\\code\\result_lgb\\shap_bar\\(121.59_25.07).png\n",
      "訓練與預測 (121.59, 25.075) 的決策樹...\n",
      "[LightGBM] [Info] Auto-choosing row-wise multi-threading, the overhead of testing was 0.000542 seconds.\n",
      "You can set `force_row_wise=true` to remove the overhead.\n",
      "And if memory is not enough, you can set `force_col_wise=true`.\n",
      "[LightGBM] [Info] Total Bins 500\n",
      "[LightGBM] [Info] Number of data points in the train set: 13585, number of used features: 22\n",
      "[LightGBM] [Info] Start training from score 1085.844902\n",
      "Training until validation scores don't improve for 10 rounds\n",
      "[10]\tvalid_0's l2: 37727\n",
      "[20]\tvalid_0's l2: 24677.5\n",
      "[30]\tvalid_0's l2: 18715.7\n",
      "[40]\tvalid_0's l2: 15537.4\n",
      "[50]\tvalid_0's l2: 13281.9\n",
      "[60]\tvalid_0's l2: 11665.6\n",
      "[70]\tvalid_0's l2: 10407.9\n",
      "[80]\tvalid_0's l2: 9477.3\n",
      "[90]\tvalid_0's l2: 8746.89\n",
      "[100]\tvalid_0's l2: 8255.38\n",
      "Did not meet early stopping. Best iteration is:\n",
      "[100]\tvalid_0's l2: 8255.38\n",
      "LightGBM 總樹數: 100\n",
      "學習曲線已儲存至: C:\\thesis\\code\\result_lgb\\learning_curve\\(121.59_25.075).png\n",
      "最佳決策樹圖（Highest split_gain）已儲存至: C:\\thesis\\code\\result_lgb\\tree\\(121.59_25.075).png\n",
      "SHAP 特徵重要性圖已儲存至: C:\\thesis\\code\\result_lgb\\shap_summary\\(121.59_25.075).png\n",
      "SHAP 特徵影響條形圖已儲存至: C:\\thesis\\code\\result_lgb\\shap_bar\\(121.59_25.075).png\n",
      "訓練與預測 (121.59, 25.08) 的決策樹...\n",
      "[LightGBM] [Info] Auto-choosing row-wise multi-threading, the overhead of testing was 0.000485 seconds.\n",
      "You can set `force_row_wise=true` to remove the overhead.\n",
      "And if memory is not enough, you can set `force_col_wise=true`.\n",
      "[LightGBM] [Info] Total Bins 500\n",
      "[LightGBM] [Info] Number of data points in the train set: 13585, number of used features: 22\n",
      "[LightGBM] [Info] Start training from score 3176.840707\n",
      "Training until validation scores don't improve for 10 rounds\n",
      "[10]\tvalid_0's l2: 86355.1\n",
      "[20]\tvalid_0's l2: 63439.3\n",
      "[30]\tvalid_0's l2: 51129.6\n",
      "[40]\tvalid_0's l2: 43552.2\n",
      "[50]\tvalid_0's l2: 38044.9\n",
      "[60]\tvalid_0's l2: 34323.7\n",
      "[70]\tvalid_0's l2: 31481.5\n",
      "[80]\tvalid_0's l2: 29285.5\n",
      "[90]\tvalid_0's l2: 27414.3\n",
      "[100]\tvalid_0's l2: 26208.3\n",
      "Did not meet early stopping. Best iteration is:\n",
      "[100]\tvalid_0's l2: 26208.3\n",
      "LightGBM 總樹數: 100\n",
      "學習曲線已儲存至: C:\\thesis\\code\\result_lgb\\learning_curve\\(121.59_25.08).png\n",
      "最佳決策樹圖（Highest split_gain）已儲存至: C:\\thesis\\code\\result_lgb\\tree\\(121.59_25.08).png\n",
      "SHAP 特徵重要性圖已儲存至: C:\\thesis\\code\\result_lgb\\shap_summary\\(121.59_25.08).png\n",
      "SHAP 特徵影響條形圖已儲存至: C:\\thesis\\code\\result_lgb\\shap_bar\\(121.59_25.08).png\n",
      "訓練與預測 (121.595, 25.06) 的決策樹...\n",
      "[LightGBM] [Info] Auto-choosing row-wise multi-threading, the overhead of testing was 0.000508 seconds.\n",
      "You can set `force_row_wise=true` to remove the overhead.\n",
      "And if memory is not enough, you can set `force_col_wise=true`.\n",
      "[LightGBM] [Info] Total Bins 500\n",
      "[LightGBM] [Info] Number of data points in the train set: 13585, number of used features: 22\n",
      "[LightGBM] [Info] Start training from score 3070.695694\n",
      "Training until validation scores don't improve for 10 rounds\n",
      "[10]\tvalid_0's l2: 147640\n",
      "[20]\tvalid_0's l2: 101359\n",
      "[30]\tvalid_0's l2: 79503.5\n",
      "[40]\tvalid_0's l2: 65397.3\n",
      "[50]\tvalid_0's l2: 56815.2\n",
      "[60]\tvalid_0's l2: 50277.3\n",
      "[70]\tvalid_0's l2: 45559.6\n",
      "[80]\tvalid_0's l2: 41228\n",
      "[90]\tvalid_0's l2: 38219\n",
      "[100]\tvalid_0's l2: 36039.8\n",
      "Did not meet early stopping. Best iteration is:\n",
      "[100]\tvalid_0's l2: 36039.8\n",
      "LightGBM 總樹數: 100\n",
      "學習曲線已儲存至: C:\\thesis\\code\\result_lgb\\learning_curve\\(121.595_25.06).png\n",
      "最佳決策樹圖（Highest split_gain）已儲存至: C:\\thesis\\code\\result_lgb\\tree\\(121.595_25.06).png\n",
      "SHAP 特徵重要性圖已儲存至: C:\\thesis\\code\\result_lgb\\shap_summary\\(121.595_25.06).png\n",
      "SHAP 特徵影響條形圖已儲存至: C:\\thesis\\code\\result_lgb\\shap_bar\\(121.595_25.06).png\n",
      "訓練與預測 (121.595, 25.065) 的決策樹...\n",
      "[LightGBM] [Info] Auto-choosing row-wise multi-threading, the overhead of testing was 0.000492 seconds.\n",
      "You can set `force_row_wise=true` to remove the overhead.\n",
      "And if memory is not enough, you can set `force_col_wise=true`.\n",
      "[LightGBM] [Info] Total Bins 500\n",
      "[LightGBM] [Info] Number of data points in the train set: 13585, number of used features: 22\n",
      "[LightGBM] [Info] Start training from score 635.380125\n",
      "Training until validation scores don't improve for 10 rounds\n",
      "[10]\tvalid_0's l2: 7527.12\n",
      "[20]\tvalid_0's l2: 5449.89\n",
      "[30]\tvalid_0's l2: 4297.37\n",
      "[40]\tvalid_0's l2: 3579.8\n",
      "[50]\tvalid_0's l2: 3107.79\n",
      "[60]\tvalid_0's l2: 2784.75\n",
      "[70]\tvalid_0's l2: 2551.25\n",
      "[80]\tvalid_0's l2: 2376.32\n",
      "[90]\tvalid_0's l2: 2248.61\n",
      "[100]\tvalid_0's l2: 2176.99\n",
      "Did not meet early stopping. Best iteration is:\n",
      "[100]\tvalid_0's l2: 2176.99\n",
      "LightGBM 總樹數: 100\n",
      "學習曲線已儲存至: C:\\thesis\\code\\result_lgb\\learning_curve\\(121.595_25.065).png\n",
      "最佳決策樹圖（Highest split_gain）已儲存至: C:\\thesis\\code\\result_lgb\\tree\\(121.595_25.065).png\n",
      "SHAP 特徵重要性圖已儲存至: C:\\thesis\\code\\result_lgb\\shap_summary\\(121.595_25.065).png\n",
      "SHAP 特徵影響條形圖已儲存至: C:\\thesis\\code\\result_lgb\\shap_bar\\(121.595_25.065).png\n",
      "訓練與預測 (121.595, 25.07) 的決策樹...\n",
      "[LightGBM] [Info] Auto-choosing row-wise multi-threading, the overhead of testing was 0.000578 seconds.\n",
      "You can set `force_row_wise=true` to remove the overhead.\n",
      "And if memory is not enough, you can set `force_col_wise=true`.\n",
      "[LightGBM] [Info] Total Bins 500\n",
      "[LightGBM] [Info] Number of data points in the train set: 13585, number of used features: 22\n",
      "[LightGBM] [Info] Start training from score 3489.719838\n",
      "Training until validation scores don't improve for 10 rounds\n",
      "[10]\tvalid_0's l2: 464755\n",
      "[20]\tvalid_0's l2: 254010\n",
      "[30]\tvalid_0's l2: 162566\n",
      "[40]\tvalid_0's l2: 122770\n",
      "[50]\tvalid_0's l2: 100523\n",
      "[60]\tvalid_0's l2: 86784.7\n",
      "[70]\tvalid_0's l2: 76569.2\n",
      "[80]\tvalid_0's l2: 68415.4\n",
      "[90]\tvalid_0's l2: 60497.3\n",
      "[100]\tvalid_0's l2: 55663\n",
      "Did not meet early stopping. Best iteration is:\n",
      "[100]\tvalid_0's l2: 55663\n",
      "LightGBM 總樹數: 100\n",
      "學習曲線已儲存至: C:\\thesis\\code\\result_lgb\\learning_curve\\(121.595_25.07).png\n",
      "最佳決策樹圖（Highest split_gain）已儲存至: C:\\thesis\\code\\result_lgb\\tree\\(121.595_25.07).png\n",
      "SHAP 特徵重要性圖已儲存至: C:\\thesis\\code\\result_lgb\\shap_summary\\(121.595_25.07).png\n",
      "SHAP 特徵影響條形圖已儲存至: C:\\thesis\\code\\result_lgb\\shap_bar\\(121.595_25.07).png\n",
      "訓練與預測 (121.595, 25.075) 的決策樹...\n",
      "[LightGBM] [Info] Auto-choosing row-wise multi-threading, the overhead of testing was 0.000359 seconds.\n",
      "You can set `force_row_wise=true` to remove the overhead.\n",
      "And if memory is not enough, you can set `force_col_wise=true`.\n",
      "[LightGBM] [Info] Total Bins 500\n",
      "[LightGBM] [Info] Number of data points in the train set: 13585, number of used features: 22\n",
      "[LightGBM] [Info] Start training from score 850.981671\n",
      "Training until validation scores don't improve for 10 rounds\n",
      "[10]\tvalid_0's l2: 34589\n",
      "[20]\tvalid_0's l2: 18973.4\n",
      "[30]\tvalid_0's l2: 12296.5\n",
      "[40]\tvalid_0's l2: 9400.33\n",
      "[50]\tvalid_0's l2: 7831.85\n",
      "[60]\tvalid_0's l2: 6882.31\n",
      "[70]\tvalid_0's l2: 6175.25\n",
      "[80]\tvalid_0's l2: 5626.7\n",
      "[90]\tvalid_0's l2: 5244.68\n",
      "[100]\tvalid_0's l2: 4892.5\n",
      "Did not meet early stopping. Best iteration is:\n",
      "[100]\tvalid_0's l2: 4892.5\n",
      "LightGBM 總樹數: 100\n",
      "學習曲線已儲存至: C:\\thesis\\code\\result_lgb\\learning_curve\\(121.595_25.075).png\n",
      "最佳決策樹圖（Highest split_gain）已儲存至: C:\\thesis\\code\\result_lgb\\tree\\(121.595_25.075).png\n",
      "SHAP 特徵重要性圖已儲存至: C:\\thesis\\code\\result_lgb\\shap_summary\\(121.595_25.075).png\n",
      "SHAP 特徵影響條形圖已儲存至: C:\\thesis\\code\\result_lgb\\shap_bar\\(121.595_25.075).png\n",
      "訓練與預測 (121.595, 25.08) 的決策樹...\n",
      "[LightGBM] [Info] Auto-choosing row-wise multi-threading, the overhead of testing was 0.000414 seconds.\n",
      "You can set `force_row_wise=true` to remove the overhead.\n",
      "And if memory is not enough, you can set `force_col_wise=true`.\n",
      "[LightGBM] [Info] Total Bins 500\n",
      "[LightGBM] [Info] Number of data points in the train set: 13585, number of used features: 22\n",
      "[LightGBM] [Info] Start training from score 2426.928745\n",
      "Training until validation scores don't improve for 10 rounds\n",
      "[10]\tvalid_0's l2: 133056\n",
      "[20]\tvalid_0's l2: 79263.7\n",
      "[30]\tvalid_0's l2: 56892.8\n",
      "[40]\tvalid_0's l2: 45937.9\n",
      "[50]\tvalid_0's l2: 39279.5\n",
      "[60]\tvalid_0's l2: 34920\n",
      "[70]\tvalid_0's l2: 31820.3\n",
      "[80]\tvalid_0's l2: 29307.3\n",
      "[90]\tvalid_0's l2: 27225.7\n",
      "[100]\tvalid_0's l2: 25253.9\n",
      "Did not meet early stopping. Best iteration is:\n",
      "[100]\tvalid_0's l2: 25253.9\n",
      "LightGBM 總樹數: 100\n",
      "學習曲線已儲存至: C:\\thesis\\code\\result_lgb\\learning_curve\\(121.595_25.08).png\n",
      "最佳決策樹圖（Highest split_gain）已儲存至: C:\\thesis\\code\\result_lgb\\tree\\(121.595_25.08).png\n",
      "SHAP 特徵重要性圖已儲存至: C:\\thesis\\code\\result_lgb\\shap_summary\\(121.595_25.08).png\n",
      "SHAP 特徵影響條形圖已儲存至: C:\\thesis\\code\\result_lgb\\shap_bar\\(121.595_25.08).png\n",
      "訓練與預測 (121.525, 25.1) 的決策樹...\n",
      "[LightGBM] [Info] Auto-choosing row-wise multi-threading, the overhead of testing was 0.000520 seconds.\n",
      "You can set `force_row_wise=true` to remove the overhead.\n",
      "And if memory is not enough, you can set `force_col_wise=true`.\n",
      "[LightGBM] [Info] Total Bins 500\n",
      "[LightGBM] [Info] Number of data points in the train set: 13585, number of used features: 22\n",
      "[LightGBM] [Info] Start training from score 2515.959441\n",
      "Training until validation scores don't improve for 10 rounds\n",
      "[10]\tvalid_0's l2: 44478\n",
      "[20]\tvalid_0's l2: 34206.4\n",
      "[30]\tvalid_0's l2: 29177.3\n",
      "[40]\tvalid_0's l2: 25613\n",
      "[50]\tvalid_0's l2: 22541.4\n",
      "[60]\tvalid_0's l2: 20386.5\n",
      "[70]\tvalid_0's l2: 18809.6\n",
      "[80]\tvalid_0's l2: 17630.9\n",
      "[90]\tvalid_0's l2: 16433.3\n",
      "[100]\tvalid_0's l2: 15614.5\n",
      "Did not meet early stopping. Best iteration is:\n",
      "[100]\tvalid_0's l2: 15614.5\n",
      "LightGBM 總樹數: 100\n",
      "學習曲線已儲存至: C:\\thesis\\code\\result_lgb\\learning_curve\\(121.525_25.1).png\n",
      "最佳決策樹圖（Highest split_gain）已儲存至: C:\\thesis\\code\\result_lgb\\tree\\(121.525_25.1).png\n",
      "SHAP 特徵重要性圖已儲存至: C:\\thesis\\code\\result_lgb\\shap_summary\\(121.525_25.1).png\n",
      "SHAP 特徵影響條形圖已儲存至: C:\\thesis\\code\\result_lgb\\shap_bar\\(121.525_25.1).png\n",
      "訓練與預測 (121.53, 25.1) 的決策樹...\n",
      "[LightGBM] [Info] Auto-choosing row-wise multi-threading, the overhead of testing was 0.000473 seconds.\n",
      "You can set `force_row_wise=true` to remove the overhead.\n",
      "And if memory is not enough, you can set `force_col_wise=true`.\n",
      "[LightGBM] [Info] Total Bins 500\n",
      "[LightGBM] [Info] Number of data points in the train set: 13585, number of used features: 22\n",
      "[LightGBM] [Info] Start training from score 1799.736916\n",
      "Training until validation scores don't improve for 10 rounds\n",
      "[10]\tvalid_0's l2: 143323\n",
      "[20]\tvalid_0's l2: 79099.1\n",
      "[30]\tvalid_0's l2: 51798\n",
      "[40]\tvalid_0's l2: 38411.4\n",
      "[50]\tvalid_0's l2: 31476.2\n",
      "[60]\tvalid_0's l2: 27413.5\n",
      "[70]\tvalid_0's l2: 24603.8\n",
      "[80]\tvalid_0's l2: 22509.8\n",
      "[90]\tvalid_0's l2: 20864.6\n",
      "[100]\tvalid_0's l2: 19785.2\n",
      "Did not meet early stopping. Best iteration is:\n",
      "[100]\tvalid_0's l2: 19785.2\n",
      "LightGBM 總樹數: 100\n",
      "學習曲線已儲存至: C:\\thesis\\code\\result_lgb\\learning_curve\\(121.53_25.1).png\n",
      "最佳決策樹圖（Highest split_gain）已儲存至: C:\\thesis\\code\\result_lgb\\tree\\(121.53_25.1).png\n",
      "SHAP 特徵重要性圖已儲存至: C:\\thesis\\code\\result_lgb\\shap_summary\\(121.53_25.1).png\n",
      "SHAP 特徵影響條形圖已儲存至: C:\\thesis\\code\\result_lgb\\shap_bar\\(121.53_25.1).png\n",
      "訓練與預測 (121.53, 25.105) 的決策樹...\n",
      "[LightGBM] [Info] Auto-choosing row-wise multi-threading, the overhead of testing was 0.000517 seconds.\n",
      "You can set `force_row_wise=true` to remove the overhead.\n",
      "And if memory is not enough, you can set `force_col_wise=true`.\n",
      "[LightGBM] [Info] Total Bins 500\n",
      "[LightGBM] [Info] Number of data points in the train set: 13585, number of used features: 22\n",
      "[LightGBM] [Info] Start training from score 3662.288333\n",
      "Training until validation scores don't improve for 10 rounds\n",
      "[10]\tvalid_0's l2: 95107.6\n",
      "[20]\tvalid_0's l2: 67576.6\n",
      "[30]\tvalid_0's l2: 53766.1\n",
      "[40]\tvalid_0's l2: 45838.5\n",
      "[50]\tvalid_0's l2: 40149\n",
      "[60]\tvalid_0's l2: 36309.1\n",
      "[70]\tvalid_0's l2: 33584.5\n",
      "[80]\tvalid_0's l2: 31426.9\n",
      "[90]\tvalid_0's l2: 29641.2\n",
      "[100]\tvalid_0's l2: 28321.4\n",
      "Did not meet early stopping. Best iteration is:\n",
      "[100]\tvalid_0's l2: 28321.4\n",
      "LightGBM 總樹數: 100\n",
      "學習曲線已儲存至: C:\\thesis\\code\\result_lgb\\learning_curve\\(121.53_25.105).png\n",
      "最佳決策樹圖（Highest split_gain）已儲存至: C:\\thesis\\code\\result_lgb\\tree\\(121.53_25.105).png\n",
      "SHAP 特徵重要性圖已儲存至: C:\\thesis\\code\\result_lgb\\shap_summary\\(121.53_25.105).png\n",
      "SHAP 特徵影響條形圖已儲存至: C:\\thesis\\code\\result_lgb\\shap_bar\\(121.53_25.105).png\n",
      "訓練與預測 (121.53, 25.11) 的決策樹...\n",
      "[LightGBM] [Info] Auto-choosing row-wise multi-threading, the overhead of testing was 0.000511 seconds.\n",
      "You can set `force_row_wise=true` to remove the overhead.\n",
      "And if memory is not enough, you can set `force_col_wise=true`.\n",
      "[LightGBM] [Info] Total Bins 500\n",
      "[LightGBM] [Info] Number of data points in the train set: 13585, number of used features: 22\n",
      "[LightGBM] [Info] Start training from score 4889.274788\n",
      "Training until validation scores don't improve for 10 rounds\n",
      "[10]\tvalid_0's l2: 233747\n",
      "[20]\tvalid_0's l2: 172782\n",
      "[30]\tvalid_0's l2: 143299\n",
      "[40]\tvalid_0's l2: 123801\n",
      "[50]\tvalid_0's l2: 106022\n",
      "[60]\tvalid_0's l2: 95492.2\n",
      "[70]\tvalid_0's l2: 87013.1\n",
      "[80]\tvalid_0's l2: 79724.4\n",
      "[90]\tvalid_0's l2: 72607.6\n",
      "[100]\tvalid_0's l2: 68047.7\n",
      "Did not meet early stopping. Best iteration is:\n",
      "[100]\tvalid_0's l2: 68047.7\n",
      "LightGBM 總樹數: 100\n",
      "學習曲線已儲存至: C:\\thesis\\code\\result_lgb\\learning_curve\\(121.53_25.11).png\n",
      "最佳決策樹圖（Highest split_gain）已儲存至: C:\\thesis\\code\\result_lgb\\tree\\(121.53_25.11).png\n",
      "SHAP 特徵重要性圖已儲存至: C:\\thesis\\code\\result_lgb\\shap_summary\\(121.53_25.11).png\n",
      "SHAP 特徵影響條形圖已儲存至: C:\\thesis\\code\\result_lgb\\shap_bar\\(121.53_25.11).png\n",
      "訓練與預測 (121.53, 25.115) 的決策樹...\n",
      "[LightGBM] [Info] Auto-choosing row-wise multi-threading, the overhead of testing was 0.000373 seconds.\n",
      "You can set `force_row_wise=true` to remove the overhead.\n",
      "And if memory is not enough, you can set `force_col_wise=true`.\n",
      "[LightGBM] [Info] Total Bins 500\n",
      "[LightGBM] [Info] Number of data points in the train set: 13585, number of used features: 22\n",
      "[LightGBM] [Info] Start training from score 1869.253441\n",
      "Training until validation scores don't improve for 10 rounds\n",
      "[10]\tvalid_0's l2: 73525.2\n",
      "[20]\tvalid_0's l2: 48845.4\n",
      "[30]\tvalid_0's l2: 37043.1\n",
      "[40]\tvalid_0's l2: 30971\n",
      "[50]\tvalid_0's l2: 27147.6\n",
      "[60]\tvalid_0's l2: 24311.6\n",
      "[70]\tvalid_0's l2: 22160\n",
      "[80]\tvalid_0's l2: 20550\n",
      "[90]\tvalid_0's l2: 19209.2\n",
      "[100]\tvalid_0's l2: 18225.7\n",
      "Did not meet early stopping. Best iteration is:\n",
      "[100]\tvalid_0's l2: 18225.7\n",
      "LightGBM 總樹數: 100\n",
      "學習曲線已儲存至: C:\\thesis\\code\\result_lgb\\learning_curve\\(121.53_25.115).png\n",
      "最佳決策樹圖（Highest split_gain）已儲存至: C:\\thesis\\code\\result_lgb\\tree\\(121.53_25.115).png\n",
      "SHAP 特徵重要性圖已儲存至: C:\\thesis\\code\\result_lgb\\shap_summary\\(121.53_25.115).png\n",
      "SHAP 特徵影響條形圖已儲存至: C:\\thesis\\code\\result_lgb\\shap_bar\\(121.53_25.115).png\n",
      "訓練與預測 (121.53, 25.12) 的決策樹...\n",
      "[LightGBM] [Info] Auto-choosing row-wise multi-threading, the overhead of testing was 0.000473 seconds.\n",
      "You can set `force_row_wise=true` to remove the overhead.\n",
      "And if memory is not enough, you can set `force_col_wise=true`.\n",
      "[LightGBM] [Info] Total Bins 500\n",
      "[LightGBM] [Info] Number of data points in the train set: 13585, number of used features: 22\n",
      "[LightGBM] [Info] Start training from score 2914.490247\n",
      "Training until validation scores don't improve for 10 rounds\n",
      "[10]\tvalid_0's l2: 150908\n",
      "[20]\tvalid_0's l2: 106979\n",
      "[30]\tvalid_0's l2: 82912.2\n",
      "[40]\tvalid_0's l2: 70855\n",
      "[50]\tvalid_0's l2: 61469.8\n",
      "[60]\tvalid_0's l2: 52024.2\n",
      "[70]\tvalid_0's l2: 45074\n",
      "[80]\tvalid_0's l2: 39681.4\n",
      "[90]\tvalid_0's l2: 35826.4\n",
      "[100]\tvalid_0's l2: 33639.1\n",
      "Did not meet early stopping. Best iteration is:\n",
      "[100]\tvalid_0's l2: 33639.1\n",
      "LightGBM 總樹數: 100\n",
      "學習曲線已儲存至: C:\\thesis\\code\\result_lgb\\learning_curve\\(121.53_25.12).png\n",
      "最佳決策樹圖（Highest split_gain）已儲存至: C:\\thesis\\code\\result_lgb\\tree\\(121.53_25.12).png\n",
      "SHAP 特徵重要性圖已儲存至: C:\\thesis\\code\\result_lgb\\shap_summary\\(121.53_25.12).png\n",
      "SHAP 特徵影響條形圖已儲存至: C:\\thesis\\code\\result_lgb\\shap_bar\\(121.53_25.12).png\n",
      "訓練與預測 (121.535, 25.1) 的決策樹...\n",
      "[LightGBM] [Info] Auto-choosing row-wise multi-threading, the overhead of testing was 0.000370 seconds.\n",
      "You can set `force_row_wise=true` to remove the overhead.\n",
      "And if memory is not enough, you can set `force_col_wise=true`.\n",
      "[LightGBM] [Info] Total Bins 500\n",
      "[LightGBM] [Info] Number of data points in the train set: 13585, number of used features: 22\n",
      "[LightGBM] [Info] Start training from score 896.396761\n",
      "Training until validation scores don't improve for 10 rounds\n",
      "[10]\tvalid_0's l2: 23149.4\n",
      "[20]\tvalid_0's l2: 17078.1\n",
      "[30]\tvalid_0's l2: 13861.8\n",
      "[40]\tvalid_0's l2: 11830.3\n",
      "[50]\tvalid_0's l2: 10388.8\n",
      "[60]\tvalid_0's l2: 9296.86\n",
      "[70]\tvalid_0's l2: 8507.31\n",
      "[80]\tvalid_0's l2: 7855.03\n",
      "[90]\tvalid_0's l2: 7323.77\n",
      "[100]\tvalid_0's l2: 6953.35\n",
      "Did not meet early stopping. Best iteration is:\n",
      "[100]\tvalid_0's l2: 6953.35\n",
      "LightGBM 總樹數: 100\n",
      "學習曲線已儲存至: C:\\thesis\\code\\result_lgb\\learning_curve\\(121.535_25.1).png\n",
      "最佳決策樹圖（Highest split_gain）已儲存至: C:\\thesis\\code\\result_lgb\\tree\\(121.535_25.1).png\n",
      "SHAP 特徵重要性圖已儲存至: C:\\thesis\\code\\result_lgb\\shap_summary\\(121.535_25.1).png\n",
      "SHAP 特徵影響條形圖已儲存至: C:\\thesis\\code\\result_lgb\\shap_bar\\(121.535_25.1).png\n",
      "訓練與預測 (121.535, 25.105) 的決策樹...\n",
      "[LightGBM] [Info] Auto-choosing row-wise multi-threading, the overhead of testing was 0.000535 seconds.\n",
      "You can set `force_row_wise=true` to remove the overhead.\n",
      "And if memory is not enough, you can set `force_col_wise=true`.\n",
      "[LightGBM] [Info] Total Bins 500\n",
      "[LightGBM] [Info] Number of data points in the train set: 13585, number of used features: 22\n",
      "[LightGBM] [Info] Start training from score 1279.304233\n",
      "Training until validation scores don't improve for 10 rounds\n",
      "[10]\tvalid_0's l2: 24836.5\n",
      "[20]\tvalid_0's l2: 17175.2\n",
      "[30]\tvalid_0's l2: 13514.6\n",
      "[40]\tvalid_0's l2: 11411.3\n",
      "[50]\tvalid_0's l2: 10013.5\n",
      "[60]\tvalid_0's l2: 8929.72\n",
      "[70]\tvalid_0's l2: 8055.51\n",
      "[80]\tvalid_0's l2: 7467.21\n",
      "[90]\tvalid_0's l2: 6976.31\n",
      "[100]\tvalid_0's l2: 6675.66\n",
      "Did not meet early stopping. Best iteration is:\n",
      "[100]\tvalid_0's l2: 6675.66\n",
      "LightGBM 總樹數: 100\n",
      "學習曲線已儲存至: C:\\thesis\\code\\result_lgb\\learning_curve\\(121.535_25.105).png\n",
      "最佳決策樹圖（Highest split_gain）已儲存至: C:\\thesis\\code\\result_lgb\\tree\\(121.535_25.105).png\n",
      "SHAP 特徵重要性圖已儲存至: C:\\thesis\\code\\result_lgb\\shap_summary\\(121.535_25.105).png\n",
      "SHAP 特徵影響條形圖已儲存至: C:\\thesis\\code\\result_lgb\\shap_bar\\(121.535_25.105).png\n",
      "訓練與預測 (121.535, 25.11) 的決策樹...\n",
      "[LightGBM] [Info] Auto-choosing row-wise multi-threading, the overhead of testing was 0.000530 seconds.\n",
      "You can set `force_row_wise=true` to remove the overhead.\n",
      "And if memory is not enough, you can set `force_col_wise=true`.\n",
      "[LightGBM] [Info] Total Bins 500\n",
      "[LightGBM] [Info] Number of data points in the train set: 13585, number of used features: 22\n",
      "[LightGBM] [Info] Start training from score 1623.287597\n",
      "Training until validation scores don't improve for 10 rounds\n",
      "[10]\tvalid_0's l2: 75684.4\n",
      "[20]\tvalid_0's l2: 60780.4\n",
      "[30]\tvalid_0's l2: 52539.7\n",
      "[40]\tvalid_0's l2: 47151.9\n",
      "[50]\tvalid_0's l2: 42857.3\n",
      "[60]\tvalid_0's l2: 40372.1\n",
      "[70]\tvalid_0's l2: 37843.9\n",
      "[80]\tvalid_0's l2: 36316.2\n",
      "[90]\tvalid_0's l2: 34850.7\n",
      "[100]\tvalid_0's l2: 33431.5\n",
      "Did not meet early stopping. Best iteration is:\n",
      "[100]\tvalid_0's l2: 33431.5\n",
      "LightGBM 總樹數: 100\n",
      "學習曲線已儲存至: C:\\thesis\\code\\result_lgb\\learning_curve\\(121.535_25.11).png\n",
      "最佳決策樹圖（Highest split_gain）已儲存至: C:\\thesis\\code\\result_lgb\\tree\\(121.535_25.11).png\n",
      "SHAP 特徵重要性圖已儲存至: C:\\thesis\\code\\result_lgb\\shap_summary\\(121.535_25.11).png\n",
      "SHAP 特徵影響條形圖已儲存至: C:\\thesis\\code\\result_lgb\\shap_bar\\(121.535_25.11).png\n",
      "訓練與預測 (121.535, 25.115) 的決策樹...\n",
      "[LightGBM] [Info] Auto-choosing col-wise multi-threading, the overhead of testing was 0.001145 seconds.\n",
      "You can set `force_col_wise=true` to remove the overhead.\n",
      "[LightGBM] [Info] Total Bins 500\n",
      "[LightGBM] [Info] Number of data points in the train set: 13585, number of used features: 22\n",
      "[LightGBM] [Info] Start training from score 3403.903276\n",
      "Training until validation scores don't improve for 10 rounds\n",
      "[10]\tvalid_0's l2: 210691\n",
      "[20]\tvalid_0's l2: 143266\n",
      "[30]\tvalid_0's l2: 111464\n",
      "[40]\tvalid_0's l2: 93183.9\n",
      "[50]\tvalid_0's l2: 81511.7\n",
      "[60]\tvalid_0's l2: 72124.4\n",
      "[70]\tvalid_0's l2: 66512.3\n",
      "[80]\tvalid_0's l2: 61535.6\n",
      "[90]\tvalid_0's l2: 58463.1\n",
      "[100]\tvalid_0's l2: 55215.3\n",
      "Did not meet early stopping. Best iteration is:\n",
      "[100]\tvalid_0's l2: 55215.3\n",
      "LightGBM 總樹數: 100\n",
      "學習曲線已儲存至: C:\\thesis\\code\\result_lgb\\learning_curve\\(121.535_25.115).png\n",
      "最佳決策樹圖（Highest split_gain）已儲存至: C:\\thesis\\code\\result_lgb\\tree\\(121.535_25.115).png\n",
      "SHAP 特徵重要性圖已儲存至: C:\\thesis\\code\\result_lgb\\shap_summary\\(121.535_25.115).png\n",
      "SHAP 特徵影響條形圖已儲存至: C:\\thesis\\code\\result_lgb\\shap_bar\\(121.535_25.115).png\n",
      "訓練與預測 (121.535, 25.12) 的決策樹...\n",
      "[LightGBM] [Info] Auto-choosing row-wise multi-threading, the overhead of testing was 0.000490 seconds.\n",
      "You can set `force_row_wise=true` to remove the overhead.\n",
      "And if memory is not enough, you can set `force_col_wise=true`.\n",
      "[LightGBM] [Info] Total Bins 500\n",
      "[LightGBM] [Info] Number of data points in the train set: 13585, number of used features: 22\n",
      "[LightGBM] [Info] Start training from score 501.878543\n",
      "Training until validation scores don't improve for 10 rounds\n",
      "[10]\tvalid_0's l2: 19364.8\n",
      "[20]\tvalid_0's l2: 10214.4\n",
      "[30]\tvalid_0's l2: 6200.33\n",
      "[40]\tvalid_0's l2: 4312.72\n",
      "[50]\tvalid_0's l2: 3324.69\n",
      "[60]\tvalid_0's l2: 2783.04\n",
      "[70]\tvalid_0's l2: 2429.55\n",
      "[80]\tvalid_0's l2: 2199.67\n",
      "[90]\tvalid_0's l2: 2034.47\n",
      "[100]\tvalid_0's l2: 1920.1\n",
      "Did not meet early stopping. Best iteration is:\n",
      "[100]\tvalid_0's l2: 1920.1\n",
      "LightGBM 總樹數: 100\n",
      "學習曲線已儲存至: C:\\thesis\\code\\result_lgb\\learning_curve\\(121.535_25.12).png\n",
      "最佳決策樹圖（Highest split_gain）已儲存至: C:\\thesis\\code\\result_lgb\\tree\\(121.535_25.12).png\n",
      "SHAP 特徵重要性圖已儲存至: C:\\thesis\\code\\result_lgb\\shap_summary\\(121.535_25.12).png\n",
      "SHAP 特徵影響條形圖已儲存至: C:\\thesis\\code\\result_lgb\\shap_bar\\(121.535_25.12).png\n",
      "訓練與預測 (121.54, 25.105) 的決策樹...\n",
      "[LightGBM] [Info] Auto-choosing row-wise multi-threading, the overhead of testing was 0.000465 seconds.\n",
      "You can set `force_row_wise=true` to remove the overhead.\n",
      "And if memory is not enough, you can set `force_col_wise=true`.\n",
      "[LightGBM] [Info] Total Bins 500\n",
      "[LightGBM] [Info] Number of data points in the train set: 13585, number of used features: 22\n",
      "[LightGBM] [Info] Start training from score 344.323151\n",
      "Training until validation scores don't improve for 10 rounds\n",
      "[10]\tvalid_0's l2: 2470.41\n",
      "[20]\tvalid_0's l2: 1926.87\n",
      "[30]\tvalid_0's l2: 1641.49\n",
      "[40]\tvalid_0's l2: 1476.27\n",
      "[50]\tvalid_0's l2: 1345.74\n",
      "[60]\tvalid_0's l2: 1255.37\n",
      "[70]\tvalid_0's l2: 1191.95\n",
      "[80]\tvalid_0's l2: 1127.72\n",
      "[90]\tvalid_0's l2: 1083.63\n",
      "[100]\tvalid_0's l2: 1043.48\n",
      "Did not meet early stopping. Best iteration is:\n",
      "[100]\tvalid_0's l2: 1043.48\n",
      "LightGBM 總樹數: 100\n",
      "學習曲線已儲存至: C:\\thesis\\code\\result_lgb\\learning_curve\\(121.54_25.105).png\n",
      "最佳決策樹圖（Highest split_gain）已儲存至: C:\\thesis\\code\\result_lgb\\tree\\(121.54_25.105).png\n",
      "SHAP 特徵重要性圖已儲存至: C:\\thesis\\code\\result_lgb\\shap_summary\\(121.54_25.105).png\n",
      "SHAP 特徵影響條形圖已儲存至: C:\\thesis\\code\\result_lgb\\shap_bar\\(121.54_25.105).png\n",
      "訓練與預測 (121.54, 25.115) 的決策樹...\n",
      "[LightGBM] [Info] Auto-choosing row-wise multi-threading, the overhead of testing was 0.000556 seconds.\n",
      "You can set `force_row_wise=true` to remove the overhead.\n",
      "And if memory is not enough, you can set `force_col_wise=true`.\n",
      "[LightGBM] [Info] Total Bins 500\n",
      "[LightGBM] [Info] Number of data points in the train set: 13585, number of used features: 22\n",
      "[LightGBM] [Info] Start training from score 644.921752\n",
      "Training until validation scores don't improve for 10 rounds\n",
      "[10]\tvalid_0's l2: 31049.7\n",
      "[20]\tvalid_0's l2: 16557.1\n",
      "[30]\tvalid_0's l2: 10821.2\n",
      "[40]\tvalid_0's l2: 8313.99\n",
      "[50]\tvalid_0's l2: 6962.79\n",
      "[60]\tvalid_0's l2: 6209.8\n",
      "[70]\tvalid_0's l2: 5592.52\n",
      "[80]\tvalid_0's l2: 5213.08\n",
      "[90]\tvalid_0's l2: 4902.22\n",
      "[100]\tvalid_0's l2: 4671.13\n",
      "Did not meet early stopping. Best iteration is:\n",
      "[100]\tvalid_0's l2: 4671.13\n",
      "LightGBM 總樹數: 100\n",
      "學習曲線已儲存至: C:\\thesis\\code\\result_lgb\\learning_curve\\(121.54_25.115).png\n",
      "最佳決策樹圖（Highest split_gain）已儲存至: C:\\thesis\\code\\result_lgb\\tree\\(121.54_25.115).png\n",
      "SHAP 特徵重要性圖已儲存至: C:\\thesis\\code\\result_lgb\\shap_summary\\(121.54_25.115).png\n",
      "SHAP 特徵影響條形圖已儲存至: C:\\thesis\\code\\result_lgb\\shap_bar\\(121.54_25.115).png\n",
      "訓練與預測 (121.545, 25.1) 的決策樹...\n",
      "[LightGBM] [Info] Auto-choosing row-wise multi-threading, the overhead of testing was 0.000589 seconds.\n",
      "You can set `force_row_wise=true` to remove the overhead.\n",
      "And if memory is not enough, you can set `force_col_wise=true`.\n",
      "[LightGBM] [Info] Total Bins 500\n",
      "[LightGBM] [Info] Number of data points in the train set: 13585, number of used features: 22\n",
      "[LightGBM] [Info] Start training from score 1144.502392\n",
      "Training until validation scores don't improve for 10 rounds\n",
      "[10]\tvalid_0's l2: 197659\n",
      "[20]\tvalid_0's l2: 114123\n",
      "[30]\tvalid_0's l2: 78601.2\n",
      "[40]\tvalid_0's l2: 62492.5\n",
      "[50]\tvalid_0's l2: 52391\n",
      "[60]\tvalid_0's l2: 45731.6\n",
      "[70]\tvalid_0's l2: 40730.4\n",
      "[80]\tvalid_0's l2: 36209.5\n",
      "[90]\tvalid_0's l2: 32718.9\n",
      "[100]\tvalid_0's l2: 30230.7\n",
      "Did not meet early stopping. Best iteration is:\n",
      "[100]\tvalid_0's l2: 30230.7\n",
      "LightGBM 總樹數: 100\n",
      "學習曲線已儲存至: C:\\thesis\\code\\result_lgb\\learning_curve\\(121.545_25.1).png\n",
      "最佳決策樹圖（Highest split_gain）已儲存至: C:\\thesis\\code\\result_lgb\\tree\\(121.545_25.1).png\n",
      "SHAP 特徵重要性圖已儲存至: C:\\thesis\\code\\result_lgb\\shap_summary\\(121.545_25.1).png\n",
      "SHAP 特徵影響條形圖已儲存至: C:\\thesis\\code\\result_lgb\\shap_bar\\(121.545_25.1).png\n",
      "訓練與預測 (121.545, 25.105) 的決策樹...\n",
      "[LightGBM] [Info] Auto-choosing row-wise multi-threading, the overhead of testing was 0.000519 seconds.\n",
      "You can set `force_row_wise=true` to remove the overhead.\n",
      "And if memory is not enough, you can set `force_col_wise=true`.\n",
      "[LightGBM] [Info] Total Bins 500\n",
      "[LightGBM] [Info] Number of data points in the train set: 13585, number of used features: 22\n",
      "[LightGBM] [Info] Start training from score 397.338462\n",
      "Training until validation scores don't improve for 10 rounds\n",
      "[10]\tvalid_0's l2: 10712.9\n",
      "[20]\tvalid_0's l2: 6819.09\n",
      "[30]\tvalid_0's l2: 5020.08\n",
      "[40]\tvalid_0's l2: 4164.78\n",
      "[50]\tvalid_0's l2: 3666.73\n",
      "[60]\tvalid_0's l2: 3266.89\n",
      "[70]\tvalid_0's l2: 2960.64\n",
      "[80]\tvalid_0's l2: 2692.03\n",
      "[90]\tvalid_0's l2: 2508.28\n",
      "[100]\tvalid_0's l2: 2367.84\n",
      "Did not meet early stopping. Best iteration is:\n",
      "[100]\tvalid_0's l2: 2367.84\n",
      "LightGBM 總樹數: 100\n",
      "學習曲線已儲存至: C:\\thesis\\code\\result_lgb\\learning_curve\\(121.545_25.105).png\n",
      "最佳決策樹圖（Highest split_gain）已儲存至: C:\\thesis\\code\\result_lgb\\tree\\(121.545_25.105).png\n",
      "SHAP 特徵重要性圖已儲存至: C:\\thesis\\code\\result_lgb\\shap_summary\\(121.545_25.105).png\n",
      "SHAP 特徵影響條形圖已儲存至: C:\\thesis\\code\\result_lgb\\shap_bar\\(121.545_25.105).png\n",
      "訓練與預測 (121.545, 25.05) 的決策樹...\n",
      "[LightGBM] [Info] Auto-choosing row-wise multi-threading, the overhead of testing was 0.000537 seconds.\n",
      "You can set `force_row_wise=true` to remove the overhead.\n",
      "And if memory is not enough, you can set `force_col_wise=true`.\n",
      "[LightGBM] [Info] Total Bins 500\n",
      "[LightGBM] [Info] Number of data points in the train set: 13585, number of used features: 22\n",
      "[LightGBM] [Info] Start training from score 2428.782481\n",
      "Training until validation scores don't improve for 10 rounds\n",
      "[10]\tvalid_0's l2: 285392\n",
      "[20]\tvalid_0's l2: 152466\n",
      "[30]\tvalid_0's l2: 95310.5\n",
      "[40]\tvalid_0's l2: 71567.3\n",
      "[50]\tvalid_0's l2: 57473.4\n",
      "[60]\tvalid_0's l2: 49142.9\n",
      "[70]\tvalid_0's l2: 43556.5\n",
      "[80]\tvalid_0's l2: 39550.5\n",
      "[90]\tvalid_0's l2: 36316.1\n",
      "[100]\tvalid_0's l2: 33670\n",
      "Did not meet early stopping. Best iteration is:\n",
      "[100]\tvalid_0's l2: 33670\n",
      "LightGBM 總樹數: 100\n",
      "學習曲線已儲存至: C:\\thesis\\code\\result_lgb\\learning_curve\\(121.545_25.05).png\n",
      "最佳決策樹圖（Highest split_gain）已儲存至: C:\\thesis\\code\\result_lgb\\tree\\(121.545_25.05).png\n",
      "SHAP 特徵重要性圖已儲存至: C:\\thesis\\code\\result_lgb\\shap_summary\\(121.545_25.05).png\n",
      "SHAP 特徵影響條形圖已儲存至: C:\\thesis\\code\\result_lgb\\shap_bar\\(121.545_25.05).png\n",
      "訓練與預測 (121.545, 25.055) 的決策樹...\n",
      "[LightGBM] [Info] Auto-choosing row-wise multi-threading, the overhead of testing was 0.000517 seconds.\n",
      "You can set `force_row_wise=true` to remove the overhead.\n",
      "And if memory is not enough, you can set `force_col_wise=true`.\n",
      "[LightGBM] [Info] Total Bins 500\n",
      "[LightGBM] [Info] Number of data points in the train set: 13585, number of used features: 22\n",
      "[LightGBM] [Info] Start training from score 6192.330144\n",
      "Training until validation scores don't improve for 10 rounds\n",
      "[10]\tvalid_0's l2: 4.22105e+06\n",
      "[20]\tvalid_0's l2: 1.97171e+06\n",
      "[30]\tvalid_0's l2: 1.06646e+06\n",
      "[40]\tvalid_0's l2: 736375\n",
      "[50]\tvalid_0's l2: 576133\n",
      "[60]\tvalid_0's l2: 494843\n",
      "[70]\tvalid_0's l2: 439617\n",
      "[80]\tvalid_0's l2: 400341\n",
      "[90]\tvalid_0's l2: 359867\n",
      "[100]\tvalid_0's l2: 330987\n",
      "Did not meet early stopping. Best iteration is:\n",
      "[100]\tvalid_0's l2: 330987\n",
      "LightGBM 總樹數: 100\n",
      "學習曲線已儲存至: C:\\thesis\\code\\result_lgb\\learning_curve\\(121.545_25.055).png\n",
      "最佳決策樹圖（Highest split_gain）已儲存至: C:\\thesis\\code\\result_lgb\\tree\\(121.545_25.055).png\n",
      "SHAP 特徵重要性圖已儲存至: C:\\thesis\\code\\result_lgb\\shap_summary\\(121.545_25.055).png\n",
      "SHAP 特徵影響條形圖已儲存至: C:\\thesis\\code\\result_lgb\\shap_bar\\(121.545_25.055).png\n",
      "訓練與預測 (121.545, 25.06) 的決策樹...\n",
      "[LightGBM] [Info] Auto-choosing row-wise multi-threading, the overhead of testing was 0.000495 seconds.\n",
      "You can set `force_row_wise=true` to remove the overhead.\n",
      "And if memory is not enough, you can set `force_col_wise=true`.\n",
      "[LightGBM] [Info] Total Bins 500\n",
      "[LightGBM] [Info] Number of data points in the train set: 13585, number of used features: 22\n",
      "[LightGBM] [Info] Start training from score 2739.918292\n",
      "Training until validation scores don't improve for 10 rounds\n",
      "[10]\tvalid_0's l2: 174409\n",
      "[20]\tvalid_0's l2: 111146\n",
      "[30]\tvalid_0's l2: 80605.9\n",
      "[40]\tvalid_0's l2: 61464.6\n",
      "[50]\tvalid_0's l2: 50000.4\n",
      "[60]\tvalid_0's l2: 42607.1\n",
      "[70]\tvalid_0's l2: 36871.1\n",
      "[80]\tvalid_0's l2: 33417.3\n",
      "[90]\tvalid_0's l2: 30693.8\n",
      "[100]\tvalid_0's l2: 28892.4\n",
      "Did not meet early stopping. Best iteration is:\n",
      "[100]\tvalid_0's l2: 28892.4\n",
      "LightGBM 總樹數: 100\n",
      "學習曲線已儲存至: C:\\thesis\\code\\result_lgb\\learning_curve\\(121.545_25.06).png\n",
      "最佳決策樹圖（Highest split_gain）已儲存至: C:\\thesis\\code\\result_lgb\\tree\\(121.545_25.06).png\n",
      "SHAP 特徵重要性圖已儲存至: C:\\thesis\\code\\result_lgb\\shap_summary\\(121.545_25.06).png\n",
      "SHAP 特徵影響條形圖已儲存至: C:\\thesis\\code\\result_lgb\\shap_bar\\(121.545_25.06).png\n",
      "訓練與預測 (121.545, 25.065) 的決策樹...\n",
      "[LightGBM] [Info] Auto-choosing row-wise multi-threading, the overhead of testing was 0.000444 seconds.\n",
      "You can set `force_row_wise=true` to remove the overhead.\n",
      "And if memory is not enough, you can set `force_col_wise=true`.\n",
      "[LightGBM] [Info] Total Bins 500\n",
      "[LightGBM] [Info] Number of data points in the train set: 13585, number of used features: 22\n",
      "[LightGBM] [Info] Start training from score 1900.270445\n",
      "Training until validation scores don't improve for 10 rounds\n",
      "[10]\tvalid_0's l2: 200356\n",
      "[20]\tvalid_0's l2: 102569\n",
      "[30]\tvalid_0's l2: 61932.5\n",
      "[40]\tvalid_0's l2: 46185.8\n",
      "[50]\tvalid_0's l2: 38760.7\n",
      "[60]\tvalid_0's l2: 34432.6\n",
      "[70]\tvalid_0's l2: 31382.1\n",
      "[80]\tvalid_0's l2: 29081.8\n",
      "[90]\tvalid_0's l2: 26870.6\n",
      "[100]\tvalid_0's l2: 25449.7\n",
      "Did not meet early stopping. Best iteration is:\n",
      "[100]\tvalid_0's l2: 25449.7\n",
      "LightGBM 總樹數: 100\n",
      "學習曲線已儲存至: C:\\thesis\\code\\result_lgb\\learning_curve\\(121.545_25.065).png\n",
      "最佳決策樹圖（Highest split_gain）已儲存至: C:\\thesis\\code\\result_lgb\\tree\\(121.545_25.065).png\n",
      "SHAP 特徵重要性圖已儲存至: C:\\thesis\\code\\result_lgb\\shap_summary\\(121.545_25.065).png\n",
      "SHAP 特徵影響條形圖已儲存至: C:\\thesis\\code\\result_lgb\\shap_bar\\(121.545_25.065).png\n",
      "訓練與預測 (121.545, 25.07) 的決策樹...\n",
      "[LightGBM] [Info] Auto-choosing row-wise multi-threading, the overhead of testing was 0.000494 seconds.\n",
      "You can set `force_row_wise=true` to remove the overhead.\n",
      "And if memory is not enough, you can set `force_col_wise=true`.\n",
      "[LightGBM] [Info] Total Bins 500\n",
      "[LightGBM] [Info] Number of data points in the train set: 13585, number of used features: 22\n",
      "[LightGBM] [Info] Start training from score 1199.234450\n",
      "Training until validation scores don't improve for 10 rounds\n",
      "[10]\tvalid_0's l2: 175976\n",
      "[20]\tvalid_0's l2: 107991\n",
      "[30]\tvalid_0's l2: 78040.4\n",
      "[40]\tvalid_0's l2: 65948\n",
      "[50]\tvalid_0's l2: 59294.8\n",
      "[60]\tvalid_0's l2: 55086.7\n",
      "[70]\tvalid_0's l2: 51992\n",
      "[80]\tvalid_0's l2: 49657.4\n",
      "[90]\tvalid_0's l2: 47415\n",
      "[100]\tvalid_0's l2: 45408.4\n",
      "Did not meet early stopping. Best iteration is:\n",
      "[100]\tvalid_0's l2: 45408.4\n",
      "LightGBM 總樹數: 100\n",
      "學習曲線已儲存至: C:\\thesis\\code\\result_lgb\\learning_curve\\(121.545_25.07).png\n",
      "最佳決策樹圖（Highest split_gain）已儲存至: C:\\thesis\\code\\result_lgb\\tree\\(121.545_25.07).png\n",
      "SHAP 特徵重要性圖已儲存至: C:\\thesis\\code\\result_lgb\\shap_summary\\(121.545_25.07).png\n",
      "SHAP 特徵影響條形圖已儲存至: C:\\thesis\\code\\result_lgb\\shap_bar\\(121.545_25.07).png\n",
      "訓練與預測 (121.55, 25.05) 的決策樹...\n",
      "[LightGBM] [Info] Auto-choosing col-wise multi-threading, the overhead of testing was 0.001188 seconds.\n",
      "You can set `force_col_wise=true` to remove the overhead.\n",
      "[LightGBM] [Info] Total Bins 500\n",
      "[LightGBM] [Info] Number of data points in the train set: 13585, number of used features: 22\n",
      "[LightGBM] [Info] Start training from score 3798.959220\n",
      "Training until validation scores don't improve for 10 rounds\n",
      "[10]\tvalid_0's l2: 1.55757e+06\n",
      "[20]\tvalid_0's l2: 910945\n",
      "[30]\tvalid_0's l2: 624305\n",
      "[40]\tvalid_0's l2: 506155\n",
      "[50]\tvalid_0's l2: 440601\n",
      "[60]\tvalid_0's l2: 402362\n",
      "[70]\tvalid_0's l2: 377430\n",
      "[80]\tvalid_0's l2: 355024\n",
      "[90]\tvalid_0's l2: 337924\n",
      "[100]\tvalid_0's l2: 323768\n",
      "Did not meet early stopping. Best iteration is:\n",
      "[100]\tvalid_0's l2: 323768\n",
      "LightGBM 總樹數: 100\n",
      "學習曲線已儲存至: C:\\thesis\\code\\result_lgb\\learning_curve\\(121.55_25.05).png\n",
      "最佳決策樹圖（Highest split_gain）已儲存至: C:\\thesis\\code\\result_lgb\\tree\\(121.55_25.05).png\n",
      "SHAP 特徵重要性圖已儲存至: C:\\thesis\\code\\result_lgb\\shap_summary\\(121.55_25.05).png\n",
      "SHAP 特徵影響條形圖已儲存至: C:\\thesis\\code\\result_lgb\\shap_bar\\(121.55_25.05).png\n",
      "訓練與預測 (121.55, 25.055) 的決策樹...\n",
      "[LightGBM] [Info] Auto-choosing row-wise multi-threading, the overhead of testing was 0.000639 seconds.\n",
      "You can set `force_row_wise=true` to remove the overhead.\n",
      "And if memory is not enough, you can set `force_col_wise=true`.\n",
      "[LightGBM] [Info] Total Bins 500\n",
      "[LightGBM] [Info] Number of data points in the train set: 13585, number of used features: 22\n",
      "[LightGBM] [Info] Start training from score 6764.002429\n",
      "Training until validation scores don't improve for 10 rounds\n",
      "[10]\tvalid_0's l2: 3.66967e+06\n",
      "[20]\tvalid_0's l2: 1.77408e+06\n",
      "[30]\tvalid_0's l2: 980249\n",
      "[40]\tvalid_0's l2: 685096\n",
      "[50]\tvalid_0's l2: 541135\n",
      "[60]\tvalid_0's l2: 453536\n",
      "[70]\tvalid_0's l2: 402931\n",
      "[80]\tvalid_0's l2: 362698\n",
      "[90]\tvalid_0's l2: 328573\n",
      "[100]\tvalid_0's l2: 307089\n",
      "Did not meet early stopping. Best iteration is:\n",
      "[100]\tvalid_0's l2: 307089\n",
      "LightGBM 總樹數: 100\n",
      "學習曲線已儲存至: C:\\thesis\\code\\result_lgb\\learning_curve\\(121.55_25.055).png\n",
      "最佳決策樹圖（Highest split_gain）已儲存至: C:\\thesis\\code\\result_lgb\\tree\\(121.55_25.055).png\n",
      "SHAP 特徵重要性圖已儲存至: C:\\thesis\\code\\result_lgb\\shap_summary\\(121.55_25.055).png\n",
      "SHAP 特徵影響條形圖已儲存至: C:\\thesis\\code\\result_lgb\\shap_bar\\(121.55_25.055).png\n",
      "訓練與預測 (121.55, 25.06) 的決策樹...\n",
      "[LightGBM] [Info] Auto-choosing row-wise multi-threading, the overhead of testing was 0.000455 seconds.\n",
      "You can set `force_row_wise=true` to remove the overhead.\n",
      "And if memory is not enough, you can set `force_col_wise=true`.\n",
      "[LightGBM] [Info] Total Bins 500\n",
      "[LightGBM] [Info] Number of data points in the train set: 13585, number of used features: 22\n",
      "[LightGBM] [Info] Start training from score 4174.883695\n",
      "Training until validation scores don't improve for 10 rounds\n",
      "[10]\tvalid_0's l2: 2.91445e+06\n",
      "[20]\tvalid_0's l2: 1.34393e+06\n",
      "[30]\tvalid_0's l2: 720761\n",
      "[40]\tvalid_0's l2: 488398\n",
      "[50]\tvalid_0's l2: 373469\n",
      "[60]\tvalid_0's l2: 312693\n",
      "[70]\tvalid_0's l2: 275918\n",
      "[80]\tvalid_0's l2: 251820\n",
      "[90]\tvalid_0's l2: 233591\n",
      "[100]\tvalid_0's l2: 217992\n",
      "Did not meet early stopping. Best iteration is:\n",
      "[100]\tvalid_0's l2: 217992\n",
      "LightGBM 總樹數: 100\n",
      "學習曲線已儲存至: C:\\thesis\\code\\result_lgb\\learning_curve\\(121.55_25.06).png\n",
      "最佳決策樹圖（Highest split_gain）已儲存至: C:\\thesis\\code\\result_lgb\\tree\\(121.55_25.06).png\n",
      "SHAP 特徵重要性圖已儲存至: C:\\thesis\\code\\result_lgb\\shap_summary\\(121.55_25.06).png\n",
      "SHAP 特徵影響條形圖已儲存至: C:\\thesis\\code\\result_lgb\\shap_bar\\(121.55_25.06).png\n",
      "訓練與預測 (121.55, 25.065) 的決策樹...\n",
      "[LightGBM] [Info] Auto-choosing row-wise multi-threading, the overhead of testing was 0.000521 seconds.\n",
      "You can set `force_row_wise=true` to remove the overhead.\n",
      "And if memory is not enough, you can set `force_col_wise=true`.\n",
      "[LightGBM] [Info] Total Bins 500\n",
      "[LightGBM] [Info] Number of data points in the train set: 13585, number of used features: 22\n",
      "[LightGBM] [Info] Start training from score 2348.911741\n",
      "Training until validation scores don't improve for 10 rounds\n",
      "[10]\tvalid_0's l2: 235636\n",
      "[20]\tvalid_0's l2: 125914\n",
      "[30]\tvalid_0's l2: 79479.9\n",
      "[40]\tvalid_0's l2: 61213.7\n",
      "[50]\tvalid_0's l2: 51445.2\n",
      "[60]\tvalid_0's l2: 45103\n",
      "[70]\tvalid_0's l2: 40372.6\n",
      "[80]\tvalid_0's l2: 37287.5\n",
      "[90]\tvalid_0's l2: 34613.7\n",
      "[100]\tvalid_0's l2: 32539.8\n",
      "Did not meet early stopping. Best iteration is:\n",
      "[100]\tvalid_0's l2: 32539.8\n",
      "LightGBM 總樹數: 100\n",
      "學習曲線已儲存至: C:\\thesis\\code\\result_lgb\\learning_curve\\(121.55_25.065).png\n",
      "最佳決策樹圖（Highest split_gain）已儲存至: C:\\thesis\\code\\result_lgb\\tree\\(121.55_25.065).png\n",
      "SHAP 特徵重要性圖已儲存至: C:\\thesis\\code\\result_lgb\\shap_summary\\(121.55_25.065).png\n",
      "SHAP 特徵影響條形圖已儲存至: C:\\thesis\\code\\result_lgb\\shap_bar\\(121.55_25.065).png\n",
      "訓練與預測 (121.55, 25.07) 的決策樹...\n",
      "[LightGBM] [Info] Auto-choosing row-wise multi-threading, the overhead of testing was 0.000553 seconds.\n",
      "You can set `force_row_wise=true` to remove the overhead.\n",
      "And if memory is not enough, you can set `force_col_wise=true`.\n",
      "[LightGBM] [Info] Total Bins 500\n",
      "[LightGBM] [Info] Number of data points in the train set: 13585, number of used features: 22\n",
      "[LightGBM] [Info] Start training from score 1074.191461\n",
      "Training until validation scores don't improve for 10 rounds\n",
      "[10]\tvalid_0's l2: 54886.5\n",
      "[20]\tvalid_0's l2: 31999.6\n",
      "[30]\tvalid_0's l2: 22399\n",
      "[40]\tvalid_0's l2: 18072.6\n",
      "[50]\tvalid_0's l2: 15676.1\n",
      "[60]\tvalid_0's l2: 14068.2\n",
      "[70]\tvalid_0's l2: 12917.8\n",
      "[80]\tvalid_0's l2: 12078.7\n",
      "[90]\tvalid_0's l2: 11410.5\n",
      "[100]\tvalid_0's l2: 10901.9\n",
      "Did not meet early stopping. Best iteration is:\n",
      "[100]\tvalid_0's l2: 10901.9\n",
      "LightGBM 總樹數: 100\n",
      "學習曲線已儲存至: C:\\thesis\\code\\result_lgb\\learning_curve\\(121.55_25.07).png\n",
      "最佳決策樹圖（Highest split_gain）已儲存至: C:\\thesis\\code\\result_lgb\\tree\\(121.55_25.07).png\n",
      "SHAP 特徵重要性圖已儲存至: C:\\thesis\\code\\result_lgb\\shap_summary\\(121.55_25.07).png\n",
      "SHAP 特徵影響條形圖已儲存至: C:\\thesis\\code\\result_lgb\\shap_bar\\(121.55_25.07).png\n",
      "訓練與預測 (121.555, 25.05) 的決策樹...\n",
      "[LightGBM] [Info] Auto-choosing row-wise multi-threading, the overhead of testing was 0.000537 seconds.\n",
      "You can set `force_row_wise=true` to remove the overhead.\n",
      "And if memory is not enough, you can set `force_col_wise=true`.\n",
      "[LightGBM] [Info] Total Bins 500\n",
      "[LightGBM] [Info] Number of data points in the train set: 13585, number of used features: 22\n",
      "[LightGBM] [Info] Start training from score 6957.747589\n",
      "Training until validation scores don't improve for 10 rounds\n",
      "[10]\tvalid_0's l2: 1.57429e+06\n",
      "[20]\tvalid_0's l2: 849726\n",
      "[30]\tvalid_0's l2: 541144\n",
      "[40]\tvalid_0's l2: 406514\n",
      "[50]\tvalid_0's l2: 330809\n",
      "[60]\tvalid_0's l2: 287416\n",
      "[70]\tvalid_0's l2: 250044\n",
      "[80]\tvalid_0's l2: 227215\n",
      "[90]\tvalid_0's l2: 207322\n",
      "[100]\tvalid_0's l2: 190875\n",
      "Did not meet early stopping. Best iteration is:\n",
      "[100]\tvalid_0's l2: 190875\n",
      "LightGBM 總樹數: 100\n",
      "學習曲線已儲存至: C:\\thesis\\code\\result_lgb\\learning_curve\\(121.555_25.05).png\n",
      "最佳決策樹圖（Highest split_gain）已儲存至: C:\\thesis\\code\\result_lgb\\tree\\(121.555_25.05).png\n",
      "SHAP 特徵重要性圖已儲存至: C:\\thesis\\code\\result_lgb\\shap_summary\\(121.555_25.05).png\n",
      "SHAP 特徵影響條形圖已儲存至: C:\\thesis\\code\\result_lgb\\shap_bar\\(121.555_25.05).png\n",
      "訓練與預測 (121.555, 25.055) 的決策樹...\n",
      "[LightGBM] [Info] Auto-choosing row-wise multi-threading, the overhead of testing was 0.000390 seconds.\n",
      "You can set `force_row_wise=true` to remove the overhead.\n",
      "And if memory is not enough, you can set `force_col_wise=true`.\n",
      "[LightGBM] [Info] Total Bins 500\n",
      "[LightGBM] [Info] Number of data points in the train set: 13585, number of used features: 22\n",
      "[LightGBM] [Info] Start training from score 3360.565403\n",
      "Training until validation scores don't improve for 10 rounds\n",
      "[10]\tvalid_0's l2: 100134\n",
      "[20]\tvalid_0's l2: 70881.2\n",
      "[30]\tvalid_0's l2: 56010.1\n",
      "[40]\tvalid_0's l2: 47876.8\n",
      "[50]\tvalid_0's l2: 41869.9\n",
      "[60]\tvalid_0's l2: 37973.9\n",
      "[70]\tvalid_0's l2: 34975.5\n",
      "[80]\tvalid_0's l2: 32563.1\n",
      "[90]\tvalid_0's l2: 30655.2\n",
      "[100]\tvalid_0's l2: 29254.6\n",
      "Did not meet early stopping. Best iteration is:\n",
      "[100]\tvalid_0's l2: 29254.6\n",
      "LightGBM 總樹數: 100\n",
      "學習曲線已儲存至: C:\\thesis\\code\\result_lgb\\learning_curve\\(121.555_25.055).png\n",
      "最佳決策樹圖（Highest split_gain）已儲存至: C:\\thesis\\code\\result_lgb\\tree\\(121.555_25.055).png\n",
      "SHAP 特徵重要性圖已儲存至: C:\\thesis\\code\\result_lgb\\shap_summary\\(121.555_25.055).png\n",
      "SHAP 特徵影響條形圖已儲存至: C:\\thesis\\code\\result_lgb\\shap_bar\\(121.555_25.055).png\n",
      "訓練與預測 (121.555, 25.06) 的決策樹...\n",
      "[LightGBM] [Info] Auto-choosing row-wise multi-threading, the overhead of testing was 0.000558 seconds.\n",
      "You can set `force_row_wise=true` to remove the overhead.\n",
      "And if memory is not enough, you can set `force_col_wise=true`.\n",
      "[LightGBM] [Info] Total Bins 500\n",
      "[LightGBM] [Info] Number of data points in the train set: 13585, number of used features: 22\n",
      "[LightGBM] [Info] Start training from score 2229.986308\n",
      "Training until validation scores don't improve for 10 rounds\n",
      "[10]\tvalid_0's l2: 177844\n",
      "[20]\tvalid_0's l2: 102673\n",
      "[30]\tvalid_0's l2: 71723\n",
      "[40]\tvalid_0's l2: 56205.3\n",
      "[50]\tvalid_0's l2: 46840\n",
      "[60]\tvalid_0's l2: 41073.9\n",
      "[70]\tvalid_0's l2: 37513.7\n",
      "[80]\tvalid_0's l2: 35337\n",
      "[90]\tvalid_0's l2: 33520.1\n",
      "[100]\tvalid_0's l2: 32039.7\n",
      "Did not meet early stopping. Best iteration is:\n",
      "[100]\tvalid_0's l2: 32039.7\n",
      "LightGBM 總樹數: 100\n",
      "學習曲線已儲存至: C:\\thesis\\code\\result_lgb\\learning_curve\\(121.555_25.06).png\n",
      "最佳決策樹圖（Highest split_gain）已儲存至: C:\\thesis\\code\\result_lgb\\tree\\(121.555_25.06).png\n",
      "SHAP 特徵重要性圖已儲存至: C:\\thesis\\code\\result_lgb\\shap_summary\\(121.555_25.06).png\n",
      "SHAP 特徵影響條形圖已儲存至: C:\\thesis\\code\\result_lgb\\shap_bar\\(121.555_25.06).png\n",
      "訓練與預測 (121.555, 25.065) 的決策樹...\n",
      "[LightGBM] [Info] Auto-choosing row-wise multi-threading, the overhead of testing was 0.000633 seconds.\n",
      "You can set `force_row_wise=true` to remove the overhead.\n",
      "And if memory is not enough, you can set `force_col_wise=true`.\n",
      "[LightGBM] [Info] Total Bins 500\n",
      "[LightGBM] [Info] Number of data points in the train set: 13585, number of used features: 22\n",
      "[LightGBM] [Info] Start training from score 1504.526757\n",
      "Training until validation scores don't improve for 10 rounds\n",
      "[10]\tvalid_0's l2: 24920.2\n",
      "[20]\tvalid_0's l2: 18021.6\n",
      "[30]\tvalid_0's l2: 14527.4\n",
      "[40]\tvalid_0's l2: 12536.3\n",
      "[50]\tvalid_0's l2: 11244.8\n",
      "[60]\tvalid_0's l2: 10201.5\n",
      "[70]\tvalid_0's l2: 9516.74\n",
      "[80]\tvalid_0's l2: 8974.06\n",
      "[90]\tvalid_0's l2: 8501.22\n",
      "[100]\tvalid_0's l2: 8085.49\n",
      "Did not meet early stopping. Best iteration is:\n",
      "[100]\tvalid_0's l2: 8085.49\n",
      "LightGBM 總樹數: 100\n",
      "學習曲線已儲存至: C:\\thesis\\code\\result_lgb\\learning_curve\\(121.555_25.065).png\n",
      "最佳決策樹圖（Highest split_gain）已儲存至: C:\\thesis\\code\\result_lgb\\tree\\(121.555_25.065).png\n",
      "SHAP 特徵重要性圖已儲存至: C:\\thesis\\code\\result_lgb\\shap_summary\\(121.555_25.065).png\n",
      "SHAP 特徵影響條形圖已儲存至: C:\\thesis\\code\\result_lgb\\shap_bar\\(121.555_25.065).png\n",
      "訓練與預測 (121.555, 25.07) 的決策樹...\n",
      "[LightGBM] [Info] Auto-choosing row-wise multi-threading, the overhead of testing was 0.000521 seconds.\n",
      "You can set `force_row_wise=true` to remove the overhead.\n",
      "And if memory is not enough, you can set `force_col_wise=true`.\n",
      "[LightGBM] [Info] Total Bins 500\n",
      "[LightGBM] [Info] Number of data points in the train set: 13585, number of used features: 22\n",
      "[LightGBM] [Info] Start training from score 278.509385\n",
      "Training until validation scores don't improve for 10 rounds\n",
      "[10]\tvalid_0's l2: 7209.95\n",
      "[20]\tvalid_0's l2: 4465.65\n",
      "[30]\tvalid_0's l2: 3343.8\n",
      "[40]\tvalid_0's l2: 2776.01\n",
      "[50]\tvalid_0's l2: 2437.05\n",
      "[60]\tvalid_0's l2: 2228.84\n",
      "[70]\tvalid_0's l2: 2078.22\n",
      "[80]\tvalid_0's l2: 1964.48\n",
      "[90]\tvalid_0's l2: 1876.9\n",
      "[100]\tvalid_0's l2: 1819.43\n",
      "Did not meet early stopping. Best iteration is:\n",
      "[100]\tvalid_0's l2: 1819.43\n",
      "LightGBM 總樹數: 100\n",
      "學習曲線已儲存至: C:\\thesis\\code\\result_lgb\\learning_curve\\(121.555_25.07).png\n",
      "最佳決策樹圖（Highest split_gain）已儲存至: C:\\thesis\\code\\result_lgb\\tree\\(121.555_25.07).png\n",
      "SHAP 特徵重要性圖已儲存至: C:\\thesis\\code\\result_lgb\\shap_summary\\(121.555_25.07).png\n",
      "SHAP 特徵影響條形圖已儲存至: C:\\thesis\\code\\result_lgb\\shap_bar\\(121.555_25.07).png\n",
      "訓練與預測 (121.56, 25.05) 的決策樹...\n",
      "[LightGBM] [Info] Auto-choosing row-wise multi-threading, the overhead of testing was 0.000356 seconds.\n",
      "You can set `force_row_wise=true` to remove the overhead.\n",
      "And if memory is not enough, you can set `force_col_wise=true`.\n",
      "[LightGBM] [Info] Total Bins 500\n",
      "[LightGBM] [Info] Number of data points in the train set: 13585, number of used features: 22\n",
      "[LightGBM] [Info] Start training from score 4540.562459\n",
      "Training until validation scores don't improve for 10 rounds\n",
      "[10]\tvalid_0's l2: 767492\n",
      "[20]\tvalid_0's l2: 395439\n",
      "[30]\tvalid_0's l2: 239539\n",
      "[40]\tvalid_0's l2: 177036\n",
      "[50]\tvalid_0's l2: 144491\n",
      "[60]\tvalid_0's l2: 125686\n",
      "[70]\tvalid_0's l2: 112553\n",
      "[80]\tvalid_0's l2: 100404\n",
      "[90]\tvalid_0's l2: 92457\n",
      "[100]\tvalid_0's l2: 86642\n",
      "Did not meet early stopping. Best iteration is:\n",
      "[100]\tvalid_0's l2: 86642\n",
      "LightGBM 總樹數: 100\n",
      "學習曲線已儲存至: C:\\thesis\\code\\result_lgb\\learning_curve\\(121.56_25.05).png\n",
      "最佳決策樹圖（Highest split_gain）已儲存至: C:\\thesis\\code\\result_lgb\\tree\\(121.56_25.05).png\n",
      "SHAP 特徵重要性圖已儲存至: C:\\thesis\\code\\result_lgb\\shap_summary\\(121.56_25.05).png\n",
      "SHAP 特徵影響條形圖已儲存至: C:\\thesis\\code\\result_lgb\\shap_bar\\(121.56_25.05).png\n",
      "訓練與預測 (121.56, 25.055) 的決策樹...\n",
      "[LightGBM] [Info] Auto-choosing row-wise multi-threading, the overhead of testing was 0.000560 seconds.\n",
      "You can set `force_row_wise=true` to remove the overhead.\n",
      "And if memory is not enough, you can set `force_col_wise=true`.\n",
      "[LightGBM] [Info] Total Bins 500\n",
      "[LightGBM] [Info] Number of data points in the train set: 13585, number of used features: 22\n",
      "[LightGBM] [Info] Start training from score 2967.848951\n",
      "Training until validation scores don't improve for 10 rounds\n",
      "[10]\tvalid_0's l2: 78349.5\n",
      "[20]\tvalid_0's l2: 59277\n",
      "[30]\tvalid_0's l2: 49674.9\n",
      "[40]\tvalid_0's l2: 43090\n",
      "[50]\tvalid_0's l2: 38137\n",
      "[60]\tvalid_0's l2: 34611.6\n",
      "[70]\tvalid_0's l2: 31800.7\n",
      "[80]\tvalid_0's l2: 29325.7\n",
      "[90]\tvalid_0's l2: 27639.5\n",
      "[100]\tvalid_0's l2: 26304.1\n",
      "Did not meet early stopping. Best iteration is:\n",
      "[100]\tvalid_0's l2: 26304.1\n",
      "LightGBM 總樹數: 100\n",
      "學習曲線已儲存至: C:\\thesis\\code\\result_lgb\\learning_curve\\(121.56_25.055).png\n",
      "最佳決策樹圖（Highest split_gain）已儲存至: C:\\thesis\\code\\result_lgb\\tree\\(121.56_25.055).png\n",
      "SHAP 特徵重要性圖已儲存至: C:\\thesis\\code\\result_lgb\\shap_summary\\(121.56_25.055).png\n",
      "SHAP 特徵影響條形圖已儲存至: C:\\thesis\\code\\result_lgb\\shap_bar\\(121.56_25.055).png\n",
      "訓練與預測 (121.56, 25.06) 的決策樹...\n",
      "[LightGBM] [Info] Auto-choosing row-wise multi-threading, the overhead of testing was 0.000585 seconds.\n",
      "You can set `force_row_wise=true` to remove the overhead.\n",
      "And if memory is not enough, you can set `force_col_wise=true`.\n",
      "[LightGBM] [Info] Total Bins 500\n",
      "[LightGBM] [Info] Number of data points in the train set: 13585, number of used features: 22\n",
      "[LightGBM] [Info] Start training from score 2844.727862\n",
      "Training until validation scores don't improve for 10 rounds\n",
      "[10]\tvalid_0's l2: 87418.8\n",
      "[20]\tvalid_0's l2: 56288.5\n",
      "[30]\tvalid_0's l2: 41461.2\n",
      "[40]\tvalid_0's l2: 33487.5\n",
      "[50]\tvalid_0's l2: 28290.6\n",
      "[60]\tvalid_0's l2: 24802.7\n",
      "[70]\tvalid_0's l2: 22306.2\n",
      "[80]\tvalid_0's l2: 20488.5\n",
      "[90]\tvalid_0's l2: 19018.6\n",
      "[100]\tvalid_0's l2: 18014.6\n",
      "Did not meet early stopping. Best iteration is:\n",
      "[100]\tvalid_0's l2: 18014.6\n",
      "LightGBM 總樹數: 100\n",
      "學習曲線已儲存至: C:\\thesis\\code\\result_lgb\\learning_curve\\(121.56_25.06).png\n",
      "最佳決策樹圖（Highest split_gain）已儲存至: C:\\thesis\\code\\result_lgb\\tree\\(121.56_25.06).png\n",
      "SHAP 特徵重要性圖已儲存至: C:\\thesis\\code\\result_lgb\\shap_summary\\(121.56_25.06).png\n",
      "SHAP 特徵影響條形圖已儲存至: C:\\thesis\\code\\result_lgb\\shap_bar\\(121.56_25.06).png\n",
      "訓練與預測 (121.56, 25.065) 的決策樹...\n",
      "[LightGBM] [Info] Auto-choosing row-wise multi-threading, the overhead of testing was 0.000542 seconds.\n",
      "You can set `force_row_wise=true` to remove the overhead.\n",
      "And if memory is not enough, you can set `force_col_wise=true`.\n",
      "[LightGBM] [Info] Total Bins 500\n",
      "[LightGBM] [Info] Number of data points in the train set: 13585, number of used features: 22\n",
      "[LightGBM] [Info] Start training from score 974.492602\n",
      "Training until validation scores don't improve for 10 rounds\n",
      "[10]\tvalid_0's l2: 68003.7\n",
      "[20]\tvalid_0's l2: 36787.1\n",
      "[30]\tvalid_0's l2: 23873\n",
      "[40]\tvalid_0's l2: 18630\n",
      "[50]\tvalid_0's l2: 15633\n",
      "[60]\tvalid_0's l2: 13846.5\n",
      "[70]\tvalid_0's l2: 12355.6\n",
      "[80]\tvalid_0's l2: 10890\n",
      "[90]\tvalid_0's l2: 9971\n",
      "[100]\tvalid_0's l2: 9254.98\n",
      "Did not meet early stopping. Best iteration is:\n",
      "[100]\tvalid_0's l2: 9254.98\n",
      "LightGBM 總樹數: 100\n",
      "學習曲線已儲存至: C:\\thesis\\code\\result_lgb\\learning_curve\\(121.56_25.065).png\n",
      "最佳決策樹圖（Highest split_gain）已儲存至: C:\\thesis\\code\\result_lgb\\tree\\(121.56_25.065).png\n",
      "SHAP 特徵重要性圖已儲存至: C:\\thesis\\code\\result_lgb\\shap_summary\\(121.56_25.065).png\n",
      "SHAP 特徵影響條形圖已儲存至: C:\\thesis\\code\\result_lgb\\shap_bar\\(121.56_25.065).png\n",
      "訓練與預測 (121.56, 25.07) 的決策樹...\n",
      "[LightGBM] [Info] Auto-choosing row-wise multi-threading, the overhead of testing was 0.000496 seconds.\n",
      "You can set `force_row_wise=true` to remove the overhead.\n",
      "And if memory is not enough, you can set `force_col_wise=true`.\n",
      "[LightGBM] [Info] Total Bins 500\n",
      "[LightGBM] [Info] Number of data points in the train set: 13585, number of used features: 22\n",
      "[LightGBM] [Info] Start training from score 399.164667\n",
      "Training until validation scores don't improve for 10 rounds\n",
      "[10]\tvalid_0's l2: 17398.3\n",
      "[20]\tvalid_0's l2: 9585.01\n",
      "[30]\tvalid_0's l2: 6346.17\n",
      "[40]\tvalid_0's l2: 5042.42\n",
      "[50]\tvalid_0's l2: 4397.74\n",
      "[60]\tvalid_0's l2: 3971.68\n",
      "[70]\tvalid_0's l2: 3694.46\n",
      "[80]\tvalid_0's l2: 3495.18\n",
      "[90]\tvalid_0's l2: 3331.68\n",
      "[100]\tvalid_0's l2: 3189.79\n",
      "Did not meet early stopping. Best iteration is:\n",
      "[100]\tvalid_0's l2: 3189.79\n",
      "LightGBM 總樹數: 100\n",
      "學習曲線已儲存至: C:\\thesis\\code\\result_lgb\\learning_curve\\(121.56_25.07).png\n",
      "最佳決策樹圖（Highest split_gain）已儲存至: C:\\thesis\\code\\result_lgb\\tree\\(121.56_25.07).png\n",
      "SHAP 特徵重要性圖已儲存至: C:\\thesis\\code\\result_lgb\\shap_summary\\(121.56_25.07).png\n",
      "SHAP 特徵影響條形圖已儲存至: C:\\thesis\\code\\result_lgb\\shap_bar\\(121.56_25.07).png\n",
      "訓練與預測 (121.565, 25.05) 的決策樹...\n",
      "[LightGBM] [Info] Auto-choosing row-wise multi-threading, the overhead of testing was 0.000508 seconds.\n",
      "You can set `force_row_wise=true` to remove the overhead.\n",
      "And if memory is not enough, you can set `force_col_wise=true`.\n",
      "[LightGBM] [Info] Total Bins 500\n",
      "[LightGBM] [Info] Number of data points in the train set: 13585, number of used features: 22\n",
      "[LightGBM] [Info] Start training from score 6383.792860\n",
      "Training until validation scores don't improve for 10 rounds\n",
      "[10]\tvalid_0's l2: 1.30381e+06\n",
      "[20]\tvalid_0's l2: 687553\n",
      "[30]\tvalid_0's l2: 425516\n",
      "[40]\tvalid_0's l2: 318303\n",
      "[50]\tvalid_0's l2: 260692\n",
      "[60]\tvalid_0's l2: 223137\n",
      "[70]\tvalid_0's l2: 198023\n",
      "[80]\tvalid_0's l2: 181077\n",
      "[90]\tvalid_0's l2: 169206\n",
      "[100]\tvalid_0's l2: 159518\n",
      "Did not meet early stopping. Best iteration is:\n",
      "[100]\tvalid_0's l2: 159518\n",
      "LightGBM 總樹數: 100\n",
      "學習曲線已儲存至: C:\\thesis\\code\\result_lgb\\learning_curve\\(121.565_25.05).png\n",
      "最佳決策樹圖（Highest split_gain）已儲存至: C:\\thesis\\code\\result_lgb\\tree\\(121.565_25.05).png\n",
      "SHAP 特徵重要性圖已儲存至: C:\\thesis\\code\\result_lgb\\shap_summary\\(121.565_25.05).png\n",
      "SHAP 特徵影響條形圖已儲存至: C:\\thesis\\code\\result_lgb\\shap_bar\\(121.565_25.05).png\n",
      "訓練與預測 (121.565, 25.055) 的決策樹...\n",
      "[LightGBM] [Info] Auto-choosing row-wise multi-threading, the overhead of testing was 0.000507 seconds.\n",
      "You can set `force_row_wise=true` to remove the overhead.\n",
      "And if memory is not enough, you can set `force_col_wise=true`.\n",
      "[LightGBM] [Info] Total Bins 500\n",
      "[LightGBM] [Info] Number of data points in the train set: 13585, number of used features: 22\n",
      "[LightGBM] [Info] Start training from score 2864.887817\n",
      "Training until validation scores don't improve for 10 rounds\n",
      "[10]\tvalid_0's l2: 84474.6\n",
      "[20]\tvalid_0's l2: 64064.7\n",
      "[30]\tvalid_0's l2: 53407.8\n",
      "[40]\tvalid_0's l2: 45483.1\n",
      "[50]\tvalid_0's l2: 40000.1\n",
      "[60]\tvalid_0's l2: 36349.5\n",
      "[70]\tvalid_0's l2: 33346.2\n",
      "[80]\tvalid_0's l2: 30789\n",
      "[90]\tvalid_0's l2: 28717.6\n",
      "[100]\tvalid_0's l2: 27070.5\n",
      "Did not meet early stopping. Best iteration is:\n",
      "[100]\tvalid_0's l2: 27070.5\n",
      "LightGBM 總樹數: 100\n",
      "學習曲線已儲存至: C:\\thesis\\code\\result_lgb\\learning_curve\\(121.565_25.055).png\n",
      "最佳決策樹圖（Highest split_gain）已儲存至: C:\\thesis\\code\\result_lgb\\tree\\(121.565_25.055).png\n",
      "SHAP 特徵重要性圖已儲存至: C:\\thesis\\code\\result_lgb\\shap_summary\\(121.565_25.055).png\n",
      "SHAP 特徵影響條形圖已儲存至: C:\\thesis\\code\\result_lgb\\shap_bar\\(121.565_25.055).png\n",
      "訓練與預測 (121.565, 25.06) 的決策樹...\n",
      "[LightGBM] [Info] Auto-choosing row-wise multi-threading, the overhead of testing was 0.000429 seconds.\n",
      "You can set `force_row_wise=true` to remove the overhead.\n",
      "And if memory is not enough, you can set `force_col_wise=true`.\n",
      "[LightGBM] [Info] Total Bins 500\n",
      "[LightGBM] [Info] Number of data points in the train set: 13585, number of used features: 22\n",
      "[LightGBM] [Info] Start training from score 3550.449761\n",
      "Training until validation scores don't improve for 10 rounds\n",
      "[10]\tvalid_0's l2: 151610\n",
      "[20]\tvalid_0's l2: 106454\n",
      "[30]\tvalid_0's l2: 85187\n",
      "[40]\tvalid_0's l2: 72334.9\n",
      "[50]\tvalid_0's l2: 60971.3\n",
      "[60]\tvalid_0's l2: 53756\n",
      "[70]\tvalid_0's l2: 47916.6\n",
      "[80]\tvalid_0's l2: 44281.9\n",
      "[90]\tvalid_0's l2: 40888.9\n",
      "[100]\tvalid_0's l2: 38816.5\n",
      "Did not meet early stopping. Best iteration is:\n",
      "[100]\tvalid_0's l2: 38816.5\n",
      "LightGBM 總樹數: 100\n",
      "學習曲線已儲存至: C:\\thesis\\code\\result_lgb\\learning_curve\\(121.565_25.06).png\n",
      "最佳決策樹圖（Highest split_gain）已儲存至: C:\\thesis\\code\\result_lgb\\tree\\(121.565_25.06).png\n",
      "SHAP 特徵重要性圖已儲存至: C:\\thesis\\code\\result_lgb\\shap_summary\\(121.565_25.06).png\n",
      "SHAP 特徵影響條形圖已儲存至: C:\\thesis\\code\\result_lgb\\shap_bar\\(121.565_25.06).png\n",
      "訓練與預測 (121.565, 25.065) 的決策樹...\n",
      "[LightGBM] [Info] Auto-choosing row-wise multi-threading, the overhead of testing was 0.000430 seconds.\n",
      "You can set `force_row_wise=true` to remove the overhead.\n",
      "And if memory is not enough, you can set `force_col_wise=true`.\n",
      "[LightGBM] [Info] Total Bins 500\n",
      "[LightGBM] [Info] Number of data points in the train set: 13585, number of used features: 22\n",
      "[LightGBM] [Info] Start training from score 948.569525\n",
      "Training until validation scores don't improve for 10 rounds\n",
      "[10]\tvalid_0's l2: 32462.3\n",
      "[20]\tvalid_0's l2: 18443.7\n",
      "[30]\tvalid_0's l2: 12726.8\n",
      "[40]\tvalid_0's l2: 9948.38\n",
      "[50]\tvalid_0's l2: 8520.34\n",
      "[60]\tvalid_0's l2: 7575.12\n",
      "[70]\tvalid_0's l2: 6907.64\n",
      "[80]\tvalid_0's l2: 6412.77\n",
      "[90]\tvalid_0's l2: 6016.71\n",
      "[100]\tvalid_0's l2: 5732.84\n",
      "Did not meet early stopping. Best iteration is:\n",
      "[100]\tvalid_0's l2: 5732.84\n",
      "LightGBM 總樹數: 100\n",
      "學習曲線已儲存至: C:\\thesis\\code\\result_lgb\\learning_curve\\(121.565_25.065).png\n",
      "最佳決策樹圖（Highest split_gain）已儲存至: C:\\thesis\\code\\result_lgb\\tree\\(121.565_25.065).png\n",
      "SHAP 特徵重要性圖已儲存至: C:\\thesis\\code\\result_lgb\\shap_summary\\(121.565_25.065).png\n",
      "SHAP 特徵影響條形圖已儲存至: C:\\thesis\\code\\result_lgb\\shap_bar\\(121.565_25.065).png\n",
      "訓練與預測 (121.545, 24.985) 的決策樹...\n",
      "[LightGBM] [Info] Auto-choosing row-wise multi-threading, the overhead of testing was 0.000560 seconds.\n",
      "You can set `force_row_wise=true` to remove the overhead.\n",
      "And if memory is not enough, you can set `force_col_wise=true`.\n",
      "[LightGBM] [Info] Total Bins 500\n",
      "[LightGBM] [Info] Number of data points in the train set: 13585, number of used features: 22\n",
      "[LightGBM] [Info] Start training from score 494.836879\n",
      "Training until validation scores don't improve for 10 rounds\n",
      "[10]\tvalid_0's l2: 16729.6\n",
      "[20]\tvalid_0's l2: 12486.7\n",
      "[30]\tvalid_0's l2: 10000\n",
      "[40]\tvalid_0's l2: 8604.68\n",
      "[50]\tvalid_0's l2: 7539.88\n",
      "[60]\tvalid_0's l2: 6859.9\n",
      "[70]\tvalid_0's l2: 6343.66\n",
      "[80]\tvalid_0's l2: 5956.53\n",
      "[90]\tvalid_0's l2: 5576.13\n",
      "[100]\tvalid_0's l2: 5308.43\n",
      "Did not meet early stopping. Best iteration is:\n",
      "[100]\tvalid_0's l2: 5308.43\n",
      "LightGBM 總樹數: 100\n",
      "學習曲線已儲存至: C:\\thesis\\code\\result_lgb\\learning_curve\\(121.545_24.985).png\n",
      "最佳決策樹圖（Highest split_gain）已儲存至: C:\\thesis\\code\\result_lgb\\tree\\(121.545_24.985).png\n",
      "SHAP 特徵重要性圖已儲存至: C:\\thesis\\code\\result_lgb\\shap_summary\\(121.545_24.985).png\n",
      "SHAP 特徵影響條形圖已儲存至: C:\\thesis\\code\\result_lgb\\shap_bar\\(121.545_24.985).png\n",
      "訓練與預測 (121.545, 24.99) 的決策樹...\n",
      "[LightGBM] [Info] Auto-choosing row-wise multi-threading, the overhead of testing was 0.000535 seconds.\n",
      "You can set `force_row_wise=true` to remove the overhead.\n",
      "And if memory is not enough, you can set `force_col_wise=true`.\n",
      "[LightGBM] [Info] Total Bins 500\n",
      "[LightGBM] [Info] Number of data points in the train set: 13585, number of used features: 22\n",
      "[LightGBM] [Info] Start training from score 2979.126905\n",
      "Training until validation scores don't improve for 10 rounds\n",
      "[10]\tvalid_0's l2: 144350\n",
      "[20]\tvalid_0's l2: 105640\n",
      "[30]\tvalid_0's l2: 84481.6\n",
      "[40]\tvalid_0's l2: 72788.1\n",
      "[50]\tvalid_0's l2: 63394.5\n",
      "[60]\tvalid_0's l2: 56560.8\n",
      "[70]\tvalid_0's l2: 50748.9\n",
      "[80]\tvalid_0's l2: 46739\n",
      "[90]\tvalid_0's l2: 43815.5\n",
      "[100]\tvalid_0's l2: 41558.4\n",
      "Did not meet early stopping. Best iteration is:\n",
      "[100]\tvalid_0's l2: 41558.4\n",
      "LightGBM 總樹數: 100\n",
      "學習曲線已儲存至: C:\\thesis\\code\\result_lgb\\learning_curve\\(121.545_24.99).png\n",
      "最佳決策樹圖（Highest split_gain）已儲存至: C:\\thesis\\code\\result_lgb\\tree\\(121.545_24.99).png\n",
      "SHAP 特徵重要性圖已儲存至: C:\\thesis\\code\\result_lgb\\shap_summary\\(121.545_24.99).png\n",
      "SHAP 特徵影響條形圖已儲存至: C:\\thesis\\code\\result_lgb\\shap_bar\\(121.545_24.99).png\n",
      "訓練與預測 (121.545, 24.995) 的決策樹...\n",
      "[LightGBM] [Info] Auto-choosing row-wise multi-threading, the overhead of testing was 0.000625 seconds.\n",
      "You can set `force_row_wise=true` to remove the overhead.\n",
      "And if memory is not enough, you can set `force_col_wise=true`.\n",
      "[LightGBM] [Info] Total Bins 500\n",
      "[LightGBM] [Info] Number of data points in the train set: 13585, number of used features: 22\n",
      "[LightGBM] [Info] Start training from score 1794.243725\n",
      "Training until validation scores don't improve for 10 rounds\n",
      "[10]\tvalid_0's l2: 93093.2\n",
      "[20]\tvalid_0's l2: 54510\n",
      "[30]\tvalid_0's l2: 36995.6\n",
      "[40]\tvalid_0's l2: 28767.7\n",
      "[50]\tvalid_0's l2: 24107.9\n",
      "[60]\tvalid_0's l2: 20970.3\n",
      "[70]\tvalid_0's l2: 18624.8\n",
      "[80]\tvalid_0's l2: 16850\n",
      "[90]\tvalid_0's l2: 15667\n",
      "[100]\tvalid_0's l2: 14679.8\n",
      "Did not meet early stopping. Best iteration is:\n",
      "[100]\tvalid_0's l2: 14679.8\n",
      "LightGBM 總樹數: 100\n",
      "學習曲線已儲存至: C:\\thesis\\code\\result_lgb\\learning_curve\\(121.545_24.995).png\n",
      "最佳決策樹圖（Highest split_gain）已儲存至: C:\\thesis\\code\\result_lgb\\tree\\(121.545_24.995).png\n",
      "SHAP 特徵重要性圖已儲存至: C:\\thesis\\code\\result_lgb\\shap_summary\\(121.545_24.995).png\n",
      "SHAP 特徵影響條形圖已儲存至: C:\\thesis\\code\\result_lgb\\shap_bar\\(121.545_24.995).png\n",
      "訓練與預測 (121.545, 25.0) 的決策樹...\n",
      "[LightGBM] [Info] Auto-choosing row-wise multi-threading, the overhead of testing was 0.000451 seconds.\n",
      "You can set `force_row_wise=true` to remove the overhead.\n",
      "And if memory is not enough, you can set `force_col_wise=true`.\n",
      "[LightGBM] [Info] Total Bins 500\n",
      "[LightGBM] [Info] Number of data points in the train set: 13585, number of used features: 22\n",
      "[LightGBM] [Info] Start training from score 2433.623482\n",
      "Training until validation scores don't improve for 10 rounds\n",
      "[10]\tvalid_0's l2: 222148\n",
      "[20]\tvalid_0's l2: 116697\n",
      "[30]\tvalid_0's l2: 73500.9\n",
      "[40]\tvalid_0's l2: 53957.8\n",
      "[50]\tvalid_0's l2: 43684.7\n",
      "[60]\tvalid_0's l2: 37235.7\n",
      "[70]\tvalid_0's l2: 33084.4\n",
      "[80]\tvalid_0's l2: 29864.9\n",
      "[90]\tvalid_0's l2: 27593.1\n",
      "[100]\tvalid_0's l2: 25667.1\n",
      "Did not meet early stopping. Best iteration is:\n",
      "[100]\tvalid_0's l2: 25667.1\n",
      "LightGBM 總樹數: 100\n",
      "學習曲線已儲存至: C:\\thesis\\code\\result_lgb\\learning_curve\\(121.545_25.0).png\n",
      "最佳決策樹圖（Highest split_gain）已儲存至: C:\\thesis\\code\\result_lgb\\tree\\(121.545_25.0).png\n",
      "SHAP 特徵重要性圖已儲存至: C:\\thesis\\code\\result_lgb\\shap_summary\\(121.545_25.0).png\n",
      "SHAP 特徵影響條形圖已儲存至: C:\\thesis\\code\\result_lgb\\shap_bar\\(121.545_25.0).png\n",
      "訓練與預測 (121.545, 25.005) 的決策樹...\n",
      "[LightGBM] [Info] Auto-choosing col-wise multi-threading, the overhead of testing was 0.001275 seconds.\n",
      "You can set `force_col_wise=true` to remove the overhead.\n",
      "[LightGBM] [Info] Total Bins 500\n",
      "[LightGBM] [Info] Number of data points in the train set: 13585, number of used features: 22\n",
      "[LightGBM] [Info] Start training from score 135.877659\n",
      "Training until validation scores don't improve for 10 rounds\n",
      "[10]\tvalid_0's l2: 1813.21\n",
      "[20]\tvalid_0's l2: 1152.04\n",
      "[30]\tvalid_0's l2: 848.563\n",
      "[40]\tvalid_0's l2: 697.518\n",
      "[50]\tvalid_0's l2: 605.874\n",
      "[60]\tvalid_0's l2: 540.189\n",
      "[70]\tvalid_0's l2: 495.144\n",
      "[80]\tvalid_0's l2: 453.218\n",
      "[90]\tvalid_0's l2: 420.951\n",
      "[100]\tvalid_0's l2: 397.12\n",
      "Did not meet early stopping. Best iteration is:\n",
      "[100]\tvalid_0's l2: 397.12\n",
      "LightGBM 總樹數: 100\n",
      "學習曲線已儲存至: C:\\thesis\\code\\result_lgb\\learning_curve\\(121.545_25.005).png\n",
      "最佳決策樹圖（Highest split_gain）已儲存至: C:\\thesis\\code\\result_lgb\\tree\\(121.545_25.005).png\n",
      "SHAP 特徵重要性圖已儲存至: C:\\thesis\\code\\result_lgb\\shap_summary\\(121.545_25.005).png\n",
      "SHAP 特徵影響條形圖已儲存至: C:\\thesis\\code\\result_lgb\\shap_bar\\(121.545_25.005).png\n",
      "訓練與預測 (121.55, 24.985) 的決策樹...\n",
      "[LightGBM] [Info] Auto-choosing row-wise multi-threading, the overhead of testing was 0.000611 seconds.\n",
      "You can set `force_row_wise=true` to remove the overhead.\n",
      "And if memory is not enough, you can set `force_col_wise=true`.\n",
      "[LightGBM] [Info] Total Bins 500\n",
      "[LightGBM] [Info] Number of data points in the train set: 13585, number of used features: 22\n",
      "[LightGBM] [Info] Start training from score 1785.024807\n",
      "Training until validation scores don't improve for 10 rounds\n",
      "[10]\tvalid_0's l2: 74765.7\n",
      "[20]\tvalid_0's l2: 54376.7\n",
      "[30]\tvalid_0's l2: 44396.6\n",
      "[40]\tvalid_0's l2: 39063.2\n",
      "[50]\tvalid_0's l2: 35078.3\n",
      "[60]\tvalid_0's l2: 32042.2\n",
      "[70]\tvalid_0's l2: 29535.1\n",
      "[80]\tvalid_0's l2: 27611.3\n",
      "[90]\tvalid_0's l2: 25507.8\n",
      "[100]\tvalid_0's l2: 24256\n",
      "Did not meet early stopping. Best iteration is:\n",
      "[100]\tvalid_0's l2: 24256\n",
      "LightGBM 總樹數: 100\n",
      "學習曲線已儲存至: C:\\thesis\\code\\result_lgb\\learning_curve\\(121.55_24.985).png\n",
      "最佳決策樹圖（Highest split_gain）已儲存至: C:\\thesis\\code\\result_lgb\\tree\\(121.55_24.985).png\n",
      "SHAP 特徵重要性圖已儲存至: C:\\thesis\\code\\result_lgb\\shap_summary\\(121.55_24.985).png\n",
      "SHAP 特徵影響條形圖已儲存至: C:\\thesis\\code\\result_lgb\\shap_bar\\(121.55_24.985).png\n",
      "訓練與預測 (121.55, 24.99) 的決策樹...\n",
      "[LightGBM] [Info] Auto-choosing row-wise multi-threading, the overhead of testing was 0.000560 seconds.\n",
      "You can set `force_row_wise=true` to remove the overhead.\n",
      "And if memory is not enough, you can set `force_col_wise=true`.\n",
      "[LightGBM] [Info] Total Bins 500\n",
      "[LightGBM] [Info] Number of data points in the train set: 13585, number of used features: 22\n",
      "[LightGBM] [Info] Start training from score 623.924034\n",
      "Training until validation scores don't improve for 10 rounds\n",
      "[10]\tvalid_0's l2: 22128.6\n",
      "[20]\tvalid_0's l2: 14440.3\n",
      "[30]\tvalid_0's l2: 10687.1\n",
      "[40]\tvalid_0's l2: 8734.25\n",
      "[50]\tvalid_0's l2: 7402.1\n",
      "[60]\tvalid_0's l2: 6497.57\n",
      "[70]\tvalid_0's l2: 5839.17\n",
      "[80]\tvalid_0's l2: 5409.96\n",
      "[90]\tvalid_0's l2: 5082.1\n",
      "[100]\tvalid_0's l2: 4799.82\n",
      "Did not meet early stopping. Best iteration is:\n",
      "[100]\tvalid_0's l2: 4799.82\n",
      "LightGBM 總樹數: 100\n",
      "學習曲線已儲存至: C:\\thesis\\code\\result_lgb\\learning_curve\\(121.55_24.99).png\n",
      "最佳決策樹圖（Highest split_gain）已儲存至: C:\\thesis\\code\\result_lgb\\tree\\(121.55_24.99).png\n",
      "SHAP 特徵重要性圖已儲存至: C:\\thesis\\code\\result_lgb\\shap_summary\\(121.55_24.99).png\n",
      "SHAP 特徵影響條形圖已儲存至: C:\\thesis\\code\\result_lgb\\shap_bar\\(121.55_24.99).png\n",
      "訓練與預測 (121.55, 24.995) 的決策樹...\n",
      "[LightGBM] [Info] Auto-choosing row-wise multi-threading, the overhead of testing was 0.000523 seconds.\n",
      "You can set `force_row_wise=true` to remove the overhead.\n",
      "And if memory is not enough, you can set `force_col_wise=true`.\n",
      "[LightGBM] [Info] Total Bins 500\n",
      "[LightGBM] [Info] Number of data points in the train set: 13585, number of used features: 22\n",
      "[LightGBM] [Info] Start training from score 125.293044\n",
      "Training until validation scores don't improve for 10 rounds\n",
      "[10]\tvalid_0's l2: 2385.04\n",
      "[20]\tvalid_0's l2: 1433.12\n",
      "[30]\tvalid_0's l2: 1014.88\n",
      "[40]\tvalid_0's l2: 821.153\n",
      "[50]\tvalid_0's l2: 705.927\n",
      "[60]\tvalid_0's l2: 637.888\n",
      "[70]\tvalid_0's l2: 588.558\n",
      "[80]\tvalid_0's l2: 557.273\n",
      "[90]\tvalid_0's l2: 535.204\n",
      "[100]\tvalid_0's l2: 513.952\n",
      "Did not meet early stopping. Best iteration is:\n",
      "[100]\tvalid_0's l2: 513.952\n",
      "LightGBM 總樹數: 100\n",
      "學習曲線已儲存至: C:\\thesis\\code\\result_lgb\\learning_curve\\(121.55_24.995).png\n",
      "最佳決策樹圖（Highest split_gain）已儲存至: C:\\thesis\\code\\result_lgb\\tree\\(121.55_24.995).png\n",
      "SHAP 特徵重要性圖已儲存至: C:\\thesis\\code\\result_lgb\\shap_summary\\(121.55_24.995).png\n",
      "SHAP 特徵影響條形圖已儲存至: C:\\thesis\\code\\result_lgb\\shap_bar\\(121.55_24.995).png\n",
      "訓練與預測 (121.55, 25.0) 的決策樹...\n",
      "[LightGBM] [Info] Auto-choosing row-wise multi-threading, the overhead of testing was 0.000562 seconds.\n",
      "You can set `force_row_wise=true` to remove the overhead.\n",
      "And if memory is not enough, you can set `force_col_wise=true`.\n",
      "[LightGBM] [Info] Total Bins 500\n",
      "[LightGBM] [Info] Number of data points in the train set: 13585, number of used features: 22\n",
      "[LightGBM] [Info] Start training from score 2361.512845\n",
      "Training until validation scores don't improve for 10 rounds\n",
      "[10]\tvalid_0's l2: 208094\n",
      "[20]\tvalid_0's l2: 107368\n",
      "[30]\tvalid_0's l2: 66001.6\n",
      "[40]\tvalid_0's l2: 48169.1\n",
      "[50]\tvalid_0's l2: 39006.3\n",
      "[60]\tvalid_0's l2: 33818.3\n",
      "[70]\tvalid_0's l2: 30188.3\n",
      "[80]\tvalid_0's l2: 27449.7\n",
      "[90]\tvalid_0's l2: 25422.5\n",
      "[100]\tvalid_0's l2: 23839.6\n",
      "Did not meet early stopping. Best iteration is:\n",
      "[100]\tvalid_0's l2: 23839.6\n",
      "LightGBM 總樹數: 100\n",
      "學習曲線已儲存至: C:\\thesis\\code\\result_lgb\\learning_curve\\(121.55_25.0).png\n",
      "最佳決策樹圖（Highest split_gain）已儲存至: C:\\thesis\\code\\result_lgb\\tree\\(121.55_25.0).png\n",
      "SHAP 特徵重要性圖已儲存至: C:\\thesis\\code\\result_lgb\\shap_summary\\(121.55_25.0).png\n",
      "SHAP 特徵影響條形圖已儲存至: C:\\thesis\\code\\result_lgb\\shap_bar\\(121.55_25.0).png\n",
      "訓練與預測 (121.55, 25.005) 的決策樹...\n",
      "[LightGBM] [Info] Auto-choosing row-wise multi-threading, the overhead of testing was 0.000538 seconds.\n",
      "You can set `force_row_wise=true` to remove the overhead.\n",
      "And if memory is not enough, you can set `force_col_wise=true`.\n",
      "[LightGBM] [Info] Total Bins 500\n",
      "[LightGBM] [Info] Number of data points in the train set: 13585, number of used features: 22\n",
      "[LightGBM] [Info] Start training from score 1805.977475\n",
      "Training until validation scores don't improve for 10 rounds\n",
      "[10]\tvalid_0's l2: 174421\n",
      "[20]\tvalid_0's l2: 83774.1\n",
      "[30]\tvalid_0's l2: 47959.3\n",
      "[40]\tvalid_0's l2: 32698.6\n",
      "[50]\tvalid_0's l2: 25446.7\n",
      "[60]\tvalid_0's l2: 21497\n",
      "[70]\tvalid_0's l2: 18986.5\n",
      "[80]\tvalid_0's l2: 17406.6\n",
      "[90]\tvalid_0's l2: 16158.8\n",
      "[100]\tvalid_0's l2: 15176.8\n",
      "Did not meet early stopping. Best iteration is:\n",
      "[100]\tvalid_0's l2: 15176.8\n",
      "LightGBM 總樹數: 100\n",
      "學習曲線已儲存至: C:\\thesis\\code\\result_lgb\\learning_curve\\(121.55_25.005).png\n",
      "最佳決策樹圖（Highest split_gain）已儲存至: C:\\thesis\\code\\result_lgb\\tree\\(121.55_25.005).png\n",
      "SHAP 特徵重要性圖已儲存至: C:\\thesis\\code\\result_lgb\\shap_summary\\(121.55_25.005).png\n",
      "SHAP 特徵影響條形圖已儲存至: C:\\thesis\\code\\result_lgb\\shap_bar\\(121.55_25.005).png\n",
      "訓練與預測 (121.555, 24.985) 的決策樹...\n",
      "[LightGBM] [Info] Auto-choosing row-wise multi-threading, the overhead of testing was 0.000447 seconds.\n",
      "You can set `force_row_wise=true` to remove the overhead.\n",
      "And if memory is not enough, you can set `force_col_wise=true`.\n",
      "[LightGBM] [Info] Total Bins 500\n",
      "[LightGBM] [Info] Number of data points in the train set: 13585, number of used features: 22\n",
      "[LightGBM] [Info] Start training from score 1627.672506\n",
      "Training until validation scores don't improve for 10 rounds\n",
      "[10]\tvalid_0's l2: 30223.9\n",
      "[20]\tvalid_0's l2: 22150.2\n",
      "[30]\tvalid_0's l2: 17933.8\n",
      "[40]\tvalid_0's l2: 15589.9\n",
      "[50]\tvalid_0's l2: 13805.5\n",
      "[60]\tvalid_0's l2: 12519.5\n",
      "[70]\tvalid_0's l2: 11466.1\n",
      "[80]\tvalid_0's l2: 10671.9\n",
      "[90]\tvalid_0's l2: 10074.5\n",
      "[100]\tvalid_0's l2: 9596.41\n",
      "Did not meet early stopping. Best iteration is:\n",
      "[100]\tvalid_0's l2: 9596.41\n",
      "LightGBM 總樹數: 100\n",
      "學習曲線已儲存至: C:\\thesis\\code\\result_lgb\\learning_curve\\(121.555_24.985).png\n",
      "最佳決策樹圖（Highest split_gain）已儲存至: C:\\thesis\\code\\result_lgb\\tree\\(121.555_24.985).png\n",
      "SHAP 特徵重要性圖已儲存至: C:\\thesis\\code\\result_lgb\\shap_summary\\(121.555_24.985).png\n",
      "SHAP 特徵影響條形圖已儲存至: C:\\thesis\\code\\result_lgb\\shap_bar\\(121.555_24.985).png\n",
      "訓練與預測 (121.555, 24.99) 的決策樹...\n",
      "[LightGBM] [Info] Auto-choosing row-wise multi-threading, the overhead of testing was 0.000482 seconds.\n",
      "You can set `force_row_wise=true` to remove the overhead.\n",
      "And if memory is not enough, you can set `force_col_wise=true`.\n",
      "[LightGBM] [Info] Total Bins 500\n",
      "[LightGBM] [Info] Number of data points in the train set: 13585, number of used features: 22\n",
      "[LightGBM] [Info] Start training from score 616.416047\n",
      "Training until validation scores don't improve for 10 rounds\n",
      "[10]\tvalid_0's l2: 17124.3\n",
      "[20]\tvalid_0's l2: 9269.48\n",
      "[30]\tvalid_0's l2: 5903.14\n",
      "[40]\tvalid_0's l2: 4502.95\n",
      "[50]\tvalid_0's l2: 3686.99\n",
      "[60]\tvalid_0's l2: 3220.52\n",
      "[70]\tvalid_0's l2: 2909.56\n",
      "[80]\tvalid_0's l2: 2688.12\n",
      "[90]\tvalid_0's l2: 2520.19\n",
      "[100]\tvalid_0's l2: 2364.9\n",
      "Did not meet early stopping. Best iteration is:\n",
      "[100]\tvalid_0's l2: 2364.9\n",
      "LightGBM 總樹數: 100\n",
      "學習曲線已儲存至: C:\\thesis\\code\\result_lgb\\learning_curve\\(121.555_24.99).png\n",
      "最佳決策樹圖（Highest split_gain）已儲存至: C:\\thesis\\code\\result_lgb\\tree\\(121.555_24.99).png\n",
      "SHAP 特徵重要性圖已儲存至: C:\\thesis\\code\\result_lgb\\shap_summary\\(121.555_24.99).png\n",
      "SHAP 特徵影響條形圖已儲存至: C:\\thesis\\code\\result_lgb\\shap_bar\\(121.555_24.99).png\n",
      "訓練與預測 (121.555, 24.995) 的決策樹...\n",
      "[LightGBM] [Info] Auto-choosing row-wise multi-threading, the overhead of testing was 0.000607 seconds.\n",
      "You can set `force_row_wise=true` to remove the overhead.\n",
      "And if memory is not enough, you can set `force_col_wise=true`.\n",
      "[LightGBM] [Info] Total Bins 500\n",
      "[LightGBM] [Info] Number of data points in the train set: 13585, number of used features: 22\n",
      "[LightGBM] [Info] Start training from score 1246.781745\n",
      "Training until validation scores don't improve for 10 rounds\n",
      "[10]\tvalid_0's l2: 35177.9\n",
      "[20]\tvalid_0's l2: 25803.6\n",
      "[30]\tvalid_0's l2: 21201.5\n",
      "[40]\tvalid_0's l2: 18321\n",
      "[50]\tvalid_0's l2: 15974\n",
      "[60]\tvalid_0's l2: 14238.3\n",
      "[70]\tvalid_0's l2: 13099.8\n",
      "[80]\tvalid_0's l2: 12145.2\n",
      "[90]\tvalid_0's l2: 11364.5\n",
      "[100]\tvalid_0's l2: 10770.3\n",
      "Did not meet early stopping. Best iteration is:\n",
      "[100]\tvalid_0's l2: 10770.3\n",
      "LightGBM 總樹數: 100\n",
      "學習曲線已儲存至: C:\\thesis\\code\\result_lgb\\learning_curve\\(121.555_24.995).png\n",
      "最佳決策樹圖（Highest split_gain）已儲存至: C:\\thesis\\code\\result_lgb\\tree\\(121.555_24.995).png\n",
      "SHAP 特徵重要性圖已儲存至: C:\\thesis\\code\\result_lgb\\shap_summary\\(121.555_24.995).png\n",
      "SHAP 特徵影響條形圖已儲存至: C:\\thesis\\code\\result_lgb\\shap_bar\\(121.555_24.995).png\n",
      "訓練與預測 (121.555, 25.0) 的決策樹...\n",
      "[LightGBM] [Info] Auto-choosing row-wise multi-threading, the overhead of testing was 0.000546 seconds.\n",
      "You can set `force_row_wise=true` to remove the overhead.\n",
      "And if memory is not enough, you can set `force_col_wise=true`.\n",
      "[LightGBM] [Info] Total Bins 500\n",
      "[LightGBM] [Info] Number of data points in the train set: 13585, number of used features: 22\n",
      "[LightGBM] [Info] Start training from score 1733.406110\n",
      "Training until validation scores don't improve for 10 rounds\n",
      "[10]\tvalid_0's l2: 64586\n",
      "[20]\tvalid_0's l2: 41984.2\n",
      "[30]\tvalid_0's l2: 31536.4\n",
      "[40]\tvalid_0's l2: 26056.8\n",
      "[50]\tvalid_0's l2: 21806.8\n",
      "[60]\tvalid_0's l2: 19038.6\n",
      "[70]\tvalid_0's l2: 17132.4\n",
      "[80]\tvalid_0's l2: 15422.9\n",
      "[90]\tvalid_0's l2: 14382\n",
      "[100]\tvalid_0's l2: 13534.8\n",
      "Did not meet early stopping. Best iteration is:\n",
      "[100]\tvalid_0's l2: 13534.8\n",
      "LightGBM 總樹數: 100\n",
      "學習曲線已儲存至: C:\\thesis\\code\\result_lgb\\learning_curve\\(121.555_25.0).png\n",
      "最佳決策樹圖（Highest split_gain）已儲存至: C:\\thesis\\code\\result_lgb\\tree\\(121.555_25.0).png\n",
      "SHAP 特徵重要性圖已儲存至: C:\\thesis\\code\\result_lgb\\shap_summary\\(121.555_25.0).png\n",
      "SHAP 特徵影響條形圖已儲存至: C:\\thesis\\code\\result_lgb\\shap_bar\\(121.555_25.0).png\n",
      "訓練與預測 (121.555, 25.005) 的決策樹...\n",
      "[LightGBM] [Info] Auto-choosing row-wise multi-threading, the overhead of testing was 0.000488 seconds.\n",
      "You can set `force_row_wise=true` to remove the overhead.\n",
      "And if memory is not enough, you can set `force_col_wise=true`.\n",
      "[LightGBM] [Info] Total Bins 500\n",
      "[LightGBM] [Info] Number of data points in the train set: 13585, number of used features: 22\n",
      "[LightGBM] [Info] Start training from score 212.504012\n",
      "Training until validation scores don't improve for 10 rounds\n",
      "[10]\tvalid_0's l2: 1374.66\n",
      "[20]\tvalid_0's l2: 885.592\n",
      "[30]\tvalid_0's l2: 664.344\n",
      "[40]\tvalid_0's l2: 547.357\n",
      "[50]\tvalid_0's l2: 479.206\n",
      "[60]\tvalid_0's l2: 429.227\n",
      "[70]\tvalid_0's l2: 388.197\n",
      "[80]\tvalid_0's l2: 359.44\n",
      "[90]\tvalid_0's l2: 337.962\n",
      "[100]\tvalid_0's l2: 321.855\n",
      "Did not meet early stopping. Best iteration is:\n",
      "[100]\tvalid_0's l2: 321.855\n",
      "LightGBM 總樹數: 100\n",
      "學習曲線已儲存至: C:\\thesis\\code\\result_lgb\\learning_curve\\(121.555_25.005).png\n",
      "最佳決策樹圖（Highest split_gain）已儲存至: C:\\thesis\\code\\result_lgb\\tree\\(121.555_25.005).png\n",
      "SHAP 特徵重要性圖已儲存至: C:\\thesis\\code\\result_lgb\\shap_summary\\(121.555_25.005).png\n",
      "SHAP 特徵影響條形圖已儲存至: C:\\thesis\\code\\result_lgb\\shap_bar\\(121.555_25.005).png\n",
      "訓練與預測 (121.56, 24.985) 的決策樹...\n",
      "[LightGBM] [Info] Auto-choosing row-wise multi-threading, the overhead of testing was 0.000538 seconds.\n",
      "You can set `force_row_wise=true` to remove the overhead.\n",
      "And if memory is not enough, you can set `force_col_wise=true`.\n",
      "[LightGBM] [Info] Total Bins 500\n",
      "[LightGBM] [Info] Number of data points in the train set: 13585, number of used features: 22\n",
      "[LightGBM] [Info] Start training from score 870.313949\n",
      "Training until validation scores don't improve for 10 rounds\n",
      "[10]\tvalid_0's l2: 41322.7\n",
      "[20]\tvalid_0's l2: 20474.3\n",
      "[30]\tvalid_0's l2: 12373.1\n",
      "[40]\tvalid_0's l2: 8718.37\n",
      "[50]\tvalid_0's l2: 6997.83\n",
      "[60]\tvalid_0's l2: 6008.26\n",
      "[70]\tvalid_0's l2: 5343.42\n",
      "[80]\tvalid_0's l2: 4918.95\n",
      "[90]\tvalid_0's l2: 4613\n",
      "[100]\tvalid_0's l2: 4368.68\n",
      "Did not meet early stopping. Best iteration is:\n",
      "[100]\tvalid_0's l2: 4368.68\n",
      "LightGBM 總樹數: 100\n",
      "學習曲線已儲存至: C:\\thesis\\code\\result_lgb\\learning_curve\\(121.56_24.985).png\n",
      "最佳決策樹圖（Highest split_gain）已儲存至: C:\\thesis\\code\\result_lgb\\tree\\(121.56_24.985).png\n",
      "SHAP 特徵重要性圖已儲存至: C:\\thesis\\code\\result_lgb\\shap_summary\\(121.56_24.985).png\n",
      "SHAP 特徵影響條形圖已儲存至: C:\\thesis\\code\\result_lgb\\shap_bar\\(121.56_24.985).png\n",
      "訓練與預測 (121.56, 24.99) 的決策樹...\n",
      "[LightGBM] [Info] Auto-choosing row-wise multi-threading, the overhead of testing was 0.000584 seconds.\n",
      "You can set `force_row_wise=true` to remove the overhead.\n",
      "And if memory is not enough, you can set `force_col_wise=true`.\n",
      "[LightGBM] [Info] Total Bins 500\n",
      "[LightGBM] [Info] Number of data points in the train set: 13585, number of used features: 22\n",
      "[LightGBM] [Info] Start training from score 1979.342878\n",
      "Training until validation scores don't improve for 10 rounds\n",
      "[10]\tvalid_0's l2: 78308.6\n",
      "[20]\tvalid_0's l2: 51097.5\n",
      "[30]\tvalid_0's l2: 38413.3\n",
      "[40]\tvalid_0's l2: 31424.2\n",
      "[50]\tvalid_0's l2: 27403.8\n",
      "[60]\tvalid_0's l2: 24764.6\n",
      "[70]\tvalid_0's l2: 22604.1\n",
      "[80]\tvalid_0's l2: 20706.7\n",
      "[90]\tvalid_0's l2: 19209.9\n",
      "[100]\tvalid_0's l2: 18196.2\n",
      "Did not meet early stopping. Best iteration is:\n",
      "[100]\tvalid_0's l2: 18196.2\n",
      "LightGBM 總樹數: 100\n",
      "學習曲線已儲存至: C:\\thesis\\code\\result_lgb\\learning_curve\\(121.56_24.99).png\n",
      "最佳決策樹圖（Highest split_gain）已儲存至: C:\\thesis\\code\\result_lgb\\tree\\(121.56_24.99).png\n",
      "SHAP 特徵重要性圖已儲存至: C:\\thesis\\code\\result_lgb\\shap_summary\\(121.56_24.99).png\n",
      "SHAP 特徵影響條形圖已儲存至: C:\\thesis\\code\\result_lgb\\shap_bar\\(121.56_24.99).png\n",
      "訓練與預測 (121.56, 24.995) 的決策樹...\n",
      "[LightGBM] [Info] Auto-choosing row-wise multi-threading, the overhead of testing was 0.000535 seconds.\n",
      "You can set `force_row_wise=true` to remove the overhead.\n",
      "And if memory is not enough, you can set `force_col_wise=true`.\n",
      "[LightGBM] [Info] Total Bins 500\n",
      "[LightGBM] [Info] Number of data points in the train set: 13585, number of used features: 22\n",
      "[LightGBM] [Info] Start training from score 1331.789915\n",
      "Training until validation scores don't improve for 10 rounds\n",
      "[10]\tvalid_0's l2: 40597.2\n",
      "[20]\tvalid_0's l2: 27357.1\n",
      "[30]\tvalid_0's l2: 20228.2\n",
      "[40]\tvalid_0's l2: 16288.2\n",
      "[50]\tvalid_0's l2: 13949.8\n",
      "[60]\tvalid_0's l2: 12403\n",
      "[70]\tvalid_0's l2: 11272.9\n",
      "[80]\tvalid_0's l2: 10412.6\n",
      "[90]\tvalid_0's l2: 9726.52\n",
      "[100]\tvalid_0's l2: 9145.54\n",
      "Did not meet early stopping. Best iteration is:\n",
      "[100]\tvalid_0's l2: 9145.54\n",
      "LightGBM 總樹數: 100\n",
      "學習曲線已儲存至: C:\\thesis\\code\\result_lgb\\learning_curve\\(121.56_24.995).png\n",
      "最佳決策樹圖（Highest split_gain）已儲存至: C:\\thesis\\code\\result_lgb\\tree\\(121.56_24.995).png\n",
      "SHAP 特徵重要性圖已儲存至: C:\\thesis\\code\\result_lgb\\shap_summary\\(121.56_24.995).png\n",
      "SHAP 特徵影響條形圖已儲存至: C:\\thesis\\code\\result_lgb\\shap_bar\\(121.56_24.995).png\n",
      "訓練與預測 (121.56, 25.0) 的決策樹...\n",
      "[LightGBM] [Info] Auto-choosing row-wise multi-threading, the overhead of testing was 0.000565 seconds.\n",
      "You can set `force_row_wise=true` to remove the overhead.\n",
      "And if memory is not enough, you can set `force_col_wise=true`.\n",
      "[LightGBM] [Info] Total Bins 500\n",
      "[LightGBM] [Info] Number of data points in the train set: 13585, number of used features: 22\n",
      "[LightGBM] [Info] Start training from score 3151.087302\n",
      "Training until validation scores don't improve for 10 rounds\n",
      "[10]\tvalid_0's l2: 431672\n",
      "[20]\tvalid_0's l2: 277449\n",
      "[30]\tvalid_0's l2: 203998\n",
      "[40]\tvalid_0's l2: 165274\n",
      "[50]\tvalid_0's l2: 138001\n",
      "[60]\tvalid_0's l2: 120987\n",
      "[70]\tvalid_0's l2: 107636\n",
      "[80]\tvalid_0's l2: 95192.5\n",
      "[90]\tvalid_0's l2: 86650.2\n",
      "[100]\tvalid_0's l2: 78146\n",
      "Did not meet early stopping. Best iteration is:\n",
      "[100]\tvalid_0's l2: 78146\n",
      "LightGBM 總樹數: 100\n",
      "學習曲線已儲存至: C:\\thesis\\code\\result_lgb\\learning_curve\\(121.56_25.0).png\n",
      "最佳決策樹圖（Highest split_gain）已儲存至: C:\\thesis\\code\\result_lgb\\tree\\(121.56_25.0).png\n",
      "SHAP 特徵重要性圖已儲存至: C:\\thesis\\code\\result_lgb\\shap_summary\\(121.56_25.0).png\n",
      "SHAP 特徵影響條形圖已儲存至: C:\\thesis\\code\\result_lgb\\shap_bar\\(121.56_25.0).png\n",
      "訓練與預測 (121.56, 25.005) 的決策樹...\n",
      "[LightGBM] [Info] Auto-choosing row-wise multi-threading, the overhead of testing was 0.000621 seconds.\n",
      "You can set `force_row_wise=true` to remove the overhead.\n",
      "And if memory is not enough, you can set `force_col_wise=true`.\n",
      "[LightGBM] [Info] Total Bins 500\n",
      "[LightGBM] [Info] Number of data points in the train set: 13585, number of used features: 22\n",
      "[LightGBM] [Info] Start training from score 1346.667648\n",
      "Training until validation scores don't improve for 10 rounds\n",
      "[10]\tvalid_0's l2: 32711.1\n",
      "[20]\tvalid_0's l2: 21795.9\n",
      "[30]\tvalid_0's l2: 16792.8\n",
      "[40]\tvalid_0's l2: 14461.9\n",
      "[50]\tvalid_0's l2: 12950.2\n",
      "[60]\tvalid_0's l2: 11760.1\n",
      "[70]\tvalid_0's l2: 10955.5\n",
      "[80]\tvalid_0's l2: 10274.8\n",
      "[90]\tvalid_0's l2: 9793.47\n",
      "[100]\tvalid_0's l2: 9469.16\n",
      "Did not meet early stopping. Best iteration is:\n",
      "[100]\tvalid_0's l2: 9469.16\n",
      "LightGBM 總樹數: 100\n",
      "學習曲線已儲存至: C:\\thesis\\code\\result_lgb\\learning_curve\\(121.56_25.005).png\n",
      "最佳決策樹圖（Highest split_gain）已儲存至: C:\\thesis\\code\\result_lgb\\tree\\(121.56_25.005).png\n",
      "SHAP 特徵重要性圖已儲存至: C:\\thesis\\code\\result_lgb\\shap_summary\\(121.56_25.005).png\n",
      "SHAP 特徵影響條形圖已儲存至: C:\\thesis\\code\\result_lgb\\shap_bar\\(121.56_25.005).png\n",
      "訓練與預測 (121.565, 24.985) 的決策樹...\n",
      "[LightGBM] [Info] Auto-choosing row-wise multi-threading, the overhead of testing was 0.000338 seconds.\n",
      "You can set `force_row_wise=true` to remove the overhead.\n",
      "And if memory is not enough, you can set `force_col_wise=true`.\n",
      "[LightGBM] [Info] Total Bins 500\n",
      "[LightGBM] [Info] Number of data points in the train set: 13585, number of used features: 22\n",
      "[LightGBM] [Info] Start training from score 2055.974604\n",
      "Training until validation scores don't improve for 10 rounds\n",
      "[10]\tvalid_0's l2: 151255\n",
      "[20]\tvalid_0's l2: 83500.4\n",
      "[30]\tvalid_0's l2: 54438\n",
      "[40]\tvalid_0's l2: 40968.8\n",
      "[50]\tvalid_0's l2: 33860.6\n",
      "[60]\tvalid_0's l2: 29464\n",
      "[70]\tvalid_0's l2: 26129.9\n",
      "[80]\tvalid_0's l2: 23766.3\n",
      "[90]\tvalid_0's l2: 21841\n",
      "[100]\tvalid_0's l2: 20365.2\n",
      "Did not meet early stopping. Best iteration is:\n",
      "[100]\tvalid_0's l2: 20365.2\n",
      "LightGBM 總樹數: 100\n",
      "學習曲線已儲存至: C:\\thesis\\code\\result_lgb\\learning_curve\\(121.565_24.985).png\n",
      "最佳決策樹圖（Highest split_gain）已儲存至: C:\\thesis\\code\\result_lgb\\tree\\(121.565_24.985).png\n",
      "SHAP 特徵重要性圖已儲存至: C:\\thesis\\code\\result_lgb\\shap_summary\\(121.565_24.985).png\n",
      "SHAP 特徵影響條形圖已儲存至: C:\\thesis\\code\\result_lgb\\shap_bar\\(121.565_24.985).png\n",
      "訓練與預測 (121.565, 24.99) 的決策樹...\n",
      "[LightGBM] [Info] Auto-choosing row-wise multi-threading, the overhead of testing was 0.000496 seconds.\n",
      "You can set `force_row_wise=true` to remove the overhead.\n",
      "And if memory is not enough, you can set `force_col_wise=true`.\n",
      "[LightGBM] [Info] Total Bins 500\n",
      "[LightGBM] [Info] Number of data points in the train set: 13585, number of used features: 22\n",
      "[LightGBM] [Info] Start training from score 2198.808024\n",
      "Training until validation scores don't improve for 10 rounds\n",
      "[10]\tvalid_0's l2: 125061\n",
      "[20]\tvalid_0's l2: 72029.4\n",
      "[30]\tvalid_0's l2: 49229.4\n",
      "[40]\tvalid_0's l2: 39914.9\n",
      "[50]\tvalid_0's l2: 34426\n",
      "[60]\tvalid_0's l2: 31074.5\n",
      "[70]\tvalid_0's l2: 28491\n",
      "[80]\tvalid_0's l2: 26354.5\n",
      "[90]\tvalid_0's l2: 24791.2\n",
      "[100]\tvalid_0's l2: 23662.2\n",
      "Did not meet early stopping. Best iteration is:\n",
      "[100]\tvalid_0's l2: 23662.2\n",
      "LightGBM 總樹數: 100\n",
      "學習曲線已儲存至: C:\\thesis\\code\\result_lgb\\learning_curve\\(121.565_24.99).png\n",
      "最佳決策樹圖（Highest split_gain）已儲存至: C:\\thesis\\code\\result_lgb\\tree\\(121.565_24.99).png\n",
      "SHAP 特徵重要性圖已儲存至: C:\\thesis\\code\\result_lgb\\shap_summary\\(121.565_24.99).png\n",
      "SHAP 特徵影響條形圖已儲存至: C:\\thesis\\code\\result_lgb\\shap_bar\\(121.565_24.99).png\n",
      "訓練與預測 (121.565, 24.995) 的決策樹...\n",
      "[LightGBM] [Info] Auto-choosing row-wise multi-threading, the overhead of testing was 0.000630 seconds.\n",
      "You can set `force_row_wise=true` to remove the overhead.\n",
      "And if memory is not enough, you can set `force_col_wise=true`.\n",
      "[LightGBM] [Info] Total Bins 500\n",
      "[LightGBM] [Info] Number of data points in the train set: 13585, number of used features: 22\n",
      "[LightGBM] [Info] Start training from score 759.794406\n",
      "Training until validation scores don't improve for 10 rounds\n",
      "[10]\tvalid_0's l2: 32496.4\n",
      "[20]\tvalid_0's l2: 19974\n",
      "[30]\tvalid_0's l2: 14349.1\n",
      "[40]\tvalid_0's l2: 11346.8\n",
      "[50]\tvalid_0's l2: 9523.79\n",
      "[60]\tvalid_0's l2: 8358.18\n",
      "[70]\tvalid_0's l2: 7446.01\n",
      "[80]\tvalid_0's l2: 6723.01\n",
      "[90]\tvalid_0's l2: 6132.86\n",
      "[100]\tvalid_0's l2: 5660.18\n",
      "Did not meet early stopping. Best iteration is:\n",
      "[100]\tvalid_0's l2: 5660.18\n",
      "LightGBM 總樹數: 100\n",
      "學習曲線已儲存至: C:\\thesis\\code\\result_lgb\\learning_curve\\(121.565_24.995).png\n",
      "最佳決策樹圖（Highest split_gain）已儲存至: C:\\thesis\\code\\result_lgb\\tree\\(121.565_24.995).png\n",
      "SHAP 特徵重要性圖已儲存至: C:\\thesis\\code\\result_lgb\\shap_summary\\(121.565_24.995).png\n",
      "SHAP 特徵影響條形圖已儲存至: C:\\thesis\\code\\result_lgb\\shap_bar\\(121.565_24.995).png\n",
      "訓練與預測 (121.565, 25.005) 的決策樹...\n",
      "[LightGBM] [Info] Auto-choosing row-wise multi-threading, the overhead of testing was 0.000674 seconds.\n",
      "You can set `force_row_wise=true` to remove the overhead.\n",
      "And if memory is not enough, you can set `force_col_wise=true`.\n",
      "[LightGBM] [Info] Total Bins 500\n",
      "[LightGBM] [Info] Number of data points in the train set: 13585, number of used features: 22\n",
      "[LightGBM] [Info] Start training from score 431.682738\n",
      "Training until validation scores don't improve for 10 rounds\n",
      "[10]\tvalid_0's l2: 12667.9\n",
      "[20]\tvalid_0's l2: 8532.71\n",
      "[30]\tvalid_0's l2: 6578.27\n",
      "[40]\tvalid_0's l2: 5589.68\n",
      "[50]\tvalid_0's l2: 4909.7\n",
      "[60]\tvalid_0's l2: 4449.18\n",
      "[70]\tvalid_0's l2: 4129.56\n",
      "[80]\tvalid_0's l2: 3883.83\n",
      "[90]\tvalid_0's l2: 3691.6\n",
      "[100]\tvalid_0's l2: 3558.52\n",
      "Did not meet early stopping. Best iteration is:\n",
      "[100]\tvalid_0's l2: 3558.52\n",
      "LightGBM 總樹數: 100\n",
      "學習曲線已儲存至: C:\\thesis\\code\\result_lgb\\learning_curve\\(121.565_25.005).png\n",
      "最佳決策樹圖（Highest split_gain）已儲存至: C:\\thesis\\code\\result_lgb\\tree\\(121.565_25.005).png\n",
      "SHAP 特徵重要性圖已儲存至: C:\\thesis\\code\\result_lgb\\shap_summary\\(121.565_25.005).png\n",
      "SHAP 特徵影響條形圖已儲存至: C:\\thesis\\code\\result_lgb\\shap_bar\\(121.565_25.005).png\n",
      "訓練與預測 (121.56, 25.02) 的決策樹...\n",
      "[LightGBM] [Info] Auto-choosing row-wise multi-threading, the overhead of testing was 0.000583 seconds.\n",
      "You can set `force_row_wise=true` to remove the overhead.\n",
      "And if memory is not enough, you can set `force_col_wise=true`.\n",
      "[LightGBM] [Info] Total Bins 500\n",
      "[LightGBM] [Info] Number of data points in the train set: 13585, number of used features: 22\n",
      "[LightGBM] [Info] Start training from score 843.101288\n",
      "Training until validation scores don't improve for 10 rounds\n",
      "[10]\tvalid_0's l2: 45050.8\n",
      "[20]\tvalid_0's l2: 29297.4\n",
      "[30]\tvalid_0's l2: 21588\n",
      "[40]\tvalid_0's l2: 17519.1\n",
      "[50]\tvalid_0's l2: 14985.9\n",
      "[60]\tvalid_0's l2: 12930.5\n",
      "[70]\tvalid_0's l2: 11354.5\n",
      "[80]\tvalid_0's l2: 10321\n",
      "[90]\tvalid_0's l2: 9431.75\n",
      "[100]\tvalid_0's l2: 8869.23\n",
      "Did not meet early stopping. Best iteration is:\n",
      "[100]\tvalid_0's l2: 8869.23\n",
      "LightGBM 總樹數: 100\n",
      "學習曲線已儲存至: C:\\thesis\\code\\result_lgb\\learning_curve\\(121.56_25.02).png\n",
      "最佳決策樹圖（Highest split_gain）已儲存至: C:\\thesis\\code\\result_lgb\\tree\\(121.56_25.02).png\n",
      "SHAP 特徵重要性圖已儲存至: C:\\thesis\\code\\result_lgb\\shap_summary\\(121.56_25.02).png\n",
      "SHAP 特徵影響條形圖已儲存至: C:\\thesis\\code\\result_lgb\\shap_bar\\(121.56_25.02).png\n",
      "訓練與預測 (121.56, 25.025) 的決策樹...\n",
      "[LightGBM] [Info] Auto-choosing row-wise multi-threading, the overhead of testing was 0.000401 seconds.\n",
      "You can set `force_row_wise=true` to remove the overhead.\n",
      "And if memory is not enough, you can set `force_col_wise=true`.\n",
      "[LightGBM] [Info] Total Bins 500\n",
      "[LightGBM] [Info] Number of data points in the train set: 13585, number of used features: 22\n",
      "[LightGBM] [Info] Start training from score 236.526905\n",
      "Training until validation scores don't improve for 10 rounds\n",
      "[10]\tvalid_0's l2: 2871.69\n",
      "[20]\tvalid_0's l2: 1960.3\n",
      "[30]\tvalid_0's l2: 1508.06\n",
      "[40]\tvalid_0's l2: 1271.74\n",
      "[50]\tvalid_0's l2: 1120.45\n",
      "[60]\tvalid_0's l2: 1030.28\n",
      "[70]\tvalid_0's l2: 930.794\n",
      "[80]\tvalid_0's l2: 863.713\n",
      "[90]\tvalid_0's l2: 813.441\n",
      "[100]\tvalid_0's l2: 777.008\n",
      "Did not meet early stopping. Best iteration is:\n",
      "[100]\tvalid_0's l2: 777.008\n",
      "LightGBM 總樹數: 100\n",
      "學習曲線已儲存至: C:\\thesis\\code\\result_lgb\\learning_curve\\(121.56_25.025).png\n",
      "最佳決策樹圖（Highest split_gain）已儲存至: C:\\thesis\\code\\result_lgb\\tree\\(121.56_25.025).png\n",
      "SHAP 特徵重要性圖已儲存至: C:\\thesis\\code\\result_lgb\\shap_summary\\(121.56_25.025).png\n",
      "SHAP 特徵影響條形圖已儲存至: C:\\thesis\\code\\result_lgb\\shap_bar\\(121.56_25.025).png\n",
      "訓練與預測 (121.56, 25.03) 的決策樹...\n",
      "[LightGBM] [Info] Auto-choosing row-wise multi-threading, the overhead of testing was 0.000511 seconds.\n",
      "You can set `force_row_wise=true` to remove the overhead.\n",
      "And if memory is not enough, you can set `force_col_wise=true`.\n",
      "[LightGBM] [Info] Total Bins 500\n",
      "[LightGBM] [Info] Number of data points in the train set: 13585, number of used features: 22\n",
      "[LightGBM] [Info] Start training from score 8554.635701\n",
      "Training until validation scores don't improve for 10 rounds\n",
      "[10]\tvalid_0's l2: 3.16577e+06\n",
      "[20]\tvalid_0's l2: 1.69914e+06\n",
      "[30]\tvalid_0's l2: 1.08105e+06\n",
      "[40]\tvalid_0's l2: 835160\n",
      "[50]\tvalid_0's l2: 699228\n",
      "[60]\tvalid_0's l2: 610906\n",
      "[70]\tvalid_0's l2: 554518\n",
      "[80]\tvalid_0's l2: 505223\n",
      "[90]\tvalid_0's l2: 467584\n",
      "[100]\tvalid_0's l2: 441479\n",
      "Did not meet early stopping. Best iteration is:\n",
      "[100]\tvalid_0's l2: 441479\n",
      "LightGBM 總樹數: 100\n",
      "學習曲線已儲存至: C:\\thesis\\code\\result_lgb\\learning_curve\\(121.56_25.03).png\n",
      "最佳決策樹圖（Highest split_gain）已儲存至: C:\\thesis\\code\\result_lgb\\tree\\(121.56_25.03).png\n",
      "SHAP 特徵重要性圖已儲存至: C:\\thesis\\code\\result_lgb\\shap_summary\\(121.56_25.03).png\n",
      "SHAP 特徵影響條形圖已儲存至: C:\\thesis\\code\\result_lgb\\shap_bar\\(121.56_25.03).png\n",
      "訓練與預測 (121.56, 25.035) 的決策樹...\n",
      "[LightGBM] [Info] Auto-choosing row-wise multi-threading, the overhead of testing was 0.000601 seconds.\n",
      "You can set `force_row_wise=true` to remove the overhead.\n",
      "And if memory is not enough, you can set `force_col_wise=true`.\n",
      "[LightGBM] [Info] Total Bins 500\n",
      "[LightGBM] [Info] Number of data points in the train set: 13585, number of used features: 22\n",
      "[LightGBM] [Info] Start training from score 2574.625911\n",
      "Training until validation scores don't improve for 10 rounds\n",
      "[10]\tvalid_0's l2: 113710\n",
      "[20]\tvalid_0's l2: 60251.3\n",
      "[30]\tvalid_0's l2: 39362\n",
      "[40]\tvalid_0's l2: 29637.2\n",
      "[50]\tvalid_0's l2: 24591.8\n",
      "[60]\tvalid_0's l2: 21724.1\n",
      "[70]\tvalid_0's l2: 19699.4\n",
      "[80]\tvalid_0's l2: 18090.4\n",
      "[90]\tvalid_0's l2: 16818\n",
      "[100]\tvalid_0's l2: 16005.4\n",
      "Did not meet early stopping. Best iteration is:\n",
      "[100]\tvalid_0's l2: 16005.4\n",
      "LightGBM 總樹數: 100\n",
      "學習曲線已儲存至: C:\\thesis\\code\\result_lgb\\learning_curve\\(121.56_25.035).png\n",
      "最佳決策樹圖（Highest split_gain）已儲存至: C:\\thesis\\code\\result_lgb\\tree\\(121.56_25.035).png\n",
      "SHAP 特徵重要性圖已儲存至: C:\\thesis\\code\\result_lgb\\shap_summary\\(121.56_25.035).png\n",
      "SHAP 特徵影響條形圖已儲存至: C:\\thesis\\code\\result_lgb\\shap_bar\\(121.56_25.035).png\n",
      "訓練與預測 (121.56, 25.04) 的決策樹...\n",
      "[LightGBM] [Info] Auto-choosing row-wise multi-threading, the overhead of testing was 0.000759 seconds.\n",
      "You can set `force_row_wise=true` to remove the overhead.\n",
      "And if memory is not enough, you can set `force_col_wise=true`.\n",
      "[LightGBM] [Info] Total Bins 500\n",
      "[LightGBM] [Info] Number of data points in the train set: 13585, number of used features: 22\n",
      "[LightGBM] [Info] Start training from score 2697.194479\n",
      "Training until validation scores don't improve for 10 rounds\n",
      "[10]\tvalid_0's l2: 716424\n",
      "[20]\tvalid_0's l2: 377620\n",
      "[30]\tvalid_0's l2: 233379\n",
      "[40]\tvalid_0's l2: 176883\n",
      "[50]\tvalid_0's l2: 147665\n",
      "[60]\tvalid_0's l2: 130146\n",
      "[70]\tvalid_0's l2: 116688\n",
      "[80]\tvalid_0's l2: 104724\n",
      "[90]\tvalid_0's l2: 96497.9\n",
      "[100]\tvalid_0's l2: 90950.2\n",
      "Did not meet early stopping. Best iteration is:\n",
      "[100]\tvalid_0's l2: 90950.2\n",
      "LightGBM 總樹數: 100\n",
      "學習曲線已儲存至: C:\\thesis\\code\\result_lgb\\learning_curve\\(121.56_25.04).png\n",
      "最佳決策樹圖（Highest split_gain）已儲存至: C:\\thesis\\code\\result_lgb\\tree\\(121.56_25.04).png\n",
      "SHAP 特徵重要性圖已儲存至: C:\\thesis\\code\\result_lgb\\shap_summary\\(121.56_25.04).png\n",
      "SHAP 特徵影響條形圖已儲存至: C:\\thesis\\code\\result_lgb\\shap_bar\\(121.56_25.04).png\n",
      "訓練與預測 (121.565, 25.02) 的決策樹...\n",
      "[LightGBM] [Info] Auto-choosing row-wise multi-threading, the overhead of testing was 0.000369 seconds.\n",
      "You can set `force_row_wise=true` to remove the overhead.\n",
      "And if memory is not enough, you can set `force_col_wise=true`.\n",
      "[LightGBM] [Info] Total Bins 500\n",
      "[LightGBM] [Info] Number of data points in the train set: 13585, number of used features: 22\n",
      "[LightGBM] [Info] Start training from score 780.067354\n",
      "Training until validation scores don't improve for 10 rounds\n",
      "[10]\tvalid_0's l2: 41225.5\n",
      "[20]\tvalid_0's l2: 21226.3\n",
      "[30]\tvalid_0's l2: 12837.6\n",
      "[40]\tvalid_0's l2: 9358.26\n",
      "[50]\tvalid_0's l2: 7485.86\n",
      "[60]\tvalid_0's l2: 6463.22\n",
      "[70]\tvalid_0's l2: 5757.61\n",
      "[80]\tvalid_0's l2: 5194.36\n",
      "[90]\tvalid_0's l2: 4833.23\n",
      "[100]\tvalid_0's l2: 4563.54\n",
      "Did not meet early stopping. Best iteration is:\n",
      "[100]\tvalid_0's l2: 4563.54\n",
      "LightGBM 總樹數: 100\n",
      "學習曲線已儲存至: C:\\thesis\\code\\result_lgb\\learning_curve\\(121.565_25.02).png\n",
      "最佳決策樹圖（Highest split_gain）已儲存至: C:\\thesis\\code\\result_lgb\\tree\\(121.565_25.02).png\n",
      "SHAP 特徵重要性圖已儲存至: C:\\thesis\\code\\result_lgb\\shap_summary\\(121.565_25.02).png\n",
      "SHAP 特徵影響條形圖已儲存至: C:\\thesis\\code\\result_lgb\\shap_bar\\(121.565_25.02).png\n",
      "訓練與預測 (121.565, 25.025) 的決策樹...\n",
      "[LightGBM] [Info] Auto-choosing row-wise multi-threading, the overhead of testing was 0.000536 seconds.\n",
      "You can set `force_row_wise=true` to remove the overhead.\n",
      "And if memory is not enough, you can set `force_col_wise=true`.\n",
      "[LightGBM] [Info] Total Bins 500\n",
      "[LightGBM] [Info] Number of data points in the train set: 13585, number of used features: 22\n",
      "[LightGBM] [Info] Start training from score 7430.626794\n",
      "Training until validation scores don't improve for 10 rounds\n",
      "[10]\tvalid_0's l2: 375487\n",
      "[20]\tvalid_0's l2: 284462\n",
      "[30]\tvalid_0's l2: 232490\n",
      "[40]\tvalid_0's l2: 196637\n",
      "[50]\tvalid_0's l2: 169198\n",
      "[60]\tvalid_0's l2: 151394\n",
      "[70]\tvalid_0's l2: 139689\n",
      "[80]\tvalid_0's l2: 129178\n",
      "[90]\tvalid_0's l2: 121159\n",
      "[100]\tvalid_0's l2: 114587\n",
      "Did not meet early stopping. Best iteration is:\n",
      "[100]\tvalid_0's l2: 114587\n",
      "LightGBM 總樹數: 100\n",
      "學習曲線已儲存至: C:\\thesis\\code\\result_lgb\\learning_curve\\(121.565_25.025).png\n",
      "最佳決策樹圖（Highest split_gain）已儲存至: C:\\thesis\\code\\result_lgb\\tree\\(121.565_25.025).png\n",
      "SHAP 特徵重要性圖已儲存至: C:\\thesis\\code\\result_lgb\\shap_summary\\(121.565_25.025).png\n",
      "SHAP 特徵影響條形圖已儲存至: C:\\thesis\\code\\result_lgb\\shap_bar\\(121.565_25.025).png\n",
      "訓練與預測 (121.565, 25.03) 的決策樹...\n",
      "[LightGBM] [Info] Auto-choosing row-wise multi-threading, the overhead of testing was 0.000550 seconds.\n",
      "You can set `force_row_wise=true` to remove the overhead.\n",
      "And if memory is not enough, you can set `force_col_wise=true`.\n",
      "[LightGBM] [Info] Total Bins 500\n",
      "[LightGBM] [Info] Number of data points in the train set: 13585, number of used features: 22\n",
      "[LightGBM] [Info] Start training from score 1586.346853\n",
      "Training until validation scores don't improve for 10 rounds\n",
      "[10]\tvalid_0's l2: 1.007e+06\n",
      "[20]\tvalid_0's l2: 677184\n",
      "[30]\tvalid_0's l2: 508910\n",
      "[40]\tvalid_0's l2: 427431\n",
      "[50]\tvalid_0's l2: 373033\n",
      "[60]\tvalid_0's l2: 338181\n",
      "[70]\tvalid_0's l2: 313170\n",
      "[80]\tvalid_0's l2: 286590\n",
      "[90]\tvalid_0's l2: 270320\n",
      "[100]\tvalid_0's l2: 257521\n",
      "Did not meet early stopping. Best iteration is:\n",
      "[100]\tvalid_0's l2: 257521\n",
      "LightGBM 總樹數: 100\n",
      "學習曲線已儲存至: C:\\thesis\\code\\result_lgb\\learning_curve\\(121.565_25.03).png\n",
      "最佳決策樹圖（Highest split_gain）已儲存至: C:\\thesis\\code\\result_lgb\\tree\\(121.565_25.03).png\n",
      "SHAP 特徵重要性圖已儲存至: C:\\thesis\\code\\result_lgb\\shap_summary\\(121.565_25.03).png\n",
      "SHAP 特徵影響條形圖已儲存至: C:\\thesis\\code\\result_lgb\\shap_bar\\(121.565_25.03).png\n",
      "訓練與預測 (121.565, 25.035) 的決策樹...\n",
      "[LightGBM] [Info] Auto-choosing row-wise multi-threading, the overhead of testing was 0.000554 seconds.\n",
      "You can set `force_row_wise=true` to remove the overhead.\n",
      "And if memory is not enough, you can set `force_col_wise=true`.\n",
      "[LightGBM] [Info] Total Bins 500\n",
      "[LightGBM] [Info] Number of data points in the train set: 13585, number of used features: 22\n",
      "[LightGBM] [Info] Start training from score 6137.953110\n",
      "Training until validation scores don't improve for 10 rounds\n",
      "[10]\tvalid_0's l2: 8.71893e+06\n",
      "[20]\tvalid_0's l2: 4.11369e+06\n",
      "[30]\tvalid_0's l2: 2.22986e+06\n",
      "[40]\tvalid_0's l2: 1.56412e+06\n",
      "[50]\tvalid_0's l2: 1.23584e+06\n",
      "[60]\tvalid_0's l2: 1.06019e+06\n",
      "[70]\tvalid_0's l2: 954971\n",
      "[80]\tvalid_0's l2: 886061\n",
      "[90]\tvalid_0's l2: 826235\n",
      "[100]\tvalid_0's l2: 779408\n",
      "Did not meet early stopping. Best iteration is:\n",
      "[100]\tvalid_0's l2: 779408\n",
      "LightGBM 總樹數: 100\n",
      "學習曲線已儲存至: C:\\thesis\\code\\result_lgb\\learning_curve\\(121.565_25.035).png\n",
      "最佳決策樹圖（Highest split_gain）已儲存至: C:\\thesis\\code\\result_lgb\\tree\\(121.565_25.035).png\n",
      "SHAP 特徵重要性圖已儲存至: C:\\thesis\\code\\result_lgb\\shap_summary\\(121.565_25.035).png\n",
      "SHAP 特徵影響條形圖已儲存至: C:\\thesis\\code\\result_lgb\\shap_bar\\(121.565_25.035).png\n",
      "訓練與預測 (121.565, 25.04) 的決策樹...\n",
      "[LightGBM] [Info] Auto-choosing row-wise multi-threading, the overhead of testing was 0.000508 seconds.\n",
      "You can set `force_row_wise=true` to remove the overhead.\n",
      "And if memory is not enough, you can set `force_col_wise=true`.\n",
      "[LightGBM] [Info] Total Bins 500\n",
      "[LightGBM] [Info] Number of data points in the train set: 13585, number of used features: 22\n",
      "[LightGBM] [Info] Start training from score 6828.466176\n",
      "Training until validation scores don't improve for 10 rounds\n",
      "[10]\tvalid_0's l2: 7.67119e+06\n",
      "[20]\tvalid_0's l2: 3.50976e+06\n",
      "[30]\tvalid_0's l2: 1.79239e+06\n",
      "[40]\tvalid_0's l2: 1.18371e+06\n",
      "[50]\tvalid_0's l2: 887466\n",
      "[60]\tvalid_0's l2: 730785\n",
      "[70]\tvalid_0's l2: 633011\n",
      "[80]\tvalid_0's l2: 568375\n",
      "[90]\tvalid_0's l2: 513434\n",
      "[100]\tvalid_0's l2: 479310\n",
      "Did not meet early stopping. Best iteration is:\n",
      "[100]\tvalid_0's l2: 479310\n",
      "LightGBM 總樹數: 100\n",
      "學習曲線已儲存至: C:\\thesis\\code\\result_lgb\\learning_curve\\(121.565_25.04).png\n",
      "最佳決策樹圖（Highest split_gain）已儲存至: C:\\thesis\\code\\result_lgb\\tree\\(121.565_25.04).png\n",
      "SHAP 特徵重要性圖已儲存至: C:\\thesis\\code\\result_lgb\\shap_summary\\(121.565_25.04).png\n",
      "SHAP 特徵影響條形圖已儲存至: C:\\thesis\\code\\result_lgb\\shap_bar\\(121.565_25.04).png\n",
      "訓練與預測 (121.57, 25.02) 的決策樹...\n",
      "[LightGBM] [Info] Auto-choosing row-wise multi-threading, the overhead of testing was 0.000562 seconds.\n",
      "You can set `force_row_wise=true` to remove the overhead.\n",
      "And if memory is not enough, you can set `force_col_wise=true`.\n",
      "[LightGBM] [Info] Total Bins 500\n",
      "[LightGBM] [Info] Number of data points in the train set: 13585, number of used features: 22\n",
      "[LightGBM] [Info] Start training from score 1851.744130\n",
      "Training until validation scores don't improve for 10 rounds\n",
      "[10]\tvalid_0's l2: 117691\n",
      "[20]\tvalid_0's l2: 61126.6\n",
      "[30]\tvalid_0's l2: 37852.5\n",
      "[40]\tvalid_0's l2: 27457\n",
      "[50]\tvalid_0's l2: 21957.4\n",
      "[60]\tvalid_0's l2: 18775.5\n",
      "[70]\tvalid_0's l2: 16549.3\n",
      "[80]\tvalid_0's l2: 14913.4\n",
      "[90]\tvalid_0's l2: 13722\n",
      "[100]\tvalid_0's l2: 12649.5\n",
      "Did not meet early stopping. Best iteration is:\n",
      "[100]\tvalid_0's l2: 12649.5\n",
      "LightGBM 總樹數: 100\n",
      "學習曲線已儲存至: C:\\thesis\\code\\result_lgb\\learning_curve\\(121.57_25.02).png\n",
      "最佳決策樹圖（Highest split_gain）已儲存至: C:\\thesis\\code\\result_lgb\\tree\\(121.57_25.02).png\n",
      "SHAP 特徵重要性圖已儲存至: C:\\thesis\\code\\result_lgb\\shap_summary\\(121.57_25.02).png\n",
      "SHAP 特徵影響條形圖已儲存至: C:\\thesis\\code\\result_lgb\\shap_bar\\(121.57_25.02).png\n",
      "訓練與預測 (121.57, 25.025) 的決策樹...\n",
      "[LightGBM] [Info] Auto-choosing row-wise multi-threading, the overhead of testing was 0.000502 seconds.\n",
      "You can set `force_row_wise=true` to remove the overhead.\n",
      "And if memory is not enough, you can set `force_col_wise=true`.\n",
      "[LightGBM] [Info] Total Bins 500\n",
      "[LightGBM] [Info] Number of data points in the train set: 13585, number of used features: 22\n",
      "[LightGBM] [Info] Start training from score 2491.717335\n",
      "Training until validation scores don't improve for 10 rounds\n",
      "[10]\tvalid_0's l2: 77575.3\n",
      "[20]\tvalid_0's l2: 54137.3\n",
      "[30]\tvalid_0's l2: 42705.9\n",
      "[40]\tvalid_0's l2: 35353.2\n",
      "[50]\tvalid_0's l2: 30607.8\n",
      "[60]\tvalid_0's l2: 27059\n",
      "[70]\tvalid_0's l2: 24455.7\n",
      "[80]\tvalid_0's l2: 22327.9\n",
      "[90]\tvalid_0's l2: 20736.1\n",
      "[100]\tvalid_0's l2: 19384.2\n",
      "Did not meet early stopping. Best iteration is:\n",
      "[100]\tvalid_0's l2: 19384.2\n",
      "LightGBM 總樹數: 100\n",
      "學習曲線已儲存至: C:\\thesis\\code\\result_lgb\\learning_curve\\(121.57_25.025).png\n",
      "最佳決策樹圖（Highest split_gain）已儲存至: C:\\thesis\\code\\result_lgb\\tree\\(121.57_25.025).png\n",
      "SHAP 特徵重要性圖已儲存至: C:\\thesis\\code\\result_lgb\\shap_summary\\(121.57_25.025).png\n",
      "SHAP 特徵影響條形圖已儲存至: C:\\thesis\\code\\result_lgb\\shap_bar\\(121.57_25.025).png\n",
      "訓練與預測 (121.57, 25.03) 的決策樹...\n",
      "[LightGBM] [Info] Auto-choosing row-wise multi-threading, the overhead of testing was 0.000528 seconds.\n",
      "You can set `force_row_wise=true` to remove the overhead.\n",
      "And if memory is not enough, you can set `force_col_wise=true`.\n",
      "[LightGBM] [Info] Total Bins 500\n",
      "[LightGBM] [Info] Number of data points in the train set: 13585, number of used features: 22\n",
      "[LightGBM] [Info] Start training from score 1041.801914\n",
      "Training until validation scores don't improve for 10 rounds\n",
      "[10]\tvalid_0's l2: 80943.6\n",
      "[20]\tvalid_0's l2: 54082.5\n",
      "[30]\tvalid_0's l2: 41755.1\n",
      "[40]\tvalid_0's l2: 36301.5\n",
      "[50]\tvalid_0's l2: 32490.6\n",
      "[60]\tvalid_0's l2: 29836.5\n",
      "[70]\tvalid_0's l2: 27625.3\n",
      "[80]\tvalid_0's l2: 25724\n",
      "[90]\tvalid_0's l2: 24428.7\n",
      "[100]\tvalid_0's l2: 23172.9\n",
      "Did not meet early stopping. Best iteration is:\n",
      "[100]\tvalid_0's l2: 23172.9\n",
      "LightGBM 總樹數: 100\n",
      "學習曲線已儲存至: C:\\thesis\\code\\result_lgb\\learning_curve\\(121.57_25.03).png\n",
      "最佳決策樹圖（Highest split_gain）已儲存至: C:\\thesis\\code\\result_lgb\\tree\\(121.57_25.03).png\n",
      "SHAP 特徵重要性圖已儲存至: C:\\thesis\\code\\result_lgb\\shap_summary\\(121.57_25.03).png\n",
      "SHAP 特徵影響條形圖已儲存至: C:\\thesis\\code\\result_lgb\\shap_bar\\(121.57_25.03).png\n",
      "訓練與預測 (121.57, 25.035) 的決策樹...\n",
      "[LightGBM] [Info] Auto-choosing row-wise multi-threading, the overhead of testing was 0.000388 seconds.\n",
      "You can set `force_row_wise=true` to remove the overhead.\n",
      "And if memory is not enough, you can set `force_col_wise=true`.\n",
      "[LightGBM] [Info] Total Bins 500\n",
      "[LightGBM] [Info] Number of data points in the train set: 13585, number of used features: 22\n",
      "[LightGBM] [Info] Start training from score 4239.726537\n",
      "Training until validation scores don't improve for 10 rounds\n",
      "[10]\tvalid_0's l2: 2.69887e+06\n",
      "[20]\tvalid_0's l2: 1.27454e+06\n",
      "[30]\tvalid_0's l2: 681221\n",
      "[40]\tvalid_0's l2: 473213\n",
      "[50]\tvalid_0's l2: 371708\n",
      "[60]\tvalid_0's l2: 319044\n",
      "[70]\tvalid_0's l2: 284245\n",
      "[80]\tvalid_0's l2: 261239\n",
      "[90]\tvalid_0's l2: 245133\n",
      "[100]\tvalid_0's l2: 232454\n",
      "Did not meet early stopping. Best iteration is:\n",
      "[100]\tvalid_0's l2: 232454\n",
      "LightGBM 總樹數: 100\n",
      "學習曲線已儲存至: C:\\thesis\\code\\result_lgb\\learning_curve\\(121.57_25.035).png\n",
      "最佳決策樹圖（Highest split_gain）已儲存至: C:\\thesis\\code\\result_lgb\\tree\\(121.57_25.035).png\n",
      "SHAP 特徵重要性圖已儲存至: C:\\thesis\\code\\result_lgb\\shap_summary\\(121.57_25.035).png\n",
      "SHAP 特徵影響條形圖已儲存至: C:\\thesis\\code\\result_lgb\\shap_bar\\(121.57_25.035).png\n",
      "訓練與預測 (121.57, 25.04) 的決策樹...\n",
      "[LightGBM] [Info] Auto-choosing row-wise multi-threading, the overhead of testing was 0.000360 seconds.\n",
      "You can set `force_row_wise=true` to remove the overhead.\n",
      "And if memory is not enough, you can set `force_col_wise=true`.\n",
      "[LightGBM] [Info] Total Bins 500\n",
      "[LightGBM] [Info] Number of data points in the train set: 13585, number of used features: 22\n",
      "[LightGBM] [Info] Start training from score 4238.522930\n",
      "Training until validation scores don't improve for 10 rounds\n",
      "[10]\tvalid_0's l2: 1.19208e+06\n",
      "[20]\tvalid_0's l2: 609277\n",
      "[30]\tvalid_0's l2: 365322\n",
      "[40]\tvalid_0's l2: 269948\n",
      "[50]\tvalid_0's l2: 219696\n",
      "[60]\tvalid_0's l2: 190730\n",
      "[70]\tvalid_0's l2: 170392\n",
      "[80]\tvalid_0's l2: 152854\n",
      "[90]\tvalid_0's l2: 140764\n",
      "[100]\tvalid_0's l2: 131156\n",
      "Did not meet early stopping. Best iteration is:\n",
      "[100]\tvalid_0's l2: 131156\n",
      "LightGBM 總樹數: 100\n",
      "學習曲線已儲存至: C:\\thesis\\code\\result_lgb\\learning_curve\\(121.57_25.04).png\n",
      "最佳決策樹圖（Highest split_gain）已儲存至: C:\\thesis\\code\\result_lgb\\tree\\(121.57_25.04).png\n",
      "SHAP 特徵重要性圖已儲存至: C:\\thesis\\code\\result_lgb\\shap_summary\\(121.57_25.04).png\n",
      "SHAP 特徵影響條形圖已儲存至: C:\\thesis\\code\\result_lgb\\shap_bar\\(121.57_25.04).png\n",
      "訓練與預測 (121.575, 25.02) 的決策樹...\n",
      "[LightGBM] [Info] Auto-choosing row-wise multi-threading, the overhead of testing was 0.000478 seconds.\n",
      "You can set `force_row_wise=true` to remove the overhead.\n",
      "And if memory is not enough, you can set `force_col_wise=true`.\n",
      "[LightGBM] [Info] Total Bins 500\n",
      "[LightGBM] [Info] Number of data points in the train set: 13585, number of used features: 22\n",
      "[LightGBM] [Info] Start training from score 612.476481\n",
      "Training until validation scores don't improve for 10 rounds\n",
      "[10]\tvalid_0's l2: 11442.4\n",
      "[20]\tvalid_0's l2: 6967.49\n",
      "[30]\tvalid_0's l2: 4922.05\n",
      "[40]\tvalid_0's l2: 3840.7\n",
      "[50]\tvalid_0's l2: 3186.11\n",
      "[60]\tvalid_0's l2: 2770.79\n",
      "[70]\tvalid_0's l2: 2458.48\n",
      "[80]\tvalid_0's l2: 2232.26\n",
      "[90]\tvalid_0's l2: 2066.07\n",
      "[100]\tvalid_0's l2: 1941.51\n",
      "Did not meet early stopping. Best iteration is:\n",
      "[100]\tvalid_0's l2: 1941.51\n",
      "LightGBM 總樹數: 100\n",
      "學習曲線已儲存至: C:\\thesis\\code\\result_lgb\\learning_curve\\(121.575_25.02).png\n",
      "最佳決策樹圖（Highest split_gain）已儲存至: C:\\thesis\\code\\result_lgb\\tree\\(121.575_25.02).png\n",
      "SHAP 特徵重要性圖已儲存至: C:\\thesis\\code\\result_lgb\\shap_summary\\(121.575_25.02).png\n",
      "SHAP 特徵影響條形圖已儲存至: C:\\thesis\\code\\result_lgb\\shap_bar\\(121.575_25.02).png\n",
      "訓練與預測 (121.575, 25.03) 的決策樹...\n",
      "[LightGBM] [Info] Auto-choosing row-wise multi-threading, the overhead of testing was 0.000567 seconds.\n",
      "You can set `force_row_wise=true` to remove the overhead.\n",
      "And if memory is not enough, you can set `force_col_wise=true`.\n",
      "[LightGBM] [Info] Total Bins 500\n",
      "[LightGBM] [Info] Number of data points in the train set: 13585, number of used features: 22\n",
      "[LightGBM] [Info] Start training from score 2169.115201\n",
      "Training until validation scores don't improve for 10 rounds\n",
      "[10]\tvalid_0's l2: 76278.3\n",
      "[20]\tvalid_0's l2: 45590.5\n",
      "[30]\tvalid_0's l2: 32319.5\n",
      "[40]\tvalid_0's l2: 25773.5\n",
      "[50]\tvalid_0's l2: 22041.5\n",
      "[60]\tvalid_0's l2: 19463.3\n",
      "[70]\tvalid_0's l2: 17606.6\n",
      "[80]\tvalid_0's l2: 16063.6\n",
      "[90]\tvalid_0's l2: 14871\n",
      "[100]\tvalid_0's l2: 14075.6\n",
      "Did not meet early stopping. Best iteration is:\n",
      "[100]\tvalid_0's l2: 14075.6\n",
      "LightGBM 總樹數: 100\n",
      "學習曲線已儲存至: C:\\thesis\\code\\result_lgb\\learning_curve\\(121.575_25.03).png\n",
      "最佳決策樹圖（Highest split_gain）已儲存至: C:\\thesis\\code\\result_lgb\\tree\\(121.575_25.03).png\n",
      "SHAP 特徵重要性圖已儲存至: C:\\thesis\\code\\result_lgb\\shap_summary\\(121.575_25.03).png\n",
      "SHAP 特徵影響條形圖已儲存至: C:\\thesis\\code\\result_lgb\\shap_bar\\(121.575_25.03).png\n",
      "訓練與預測 (121.575, 25.035) 的決策樹...\n",
      "[LightGBM] [Info] Auto-choosing row-wise multi-threading, the overhead of testing was 0.000404 seconds.\n",
      "You can set `force_row_wise=true` to remove the overhead.\n",
      "And if memory is not enough, you can set `force_col_wise=true`.\n",
      "[LightGBM] [Info] Total Bins 500\n",
      "[LightGBM] [Info] Number of data points in the train set: 13585, number of used features: 22\n",
      "[LightGBM] [Info] Start training from score 2934.530659\n",
      "Training until validation scores don't improve for 10 rounds\n",
      "[10]\tvalid_0's l2: 111270\n",
      "[20]\tvalid_0's l2: 74548.3\n",
      "[30]\tvalid_0's l2: 56652.6\n",
      "[40]\tvalid_0's l2: 47110\n",
      "[50]\tvalid_0's l2: 41109.9\n",
      "[60]\tvalid_0's l2: 37160.1\n",
      "[70]\tvalid_0's l2: 33972.5\n",
      "[80]\tvalid_0's l2: 31475.2\n",
      "[90]\tvalid_0's l2: 29138.8\n",
      "[100]\tvalid_0's l2: 27463.8\n",
      "Did not meet early stopping. Best iteration is:\n",
      "[100]\tvalid_0's l2: 27463.8\n",
      "LightGBM 總樹數: 100\n",
      "學習曲線已儲存至: C:\\thesis\\code\\result_lgb\\learning_curve\\(121.575_25.035).png\n",
      "最佳決策樹圖（Highest split_gain）已儲存至: C:\\thesis\\code\\result_lgb\\tree\\(121.575_25.035).png\n",
      "SHAP 特徵重要性圖已儲存至: C:\\thesis\\code\\result_lgb\\shap_summary\\(121.575_25.035).png\n",
      "SHAP 特徵影響條形圖已儲存至: C:\\thesis\\code\\result_lgb\\shap_bar\\(121.575_25.035).png\n",
      "訓練與預測 (121.575, 25.04) 的決策樹...\n",
      "[LightGBM] [Info] Auto-choosing row-wise multi-threading, the overhead of testing was 0.000558 seconds.\n",
      "You can set `force_row_wise=true` to remove the overhead.\n",
      "And if memory is not enough, you can set `force_col_wise=true`.\n",
      "[LightGBM] [Info] Total Bins 500\n",
      "[LightGBM] [Info] Number of data points in the train set: 13585, number of used features: 22\n",
      "[LightGBM] [Info] Start training from score 4317.484137\n",
      "Training until validation scores don't improve for 10 rounds\n",
      "[10]\tvalid_0's l2: 125206\n",
      "[20]\tvalid_0's l2: 97436.1\n",
      "[30]\tvalid_0's l2: 82504.3\n",
      "[40]\tvalid_0's l2: 72803.7\n",
      "[50]\tvalid_0's l2: 66384.4\n",
      "[60]\tvalid_0's l2: 61679.5\n",
      "[70]\tvalid_0's l2: 57422.8\n",
      "[80]\tvalid_0's l2: 54024.2\n",
      "[90]\tvalid_0's l2: 51582.7\n",
      "[100]\tvalid_0's l2: 49484.6\n",
      "Did not meet early stopping. Best iteration is:\n",
      "[100]\tvalid_0's l2: 49484.6\n",
      "LightGBM 總樹數: 100\n",
      "學習曲線已儲存至: C:\\thesis\\code\\result_lgb\\learning_curve\\(121.575_25.04).png\n",
      "最佳決策樹圖（Highest split_gain）已儲存至: C:\\thesis\\code\\result_lgb\\tree\\(121.575_25.04).png\n",
      "SHAP 特徵重要性圖已儲存至: C:\\thesis\\code\\result_lgb\\shap_summary\\(121.575_25.04).png\n",
      "SHAP 特徵影響條形圖已儲存至: C:\\thesis\\code\\result_lgb\\shap_bar\\(121.575_25.04).png\n",
      "訓練與預測 (121.58, 25.03) 的決策樹...\n",
      "[LightGBM] [Info] Auto-choosing row-wise multi-threading, the overhead of testing was 0.000504 seconds.\n",
      "You can set `force_row_wise=true` to remove the overhead.\n",
      "And if memory is not enough, you can set `force_col_wise=true`.\n",
      "[LightGBM] [Info] Total Bins 500\n",
      "[LightGBM] [Info] Number of data points in the train set: 13585, number of used features: 22\n",
      "[LightGBM] [Info] Start training from score 286.289510\n",
      "Training until validation scores don't improve for 10 rounds\n",
      "[10]\tvalid_0's l2: 7942.67\n",
      "[20]\tvalid_0's l2: 5267.69\n",
      "[30]\tvalid_0's l2: 4055.38\n",
      "[40]\tvalid_0's l2: 3472.99\n",
      "[50]\tvalid_0's l2: 3036.62\n",
      "[60]\tvalid_0's l2: 2725.71\n",
      "[70]\tvalid_0's l2: 2483.48\n",
      "[80]\tvalid_0's l2: 2324.87\n",
      "[90]\tvalid_0's l2: 2153.68\n",
      "[100]\tvalid_0's l2: 2029.9\n",
      "Did not meet early stopping. Best iteration is:\n",
      "[100]\tvalid_0's l2: 2029.9\n",
      "LightGBM 總樹數: 100\n",
      "學習曲線已儲存至: C:\\thesis\\code\\result_lgb\\learning_curve\\(121.58_25.03).png\n",
      "最佳決策樹圖（Highest split_gain）已儲存至: C:\\thesis\\code\\result_lgb\\tree\\(121.58_25.03).png\n",
      "SHAP 特徵重要性圖已儲存至: C:\\thesis\\code\\result_lgb\\shap_summary\\(121.58_25.03).png\n",
      "SHAP 特徵影響條形圖已儲存至: C:\\thesis\\code\\result_lgb\\shap_bar\\(121.58_25.03).png\n",
      "訓練與預測 (121.58, 25.035) 的決策樹...\n",
      "[LightGBM] [Info] Auto-choosing row-wise multi-threading, the overhead of testing was 0.000398 seconds.\n",
      "You can set `force_row_wise=true` to remove the overhead.\n",
      "And if memory is not enough, you can set `force_col_wise=true`.\n",
      "[LightGBM] [Info] Total Bins 500\n",
      "[LightGBM] [Info] Number of data points in the train set: 13585, number of used features: 22\n",
      "[LightGBM] [Info] Start training from score 2596.208318\n",
      "Training until validation scores don't improve for 10 rounds\n",
      "[10]\tvalid_0's l2: 113635\n",
      "[20]\tvalid_0's l2: 75359.6\n",
      "[30]\tvalid_0's l2: 57855.9\n",
      "[40]\tvalid_0's l2: 49302.1\n",
      "[50]\tvalid_0's l2: 42939.1\n",
      "[60]\tvalid_0's l2: 38561\n",
      "[70]\tvalid_0's l2: 35319.9\n",
      "[80]\tvalid_0's l2: 32686.1\n",
      "[90]\tvalid_0's l2: 30589.3\n",
      "[100]\tvalid_0's l2: 28919.5\n",
      "Did not meet early stopping. Best iteration is:\n",
      "[100]\tvalid_0's l2: 28919.5\n",
      "LightGBM 總樹數: 100\n",
      "學習曲線已儲存至: C:\\thesis\\code\\result_lgb\\learning_curve\\(121.58_25.035).png\n",
      "最佳決策樹圖（Highest split_gain）已儲存至: C:\\thesis\\code\\result_lgb\\tree\\(121.58_25.035).png\n",
      "SHAP 特徵重要性圖已儲存至: C:\\thesis\\code\\result_lgb\\shap_summary\\(121.58_25.035).png\n",
      "SHAP 特徵影響條形圖已儲存至: C:\\thesis\\code\\result_lgb\\shap_bar\\(121.58_25.035).png\n",
      "訓練與預測 (121.58, 25.04) 的決策樹...\n",
      "[LightGBM] [Info] Auto-choosing row-wise multi-threading, the overhead of testing was 0.000562 seconds.\n",
      "You can set `force_row_wise=true` to remove the overhead.\n",
      "And if memory is not enough, you can set `force_col_wise=true`.\n",
      "[LightGBM] [Info] Total Bins 500\n",
      "[LightGBM] [Info] Number of data points in the train set: 13585, number of used features: 22\n",
      "[LightGBM] [Info] Start training from score 4721.414207\n",
      "Training until validation scores don't improve for 10 rounds\n",
      "[10]\tvalid_0's l2: 180139\n",
      "[20]\tvalid_0's l2: 118348\n",
      "[30]\tvalid_0's l2: 89484.8\n",
      "[40]\tvalid_0's l2: 73483.8\n",
      "[50]\tvalid_0's l2: 63796.5\n",
      "[60]\tvalid_0's l2: 57059.6\n",
      "[70]\tvalid_0's l2: 51348.1\n",
      "[80]\tvalid_0's l2: 47769.4\n",
      "[90]\tvalid_0's l2: 44756.2\n",
      "[100]\tvalid_0's l2: 42580.6\n",
      "Did not meet early stopping. Best iteration is:\n",
      "[100]\tvalid_0's l2: 42580.6\n",
      "LightGBM 總樹數: 100\n",
      "學習曲線已儲存至: C:\\thesis\\code\\result_lgb\\learning_curve\\(121.58_25.04).png\n",
      "最佳決策樹圖（Highest split_gain）已儲存至: C:\\thesis\\code\\result_lgb\\tree\\(121.58_25.04).png\n",
      "SHAP 特徵重要性圖已儲存至: C:\\thesis\\code\\result_lgb\\shap_summary\\(121.58_25.04).png\n",
      "SHAP 特徵影響條形圖已儲存至: C:\\thesis\\code\\result_lgb\\shap_bar\\(121.58_25.04).png\n",
      "訓練與預測 (121.525, 25.055) 的決策樹...\n",
      "[LightGBM] [Info] Auto-choosing row-wise multi-threading, the overhead of testing was 0.000537 seconds.\n",
      "You can set `force_row_wise=true` to remove the overhead.\n",
      "And if memory is not enough, you can set `force_col_wise=true`.\n",
      "[LightGBM] [Info] Total Bins 500\n",
      "[LightGBM] [Info] Number of data points in the train set: 13585, number of used features: 22\n",
      "[LightGBM] [Info] Start training from score 4603.670077\n",
      "Training until validation scores don't improve for 10 rounds\n",
      "[10]\tvalid_0's l2: 784580\n",
      "[20]\tvalid_0's l2: 408061\n",
      "[30]\tvalid_0's l2: 241956\n",
      "[40]\tvalid_0's l2: 174741\n",
      "[50]\tvalid_0's l2: 137682\n",
      "[60]\tvalid_0's l2: 115799\n",
      "[70]\tvalid_0's l2: 100108\n",
      "[80]\tvalid_0's l2: 89399.5\n",
      "[90]\tvalid_0's l2: 81040\n",
      "[100]\tvalid_0's l2: 75446.9\n",
      "Did not meet early stopping. Best iteration is:\n",
      "[100]\tvalid_0's l2: 75446.9\n",
      "LightGBM 總樹數: 100\n",
      "學習曲線已儲存至: C:\\thesis\\code\\result_lgb\\learning_curve\\(121.525_25.055).png\n",
      "最佳決策樹圖（Highest split_gain）已儲存至: C:\\thesis\\code\\result_lgb\\tree\\(121.525_25.055).png\n",
      "SHAP 特徵重要性圖已儲存至: C:\\thesis\\code\\result_lgb\\shap_summary\\(121.525_25.055).png\n",
      "SHAP 特徵影響條形圖已儲存至: C:\\thesis\\code\\result_lgb\\shap_bar\\(121.525_25.055).png\n",
      "訓練與預測 (121.525, 25.06) 的決策樹...\n",
      "[LightGBM] [Info] Auto-choosing row-wise multi-threading, the overhead of testing was 0.000469 seconds.\n",
      "You can set `force_row_wise=true` to remove the overhead.\n",
      "And if memory is not enough, you can set `force_col_wise=true`.\n",
      "[LightGBM] [Info] Total Bins 500\n",
      "[LightGBM] [Info] Number of data points in the train set: 13585, number of used features: 22\n",
      "[LightGBM] [Info] Start training from score 5657.733824\n",
      "Training until validation scores don't improve for 10 rounds\n",
      "[10]\tvalid_0's l2: 1.09514e+06\n",
      "[20]\tvalid_0's l2: 614933\n",
      "[30]\tvalid_0's l2: 403274\n",
      "[40]\tvalid_0's l2: 313803\n",
      "[50]\tvalid_0's l2: 261964\n",
      "[60]\tvalid_0's l2: 231547\n",
      "[70]\tvalid_0's l2: 204585\n",
      "[80]\tvalid_0's l2: 177800\n",
      "[90]\tvalid_0's l2: 159504\n",
      "[100]\tvalid_0's l2: 145762\n",
      "Did not meet early stopping. Best iteration is:\n",
      "[100]\tvalid_0's l2: 145762\n",
      "LightGBM 總樹數: 100\n",
      "學習曲線已儲存至: C:\\thesis\\code\\result_lgb\\learning_curve\\(121.525_25.06).png\n",
      "最佳決策樹圖（Highest split_gain）已儲存至: C:\\thesis\\code\\result_lgb\\tree\\(121.525_25.06).png\n",
      "SHAP 特徵重要性圖已儲存至: C:\\thesis\\code\\result_lgb\\shap_summary\\(121.525_25.06).png\n",
      "SHAP 特徵影響條形圖已儲存至: C:\\thesis\\code\\result_lgb\\shap_bar\\(121.525_25.06).png\n",
      "訓練與預測 (121.525, 25.065) 的決策樹...\n",
      "[LightGBM] [Info] Auto-choosing row-wise multi-threading, the overhead of testing was 0.000687 seconds.\n",
      "You can set `force_row_wise=true` to remove the overhead.\n",
      "And if memory is not enough, you can set `force_col_wise=true`.\n",
      "[LightGBM] [Info] Total Bins 500\n",
      "[LightGBM] [Info] Number of data points in the train set: 13585, number of used features: 22\n",
      "[LightGBM] [Info] Start training from score 6278.795215\n",
      "Training until validation scores don't improve for 10 rounds\n",
      "[10]\tvalid_0's l2: 519158\n",
      "[20]\tvalid_0's l2: 319075\n",
      "[30]\tvalid_0's l2: 227410\n",
      "[40]\tvalid_0's l2: 179776\n",
      "[50]\tvalid_0's l2: 150409\n",
      "[60]\tvalid_0's l2: 126946\n",
      "[70]\tvalid_0's l2: 113240\n",
      "[80]\tvalid_0's l2: 101969\n",
      "[90]\tvalid_0's l2: 93454.9\n",
      "[100]\tvalid_0's l2: 86900.8\n",
      "Did not meet early stopping. Best iteration is:\n",
      "[100]\tvalid_0's l2: 86900.8\n",
      "LightGBM 總樹數: 100\n",
      "學習曲線已儲存至: C:\\thesis\\code\\result_lgb\\learning_curve\\(121.525_25.065).png\n",
      "最佳決策樹圖（Highest split_gain）已儲存至: C:\\thesis\\code\\result_lgb\\tree\\(121.525_25.065).png\n",
      "SHAP 特徵重要性圖已儲存至: C:\\thesis\\code\\result_lgb\\shap_summary\\(121.525_25.065).png\n",
      "SHAP 特徵影響條形圖已儲存至: C:\\thesis\\code\\result_lgb\\shap_bar\\(121.525_25.065).png\n",
      "訓練與預測 (121.525, 25.07) 的決策樹...\n",
      "[LightGBM] [Info] Auto-choosing col-wise multi-threading, the overhead of testing was 0.000861 seconds.\n",
      "You can set `force_col_wise=true` to remove the overhead.\n",
      "[LightGBM] [Info] Total Bins 500\n",
      "[LightGBM] [Info] Number of data points in the train set: 13585, number of used features: 22\n",
      "[LightGBM] [Info] Start training from score 2399.174384\n",
      "Training until validation scores don't improve for 10 rounds\n",
      "[10]\tvalid_0's l2: 45712.2\n",
      "[20]\tvalid_0's l2: 32423.4\n",
      "[30]\tvalid_0's l2: 25480.3\n",
      "[40]\tvalid_0's l2: 21761.7\n",
      "[50]\tvalid_0's l2: 19262.5\n",
      "[60]\tvalid_0's l2: 17477.1\n",
      "[70]\tvalid_0's l2: 15885.9\n",
      "[80]\tvalid_0's l2: 14757.8\n",
      "[90]\tvalid_0's l2: 13908.9\n",
      "[100]\tvalid_0's l2: 13275.1\n",
      "Did not meet early stopping. Best iteration is:\n",
      "[100]\tvalid_0's l2: 13275.1\n",
      "LightGBM 總樹數: 100\n",
      "學習曲線已儲存至: C:\\thesis\\code\\result_lgb\\learning_curve\\(121.525_25.07).png\n",
      "最佳決策樹圖（Highest split_gain）已儲存至: C:\\thesis\\code\\result_lgb\\tree\\(121.525_25.07).png\n",
      "SHAP 特徵重要性圖已儲存至: C:\\thesis\\code\\result_lgb\\shap_summary\\(121.525_25.07).png\n",
      "SHAP 特徵影響條形圖已儲存至: C:\\thesis\\code\\result_lgb\\shap_bar\\(121.525_25.07).png\n",
      "訓練與預測 (121.525, 25.075) 的決策樹...\n",
      "[LightGBM] [Info] Auto-choosing row-wise multi-threading, the overhead of testing was 0.000354 seconds.\n",
      "You can set `force_row_wise=true` to remove the overhead.\n",
      "And if memory is not enough, you can set `force_col_wise=true`.\n",
      "[LightGBM] [Info] Total Bins 500\n",
      "[LightGBM] [Info] Number of data points in the train set: 13585, number of used features: 22\n",
      "[LightGBM] [Info] Start training from score 995.822672\n",
      "Training until validation scores don't improve for 10 rounds\n",
      "[10]\tvalid_0's l2: 101574\n",
      "[20]\tvalid_0's l2: 62530.5\n",
      "[30]\tvalid_0's l2: 45488.3\n",
      "[40]\tvalid_0's l2: 38597.8\n",
      "[50]\tvalid_0's l2: 34830.5\n",
      "[60]\tvalid_0's l2: 32114.7\n",
      "[70]\tvalid_0's l2: 29932.2\n",
      "[80]\tvalid_0's l2: 28288.5\n",
      "[90]\tvalid_0's l2: 26929.7\n",
      "[100]\tvalid_0's l2: 26004.9\n",
      "Did not meet early stopping. Best iteration is:\n",
      "[100]\tvalid_0's l2: 26004.9\n",
      "LightGBM 總樹數: 100\n",
      "學習曲線已儲存至: C:\\thesis\\code\\result_lgb\\learning_curve\\(121.525_25.075).png\n",
      "最佳決策樹圖（Highest split_gain）已儲存至: C:\\thesis\\code\\result_lgb\\tree\\(121.525_25.075).png\n",
      "SHAP 特徵重要性圖已儲存至: C:\\thesis\\code\\result_lgb\\shap_summary\\(121.525_25.075).png\n",
      "SHAP 特徵影響條形圖已儲存至: C:\\thesis\\code\\result_lgb\\shap_bar\\(121.525_25.075).png\n",
      "訓練與預測 (121.53, 25.055) 的決策樹...\n",
      "[LightGBM] [Info] Auto-choosing row-wise multi-threading, the overhead of testing was 0.000546 seconds.\n",
      "You can set `force_row_wise=true` to remove the overhead.\n",
      "And if memory is not enough, you can set `force_col_wise=true`.\n",
      "[LightGBM] [Info] Total Bins 500\n",
      "[LightGBM] [Info] Number of data points in the train set: 13585, number of used features: 22\n",
      "[LightGBM] [Info] Start training from score 4055.200736\n",
      "Training until validation scores don't improve for 10 rounds\n",
      "[10]\tvalid_0's l2: 1.13347e+06\n",
      "[20]\tvalid_0's l2: 545503\n",
      "[30]\tvalid_0's l2: 306149\n",
      "[40]\tvalid_0's l2: 218459\n",
      "[50]\tvalid_0's l2: 173977\n",
      "[60]\tvalid_0's l2: 149195\n",
      "[70]\tvalid_0's l2: 133794\n",
      "[80]\tvalid_0's l2: 122437\n",
      "[90]\tvalid_0's l2: 113125\n",
      "[100]\tvalid_0's l2: 106760\n",
      "Did not meet early stopping. Best iteration is:\n",
      "[100]\tvalid_0's l2: 106760\n",
      "LightGBM 總樹數: 100\n",
      "學習曲線已儲存至: C:\\thesis\\code\\result_lgb\\learning_curve\\(121.53_25.055).png\n",
      "最佳決策樹圖（Highest split_gain）已儲存至: C:\\thesis\\code\\result_lgb\\tree\\(121.53_25.055).png\n",
      "SHAP 特徵重要性圖已儲存至: C:\\thesis\\code\\result_lgb\\shap_summary\\(121.53_25.055).png\n",
      "SHAP 特徵影響條形圖已儲存至: C:\\thesis\\code\\result_lgb\\shap_bar\\(121.53_25.055).png\n",
      "訓練與預測 (121.53, 25.06) 的決策樹...\n",
      "[LightGBM] [Info] Auto-choosing row-wise multi-threading, the overhead of testing was 0.000634 seconds.\n",
      "You can set `force_row_wise=true` to remove the overhead.\n",
      "And if memory is not enough, you can set `force_col_wise=true`.\n",
      "[LightGBM] [Info] Total Bins 500\n",
      "[LightGBM] [Info] Number of data points in the train set: 13585, number of used features: 22\n",
      "[LightGBM] [Info] Start training from score 5829.007140\n",
      "Training until validation scores don't improve for 10 rounds\n",
      "[10]\tvalid_0's l2: 2.60992e+06\n",
      "[20]\tvalid_0's l2: 1.2473e+06\n",
      "[30]\tvalid_0's l2: 686014\n",
      "[40]\tvalid_0's l2: 478715\n",
      "[50]\tvalid_0's l2: 373089\n",
      "[60]\tvalid_0's l2: 311716\n",
      "[70]\tvalid_0's l2: 271554\n",
      "[80]\tvalid_0's l2: 248733\n",
      "[90]\tvalid_0's l2: 229994\n",
      "[100]\tvalid_0's l2: 213709\n",
      "Did not meet early stopping. Best iteration is:\n",
      "[100]\tvalid_0's l2: 213709\n",
      "LightGBM 總樹數: 100\n",
      "學習曲線已儲存至: C:\\thesis\\code\\result_lgb\\learning_curve\\(121.53_25.06).png\n",
      "最佳決策樹圖（Highest split_gain）已儲存至: C:\\thesis\\code\\result_lgb\\tree\\(121.53_25.06).png\n",
      "SHAP 特徵重要性圖已儲存至: C:\\thesis\\code\\result_lgb\\shap_summary\\(121.53_25.06).png\n",
      "SHAP 特徵影響條形圖已儲存至: C:\\thesis\\code\\result_lgb\\shap_bar\\(121.53_25.06).png\n",
      "訓練與預測 (121.53, 25.065) 的決策樹...\n",
      "[LightGBM] [Info] Auto-choosing row-wise multi-threading, the overhead of testing was 0.000371 seconds.\n",
      "You can set `force_row_wise=true` to remove the overhead.\n",
      "And if memory is not enough, you can set `force_col_wise=true`.\n",
      "[LightGBM] [Info] Total Bins 500\n",
      "[LightGBM] [Info] Number of data points in the train set: 13585, number of used features: 22\n",
      "[LightGBM] [Info] Start training from score 4066.332278\n",
      "Training until validation scores don't improve for 10 rounds\n",
      "[10]\tvalid_0's l2: 141050\n",
      "[20]\tvalid_0's l2: 95885.4\n",
      "[30]\tvalid_0's l2: 74784.1\n",
      "[40]\tvalid_0's l2: 62885.6\n",
      "[50]\tvalid_0's l2: 54644.7\n",
      "[60]\tvalid_0's l2: 49087.1\n",
      "[70]\tvalid_0's l2: 44452.5\n",
      "[80]\tvalid_0's l2: 41447\n",
      "[90]\tvalid_0's l2: 38717.2\n",
      "[100]\tvalid_0's l2: 36654.2\n",
      "Did not meet early stopping. Best iteration is:\n",
      "[100]\tvalid_0's l2: 36654.2\n",
      "LightGBM 總樹數: 100\n",
      "學習曲線已儲存至: C:\\thesis\\code\\result_lgb\\learning_curve\\(121.53_25.065).png\n",
      "最佳決策樹圖（Highest split_gain）已儲存至: C:\\thesis\\code\\result_lgb\\tree\\(121.53_25.065).png\n",
      "SHAP 特徵重要性圖已儲存至: C:\\thesis\\code\\result_lgb\\shap_summary\\(121.53_25.065).png\n",
      "SHAP 特徵影響條形圖已儲存至: C:\\thesis\\code\\result_lgb\\shap_bar\\(121.53_25.065).png\n",
      "訓練與預測 (121.53, 25.07) 的決策樹...\n",
      "[LightGBM] [Info] Auto-choosing row-wise multi-threading, the overhead of testing was 0.000624 seconds.\n",
      "You can set `force_row_wise=true` to remove the overhead.\n",
      "And if memory is not enough, you can set `force_col_wise=true`.\n",
      "[LightGBM] [Info] Total Bins 500\n",
      "[LightGBM] [Info] Number of data points in the train set: 13585, number of used features: 22\n",
      "[LightGBM] [Info] Start training from score 1471.448289\n",
      "Training until validation scores don't improve for 10 rounds\n",
      "[10]\tvalid_0's l2: 30216.9\n",
      "[20]\tvalid_0's l2: 21098.9\n",
      "[30]\tvalid_0's l2: 16820.5\n",
      "[40]\tvalid_0's l2: 14488.5\n",
      "[50]\tvalid_0's l2: 12839.4\n",
      "[60]\tvalid_0's l2: 11566.2\n",
      "[70]\tvalid_0's l2: 10709.2\n",
      "[80]\tvalid_0's l2: 9853.67\n",
      "[90]\tvalid_0's l2: 9250.43\n",
      "[100]\tvalid_0's l2: 8673.55\n",
      "Did not meet early stopping. Best iteration is:\n",
      "[100]\tvalid_0's l2: 8673.55\n",
      "LightGBM 總樹數: 100\n",
      "學習曲線已儲存至: C:\\thesis\\code\\result_lgb\\learning_curve\\(121.53_25.07).png\n",
      "最佳決策樹圖（Highest split_gain）已儲存至: C:\\thesis\\code\\result_lgb\\tree\\(121.53_25.07).png\n",
      "SHAP 特徵重要性圖已儲存至: C:\\thesis\\code\\result_lgb\\shap_summary\\(121.53_25.07).png\n",
      "SHAP 特徵影響條形圖已儲存至: C:\\thesis\\code\\result_lgb\\shap_bar\\(121.53_25.07).png\n",
      "訓練與預測 (121.53, 25.075) 的決策樹...\n",
      "[LightGBM] [Info] Auto-choosing row-wise multi-threading, the overhead of testing was 0.000602 seconds.\n",
      "You can set `force_row_wise=true` to remove the overhead.\n",
      "And if memory is not enough, you can set `force_col_wise=true`.\n",
      "[LightGBM] [Info] Total Bins 500\n",
      "[LightGBM] [Info] Number of data points in the train set: 13585, number of used features: 22\n",
      "[LightGBM] [Info] Start training from score 558.703938\n",
      "Training until validation scores don't improve for 10 rounds\n",
      "[10]\tvalid_0's l2: 69159.7\n",
      "[20]\tvalid_0's l2: 42251.5\n",
      "[30]\tvalid_0's l2: 29890.7\n",
      "[40]\tvalid_0's l2: 24541\n",
      "[50]\tvalid_0's l2: 21229.8\n",
      "[60]\tvalid_0's l2: 19126.2\n",
      "[70]\tvalid_0's l2: 17577.6\n",
      "[80]\tvalid_0's l2: 16400.7\n",
      "[90]\tvalid_0's l2: 15516.5\n",
      "[100]\tvalid_0's l2: 14789.5\n",
      "Did not meet early stopping. Best iteration is:\n",
      "[100]\tvalid_0's l2: 14789.5\n",
      "LightGBM 總樹數: 100\n",
      "學習曲線已儲存至: C:\\thesis\\code\\result_lgb\\learning_curve\\(121.53_25.075).png\n",
      "最佳決策樹圖（Highest split_gain）已儲存至: C:\\thesis\\code\\result_lgb\\tree\\(121.53_25.075).png\n",
      "SHAP 特徵重要性圖已儲存至: C:\\thesis\\code\\result_lgb\\shap_summary\\(121.53_25.075).png\n",
      "SHAP 特徵影響條形圖已儲存至: C:\\thesis\\code\\result_lgb\\shap_bar\\(121.53_25.075).png\n",
      "訓練與預測 (121.535, 25.055) 的決策樹...\n",
      "[LightGBM] [Info] Auto-choosing row-wise multi-threading, the overhead of testing was 0.000489 seconds.\n",
      "You can set `force_row_wise=true` to remove the overhead.\n",
      "And if memory is not enough, you can set `force_col_wise=true`.\n",
      "[LightGBM] [Info] Total Bins 500\n",
      "[LightGBM] [Info] Number of data points in the train set: 13585, number of used features: 22\n",
      "[LightGBM] [Info] Start training from score 4517.389695\n",
      "Training until validation scores don't improve for 10 rounds\n",
      "[10]\tvalid_0's l2: 2.79625e+06\n",
      "[20]\tvalid_0's l2: 1.2778e+06\n",
      "[30]\tvalid_0's l2: 671966\n",
      "[40]\tvalid_0's l2: 454096\n",
      "[50]\tvalid_0's l2: 350237\n",
      "[60]\tvalid_0's l2: 292262\n",
      "[70]\tvalid_0's l2: 252415\n",
      "[80]\tvalid_0's l2: 227185\n",
      "[90]\tvalid_0's l2: 211968\n",
      "[100]\tvalid_0's l2: 199273\n",
      "Did not meet early stopping. Best iteration is:\n",
      "[100]\tvalid_0's l2: 199273\n",
      "LightGBM 總樹數: 100\n",
      "學習曲線已儲存至: C:\\thesis\\code\\result_lgb\\learning_curve\\(121.535_25.055).png\n",
      "最佳決策樹圖（Highest split_gain）已儲存至: C:\\thesis\\code\\result_lgb\\tree\\(121.535_25.055).png\n",
      "SHAP 特徵重要性圖已儲存至: C:\\thesis\\code\\result_lgb\\shap_summary\\(121.535_25.055).png\n",
      "SHAP 特徵影響條形圖已儲存至: C:\\thesis\\code\\result_lgb\\shap_bar\\(121.535_25.055).png\n",
      "訓練與預測 (121.535, 25.06) 的決策樹...\n",
      "[LightGBM] [Info] Auto-choosing row-wise multi-threading, the overhead of testing was 0.000506 seconds.\n",
      "You can set `force_row_wise=true` to remove the overhead.\n",
      "And if memory is not enough, you can set `force_col_wise=true`.\n",
      "[LightGBM] [Info] Total Bins 500\n",
      "[LightGBM] [Info] Number of data points in the train set: 13585, number of used features: 22\n",
      "[LightGBM] [Info] Start training from score 5453.792124\n",
      "Training until validation scores don't improve for 10 rounds\n",
      "[10]\tvalid_0's l2: 493928\n",
      "[20]\tvalid_0's l2: 275301\n",
      "[30]\tvalid_0's l2: 183190\n",
      "[40]\tvalid_0's l2: 143835\n",
      "[50]\tvalid_0's l2: 122751\n",
      "[60]\tvalid_0's l2: 108691\n",
      "[70]\tvalid_0's l2: 98386.4\n",
      "[80]\tvalid_0's l2: 89915\n",
      "[90]\tvalid_0's l2: 82976.4\n",
      "[100]\tvalid_0's l2: 77219.9\n",
      "Did not meet early stopping. Best iteration is:\n",
      "[100]\tvalid_0's l2: 77219.9\n",
      "LightGBM 總樹數: 100\n",
      "學習曲線已儲存至: C:\\thesis\\code\\result_lgb\\learning_curve\\(121.535_25.06).png\n",
      "最佳決策樹圖（Highest split_gain）已儲存至: C:\\thesis\\code\\result_lgb\\tree\\(121.535_25.06).png\n",
      "SHAP 特徵重要性圖已儲存至: C:\\thesis\\code\\result_lgb\\shap_summary\\(121.535_25.06).png\n",
      "SHAP 特徵影響條形圖已儲存至: C:\\thesis\\code\\result_lgb\\shap_bar\\(121.535_25.06).png\n",
      "訓練與預測 (121.535, 25.065) 的決策樹...\n",
      "[LightGBM] [Info] Auto-choosing row-wise multi-threading, the overhead of testing was 0.000511 seconds.\n",
      "You can set `force_row_wise=true` to remove the overhead.\n",
      "And if memory is not enough, you can set `force_col_wise=true`.\n",
      "[LightGBM] [Info] Total Bins 500\n",
      "[LightGBM] [Info] Number of data points in the train set: 13585, number of used features: 22\n",
      "[LightGBM] [Info] Start training from score 2355.137357\n",
      "Training until validation scores don't improve for 10 rounds\n",
      "[10]\tvalid_0's l2: 52548.5\n",
      "[20]\tvalid_0's l2: 36879.5\n",
      "[30]\tvalid_0's l2: 28582.3\n",
      "[40]\tvalid_0's l2: 23996.8\n",
      "[50]\tvalid_0's l2: 20827.9\n",
      "[60]\tvalid_0's l2: 18555.1\n",
      "[70]\tvalid_0's l2: 16783.6\n",
      "[80]\tvalid_0's l2: 15452\n",
      "[90]\tvalid_0's l2: 14359.5\n",
      "[100]\tvalid_0's l2: 13521\n",
      "Did not meet early stopping. Best iteration is:\n",
      "[100]\tvalid_0's l2: 13521\n",
      "LightGBM 總樹數: 100\n",
      "學習曲線已儲存至: C:\\thesis\\code\\result_lgb\\learning_curve\\(121.535_25.065).png\n",
      "最佳決策樹圖（Highest split_gain）已儲存至: C:\\thesis\\code\\result_lgb\\tree\\(121.535_25.065).png\n",
      "SHAP 特徵重要性圖已儲存至: C:\\thesis\\code\\result_lgb\\shap_summary\\(121.535_25.065).png\n",
      "SHAP 特徵影響條形圖已儲存至: C:\\thesis\\code\\result_lgb\\shap_bar\\(121.535_25.065).png\n",
      "訓練與預測 (121.535, 25.07) 的決策樹...\n",
      "[LightGBM] [Info] Auto-choosing row-wise multi-threading, the overhead of testing was 0.000605 seconds.\n",
      "You can set `force_row_wise=true` to remove the overhead.\n",
      "And if memory is not enough, you can set `force_col_wise=true`.\n",
      "[LightGBM] [Info] Total Bins 500\n",
      "[LightGBM] [Info] Number of data points in the train set: 13585, number of used features: 22\n",
      "[LightGBM] [Info] Start training from score 1062.580567\n",
      "Training until validation scores don't improve for 10 rounds\n",
      "[10]\tvalid_0's l2: 31971.2\n",
      "[20]\tvalid_0's l2: 19044\n",
      "[30]\tvalid_0's l2: 13329.2\n",
      "[40]\tvalid_0's l2: 10463.4\n",
      "[50]\tvalid_0's l2: 8808.33\n",
      "[60]\tvalid_0's l2: 7681.55\n",
      "[70]\tvalid_0's l2: 6902.08\n",
      "[80]\tvalid_0's l2: 6299.62\n",
      "[90]\tvalid_0's l2: 5901.86\n",
      "[100]\tvalid_0's l2: 5574.92\n",
      "Did not meet early stopping. Best iteration is:\n",
      "[100]\tvalid_0's l2: 5574.92\n",
      "LightGBM 總樹數: 100\n",
      "學習曲線已儲存至: C:\\thesis\\code\\result_lgb\\learning_curve\\(121.535_25.07).png\n",
      "最佳決策樹圖（Highest split_gain）已儲存至: C:\\thesis\\code\\result_lgb\\tree\\(121.535_25.07).png\n",
      "SHAP 特徵重要性圖已儲存至: C:\\thesis\\code\\result_lgb\\shap_summary\\(121.535_25.07).png\n",
      "SHAP 特徵影響條形圖已儲存至: C:\\thesis\\code\\result_lgb\\shap_bar\\(121.535_25.07).png\n",
      "訓練與預測 (121.535, 25.075) 的決策樹...\n",
      "[LightGBM] [Info] Auto-choosing row-wise multi-threading, the overhead of testing was 0.000362 seconds.\n",
      "You can set `force_row_wise=true` to remove the overhead.\n",
      "And if memory is not enough, you can set `force_col_wise=true`.\n",
      "[LightGBM] [Info] Total Bins 500\n",
      "[LightGBM] [Info] Number of data points in the train set: 13585, number of used features: 22\n",
      "[LightGBM] [Info] Start training from score 589.081266\n",
      "Training until validation scores don't improve for 10 rounds\n",
      "[10]\tvalid_0's l2: 6994.93\n",
      "[20]\tvalid_0's l2: 5380.96\n",
      "[30]\tvalid_0's l2: 4422.87\n",
      "[40]\tvalid_0's l2: 3861.22\n",
      "[50]\tvalid_0's l2: 3484.75\n",
      "[60]\tvalid_0's l2: 3173.31\n",
      "[70]\tvalid_0's l2: 2974.5\n",
      "[80]\tvalid_0's l2: 2775.48\n",
      "[90]\tvalid_0's l2: 2613.16\n",
      "[100]\tvalid_0's l2: 2500.18\n",
      "Did not meet early stopping. Best iteration is:\n",
      "[100]\tvalid_0's l2: 2500.18\n",
      "LightGBM 總樹數: 100\n",
      "學習曲線已儲存至: C:\\thesis\\code\\result_lgb\\learning_curve\\(121.535_25.075).png\n",
      "最佳決策樹圖（Highest split_gain）已儲存至: C:\\thesis\\code\\result_lgb\\tree\\(121.535_25.075).png\n",
      "SHAP 特徵重要性圖已儲存至: C:\\thesis\\code\\result_lgb\\shap_summary\\(121.535_25.075).png\n",
      "SHAP 特徵影響條形圖已儲存至: C:\\thesis\\code\\result_lgb\\shap_bar\\(121.535_25.075).png\n",
      "訓練與預測 (121.54, 25.055) 的決策樹...\n",
      "[LightGBM] [Info] Auto-choosing row-wise multi-threading, the overhead of testing was 0.000387 seconds.\n",
      "You can set `force_row_wise=true` to remove the overhead.\n",
      "And if memory is not enough, you can set `force_col_wise=true`.\n",
      "[LightGBM] [Info] Total Bins 500\n",
      "[LightGBM] [Info] Number of data points in the train set: 13585, number of used features: 22\n",
      "[LightGBM] [Info] Start training from score 2788.418182\n",
      "Training until validation scores don't improve for 10 rounds\n",
      "[10]\tvalid_0's l2: 101106\n",
      "[20]\tvalid_0's l2: 79520.7\n",
      "[30]\tvalid_0's l2: 66412.7\n",
      "[40]\tvalid_0's l2: 57632.8\n",
      "[50]\tvalid_0's l2: 51130.3\n",
      "[60]\tvalid_0's l2: 47072\n",
      "[70]\tvalid_0's l2: 43947\n",
      "[80]\tvalid_0's l2: 41124.8\n",
      "[90]\tvalid_0's l2: 38953.5\n",
      "[100]\tvalid_0's l2: 37113.3\n",
      "Did not meet early stopping. Best iteration is:\n",
      "[100]\tvalid_0's l2: 37113.3\n",
      "LightGBM 總樹數: 100\n",
      "學習曲線已儲存至: C:\\thesis\\code\\result_lgb\\learning_curve\\(121.54_25.055).png\n",
      "最佳決策樹圖（Highest split_gain）已儲存至: C:\\thesis\\code\\result_lgb\\tree\\(121.54_25.055).png\n",
      "SHAP 特徵重要性圖已儲存至: C:\\thesis\\code\\result_lgb\\shap_summary\\(121.54_25.055).png\n",
      "SHAP 特徵影響條形圖已儲存至: C:\\thesis\\code\\result_lgb\\shap_bar\\(121.54_25.055).png\n",
      "訓練與預測 (121.54, 25.06) 的決策樹...\n",
      "[LightGBM] [Info] Auto-choosing row-wise multi-threading, the overhead of testing was 0.000558 seconds.\n",
      "You can set `force_row_wise=true` to remove the overhead.\n",
      "And if memory is not enough, you can set `force_col_wise=true`.\n",
      "[LightGBM] [Info] Total Bins 500\n",
      "[LightGBM] [Info] Number of data points in the train set: 13585, number of used features: 22\n",
      "[LightGBM] [Info] Start training from score 5331.330953\n",
      "Training until validation scores don't improve for 10 rounds\n",
      "[10]\tvalid_0's l2: 789034\n",
      "[20]\tvalid_0's l2: 419662\n",
      "[30]\tvalid_0's l2: 264320\n",
      "[40]\tvalid_0's l2: 197019\n",
      "[50]\tvalid_0's l2: 162292\n",
      "[60]\tvalid_0's l2: 139634\n",
      "[70]\tvalid_0's l2: 125373\n",
      "[80]\tvalid_0's l2: 113468\n",
      "[90]\tvalid_0's l2: 103328\n",
      "[100]\tvalid_0's l2: 96293.8\n",
      "Did not meet early stopping. Best iteration is:\n",
      "[100]\tvalid_0's l2: 96293.8\n",
      "LightGBM 總樹數: 100\n",
      "學習曲線已儲存至: C:\\thesis\\code\\result_lgb\\learning_curve\\(121.54_25.06).png\n",
      "最佳決策樹圖（Highest split_gain）已儲存至: C:\\thesis\\code\\result_lgb\\tree\\(121.54_25.06).png\n",
      "SHAP 特徵重要性圖已儲存至: C:\\thesis\\code\\result_lgb\\shap_summary\\(121.54_25.06).png\n",
      "SHAP 特徵影響條形圖已儲存至: C:\\thesis\\code\\result_lgb\\shap_bar\\(121.54_25.06).png\n",
      "訓練與預測 (121.54, 25.065) 的決策樹...\n",
      "[LightGBM] [Info] Auto-choosing row-wise multi-threading, the overhead of testing was 0.000626 seconds.\n",
      "You can set `force_row_wise=true` to remove the overhead.\n",
      "And if memory is not enough, you can set `force_col_wise=true`.\n",
      "[LightGBM] [Info] Total Bins 500\n",
      "[LightGBM] [Info] Number of data points in the train set: 13585, number of used features: 22\n",
      "[LightGBM] [Info] Start training from score 384.331689\n",
      "Training until validation scores don't improve for 10 rounds\n",
      "[10]\tvalid_0's l2: 11820.1\n",
      "[20]\tvalid_0's l2: 7286.13\n",
      "[30]\tvalid_0's l2: 5309.22\n",
      "[40]\tvalid_0's l2: 4494.85\n",
      "[50]\tvalid_0's l2: 4017.54\n",
      "[60]\tvalid_0's l2: 3683.22\n",
      "[70]\tvalid_0's l2: 3390.91\n",
      "[80]\tvalid_0's l2: 3188.54\n",
      "[90]\tvalid_0's l2: 2999.37\n",
      "[100]\tvalid_0's l2: 2878.74\n",
      "Did not meet early stopping. Best iteration is:\n",
      "[100]\tvalid_0's l2: 2878.74\n",
      "LightGBM 總樹數: 100\n",
      "學習曲線已儲存至: C:\\thesis\\code\\result_lgb\\learning_curve\\(121.54_25.065).png\n",
      "最佳決策樹圖（Highest split_gain）已儲存至: C:\\thesis\\code\\result_lgb\\tree\\(121.54_25.065).png\n",
      "SHAP 特徵重要性圖已儲存至: C:\\thesis\\code\\result_lgb\\shap_summary\\(121.54_25.065).png\n",
      "SHAP 特徵影響條形圖已儲存至: C:\\thesis\\code\\result_lgb\\shap_bar\\(121.54_25.065).png\n",
      "訓練與預測 (121.54, 25.07) 的決策樹...\n",
      "[LightGBM] [Info] Auto-choosing row-wise multi-threading, the overhead of testing was 0.000597 seconds.\n",
      "You can set `force_row_wise=true` to remove the overhead.\n",
      "And if memory is not enough, you can set `force_col_wise=true`.\n",
      "[LightGBM] [Info] Total Bins 500\n",
      "[LightGBM] [Info] Number of data points in the train set: 13585, number of used features: 22\n",
      "[LightGBM] [Info] Start training from score 2196.602871\n",
      "Training until validation scores don't improve for 10 rounds\n",
      "[10]\tvalid_0's l2: 73947.5\n",
      "[20]\tvalid_0's l2: 55852\n",
      "[30]\tvalid_0's l2: 44545.1\n",
      "[40]\tvalid_0's l2: 38013.2\n",
      "[50]\tvalid_0's l2: 33058.9\n",
      "[60]\tvalid_0's l2: 29547\n",
      "[70]\tvalid_0's l2: 26453.9\n",
      "[80]\tvalid_0's l2: 24437.3\n",
      "[90]\tvalid_0's l2: 22605.1\n",
      "[100]\tvalid_0's l2: 21396.2\n",
      "Did not meet early stopping. Best iteration is:\n",
      "[100]\tvalid_0's l2: 21396.2\n",
      "LightGBM 總樹數: 100\n",
      "學習曲線已儲存至: C:\\thesis\\code\\result_lgb\\learning_curve\\(121.54_25.07).png\n",
      "最佳決策樹圖（Highest split_gain）已儲存至: C:\\thesis\\code\\result_lgb\\tree\\(121.54_25.07).png\n",
      "SHAP 特徵重要性圖已儲存至: C:\\thesis\\code\\result_lgb\\shap_summary\\(121.54_25.07).png\n",
      "SHAP 特徵影響條形圖已儲存至: C:\\thesis\\code\\result_lgb\\shap_bar\\(121.54_25.07).png\n",
      "訓練與預測 (121.54, 25.075) 的決策樹...\n",
      "[LightGBM] [Info] Auto-choosing row-wise multi-threading, the overhead of testing was 0.000439 seconds.\n",
      "You can set `force_row_wise=true` to remove the overhead.\n",
      "And if memory is not enough, you can set `force_col_wise=true`.\n",
      "[LightGBM] [Info] Total Bins 500\n",
      "[LightGBM] [Info] Number of data points in the train set: 13585, number of used features: 22\n",
      "[LightGBM] [Info] Start training from score 365.226573\n",
      "Training until validation scores don't improve for 10 rounds\n",
      "[10]\tvalid_0's l2: 4451.61\n",
      "[20]\tvalid_0's l2: 3212.91\n",
      "[30]\tvalid_0's l2: 2621.47\n",
      "[40]\tvalid_0's l2: 2286.96\n",
      "[50]\tvalid_0's l2: 2071.63\n",
      "[60]\tvalid_0's l2: 1915.5\n",
      "[70]\tvalid_0's l2: 1783.11\n",
      "[80]\tvalid_0's l2: 1640.76\n",
      "[90]\tvalid_0's l2: 1534.58\n",
      "[100]\tvalid_0's l2: 1456.87\n",
      "Did not meet early stopping. Best iteration is:\n",
      "[100]\tvalid_0's l2: 1456.87\n",
      "LightGBM 總樹數: 100\n",
      "學習曲線已儲存至: C:\\thesis\\code\\result_lgb\\learning_curve\\(121.54_25.075).png\n",
      "最佳決策樹圖（Highest split_gain）已儲存至: C:\\thesis\\code\\result_lgb\\tree\\(121.54_25.075).png\n",
      "SHAP 特徵重要性圖已儲存至: C:\\thesis\\code\\result_lgb\\shap_summary\\(121.54_25.075).png\n",
      "SHAP 特徵影響條形圖已儲存至: C:\\thesis\\code\\result_lgb\\shap_bar\\(121.54_25.075).png\n",
      "訓練與預測 (121.545, 25.075) 的決策樹...\n",
      "[LightGBM] [Info] Auto-choosing row-wise multi-threading, the overhead of testing was 0.000402 seconds.\n",
      "You can set `force_row_wise=true` to remove the overhead.\n",
      "And if memory is not enough, you can set `force_col_wise=true`.\n",
      "[LightGBM] [Info] Total Bins 500\n",
      "[LightGBM] [Info] Number of data points in the train set: 13585, number of used features: 22\n",
      "[LightGBM] [Info] Start training from score 872.581229\n",
      "Training until validation scores don't improve for 10 rounds\n",
      "[10]\tvalid_0's l2: 13290.7\n",
      "[20]\tvalid_0's l2: 9112.67\n",
      "[30]\tvalid_0's l2: 7173.74\n",
      "[40]\tvalid_0's l2: 6059.59\n",
      "[50]\tvalid_0's l2: 5295.43\n",
      "[60]\tvalid_0's l2: 4854.53\n",
      "[70]\tvalid_0's l2: 4498.13\n",
      "[80]\tvalid_0's l2: 4176.35\n",
      "[90]\tvalid_0's l2: 3976.61\n",
      "[100]\tvalid_0's l2: 3812.95\n",
      "Did not meet early stopping. Best iteration is:\n",
      "[100]\tvalid_0's l2: 3812.95\n",
      "LightGBM 總樹數: 100\n",
      "學習曲線已儲存至: C:\\thesis\\code\\result_lgb\\learning_curve\\(121.545_25.075).png\n",
      "最佳決策樹圖（Highest split_gain）已儲存至: C:\\thesis\\code\\result_lgb\\tree\\(121.545_25.075).png\n",
      "SHAP 特徵重要性圖已儲存至: C:\\thesis\\code\\result_lgb\\shap_summary\\(121.545_25.075).png\n",
      "SHAP 特徵影響條形圖已儲存至: C:\\thesis\\code\\result_lgb\\shap_bar\\(121.545_25.075).png\n",
      "訓練與預測 (121.51, 25.025) 的決策樹...\n",
      "[LightGBM] [Info] Auto-choosing row-wise multi-threading, the overhead of testing was 0.000359 seconds.\n",
      "You can set `force_row_wise=true` to remove the overhead.\n",
      "And if memory is not enough, you can set `force_col_wise=true`.\n",
      "[LightGBM] [Info] Total Bins 500\n",
      "[LightGBM] [Info] Number of data points in the train set: 13585, number of used features: 22\n",
      "[LightGBM] [Info] Start training from score 1836.725359\n",
      "Training until validation scores don't improve for 10 rounds\n",
      "[10]\tvalid_0's l2: 70680.6\n",
      "[20]\tvalid_0's l2: 42470.3\n",
      "[30]\tvalid_0's l2: 30131\n",
      "[40]\tvalid_0's l2: 24273\n",
      "[50]\tvalid_0's l2: 20876.2\n",
      "[60]\tvalid_0's l2: 18545\n",
      "[70]\tvalid_0's l2: 16640.3\n",
      "[80]\tvalid_0's l2: 15278.4\n",
      "[90]\tvalid_0's l2: 14270.8\n",
      "[100]\tvalid_0's l2: 13266.5\n",
      "Did not meet early stopping. Best iteration is:\n",
      "[100]\tvalid_0's l2: 13266.5\n",
      "LightGBM 總樹數: 100\n",
      "學習曲線已儲存至: C:\\thesis\\code\\result_lgb\\learning_curve\\(121.51_25.025).png\n",
      "最佳決策樹圖（Highest split_gain）已儲存至: C:\\thesis\\code\\result_lgb\\tree\\(121.51_25.025).png\n",
      "SHAP 特徵重要性圖已儲存至: C:\\thesis\\code\\result_lgb\\shap_summary\\(121.51_25.025).png\n",
      "SHAP 特徵影響條形圖已儲存至: C:\\thesis\\code\\result_lgb\\shap_bar\\(121.51_25.025).png\n",
      "訓練與預測 (121.51, 25.03) 的決策樹...\n",
      "[LightGBM] [Info] Auto-choosing row-wise multi-threading, the overhead of testing was 0.000528 seconds.\n",
      "You can set `force_row_wise=true` to remove the overhead.\n",
      "And if memory is not enough, you can set `force_col_wise=true`.\n",
      "[LightGBM] [Info] Total Bins 500\n",
      "[LightGBM] [Info] Number of data points in the train set: 13585, number of used features: 22\n",
      "[LightGBM] [Info] Start training from score 1240.209717\n",
      "Training until validation scores don't improve for 10 rounds\n",
      "[10]\tvalid_0's l2: 71769.2\n",
      "[20]\tvalid_0's l2: 43378.3\n",
      "[30]\tvalid_0's l2: 31507.3\n",
      "[40]\tvalid_0's l2: 25870.6\n",
      "[50]\tvalid_0's l2: 22305.6\n",
      "[60]\tvalid_0's l2: 20081\n",
      "[70]\tvalid_0's l2: 18231.2\n",
      "[80]\tvalid_0's l2: 16881.5\n",
      "[90]\tvalid_0's l2: 15925.8\n",
      "[100]\tvalid_0's l2: 15006\n",
      "Did not meet early stopping. Best iteration is:\n",
      "[100]\tvalid_0's l2: 15006\n",
      "LightGBM 總樹數: 100\n",
      "學習曲線已儲存至: C:\\thesis\\code\\result_lgb\\learning_curve\\(121.51_25.03).png\n",
      "最佳決策樹圖（Highest split_gain）已儲存至: C:\\thesis\\code\\result_lgb\\tree\\(121.51_25.03).png\n",
      "SHAP 特徵重要性圖已儲存至: C:\\thesis\\code\\result_lgb\\shap_summary\\(121.51_25.03).png\n",
      "SHAP 特徵影響條形圖已儲存至: C:\\thesis\\code\\result_lgb\\shap_bar\\(121.51_25.03).png\n",
      "訓練與預測 (121.51, 25.035) 的決策樹...\n",
      "[LightGBM] [Info] Auto-choosing row-wise multi-threading, the overhead of testing was 0.000393 seconds.\n",
      "You can set `force_row_wise=true` to remove the overhead.\n",
      "And if memory is not enough, you can set `force_col_wise=true`.\n",
      "[LightGBM] [Info] Total Bins 500\n",
      "[LightGBM] [Info] Number of data points in the train set: 13585, number of used features: 22\n",
      "[LightGBM] [Info] Start training from score 2289.771439\n",
      "Training until validation scores don't improve for 10 rounds\n",
      "[10]\tvalid_0's l2: 1.0471e+06\n",
      "[20]\tvalid_0's l2: 507451\n",
      "[30]\tvalid_0's l2: 283938\n",
      "[40]\tvalid_0's l2: 195696\n",
      "[50]\tvalid_0's l2: 153254\n",
      "[60]\tvalid_0's l2: 129407\n",
      "[70]\tvalid_0's l2: 112150\n",
      "[80]\tvalid_0's l2: 99217.5\n",
      "[90]\tvalid_0's l2: 89766\n",
      "[100]\tvalid_0's l2: 81732\n",
      "Did not meet early stopping. Best iteration is:\n",
      "[100]\tvalid_0's l2: 81732\n",
      "LightGBM 總樹數: 100\n",
      "學習曲線已儲存至: C:\\thesis\\code\\result_lgb\\learning_curve\\(121.51_25.035).png\n",
      "最佳決策樹圖（Highest split_gain）已儲存至: C:\\thesis\\code\\result_lgb\\tree\\(121.51_25.035).png\n",
      "SHAP 特徵重要性圖已儲存至: C:\\thesis\\code\\result_lgb\\shap_summary\\(121.51_25.035).png\n",
      "SHAP 特徵影響條形圖已儲存至: C:\\thesis\\code\\result_lgb\\shap_bar\\(121.51_25.035).png\n",
      "訓練與預測 (121.51, 25.04) 的決策樹...\n",
      "[LightGBM] [Info] Auto-choosing row-wise multi-threading, the overhead of testing was 0.000637 seconds.\n",
      "You can set `force_row_wise=true` to remove the overhead.\n",
      "And if memory is not enough, you can set `force_col_wise=true`.\n",
      "[LightGBM] [Info] Total Bins 500\n",
      "[LightGBM] [Info] Number of data points in the train set: 13585, number of used features: 22\n",
      "[LightGBM] [Info] Start training from score 4043.582628\n",
      "Training until validation scores don't improve for 10 rounds\n",
      "[10]\tvalid_0's l2: 2.30128e+06\n",
      "[20]\tvalid_0's l2: 1.09135e+06\n",
      "[30]\tvalid_0's l2: 593709\n",
      "[40]\tvalid_0's l2: 409495\n",
      "[50]\tvalid_0's l2: 319774\n",
      "[60]\tvalid_0's l2: 267549\n",
      "[70]\tvalid_0's l2: 233484\n",
      "[80]\tvalid_0's l2: 211129\n",
      "[90]\tvalid_0's l2: 193891\n",
      "[100]\tvalid_0's l2: 180383\n",
      "Did not meet early stopping. Best iteration is:\n",
      "[100]\tvalid_0's l2: 180383\n",
      "LightGBM 總樹數: 100\n",
      "學習曲線已儲存至: C:\\thesis\\code\\result_lgb\\learning_curve\\(121.51_25.04).png\n",
      "最佳決策樹圖（Highest split_gain）已儲存至: C:\\thesis\\code\\result_lgb\\tree\\(121.51_25.04).png\n",
      "SHAP 特徵重要性圖已儲存至: C:\\thesis\\code\\result_lgb\\shap_summary\\(121.51_25.04).png\n",
      "SHAP 特徵影響條形圖已儲存至: C:\\thesis\\code\\result_lgb\\shap_bar\\(121.51_25.04).png\n",
      "訓練與預測 (121.51, 25.045) 的決策樹...\n",
      "[LightGBM] [Info] Auto-choosing row-wise multi-threading, the overhead of testing was 0.000594 seconds.\n",
      "You can set `force_row_wise=true` to remove the overhead.\n",
      "And if memory is not enough, you can set `force_col_wise=true`.\n",
      "[LightGBM] [Info] Total Bins 500\n",
      "[LightGBM] [Info] Number of data points in the train set: 13585, number of used features: 22\n",
      "[LightGBM] [Info] Start training from score 4016.785425\n",
      "Training until validation scores don't improve for 10 rounds\n",
      "[10]\tvalid_0's l2: 1.3095e+06\n",
      "[20]\tvalid_0's l2: 658771\n",
      "[30]\tvalid_0's l2: 390476\n",
      "[40]\tvalid_0's l2: 287489\n",
      "[50]\tvalid_0's l2: 230554\n",
      "[60]\tvalid_0's l2: 197907\n",
      "[70]\tvalid_0's l2: 175173\n",
      "[80]\tvalid_0's l2: 158912\n",
      "[90]\tvalid_0's l2: 146703\n",
      "[100]\tvalid_0's l2: 134344\n",
      "Did not meet early stopping. Best iteration is:\n",
      "[100]\tvalid_0's l2: 134344\n",
      "LightGBM 總樹數: 100\n",
      "學習曲線已儲存至: C:\\thesis\\code\\result_lgb\\learning_curve\\(121.51_25.045).png\n",
      "最佳決策樹圖（Highest split_gain）已儲存至: C:\\thesis\\code\\result_lgb\\tree\\(121.51_25.045).png\n",
      "SHAP 特徵重要性圖已儲存至: C:\\thesis\\code\\result_lgb\\shap_summary\\(121.51_25.045).png\n",
      "SHAP 特徵影響條形圖已儲存至: C:\\thesis\\code\\result_lgb\\shap_bar\\(121.51_25.045).png\n",
      "訓練與預測 (121.515, 25.025) 的決策樹...\n",
      "[LightGBM] [Info] Auto-choosing row-wise multi-threading, the overhead of testing was 0.000473 seconds.\n",
      "You can set `force_row_wise=true` to remove the overhead.\n",
      "And if memory is not enough, you can set `force_col_wise=true`.\n",
      "[LightGBM] [Info] Total Bins 500\n",
      "[LightGBM] [Info] Number of data points in the train set: 13585, number of used features: 22\n",
      "[LightGBM] [Info] Start training from score 2573.071991\n",
      "Training until validation scores don't improve for 10 rounds\n",
      "[10]\tvalid_0's l2: 47959.3\n",
      "[20]\tvalid_0's l2: 36162.7\n",
      "[30]\tvalid_0's l2: 29470.6\n",
      "[40]\tvalid_0's l2: 25423.1\n",
      "[50]\tvalid_0's l2: 22407.7\n",
      "[60]\tvalid_0's l2: 20352\n",
      "[70]\tvalid_0's l2: 18667.9\n",
      "[80]\tvalid_0's l2: 17380.9\n",
      "[90]\tvalid_0's l2: 16397.6\n",
      "[100]\tvalid_0's l2: 15462.2\n",
      "Did not meet early stopping. Best iteration is:\n",
      "[100]\tvalid_0's l2: 15462.2\n",
      "LightGBM 總樹數: 100\n",
      "學習曲線已儲存至: C:\\thesis\\code\\result_lgb\\learning_curve\\(121.515_25.025).png\n",
      "最佳決策樹圖（Highest split_gain）已儲存至: C:\\thesis\\code\\result_lgb\\tree\\(121.515_25.025).png\n",
      "SHAP 特徵重要性圖已儲存至: C:\\thesis\\code\\result_lgb\\shap_summary\\(121.515_25.025).png\n",
      "SHAP 特徵影響條形圖已儲存至: C:\\thesis\\code\\result_lgb\\shap_bar\\(121.515_25.025).png\n",
      "訓練與預測 (121.515, 25.03) 的決策樹...\n",
      "[LightGBM] [Info] Auto-choosing row-wise multi-threading, the overhead of testing was 0.000571 seconds.\n",
      "You can set `force_row_wise=true` to remove the overhead.\n",
      "And if memory is not enough, you can set `force_col_wise=true`.\n",
      "[LightGBM] [Info] Total Bins 500\n",
      "[LightGBM] [Info] Number of data points in the train set: 13585, number of used features: 22\n",
      "[LightGBM] [Info] Start training from score 3194.115937\n",
      "Training until validation scores don't improve for 10 rounds\n",
      "[10]\tvalid_0's l2: 1.07812e+06\n",
      "[20]\tvalid_0's l2: 517754\n",
      "[30]\tvalid_0's l2: 290729\n",
      "[40]\tvalid_0's l2: 200423\n",
      "[50]\tvalid_0's l2: 157059\n",
      "[60]\tvalid_0's l2: 133365\n",
      "[70]\tvalid_0's l2: 116483\n",
      "[80]\tvalid_0's l2: 105159\n",
      "[90]\tvalid_0's l2: 96250.3\n",
      "[100]\tvalid_0's l2: 88789.6\n",
      "Did not meet early stopping. Best iteration is:\n",
      "[100]\tvalid_0's l2: 88789.6\n",
      "LightGBM 總樹數: 100\n",
      "學習曲線已儲存至: C:\\thesis\\code\\result_lgb\\learning_curve\\(121.515_25.03).png\n",
      "最佳決策樹圖（Highest split_gain）已儲存至: C:\\thesis\\code\\result_lgb\\tree\\(121.515_25.03).png\n",
      "SHAP 特徵重要性圖已儲存至: C:\\thesis\\code\\result_lgb\\shap_summary\\(121.515_25.03).png\n",
      "SHAP 特徵影響條形圖已儲存至: C:\\thesis\\code\\result_lgb\\shap_bar\\(121.515_25.03).png\n",
      "訓練與預測 (121.515, 25.035) 的決策樹...\n",
      "[LightGBM] [Info] Auto-choosing row-wise multi-threading, the overhead of testing was 0.000540 seconds.\n",
      "You can set `force_row_wise=true` to remove the overhead.\n",
      "And if memory is not enough, you can set `force_col_wise=true`.\n",
      "[LightGBM] [Info] Total Bins 500\n",
      "[LightGBM] [Info] Number of data points in the train set: 13585, number of used features: 22\n",
      "[LightGBM] [Info] Start training from score 669.728966\n",
      "Training until validation scores don't improve for 10 rounds\n",
      "[10]\tvalid_0's l2: 231696\n",
      "[20]\tvalid_0's l2: 115035\n",
      "[30]\tvalid_0's l2: 67736.4\n",
      "[40]\tvalid_0's l2: 48892.9\n",
      "[50]\tvalid_0's l2: 38711.8\n",
      "[60]\tvalid_0's l2: 33680.4\n",
      "[70]\tvalid_0's l2: 28940.6\n",
      "[80]\tvalid_0's l2: 26173.9\n",
      "[90]\tvalid_0's l2: 23693.6\n",
      "[100]\tvalid_0's l2: 21830.4\n",
      "Did not meet early stopping. Best iteration is:\n",
      "[100]\tvalid_0's l2: 21830.4\n",
      "LightGBM 總樹數: 100\n",
      "學習曲線已儲存至: C:\\thesis\\code\\result_lgb\\learning_curve\\(121.515_25.035).png\n",
      "最佳決策樹圖（Highest split_gain）已儲存至: C:\\thesis\\code\\result_lgb\\tree\\(121.515_25.035).png\n",
      "SHAP 特徵重要性圖已儲存至: C:\\thesis\\code\\result_lgb\\shap_summary\\(121.515_25.035).png\n",
      "SHAP 特徵影響條形圖已儲存至: C:\\thesis\\code\\result_lgb\\shap_bar\\(121.515_25.035).png\n",
      "訓練與預測 (121.515, 25.04) 的決策樹...\n",
      "[LightGBM] [Info] Auto-choosing row-wise multi-threading, the overhead of testing was 0.000386 seconds.\n",
      "You can set `force_row_wise=true` to remove the overhead.\n",
      "And if memory is not enough, you can set `force_col_wise=true`.\n",
      "[LightGBM] [Info] Total Bins 500\n",
      "[LightGBM] [Info] Number of data points in the train set: 13585, number of used features: 22\n",
      "[LightGBM] [Info] Start training from score 1964.108355\n",
      "Training until validation scores don't improve for 10 rounds\n",
      "[10]\tvalid_0's l2: 976447\n",
      "[20]\tvalid_0's l2: 439542\n",
      "[30]\tvalid_0's l2: 228198\n",
      "[40]\tvalid_0's l2: 151521\n",
      "[50]\tvalid_0's l2: 116271\n",
      "[60]\tvalid_0's l2: 98752.5\n",
      "[70]\tvalid_0's l2: 87479.1\n",
      "[80]\tvalid_0's l2: 76610.2\n",
      "[90]\tvalid_0's l2: 70610\n",
      "[100]\tvalid_0's l2: 66118.4\n",
      "Did not meet early stopping. Best iteration is:\n",
      "[100]\tvalid_0's l2: 66118.4\n",
      "LightGBM 總樹數: 100\n",
      "學習曲線已儲存至: C:\\thesis\\code\\result_lgb\\learning_curve\\(121.515_25.04).png\n",
      "最佳決策樹圖（Highest split_gain）已儲存至: C:\\thesis\\code\\result_lgb\\tree\\(121.515_25.04).png\n",
      "SHAP 特徵重要性圖已儲存至: C:\\thesis\\code\\result_lgb\\shap_summary\\(121.515_25.04).png\n",
      "SHAP 特徵影響條形圖已儲存至: C:\\thesis\\code\\result_lgb\\shap_bar\\(121.515_25.04).png\n",
      "訓練與預測 (121.515, 25.045) 的決策樹...\n",
      "[LightGBM] [Info] Auto-choosing row-wise multi-threading, the overhead of testing was 0.000380 seconds.\n",
      "You can set `force_row_wise=true` to remove the overhead.\n",
      "And if memory is not enough, you can set `force_col_wise=true`.\n",
      "[LightGBM] [Info] Total Bins 500\n",
      "[LightGBM] [Info] Number of data points in the train set: 13585, number of used features: 22\n",
      "[LightGBM] [Info] Start training from score 10098.102024\n",
      "Training until validation scores don't improve for 10 rounds\n",
      "[10]\tvalid_0's l2: 1.4293e+07\n",
      "[20]\tvalid_0's l2: 6.53345e+06\n",
      "[30]\tvalid_0's l2: 3.32561e+06\n",
      "[40]\tvalid_0's l2: 2.16307e+06\n",
      "[50]\tvalid_0's l2: 1.59757e+06\n",
      "[60]\tvalid_0's l2: 1.27943e+06\n",
      "[70]\tvalid_0's l2: 1.09087e+06\n",
      "[80]\tvalid_0's l2: 961977\n",
      "[90]\tvalid_0's l2: 854172\n",
      "[100]\tvalid_0's l2: 786936\n",
      "Did not meet early stopping. Best iteration is:\n",
      "[100]\tvalid_0's l2: 786936\n",
      "LightGBM 總樹數: 100\n",
      "學習曲線已儲存至: C:\\thesis\\code\\result_lgb\\learning_curve\\(121.515_25.045).png\n",
      "最佳決策樹圖（Highest split_gain）已儲存至: C:\\thesis\\code\\result_lgb\\tree\\(121.515_25.045).png\n",
      "SHAP 特徵重要性圖已儲存至: C:\\thesis\\code\\result_lgb\\shap_summary\\(121.515_25.045).png\n",
      "SHAP 特徵影響條形圖已儲存至: C:\\thesis\\code\\result_lgb\\shap_bar\\(121.515_25.045).png\n",
      "訓練與預測 (121.52, 25.025) 的決策樹...\n",
      "[LightGBM] [Info] Auto-choosing row-wise multi-threading, the overhead of testing was 0.000531 seconds.\n",
      "You can set `force_row_wise=true` to remove the overhead.\n",
      "And if memory is not enough, you can set `force_col_wise=true`.\n",
      "[LightGBM] [Info] Total Bins 500\n",
      "[LightGBM] [Info] Number of data points in the train set: 13585, number of used features: 22\n",
      "[LightGBM] [Info] Start training from score 4565.570114\n",
      "Training until validation scores don't improve for 10 rounds\n",
      "[10]\tvalid_0's l2: 222792\n",
      "[20]\tvalid_0's l2: 147889\n",
      "[30]\tvalid_0's l2: 112873\n",
      "[40]\tvalid_0's l2: 94981.1\n",
      "[50]\tvalid_0's l2: 83593.4\n",
      "[60]\tvalid_0's l2: 74947.3\n",
      "[70]\tvalid_0's l2: 68410.8\n",
      "[80]\tvalid_0's l2: 62034.4\n",
      "[90]\tvalid_0's l2: 56777.2\n",
      "[100]\tvalid_0's l2: 51688.5\n",
      "Did not meet early stopping. Best iteration is:\n",
      "[100]\tvalid_0's l2: 51688.5\n",
      "LightGBM 總樹數: 100\n",
      "學習曲線已儲存至: C:\\thesis\\code\\result_lgb\\learning_curve\\(121.52_25.025).png\n",
      "最佳決策樹圖（Highest split_gain）已儲存至: C:\\thesis\\code\\result_lgb\\tree\\(121.52_25.025).png\n",
      "SHAP 特徵重要性圖已儲存至: C:\\thesis\\code\\result_lgb\\shap_summary\\(121.52_25.025).png\n",
      "SHAP 特徵影響條形圖已儲存至: C:\\thesis\\code\\result_lgb\\shap_bar\\(121.52_25.025).png\n",
      "訓練與預測 (121.52, 25.03) 的決策樹...\n",
      "[LightGBM] [Info] Auto-choosing col-wise multi-threading, the overhead of testing was 0.001158 seconds.\n",
      "You can set `force_col_wise=true` to remove the overhead.\n",
      "[LightGBM] [Info] Total Bins 500\n",
      "[LightGBM] [Info] Number of data points in the train set: 13585, number of used features: 22\n",
      "[LightGBM] [Info] Start training from score 3035.114023\n",
      "Training until validation scores don't improve for 10 rounds\n",
      "[10]\tvalid_0's l2: 572823\n",
      "[20]\tvalid_0's l2: 333275\n",
      "[30]\tvalid_0's l2: 227247\n",
      "[40]\tvalid_0's l2: 177859\n",
      "[50]\tvalid_0's l2: 149120\n",
      "[60]\tvalid_0's l2: 128869\n",
      "[70]\tvalid_0's l2: 117739\n",
      "[80]\tvalid_0's l2: 108128\n",
      "[90]\tvalid_0's l2: 101132\n",
      "[100]\tvalid_0's l2: 96017.1\n",
      "Did not meet early stopping. Best iteration is:\n",
      "[100]\tvalid_0's l2: 96017.1\n",
      "LightGBM 總樹數: 100\n",
      "學習曲線已儲存至: C:\\thesis\\code\\result_lgb\\learning_curve\\(121.52_25.03).png\n",
      "最佳決策樹圖（Highest split_gain）已儲存至: C:\\thesis\\code\\result_lgb\\tree\\(121.52_25.03).png\n",
      "SHAP 特徵重要性圖已儲存至: C:\\thesis\\code\\result_lgb\\shap_summary\\(121.52_25.03).png\n",
      "SHAP 特徵影響條形圖已儲存至: C:\\thesis\\code\\result_lgb\\shap_bar\\(121.52_25.03).png\n",
      "訓練與預測 (121.52, 25.035) 的決策樹...\n",
      "[LightGBM] [Info] Auto-choosing row-wise multi-threading, the overhead of testing was 0.000551 seconds.\n",
      "You can set `force_row_wise=true` to remove the overhead.\n",
      "And if memory is not enough, you can set `force_col_wise=true`.\n",
      "[LightGBM] [Info] Total Bins 500\n",
      "[LightGBM] [Info] Number of data points in the train set: 13585, number of used features: 22\n",
      "[LightGBM] [Info] Start training from score 1779.336474\n",
      "Training until validation scores don't improve for 10 rounds\n",
      "[10]\tvalid_0's l2: 574339\n",
      "[20]\tvalid_0's l2: 293858\n",
      "[30]\tvalid_0's l2: 178361\n",
      "[40]\tvalid_0's l2: 135043\n",
      "[50]\tvalid_0's l2: 112866\n",
      "[60]\tvalid_0's l2: 99952.7\n",
      "[70]\tvalid_0's l2: 90548.7\n",
      "[80]\tvalid_0's l2: 84005.9\n",
      "[90]\tvalid_0's l2: 77514.9\n",
      "[100]\tvalid_0's l2: 73568.9\n",
      "Did not meet early stopping. Best iteration is:\n",
      "[100]\tvalid_0's l2: 73568.9\n",
      "LightGBM 總樹數: 100\n",
      "學習曲線已儲存至: C:\\thesis\\code\\result_lgb\\learning_curve\\(121.52_25.035).png\n",
      "最佳決策樹圖（Highest split_gain）已儲存至: C:\\thesis\\code\\result_lgb\\tree\\(121.52_25.035).png\n",
      "SHAP 特徵重要性圖已儲存至: C:\\thesis\\code\\result_lgb\\shap_summary\\(121.52_25.035).png\n",
      "SHAP 特徵影響條形圖已儲存至: C:\\thesis\\code\\result_lgb\\shap_bar\\(121.52_25.035).png\n",
      "訓練與預測 (121.52, 25.04) 的決策樹...\n",
      "[LightGBM] [Info] Auto-choosing row-wise multi-threading, the overhead of testing was 0.000503 seconds.\n",
      "You can set `force_row_wise=true` to remove the overhead.\n",
      "And if memory is not enough, you can set `force_col_wise=true`.\n",
      "[LightGBM] [Info] Total Bins 500\n",
      "[LightGBM] [Info] Number of data points in the train set: 13585, number of used features: 22\n",
      "[LightGBM] [Info] Start training from score 4655.678027\n",
      "Training until validation scores don't improve for 10 rounds\n",
      "[10]\tvalid_0's l2: 3.95259e+06\n",
      "[20]\tvalid_0's l2: 1.79454e+06\n",
      "[30]\tvalid_0's l2: 939031\n",
      "[40]\tvalid_0's l2: 620207\n",
      "[50]\tvalid_0's l2: 464842\n",
      "[60]\tvalid_0's l2: 383002\n",
      "[70]\tvalid_0's l2: 326108\n",
      "[80]\tvalid_0's l2: 287319\n",
      "[90]\tvalid_0's l2: 262928\n",
      "[100]\tvalid_0's l2: 239597\n",
      "Did not meet early stopping. Best iteration is:\n",
      "[100]\tvalid_0's l2: 239597\n",
      "LightGBM 總樹數: 100\n",
      "學習曲線已儲存至: C:\\thesis\\code\\result_lgb\\learning_curve\\(121.52_25.04).png\n",
      "最佳決策樹圖（Highest split_gain）已儲存至: C:\\thesis\\code\\result_lgb\\tree\\(121.52_25.04).png\n",
      "SHAP 特徵重要性圖已儲存至: C:\\thesis\\code\\result_lgb\\shap_summary\\(121.52_25.04).png\n",
      "SHAP 特徵影響條形圖已儲存至: C:\\thesis\\code\\result_lgb\\shap_bar\\(121.52_25.04).png\n",
      "訓練與預測 (121.52, 25.045) 的決策樹...\n",
      "[LightGBM] [Info] Auto-choosing row-wise multi-threading, the overhead of testing was 0.000574 seconds.\n",
      "You can set `force_row_wise=true` to remove the overhead.\n",
      "And if memory is not enough, you can set `force_col_wise=true`.\n",
      "[LightGBM] [Info] Total Bins 500\n",
      "[LightGBM] [Info] Number of data points in the train set: 13585, number of used features: 22\n",
      "[LightGBM] [Info] Start training from score 3927.403239\n",
      "Training until validation scores don't improve for 10 rounds\n",
      "[10]\tvalid_0's l2: 3.23512e+06\n",
      "[20]\tvalid_0's l2: 1.5028e+06\n",
      "[30]\tvalid_0's l2: 806292\n",
      "[40]\tvalid_0's l2: 551254\n",
      "[50]\tvalid_0's l2: 421055\n",
      "[60]\tvalid_0's l2: 354297\n",
      "[70]\tvalid_0's l2: 302913\n",
      "[80]\tvalid_0's l2: 273491\n",
      "[90]\tvalid_0's l2: 252277\n",
      "[100]\tvalid_0's l2: 235819\n",
      "Did not meet early stopping. Best iteration is:\n",
      "[100]\tvalid_0's l2: 235819\n",
      "LightGBM 總樹數: 100\n",
      "學習曲線已儲存至: C:\\thesis\\code\\result_lgb\\learning_curve\\(121.52_25.045).png\n",
      "最佳決策樹圖（Highest split_gain）已儲存至: C:\\thesis\\code\\result_lgb\\tree\\(121.52_25.045).png\n",
      "SHAP 特徵重要性圖已儲存至: C:\\thesis\\code\\result_lgb\\shap_summary\\(121.52_25.045).png\n",
      "SHAP 特徵影響條形圖已儲存至: C:\\thesis\\code\\result_lgb\\shap_bar\\(121.52_25.045).png\n",
      "訓練與預測 (121.525, 25.025) 的決策樹...\n",
      "[LightGBM] [Info] Auto-choosing row-wise multi-threading, the overhead of testing was 0.000453 seconds.\n",
      "You can set `force_row_wise=true` to remove the overhead.\n",
      "And if memory is not enough, you can set `force_col_wise=true`.\n",
      "[LightGBM] [Info] Total Bins 500\n",
      "[LightGBM] [Info] Number of data points in the train set: 13585, number of used features: 22\n",
      "[LightGBM] [Info] Start training from score 4764.742142\n",
      "Training until validation scores don't improve for 10 rounds\n",
      "[10]\tvalid_0's l2: 745482\n",
      "[20]\tvalid_0's l2: 410940\n",
      "[30]\tvalid_0's l2: 263905\n",
      "[40]\tvalid_0's l2: 204565\n",
      "[50]\tvalid_0's l2: 172367\n",
      "[60]\tvalid_0's l2: 152967\n",
      "[70]\tvalid_0's l2: 138483\n",
      "[80]\tvalid_0's l2: 128148\n",
      "[90]\tvalid_0's l2: 121827\n",
      "[100]\tvalid_0's l2: 116312\n",
      "Did not meet early stopping. Best iteration is:\n",
      "[100]\tvalid_0's l2: 116312\n",
      "LightGBM 總樹數: 100\n",
      "學習曲線已儲存至: C:\\thesis\\code\\result_lgb\\learning_curve\\(121.525_25.025).png\n",
      "最佳決策樹圖（Highest split_gain）已儲存至: C:\\thesis\\code\\result_lgb\\tree\\(121.525_25.025).png\n",
      "SHAP 特徵重要性圖已儲存至: C:\\thesis\\code\\result_lgb\\shap_summary\\(121.525_25.025).png\n",
      "SHAP 特徵影響條形圖已儲存至: C:\\thesis\\code\\result_lgb\\shap_bar\\(121.525_25.025).png\n",
      "訓練與預測 (121.525, 25.03) 的決策樹...\n",
      "[LightGBM] [Info] Auto-choosing row-wise multi-threading, the overhead of testing was 0.000381 seconds.\n",
      "You can set `force_row_wise=true` to remove the overhead.\n",
      "And if memory is not enough, you can set `force_col_wise=true`.\n",
      "[LightGBM] [Info] Total Bins 500\n",
      "[LightGBM] [Info] Number of data points in the train set: 13585, number of used features: 22\n",
      "[LightGBM] [Info] Start training from score 4885.504969\n",
      "Training until validation scores don't improve for 10 rounds\n",
      "[10]\tvalid_0's l2: 1.05641e+06\n",
      "[20]\tvalid_0's l2: 526347\n",
      "[30]\tvalid_0's l2: 309093\n",
      "[40]\tvalid_0's l2: 225013\n",
      "[50]\tvalid_0's l2: 180574\n",
      "[60]\tvalid_0's l2: 156257\n",
      "[70]\tvalid_0's l2: 140588\n",
      "[80]\tvalid_0's l2: 129795\n",
      "[90]\tvalid_0's l2: 117992\n",
      "[100]\tvalid_0's l2: 107915\n",
      "Did not meet early stopping. Best iteration is:\n",
      "[100]\tvalid_0's l2: 107915\n",
      "LightGBM 總樹數: 100\n",
      "學習曲線已儲存至: C:\\thesis\\code\\result_lgb\\learning_curve\\(121.525_25.03).png\n",
      "最佳決策樹圖（Highest split_gain）已儲存至: C:\\thesis\\code\\result_lgb\\tree\\(121.525_25.03).png\n",
      "SHAP 特徵重要性圖已儲存至: C:\\thesis\\code\\result_lgb\\shap_summary\\(121.525_25.03).png\n",
      "SHAP 特徵影響條形圖已儲存至: C:\\thesis\\code\\result_lgb\\shap_bar\\(121.525_25.03).png\n",
      "訓練與預測 (121.525, 25.035) 的決策樹...\n",
      "[LightGBM] [Info] Auto-choosing row-wise multi-threading, the overhead of testing was 0.000447 seconds.\n",
      "You can set `force_row_wise=true` to remove the overhead.\n",
      "And if memory is not enough, you can set `force_col_wise=true`.\n",
      "[LightGBM] [Info] Total Bins 500\n",
      "[LightGBM] [Info] Number of data points in the train set: 13585, number of used features: 22\n",
      "[LightGBM] [Info] Start training from score 3148.659919\n",
      "Training until validation scores don't improve for 10 rounds\n",
      "[10]\tvalid_0's l2: 609232\n",
      "[20]\tvalid_0's l2: 305517\n",
      "[30]\tvalid_0's l2: 183150\n",
      "[40]\tvalid_0's l2: 135472\n",
      "[50]\tvalid_0's l2: 110992\n",
      "[60]\tvalid_0's l2: 96542.4\n",
      "[70]\tvalid_0's l2: 87610.7\n",
      "[80]\tvalid_0's l2: 79692.8\n",
      "[90]\tvalid_0's l2: 74146.2\n",
      "[100]\tvalid_0's l2: 69455.4\n",
      "Did not meet early stopping. Best iteration is:\n",
      "[100]\tvalid_0's l2: 69455.4\n",
      "LightGBM 總樹數: 100\n",
      "學習曲線已儲存至: C:\\thesis\\code\\result_lgb\\learning_curve\\(121.525_25.035).png\n",
      "最佳決策樹圖（Highest split_gain）已儲存至: C:\\thesis\\code\\result_lgb\\tree\\(121.525_25.035).png\n",
      "SHAP 特徵重要性圖已儲存至: C:\\thesis\\code\\result_lgb\\shap_summary\\(121.525_25.035).png\n",
      "SHAP 特徵影響條形圖已儲存至: C:\\thesis\\code\\result_lgb\\shap_bar\\(121.525_25.035).png\n",
      "訓練與預測 (121.525, 25.04) 的決策樹...\n",
      "[LightGBM] [Info] Auto-choosing row-wise multi-threading, the overhead of testing was 0.000734 seconds.\n",
      "You can set `force_row_wise=true` to remove the overhead.\n",
      "And if memory is not enough, you can set `force_col_wise=true`.\n",
      "[LightGBM] [Info] Total Bins 500\n",
      "[LightGBM] [Info] Number of data points in the train set: 13585, number of used features: 22\n",
      "[LightGBM] [Info] Start training from score 5341.780567\n",
      "Training until validation scores don't improve for 10 rounds\n",
      "[10]\tvalid_0's l2: 941719\n",
      "[20]\tvalid_0's l2: 518105\n",
      "[30]\tvalid_0's l2: 341011\n",
      "[40]\tvalid_0's l2: 267766\n",
      "[50]\tvalid_0's l2: 221231\n",
      "[60]\tvalid_0's l2: 195860\n",
      "[70]\tvalid_0's l2: 176654\n",
      "[80]\tvalid_0's l2: 157273\n",
      "[90]\tvalid_0's l2: 142945\n",
      "[100]\tvalid_0's l2: 131002\n",
      "Did not meet early stopping. Best iteration is:\n",
      "[100]\tvalid_0's l2: 131002\n",
      "LightGBM 總樹數: 100\n",
      "學習曲線已儲存至: C:\\thesis\\code\\result_lgb\\learning_curve\\(121.525_25.04).png\n",
      "最佳決策樹圖（Highest split_gain）已儲存至: C:\\thesis\\code\\result_lgb\\tree\\(121.525_25.04).png\n",
      "SHAP 特徵重要性圖已儲存至: C:\\thesis\\code\\result_lgb\\shap_summary\\(121.525_25.04).png\n",
      "SHAP 特徵影響條形圖已儲存至: C:\\thesis\\code\\result_lgb\\shap_bar\\(121.525_25.04).png\n",
      "訓練與預測 (121.525, 25.045) 的決策樹...\n",
      "[LightGBM] [Info] Auto-choosing row-wise multi-threading, the overhead of testing was 0.000577 seconds.\n",
      "You can set `force_row_wise=true` to remove the overhead.\n",
      "And if memory is not enough, you can set `force_col_wise=true`.\n",
      "[LightGBM] [Info] Total Bins 500\n",
      "[LightGBM] [Info] Number of data points in the train set: 13585, number of used features: 22\n",
      "[LightGBM] [Info] Start training from score 3854.853073\n",
      "Training until validation scores don't improve for 10 rounds\n",
      "[10]\tvalid_0's l2: 1.64133e+06\n",
      "[20]\tvalid_0's l2: 843880\n",
      "[30]\tvalid_0's l2: 508136\n",
      "[40]\tvalid_0's l2: 378738\n",
      "[50]\tvalid_0's l2: 306854\n",
      "[60]\tvalid_0's l2: 266815\n",
      "[70]\tvalid_0's l2: 240838\n",
      "[80]\tvalid_0's l2: 224313\n",
      "[90]\tvalid_0's l2: 206825\n",
      "[100]\tvalid_0's l2: 192315\n",
      "Did not meet early stopping. Best iteration is:\n",
      "[100]\tvalid_0's l2: 192315\n",
      "LightGBM 總樹數: 100\n",
      "學習曲線已儲存至: C:\\thesis\\code\\result_lgb\\learning_curve\\(121.525_25.045).png\n",
      "最佳決策樹圖（Highest split_gain）已儲存至: C:\\thesis\\code\\result_lgb\\tree\\(121.525_25.045).png\n",
      "SHAP 特徵重要性圖已儲存至: C:\\thesis\\code\\result_lgb\\shap_summary\\(121.525_25.045).png\n",
      "SHAP 特徵影響條形圖已儲存至: C:\\thesis\\code\\result_lgb\\shap_bar\\(121.525_25.045).png\n",
      "訓練與預測 (121.53, 25.025) 的決策樹...\n",
      "[LightGBM] [Info] Auto-choosing row-wise multi-threading, the overhead of testing was 0.000604 seconds.\n",
      "You can set `force_row_wise=true` to remove the overhead.\n",
      "And if memory is not enough, you can set `force_col_wise=true`.\n",
      "[LightGBM] [Info] Total Bins 500\n",
      "[LightGBM] [Info] Number of data points in the train set: 13585, number of used features: 22\n",
      "[LightGBM] [Info] Start training from score 3181.584395\n",
      "Training until validation scores don't improve for 10 rounds\n",
      "[10]\tvalid_0's l2: 388182\n",
      "[20]\tvalid_0's l2: 232911\n",
      "[30]\tvalid_0's l2: 161931\n",
      "[40]\tvalid_0's l2: 127005\n",
      "[50]\tvalid_0's l2: 105757\n",
      "[60]\tvalid_0's l2: 89977.4\n",
      "[70]\tvalid_0's l2: 80344\n",
      "[80]\tvalid_0's l2: 71375.2\n",
      "[90]\tvalid_0's l2: 64387.9\n",
      "[100]\tvalid_0's l2: 59015.4\n",
      "Did not meet early stopping. Best iteration is:\n",
      "[100]\tvalid_0's l2: 59015.4\n",
      "LightGBM 總樹數: 100\n",
      "學習曲線已儲存至: C:\\thesis\\code\\result_lgb\\learning_curve\\(121.53_25.025).png\n",
      "最佳決策樹圖（Highest split_gain）已儲存至: C:\\thesis\\code\\result_lgb\\tree\\(121.53_25.025).png\n",
      "SHAP 特徵重要性圖已儲存至: C:\\thesis\\code\\result_lgb\\shap_summary\\(121.53_25.025).png\n",
      "SHAP 特徵影響條形圖已儲存至: C:\\thesis\\code\\result_lgb\\shap_bar\\(121.53_25.025).png\n",
      "訓練與預測 (121.53, 25.03) 的決策樹...\n",
      "[LightGBM] [Info] Auto-choosing row-wise multi-threading, the overhead of testing was 0.000459 seconds.\n",
      "You can set `force_row_wise=true` to remove the overhead.\n",
      "And if memory is not enough, you can set `force_col_wise=true`.\n",
      "[LightGBM] [Info] Total Bins 500\n",
      "[LightGBM] [Info] Number of data points in the train set: 13585, number of used features: 22\n",
      "[LightGBM] [Info] Start training from score 2704.523003\n",
      "Training until validation scores don't improve for 10 rounds\n",
      "[10]\tvalid_0's l2: 133668\n",
      "[20]\tvalid_0's l2: 85118\n",
      "[30]\tvalid_0's l2: 61428.3\n",
      "[40]\tvalid_0's l2: 49819.8\n",
      "[50]\tvalid_0's l2: 42149.5\n",
      "[60]\tvalid_0's l2: 36958.2\n",
      "[70]\tvalid_0's l2: 33725.9\n",
      "[80]\tvalid_0's l2: 30839.1\n",
      "[90]\tvalid_0's l2: 28774.4\n",
      "[100]\tvalid_0's l2: 27200.9\n",
      "Did not meet early stopping. Best iteration is:\n",
      "[100]\tvalid_0's l2: 27200.9\n",
      "LightGBM 總樹數: 100\n",
      "學習曲線已儲存至: C:\\thesis\\code\\result_lgb\\learning_curve\\(121.53_25.03).png\n",
      "最佳決策樹圖（Highest split_gain）已儲存至: C:\\thesis\\code\\result_lgb\\tree\\(121.53_25.03).png\n",
      "SHAP 特徵重要性圖已儲存至: C:\\thesis\\code\\result_lgb\\shap_summary\\(121.53_25.03).png\n",
      "SHAP 特徵影響條形圖已儲存至: C:\\thesis\\code\\result_lgb\\shap_bar\\(121.53_25.03).png\n",
      "訓練與預測 (121.53, 25.035) 的決策樹...\n",
      "[LightGBM] [Info] Auto-choosing row-wise multi-threading, the overhead of testing was 0.000429 seconds.\n",
      "You can set `force_row_wise=true` to remove the overhead.\n",
      "And if memory is not enough, you can set `force_col_wise=true`.\n",
      "[LightGBM] [Info] Total Bins 500\n",
      "[LightGBM] [Info] Number of data points in the train set: 13585, number of used features: 22\n",
      "[LightGBM] [Info] Start training from score 4287.979757\n",
      "Training until validation scores don't improve for 10 rounds\n",
      "[10]\tvalid_0's l2: 241524\n",
      "[20]\tvalid_0's l2: 156832\n",
      "[30]\tvalid_0's l2: 116605\n",
      "[40]\tvalid_0's l2: 93579.1\n",
      "[50]\tvalid_0's l2: 79795.7\n",
      "[60]\tvalid_0's l2: 70815.1\n",
      "[70]\tvalid_0's l2: 64613.3\n",
      "[80]\tvalid_0's l2: 59509\n",
      "[90]\tvalid_0's l2: 55361.8\n",
      "[100]\tvalid_0's l2: 52681\n",
      "Did not meet early stopping. Best iteration is:\n",
      "[100]\tvalid_0's l2: 52681\n",
      "LightGBM 總樹數: 100\n",
      "學習曲線已儲存至: C:\\thesis\\code\\result_lgb\\learning_curve\\(121.53_25.035).png\n",
      "最佳決策樹圖（Highest split_gain）已儲存至: C:\\thesis\\code\\result_lgb\\tree\\(121.53_25.035).png\n",
      "SHAP 特徵重要性圖已儲存至: C:\\thesis\\code\\result_lgb\\shap_summary\\(121.53_25.035).png\n",
      "SHAP 特徵影響條形圖已儲存至: C:\\thesis\\code\\result_lgb\\shap_bar\\(121.53_25.035).png\n",
      "訓練與預測 (121.53, 25.04) 的決策樹...\n",
      "[LightGBM] [Info] Auto-choosing row-wise multi-threading, the overhead of testing was 0.000558 seconds.\n",
      "You can set `force_row_wise=true` to remove the overhead.\n",
      "And if memory is not enough, you can set `force_col_wise=true`.\n",
      "[LightGBM] [Info] Total Bins 500\n",
      "[LightGBM] [Info] Number of data points in the train set: 13585, number of used features: 22\n",
      "[LightGBM] [Info] Start training from score 2679.307987\n",
      "Training until validation scores don't improve for 10 rounds\n",
      "[10]\tvalid_0's l2: 123320\n",
      "[20]\tvalid_0's l2: 71807.6\n",
      "[30]\tvalid_0's l2: 49958.5\n",
      "[40]\tvalid_0's l2: 40717.6\n",
      "[50]\tvalid_0's l2: 35315\n",
      "[60]\tvalid_0's l2: 31593.6\n",
      "[70]\tvalid_0's l2: 28971.9\n",
      "[80]\tvalid_0's l2: 26506.5\n",
      "[90]\tvalid_0's l2: 24605.7\n",
      "[100]\tvalid_0's l2: 23162.3\n",
      "Did not meet early stopping. Best iteration is:\n",
      "[100]\tvalid_0's l2: 23162.3\n",
      "LightGBM 總樹數: 100\n",
      "學習曲線已儲存至: C:\\thesis\\code\\result_lgb\\learning_curve\\(121.53_25.04).png\n",
      "最佳決策樹圖（Highest split_gain）已儲存至: C:\\thesis\\code\\result_lgb\\tree\\(121.53_25.04).png\n",
      "SHAP 特徵重要性圖已儲存至: C:\\thesis\\code\\result_lgb\\shap_summary\\(121.53_25.04).png\n",
      "SHAP 特徵影響條形圖已儲存至: C:\\thesis\\code\\result_lgb\\shap_bar\\(121.53_25.04).png\n",
      "訓練與預測 (121.53, 25.045) 的決策樹...\n",
      "[LightGBM] [Info] Auto-choosing row-wise multi-threading, the overhead of testing was 0.000456 seconds.\n",
      "You can set `force_row_wise=true` to remove the overhead.\n",
      "And if memory is not enough, you can set `force_col_wise=true`.\n",
      "[LightGBM] [Info] Total Bins 500\n",
      "[LightGBM] [Info] Number of data points in the train set: 13585, number of used features: 22\n",
      "[LightGBM] [Info] Start training from score 2635.527420\n",
      "Training until validation scores don't improve for 10 rounds\n",
      "[10]\tvalid_0's l2: 1.1315e+06\n",
      "[20]\tvalid_0's l2: 560131\n",
      "[30]\tvalid_0's l2: 309571\n",
      "[40]\tvalid_0's l2: 210556\n",
      "[50]\tvalid_0's l2: 161007\n",
      "[60]\tvalid_0's l2: 131398\n",
      "[70]\tvalid_0's l2: 111966\n",
      "[80]\tvalid_0's l2: 100766\n",
      "[90]\tvalid_0's l2: 90498.1\n",
      "[100]\tvalid_0's l2: 83365.9\n",
      "Did not meet early stopping. Best iteration is:\n",
      "[100]\tvalid_0's l2: 83365.9\n",
      "LightGBM 總樹數: 100\n",
      "學習曲線已儲存至: C:\\thesis\\code\\result_lgb\\learning_curve\\(121.53_25.045).png\n",
      "最佳決策樹圖（Highest split_gain）已儲存至: C:\\thesis\\code\\result_lgb\\tree\\(121.53_25.045).png\n",
      "SHAP 特徵重要性圖已儲存至: C:\\thesis\\code\\result_lgb\\shap_summary\\(121.53_25.045).png\n",
      "SHAP 特徵影響條形圖已儲存至: C:\\thesis\\code\\result_lgb\\shap_bar\\(121.53_25.045).png\n"
     ]
    },
    {
     "data": {
      "text/plain": [
       "<Figure size 3000x1800 with 0 Axes>"
      ]
     },
     "metadata": {},
     "output_type": "display_data"
    },
    {
     "data": {
      "text/plain": [
       "<Figure size 3000x1800 with 0 Axes>"
      ]
     },
     "metadata": {},
     "output_type": "display_data"
    },
    {
     "data": {
      "text/plain": [
       "<Figure size 3000x1800 with 0 Axes>"
      ]
     },
     "metadata": {},
     "output_type": "display_data"
    },
    {
     "data": {
      "text/plain": [
       "<Figure size 3000x1800 with 0 Axes>"
      ]
     },
     "metadata": {},
     "output_type": "display_data"
    },
    {
     "data": {
      "text/plain": [
       "<Figure size 3000x1800 with 0 Axes>"
      ]
     },
     "metadata": {},
     "output_type": "display_data"
    },
    {
     "data": {
      "text/plain": [
       "<Figure size 3000x1800 with 0 Axes>"
      ]
     },
     "metadata": {},
     "output_type": "display_data"
    },
    {
     "data": {
      "text/plain": [
       "<Figure size 3000x1800 with 0 Axes>"
      ]
     },
     "metadata": {},
     "output_type": "display_data"
    },
    {
     "data": {
      "text/plain": [
       "<Figure size 3000x1800 with 0 Axes>"
      ]
     },
     "metadata": {},
     "output_type": "display_data"
    },
    {
     "data": {
      "text/plain": [
       "<Figure size 3000x1800 with 0 Axes>"
      ]
     },
     "metadata": {},
     "output_type": "display_data"
    },
    {
     "data": {
      "text/plain": [
       "<Figure size 3000x1800 with 0 Axes>"
      ]
     },
     "metadata": {},
     "output_type": "display_data"
    },
    {
     "data": {
      "text/plain": [
       "<Figure size 3000x1800 with 0 Axes>"
      ]
     },
     "metadata": {},
     "output_type": "display_data"
    },
    {
     "data": {
      "text/plain": [
       "<Figure size 3000x1800 with 0 Axes>"
      ]
     },
     "metadata": {},
     "output_type": "display_data"
    },
    {
     "data": {
      "text/plain": [
       "<Figure size 3000x1800 with 0 Axes>"
      ]
     },
     "metadata": {},
     "output_type": "display_data"
    },
    {
     "data": {
      "text/plain": [
       "<Figure size 3000x1800 with 0 Axes>"
      ]
     },
     "metadata": {},
     "output_type": "display_data"
    },
    {
     "data": {
      "text/plain": [
       "<Figure size 3000x1800 with 0 Axes>"
      ]
     },
     "metadata": {},
     "output_type": "display_data"
    },
    {
     "data": {
      "text/plain": [
       "<Figure size 3000x1800 with 0 Axes>"
      ]
     },
     "metadata": {},
     "output_type": "display_data"
    },
    {
     "data": {
      "text/plain": [
       "<Figure size 3000x1800 with 0 Axes>"
      ]
     },
     "metadata": {},
     "output_type": "display_data"
    },
    {
     "data": {
      "text/plain": [
       "<Figure size 3000x1800 with 0 Axes>"
      ]
     },
     "metadata": {},
     "output_type": "display_data"
    },
    {
     "data": {
      "text/plain": [
       "<Figure size 3000x1800 with 0 Axes>"
      ]
     },
     "metadata": {},
     "output_type": "display_data"
    },
    {
     "data": {
      "text/plain": [
       "<Figure size 3000x1800 with 0 Axes>"
      ]
     },
     "metadata": {},
     "output_type": "display_data"
    },
    {
     "data": {
      "text/plain": [
       "<Figure size 3000x1800 with 0 Axes>"
      ]
     },
     "metadata": {},
     "output_type": "display_data"
    },
    {
     "data": {
      "text/plain": [
       "<Figure size 3000x1800 with 0 Axes>"
      ]
     },
     "metadata": {},
     "output_type": "display_data"
    },
    {
     "data": {
      "text/plain": [
       "<Figure size 3000x1800 with 0 Axes>"
      ]
     },
     "metadata": {},
     "output_type": "display_data"
    },
    {
     "data": {
      "text/plain": [
       "<Figure size 3000x1800 with 0 Axes>"
      ]
     },
     "metadata": {},
     "output_type": "display_data"
    },
    {
     "data": {
      "text/plain": [
       "<Figure size 3000x1800 with 0 Axes>"
      ]
     },
     "metadata": {},
     "output_type": "display_data"
    },
    {
     "data": {
      "text/plain": [
       "<Figure size 3000x1800 with 0 Axes>"
      ]
     },
     "metadata": {},
     "output_type": "display_data"
    },
    {
     "data": {
      "text/plain": [
       "<Figure size 3000x1800 with 0 Axes>"
      ]
     },
     "metadata": {},
     "output_type": "display_data"
    },
    {
     "data": {
      "text/plain": [
       "<Figure size 3000x1800 with 0 Axes>"
      ]
     },
     "metadata": {},
     "output_type": "display_data"
    },
    {
     "data": {
      "text/plain": [
       "<Figure size 3000x1800 with 0 Axes>"
      ]
     },
     "metadata": {},
     "output_type": "display_data"
    },
    {
     "data": {
      "text/plain": [
       "<Figure size 3000x1800 with 0 Axes>"
      ]
     },
     "metadata": {},
     "output_type": "display_data"
    },
    {
     "data": {
      "text/plain": [
       "<Figure size 3000x1800 with 0 Axes>"
      ]
     },
     "metadata": {},
     "output_type": "display_data"
    },
    {
     "data": {
      "text/plain": [
       "<Figure size 3000x1800 with 0 Axes>"
      ]
     },
     "metadata": {},
     "output_type": "display_data"
    },
    {
     "data": {
      "text/plain": [
       "<Figure size 3000x1800 with 0 Axes>"
      ]
     },
     "metadata": {},
     "output_type": "display_data"
    },
    {
     "data": {
      "text/plain": [
       "<Figure size 3000x1800 with 0 Axes>"
      ]
     },
     "metadata": {},
     "output_type": "display_data"
    },
    {
     "data": {
      "text/plain": [
       "<Figure size 3000x1800 with 0 Axes>"
      ]
     },
     "metadata": {},
     "output_type": "display_data"
    },
    {
     "data": {
      "text/plain": [
       "<Figure size 3000x1800 with 0 Axes>"
      ]
     },
     "metadata": {},
     "output_type": "display_data"
    },
    {
     "data": {
      "text/plain": [
       "<Figure size 3000x1800 with 0 Axes>"
      ]
     },
     "metadata": {},
     "output_type": "display_data"
    },
    {
     "data": {
      "text/plain": [
       "<Figure size 3000x1800 with 0 Axes>"
      ]
     },
     "metadata": {},
     "output_type": "display_data"
    },
    {
     "data": {
      "text/plain": [
       "<Figure size 3000x1800 with 0 Axes>"
      ]
     },
     "metadata": {},
     "output_type": "display_data"
    },
    {
     "data": {
      "text/plain": [
       "<Figure size 3000x1800 with 0 Axes>"
      ]
     },
     "metadata": {},
     "output_type": "display_data"
    },
    {
     "data": {
      "text/plain": [
       "<Figure size 3000x1800 with 0 Axes>"
      ]
     },
     "metadata": {},
     "output_type": "display_data"
    },
    {
     "data": {
      "text/plain": [
       "<Figure size 3000x1800 with 0 Axes>"
      ]
     },
     "metadata": {},
     "output_type": "display_data"
    },
    {
     "data": {
      "text/plain": [
       "<Figure size 3000x1800 with 0 Axes>"
      ]
     },
     "metadata": {},
     "output_type": "display_data"
    },
    {
     "data": {
      "text/plain": [
       "<Figure size 3000x1800 with 0 Axes>"
      ]
     },
     "metadata": {},
     "output_type": "display_data"
    },
    {
     "data": {
      "text/plain": [
       "<Figure size 3000x1800 with 0 Axes>"
      ]
     },
     "metadata": {},
     "output_type": "display_data"
    },
    {
     "data": {
      "text/plain": [
       "<Figure size 3000x1800 with 0 Axes>"
      ]
     },
     "metadata": {},
     "output_type": "display_data"
    },
    {
     "data": {
      "text/plain": [
       "<Figure size 3000x1800 with 0 Axes>"
      ]
     },
     "metadata": {},
     "output_type": "display_data"
    },
    {
     "data": {
      "text/plain": [
       "<Figure size 3000x1800 with 0 Axes>"
      ]
     },
     "metadata": {},
     "output_type": "display_data"
    },
    {
     "data": {
      "text/plain": [
       "<Figure size 3000x1800 with 0 Axes>"
      ]
     },
     "metadata": {},
     "output_type": "display_data"
    },
    {
     "data": {
      "text/plain": [
       "<Figure size 3000x1800 with 0 Axes>"
      ]
     },
     "metadata": {},
     "output_type": "display_data"
    },
    {
     "data": {
      "text/plain": [
       "<Figure size 3000x1800 with 0 Axes>"
      ]
     },
     "metadata": {},
     "output_type": "display_data"
    },
    {
     "data": {
      "text/plain": [
       "<Figure size 3000x1800 with 0 Axes>"
      ]
     },
     "metadata": {},
     "output_type": "display_data"
    },
    {
     "data": {
      "text/plain": [
       "<Figure size 3000x1800 with 0 Axes>"
      ]
     },
     "metadata": {},
     "output_type": "display_data"
    },
    {
     "data": {
      "text/plain": [
       "<Figure size 3000x1800 with 0 Axes>"
      ]
     },
     "metadata": {},
     "output_type": "display_data"
    },
    {
     "data": {
      "text/plain": [
       "<Figure size 3000x1800 with 0 Axes>"
      ]
     },
     "metadata": {},
     "output_type": "display_data"
    },
    {
     "data": {
      "text/plain": [
       "<Figure size 3000x1800 with 0 Axes>"
      ]
     },
     "metadata": {},
     "output_type": "display_data"
    },
    {
     "data": {
      "text/plain": [
       "<Figure size 3000x1800 with 0 Axes>"
      ]
     },
     "metadata": {},
     "output_type": "display_data"
    },
    {
     "data": {
      "text/plain": [
       "<Figure size 3000x1800 with 0 Axes>"
      ]
     },
     "metadata": {},
     "output_type": "display_data"
    },
    {
     "data": {
      "text/plain": [
       "<Figure size 3000x1800 with 0 Axes>"
      ]
     },
     "metadata": {},
     "output_type": "display_data"
    },
    {
     "data": {
      "text/plain": [
       "<Figure size 3000x1800 with 0 Axes>"
      ]
     },
     "metadata": {},
     "output_type": "display_data"
    },
    {
     "data": {
      "text/plain": [
       "<Figure size 3000x1800 with 0 Axes>"
      ]
     },
     "metadata": {},
     "output_type": "display_data"
    },
    {
     "data": {
      "text/plain": [
       "<Figure size 3000x1800 with 0 Axes>"
      ]
     },
     "metadata": {},
     "output_type": "display_data"
    },
    {
     "data": {
      "text/plain": [
       "<Figure size 3000x1800 with 0 Axes>"
      ]
     },
     "metadata": {},
     "output_type": "display_data"
    },
    {
     "data": {
      "text/plain": [
       "<Figure size 3000x1800 with 0 Axes>"
      ]
     },
     "metadata": {},
     "output_type": "display_data"
    },
    {
     "data": {
      "text/plain": [
       "<Figure size 3000x1800 with 0 Axes>"
      ]
     },
     "metadata": {},
     "output_type": "display_data"
    },
    {
     "data": {
      "text/plain": [
       "<Figure size 3000x1800 with 0 Axes>"
      ]
     },
     "metadata": {},
     "output_type": "display_data"
    },
    {
     "data": {
      "text/plain": [
       "<Figure size 3000x1800 with 0 Axes>"
      ]
     },
     "metadata": {},
     "output_type": "display_data"
    },
    {
     "data": {
      "text/plain": [
       "<Figure size 3000x1800 with 0 Axes>"
      ]
     },
     "metadata": {},
     "output_type": "display_data"
    },
    {
     "data": {
      "text/plain": [
       "<Figure size 3000x1800 with 0 Axes>"
      ]
     },
     "metadata": {},
     "output_type": "display_data"
    },
    {
     "data": {
      "text/plain": [
       "<Figure size 3000x1800 with 0 Axes>"
      ]
     },
     "metadata": {},
     "output_type": "display_data"
    },
    {
     "data": {
      "text/plain": [
       "<Figure size 3000x1800 with 0 Axes>"
      ]
     },
     "metadata": {},
     "output_type": "display_data"
    },
    {
     "data": {
      "text/plain": [
       "<Figure size 3000x1800 with 0 Axes>"
      ]
     },
     "metadata": {},
     "output_type": "display_data"
    },
    {
     "data": {
      "text/plain": [
       "<Figure size 3000x1800 with 0 Axes>"
      ]
     },
     "metadata": {},
     "output_type": "display_data"
    },
    {
     "data": {
      "text/plain": [
       "<Figure size 3000x1800 with 0 Axes>"
      ]
     },
     "metadata": {},
     "output_type": "display_data"
    },
    {
     "data": {
      "text/plain": [
       "<Figure size 3000x1800 with 0 Axes>"
      ]
     },
     "metadata": {},
     "output_type": "display_data"
    },
    {
     "data": {
      "text/plain": [
       "<Figure size 3000x1800 with 0 Axes>"
      ]
     },
     "metadata": {},
     "output_type": "display_data"
    },
    {
     "data": {
      "text/plain": [
       "<Figure size 3000x1800 with 0 Axes>"
      ]
     },
     "metadata": {},
     "output_type": "display_data"
    },
    {
     "data": {
      "text/plain": [
       "<Figure size 3000x1800 with 0 Axes>"
      ]
     },
     "metadata": {},
     "output_type": "display_data"
    },
    {
     "data": {
      "text/plain": [
       "<Figure size 3000x1800 with 0 Axes>"
      ]
     },
     "metadata": {},
     "output_type": "display_data"
    },
    {
     "data": {
      "text/plain": [
       "<Figure size 3000x1800 with 0 Axes>"
      ]
     },
     "metadata": {},
     "output_type": "display_data"
    },
    {
     "data": {
      "text/plain": [
       "<Figure size 3000x1800 with 0 Axes>"
      ]
     },
     "metadata": {},
     "output_type": "display_data"
    },
    {
     "data": {
      "text/plain": [
       "<Figure size 3000x1800 with 0 Axes>"
      ]
     },
     "metadata": {},
     "output_type": "display_data"
    },
    {
     "data": {
      "text/plain": [
       "<Figure size 3000x1800 with 0 Axes>"
      ]
     },
     "metadata": {},
     "output_type": "display_data"
    },
    {
     "data": {
      "text/plain": [
       "<Figure size 3000x1800 with 0 Axes>"
      ]
     },
     "metadata": {},
     "output_type": "display_data"
    },
    {
     "data": {
      "text/plain": [
       "<Figure size 3000x1800 with 0 Axes>"
      ]
     },
     "metadata": {},
     "output_type": "display_data"
    },
    {
     "data": {
      "text/plain": [
       "<Figure size 3000x1800 with 0 Axes>"
      ]
     },
     "metadata": {},
     "output_type": "display_data"
    },
    {
     "data": {
      "text/plain": [
       "<Figure size 3000x1800 with 0 Axes>"
      ]
     },
     "metadata": {},
     "output_type": "display_data"
    },
    {
     "data": {
      "text/plain": [
       "<Figure size 3000x1800 with 0 Axes>"
      ]
     },
     "metadata": {},
     "output_type": "display_data"
    },
    {
     "data": {
      "text/plain": [
       "<Figure size 3000x1800 with 0 Axes>"
      ]
     },
     "metadata": {},
     "output_type": "display_data"
    },
    {
     "data": {
      "text/plain": [
       "<Figure size 3000x1800 with 0 Axes>"
      ]
     },
     "metadata": {},
     "output_type": "display_data"
    },
    {
     "data": {
      "text/plain": [
       "<Figure size 3000x1800 with 0 Axes>"
      ]
     },
     "metadata": {},
     "output_type": "display_data"
    },
    {
     "data": {
      "text/plain": [
       "<Figure size 3000x1800 with 0 Axes>"
      ]
     },
     "metadata": {},
     "output_type": "display_data"
    },
    {
     "data": {
      "text/plain": [
       "<Figure size 3000x1800 with 0 Axes>"
      ]
     },
     "metadata": {},
     "output_type": "display_data"
    },
    {
     "data": {
      "text/plain": [
       "<Figure size 3000x1800 with 0 Axes>"
      ]
     },
     "metadata": {},
     "output_type": "display_data"
    },
    {
     "data": {
      "text/plain": [
       "<Figure size 3000x1800 with 0 Axes>"
      ]
     },
     "metadata": {},
     "output_type": "display_data"
    },
    {
     "data": {
      "text/plain": [
       "<Figure size 3000x1800 with 0 Axes>"
      ]
     },
     "metadata": {},
     "output_type": "display_data"
    },
    {
     "data": {
      "text/plain": [
       "<Figure size 3000x1800 with 0 Axes>"
      ]
     },
     "metadata": {},
     "output_type": "display_data"
    },
    {
     "data": {
      "text/plain": [
       "<Figure size 3000x1800 with 0 Axes>"
      ]
     },
     "metadata": {},
     "output_type": "display_data"
    },
    {
     "data": {
      "text/plain": [
       "<Figure size 3000x1800 with 0 Axes>"
      ]
     },
     "metadata": {},
     "output_type": "display_data"
    },
    {
     "data": {
      "text/plain": [
       "<Figure size 3000x1800 with 0 Axes>"
      ]
     },
     "metadata": {},
     "output_type": "display_data"
    },
    {
     "data": {
      "text/plain": [
       "<Figure size 3000x1800 with 0 Axes>"
      ]
     },
     "metadata": {},
     "output_type": "display_data"
    },
    {
     "data": {
      "text/plain": [
       "<Figure size 3000x1800 with 0 Axes>"
      ]
     },
     "metadata": {},
     "output_type": "display_data"
    },
    {
     "data": {
      "text/plain": [
       "<Figure size 3000x1800 with 0 Axes>"
      ]
     },
     "metadata": {},
     "output_type": "display_data"
    },
    {
     "data": {
      "text/plain": [
       "<Figure size 3000x1800 with 0 Axes>"
      ]
     },
     "metadata": {},
     "output_type": "display_data"
    },
    {
     "data": {
      "text/plain": [
       "<Figure size 3000x1800 with 0 Axes>"
      ]
     },
     "metadata": {},
     "output_type": "display_data"
    },
    {
     "data": {
      "text/plain": [
       "<Figure size 3000x1800 with 0 Axes>"
      ]
     },
     "metadata": {},
     "output_type": "display_data"
    },
    {
     "data": {
      "text/plain": [
       "<Figure size 3000x1800 with 0 Axes>"
      ]
     },
     "metadata": {},
     "output_type": "display_data"
    },
    {
     "data": {
      "text/plain": [
       "<Figure size 3000x1800 with 0 Axes>"
      ]
     },
     "metadata": {},
     "output_type": "display_data"
    },
    {
     "data": {
      "text/plain": [
       "<Figure size 3000x1800 with 0 Axes>"
      ]
     },
     "metadata": {},
     "output_type": "display_data"
    },
    {
     "data": {
      "text/plain": [
       "<Figure size 3000x1800 with 0 Axes>"
      ]
     },
     "metadata": {},
     "output_type": "display_data"
    },
    {
     "data": {
      "text/plain": [
       "<Figure size 3000x1800 with 0 Axes>"
      ]
     },
     "metadata": {},
     "output_type": "display_data"
    },
    {
     "data": {
      "text/plain": [
       "<Figure size 3000x1800 with 0 Axes>"
      ]
     },
     "metadata": {},
     "output_type": "display_data"
    },
    {
     "data": {
      "text/plain": [
       "<Figure size 3000x1800 with 0 Axes>"
      ]
     },
     "metadata": {},
     "output_type": "display_data"
    },
    {
     "data": {
      "text/plain": [
       "<Figure size 3000x1800 with 0 Axes>"
      ]
     },
     "metadata": {},
     "output_type": "display_data"
    },
    {
     "data": {
      "text/plain": [
       "<Figure size 3000x1800 with 0 Axes>"
      ]
     },
     "metadata": {},
     "output_type": "display_data"
    },
    {
     "data": {
      "text/plain": [
       "<Figure size 3000x1800 with 0 Axes>"
      ]
     },
     "metadata": {},
     "output_type": "display_data"
    },
    {
     "data": {
      "text/plain": [
       "<Figure size 3000x1800 with 0 Axes>"
      ]
     },
     "metadata": {},
     "output_type": "display_data"
    },
    {
     "data": {
      "text/plain": [
       "<Figure size 3000x1800 with 0 Axes>"
      ]
     },
     "metadata": {},
     "output_type": "display_data"
    },
    {
     "data": {
      "text/plain": [
       "<Figure size 3000x1800 with 0 Axes>"
      ]
     },
     "metadata": {},
     "output_type": "display_data"
    },
    {
     "data": {
      "text/plain": [
       "<Figure size 3000x1800 with 0 Axes>"
      ]
     },
     "metadata": {},
     "output_type": "display_data"
    },
    {
     "data": {
      "text/plain": [
       "<Figure size 3000x1800 with 0 Axes>"
      ]
     },
     "metadata": {},
     "output_type": "display_data"
    },
    {
     "data": {
      "text/plain": [
       "<Figure size 3000x1800 with 0 Axes>"
      ]
     },
     "metadata": {},
     "output_type": "display_data"
    },
    {
     "data": {
      "text/plain": [
       "<Figure size 3000x1800 with 0 Axes>"
      ]
     },
     "metadata": {},
     "output_type": "display_data"
    },
    {
     "data": {
      "text/plain": [
       "<Figure size 3000x1800 with 0 Axes>"
      ]
     },
     "metadata": {},
     "output_type": "display_data"
    },
    {
     "data": {
      "text/plain": [
       "<Figure size 3000x1800 with 0 Axes>"
      ]
     },
     "metadata": {},
     "output_type": "display_data"
    },
    {
     "data": {
      "text/plain": [
       "<Figure size 3000x1800 with 0 Axes>"
      ]
     },
     "metadata": {},
     "output_type": "display_data"
    },
    {
     "data": {
      "text/plain": [
       "<Figure size 3000x1800 with 0 Axes>"
      ]
     },
     "metadata": {},
     "output_type": "display_data"
    },
    {
     "data": {
      "text/plain": [
       "<Figure size 3000x1800 with 0 Axes>"
      ]
     },
     "metadata": {},
     "output_type": "display_data"
    },
    {
     "data": {
      "text/plain": [
       "<Figure size 3000x1800 with 0 Axes>"
      ]
     },
     "metadata": {},
     "output_type": "display_data"
    },
    {
     "data": {
      "text/plain": [
       "<Figure size 3000x1800 with 0 Axes>"
      ]
     },
     "metadata": {},
     "output_type": "display_data"
    },
    {
     "data": {
      "text/plain": [
       "<Figure size 3000x1800 with 0 Axes>"
      ]
     },
     "metadata": {},
     "output_type": "display_data"
    },
    {
     "data": {
      "text/plain": [
       "<Figure size 3000x1800 with 0 Axes>"
      ]
     },
     "metadata": {},
     "output_type": "display_data"
    },
    {
     "data": {
      "text/plain": [
       "<Figure size 3000x1800 with 0 Axes>"
      ]
     },
     "metadata": {},
     "output_type": "display_data"
    },
    {
     "data": {
      "text/plain": [
       "<Figure size 3000x1800 with 0 Axes>"
      ]
     },
     "metadata": {},
     "output_type": "display_data"
    },
    {
     "data": {
      "text/plain": [
       "<Figure size 3000x1800 with 0 Axes>"
      ]
     },
     "metadata": {},
     "output_type": "display_data"
    },
    {
     "data": {
      "text/plain": [
       "<Figure size 3000x1800 with 0 Axes>"
      ]
     },
     "metadata": {},
     "output_type": "display_data"
    },
    {
     "data": {
      "text/plain": [
       "<Figure size 3000x1800 with 0 Axes>"
      ]
     },
     "metadata": {},
     "output_type": "display_data"
    },
    {
     "data": {
      "text/plain": [
       "<Figure size 3000x1800 with 0 Axes>"
      ]
     },
     "metadata": {},
     "output_type": "display_data"
    },
    {
     "data": {
      "text/plain": [
       "<Figure size 3000x1800 with 0 Axes>"
      ]
     },
     "metadata": {},
     "output_type": "display_data"
    },
    {
     "data": {
      "text/plain": [
       "<Figure size 3000x1800 with 0 Axes>"
      ]
     },
     "metadata": {},
     "output_type": "display_data"
    },
    {
     "data": {
      "text/plain": [
       "<Figure size 3000x1800 with 0 Axes>"
      ]
     },
     "metadata": {},
     "output_type": "display_data"
    },
    {
     "data": {
      "text/plain": [
       "<Figure size 3000x1800 with 0 Axes>"
      ]
     },
     "metadata": {},
     "output_type": "display_data"
    },
    {
     "data": {
      "text/plain": [
       "<Figure size 3000x1800 with 0 Axes>"
      ]
     },
     "metadata": {},
     "output_type": "display_data"
    },
    {
     "data": {
      "text/plain": [
       "<Figure size 3000x1800 with 0 Axes>"
      ]
     },
     "metadata": {},
     "output_type": "display_data"
    },
    {
     "data": {
      "text/plain": [
       "<Figure size 3000x1800 with 0 Axes>"
      ]
     },
     "metadata": {},
     "output_type": "display_data"
    },
    {
     "data": {
      "text/plain": [
       "<Figure size 3000x1800 with 0 Axes>"
      ]
     },
     "metadata": {},
     "output_type": "display_data"
    },
    {
     "data": {
      "text/plain": [
       "<Figure size 3000x1800 with 0 Axes>"
      ]
     },
     "metadata": {},
     "output_type": "display_data"
    },
    {
     "data": {
      "text/plain": [
       "<Figure size 3000x1800 with 0 Axes>"
      ]
     },
     "metadata": {},
     "output_type": "display_data"
    },
    {
     "data": {
      "text/plain": [
       "<Figure size 3000x1800 with 0 Axes>"
      ]
     },
     "metadata": {},
     "output_type": "display_data"
    },
    {
     "data": {
      "text/plain": [
       "<Figure size 3000x1800 with 0 Axes>"
      ]
     },
     "metadata": {},
     "output_type": "display_data"
    },
    {
     "data": {
      "text/plain": [
       "<Figure size 3000x1800 with 0 Axes>"
      ]
     },
     "metadata": {},
     "output_type": "display_data"
    },
    {
     "data": {
      "text/plain": [
       "<Figure size 3000x1800 with 0 Axes>"
      ]
     },
     "metadata": {},
     "output_type": "display_data"
    },
    {
     "data": {
      "text/plain": [
       "<Figure size 3000x1800 with 0 Axes>"
      ]
     },
     "metadata": {},
     "output_type": "display_data"
    },
    {
     "data": {
      "text/plain": [
       "<Figure size 3000x1800 with 0 Axes>"
      ]
     },
     "metadata": {},
     "output_type": "display_data"
    },
    {
     "data": {
      "text/plain": [
       "<Figure size 3000x1800 with 0 Axes>"
      ]
     },
     "metadata": {},
     "output_type": "display_data"
    },
    {
     "data": {
      "text/plain": [
       "<Figure size 3000x1800 with 0 Axes>"
      ]
     },
     "metadata": {},
     "output_type": "display_data"
    },
    {
     "data": {
      "text/plain": [
       "<Figure size 3000x1800 with 0 Axes>"
      ]
     },
     "metadata": {},
     "output_type": "display_data"
    },
    {
     "data": {
      "text/plain": [
       "<Figure size 3000x1800 with 0 Axes>"
      ]
     },
     "metadata": {},
     "output_type": "display_data"
    },
    {
     "data": {
      "text/plain": [
       "<Figure size 3000x1800 with 0 Axes>"
      ]
     },
     "metadata": {},
     "output_type": "display_data"
    },
    {
     "data": {
      "text/plain": [
       "<Figure size 3000x1800 with 0 Axes>"
      ]
     },
     "metadata": {},
     "output_type": "display_data"
    },
    {
     "data": {
      "text/plain": [
       "<Figure size 3000x1800 with 0 Axes>"
      ]
     },
     "metadata": {},
     "output_type": "display_data"
    },
    {
     "data": {
      "text/plain": [
       "<Figure size 3000x1800 with 0 Axes>"
      ]
     },
     "metadata": {},
     "output_type": "display_data"
    },
    {
     "data": {
      "text/plain": [
       "<Figure size 3000x1800 with 0 Axes>"
      ]
     },
     "metadata": {},
     "output_type": "display_data"
    },
    {
     "data": {
      "text/plain": [
       "<Figure size 3000x1800 with 0 Axes>"
      ]
     },
     "metadata": {},
     "output_type": "display_data"
    },
    {
     "data": {
      "text/plain": [
       "<Figure size 3000x1800 with 0 Axes>"
      ]
     },
     "metadata": {},
     "output_type": "display_data"
    },
    {
     "data": {
      "text/plain": [
       "<Figure size 3000x1800 with 0 Axes>"
      ]
     },
     "metadata": {},
     "output_type": "display_data"
    },
    {
     "data": {
      "text/plain": [
       "<Figure size 3000x1800 with 0 Axes>"
      ]
     },
     "metadata": {},
     "output_type": "display_data"
    },
    {
     "data": {
      "text/plain": [
       "<Figure size 3000x1800 with 0 Axes>"
      ]
     },
     "metadata": {},
     "output_type": "display_data"
    },
    {
     "data": {
      "text/plain": [
       "<Figure size 3000x1800 with 0 Axes>"
      ]
     },
     "metadata": {},
     "output_type": "display_data"
    },
    {
     "data": {
      "text/plain": [
       "<Figure size 3000x1800 with 0 Axes>"
      ]
     },
     "metadata": {},
     "output_type": "display_data"
    },
    {
     "data": {
      "text/plain": [
       "<Figure size 3000x1800 with 0 Axes>"
      ]
     },
     "metadata": {},
     "output_type": "display_data"
    },
    {
     "data": {
      "text/plain": [
       "<Figure size 3000x1800 with 0 Axes>"
      ]
     },
     "metadata": {},
     "output_type": "display_data"
    },
    {
     "data": {
      "text/plain": [
       "<Figure size 3000x1800 with 0 Axes>"
      ]
     },
     "metadata": {},
     "output_type": "display_data"
    },
    {
     "data": {
      "text/plain": [
       "<Figure size 3000x1800 with 0 Axes>"
      ]
     },
     "metadata": {},
     "output_type": "display_data"
    },
    {
     "data": {
      "text/plain": [
       "<Figure size 3000x1800 with 0 Axes>"
      ]
     },
     "metadata": {},
     "output_type": "display_data"
    },
    {
     "data": {
      "text/plain": [
       "<Figure size 3000x1800 with 0 Axes>"
      ]
     },
     "metadata": {},
     "output_type": "display_data"
    },
    {
     "data": {
      "text/plain": [
       "<Figure size 3000x1800 with 0 Axes>"
      ]
     },
     "metadata": {},
     "output_type": "display_data"
    },
    {
     "data": {
      "text/plain": [
       "<Figure size 3000x1800 with 0 Axes>"
      ]
     },
     "metadata": {},
     "output_type": "display_data"
    },
    {
     "data": {
      "text/plain": [
       "<Figure size 3000x1800 with 0 Axes>"
      ]
     },
     "metadata": {},
     "output_type": "display_data"
    },
    {
     "data": {
      "text/plain": [
       "<Figure size 3000x1800 with 0 Axes>"
      ]
     },
     "metadata": {},
     "output_type": "display_data"
    },
    {
     "data": {
      "text/plain": [
       "<Figure size 3000x1800 with 0 Axes>"
      ]
     },
     "metadata": {},
     "output_type": "display_data"
    },
    {
     "data": {
      "text/plain": [
       "<Figure size 3000x1800 with 0 Axes>"
      ]
     },
     "metadata": {},
     "output_type": "display_data"
    },
    {
     "data": {
      "text/plain": [
       "<Figure size 3000x1800 with 0 Axes>"
      ]
     },
     "metadata": {},
     "output_type": "display_data"
    },
    {
     "data": {
      "text/plain": [
       "<Figure size 3000x1800 with 0 Axes>"
      ]
     },
     "metadata": {},
     "output_type": "display_data"
    },
    {
     "data": {
      "text/plain": [
       "<Figure size 3000x1800 with 0 Axes>"
      ]
     },
     "metadata": {},
     "output_type": "display_data"
    },
    {
     "data": {
      "text/plain": [
       "<Figure size 3000x1800 with 0 Axes>"
      ]
     },
     "metadata": {},
     "output_type": "display_data"
    },
    {
     "data": {
      "text/plain": [
       "<Figure size 3000x1800 with 0 Axes>"
      ]
     },
     "metadata": {},
     "output_type": "display_data"
    },
    {
     "data": {
      "text/plain": [
       "<Figure size 3000x1800 with 0 Axes>"
      ]
     },
     "metadata": {},
     "output_type": "display_data"
    },
    {
     "data": {
      "text/plain": [
       "<Figure size 3000x1800 with 0 Axes>"
      ]
     },
     "metadata": {},
     "output_type": "display_data"
    },
    {
     "data": {
      "text/plain": [
       "<Figure size 3000x1800 with 0 Axes>"
      ]
     },
     "metadata": {},
     "output_type": "display_data"
    },
    {
     "data": {
      "text/plain": [
       "<Figure size 3000x1800 with 0 Axes>"
      ]
     },
     "metadata": {},
     "output_type": "display_data"
    },
    {
     "data": {
      "text/plain": [
       "<Figure size 3000x1800 with 0 Axes>"
      ]
     },
     "metadata": {},
     "output_type": "display_data"
    },
    {
     "data": {
      "text/plain": [
       "<Figure size 3000x1800 with 0 Axes>"
      ]
     },
     "metadata": {},
     "output_type": "display_data"
    },
    {
     "data": {
      "text/plain": [
       "<Figure size 3000x1800 with 0 Axes>"
      ]
     },
     "metadata": {},
     "output_type": "display_data"
    },
    {
     "data": {
      "text/plain": [
       "<Figure size 3000x1800 with 0 Axes>"
      ]
     },
     "metadata": {},
     "output_type": "display_data"
    },
    {
     "data": {
      "text/plain": [
       "<Figure size 3000x1800 with 0 Axes>"
      ]
     },
     "metadata": {},
     "output_type": "display_data"
    },
    {
     "data": {
      "text/plain": [
       "<Figure size 3000x1800 with 0 Axes>"
      ]
     },
     "metadata": {},
     "output_type": "display_data"
    }
   ],
   "source": [
    "# 主循環：對每個 target 訓練模型、提取規則\n",
    "predictions = {}\n",
    "grid_ids = []\n",
    "tree_vectors = []\n",
    "geo_coords = []\n",
    "root_rules = {}    # 儲存每個 target 的根部規則 (僅根節點)\n",
    "rule_paths = {}    # 儲存每個 target 的廣度優先規則路徑\n",
    "\n",
    "# 新增：記錄每個 target 的最佳 MSE、模型物件及最佳樹索引\n",
    "target_mse = {}\n",
    "target_models = {}\n",
    "target_best_tree_index = {}\n",
    "\n",
    "for target in target_columns:\n",
    "    print(f\"訓練與預測 {target} 的決策樹...\")\n",
    "    train_data = lgb.Dataset(X_train_tree, label=y_train[target], categorical_feature=cat_features)\n",
    "    test_data = lgb.Dataset(X_test_tree, label=y_test[target], reference=train_data, categorical_feature=cat_features)\n",
    "    # 將 metric 改為 \"l2\" (即 MSE)\n",
    "    params = {\n",
    "        'objective': 'regression',\n",
    "        'metric': 'l2',\n",
    "        'boosting_type': 'gbdt',\n",
    "        'num_leaves': 31,\n",
    "        'learning_rate': 0.05,\n",
    "        'feature_fraction': 0.9,\n",
    "        'seed': 42\n",
    "    }\n",
    "    evals_result = {}\n",
    "    lgb_model = lgb.train(\n",
    "        params,\n",
    "        train_data,\n",
    "        num_boost_round=100,\n",
    "        valid_sets=[test_data],\n",
    "        valid_names=[\"valid_0\"],\n",
    "        callbacks=[lgb.early_stopping(stopping_rounds=10, verbose=True),\n",
    "                   lgb.record_evaluation(evals_result),\n",
    "                   lgb.log_evaluation(10)]\n",
    "    )\n",
    "    y_pred = lgb_model.predict(X_test_tree, num_iteration=lgb_model.best_iteration)\n",
    "    predictions[target] = y_pred\n",
    "    print(f\"LightGBM 總樹數: {lgb_model.num_trees()}\")\n",
    "    if \"valid_0\" in evals_result and \"l2\" in evals_result[\"valid_0\"]:\n",
    "        plt.figure(figsize=(8, 5))\n",
    "        plt.plot(evals_result['valid_0']['l2'], label=\"Validation MSE\", color=\"blue\")\n",
    "        plt.xlabel(\"Iterations\")\n",
    "        plt.ylabel(\"MSE\")\n",
    "        plt.title(f\"Learning Curve ({target})\")\n",
    "        plt.legend()\n",
    "        learning_curve_path = os.path.join(result_dir, \"learning_curve\", f\"{target.replace(',', '_').replace(' ', '')}.png\")\n",
    "        plt.savefig(learning_curve_path, dpi=300, bbox_inches=\"tight\")\n",
    "        plt.close()\n",
    "        print(f\"學習曲線已儲存至: {learning_curve_path}\")\n",
    "    else:\n",
    "        print(f\"無法繪製 {target} 的學習曲線。\")\n",
    "\n",
    "    model_dict = lgb_model.dump_model()\n",
    "    tree_info = model_dict[\"tree_info\"]\n",
    "    # 取每棵樹根節點的 split_gain，若不存在則設為 0\n",
    "    split_gains = [tree_info[i][\"tree_structure\"].get(\"split_gain\", 0) for i in range(len(tree_info))]\n",
    "    best_tree_index = np.argmax(split_gains)\n",
    "    # 記錄該樹對應的 MSE (僅供參考)\n",
    "    target_mse[target] = mean_squared_error(y_test[target], y_pred)\n",
    "    target_models[target] = lgb_model\n",
    "    target_best_tree_index[target] = best_tree_index\n",
    "\n",
    "    plt.figure(figsize=(30, 18))\n",
    "    lgb.plot_tree(lgb_model, tree_index=best_tree_index, show_info=['split_gain'])\n",
    "    plt.title(f\"Best Decision Tree for {target} (Highest split_gain)\")\n",
    "    tree_plot_path = os.path.join(result_dir, \"tree\", f\"{target.replace(',', '_').replace(' ', '')}.png\")\n",
    "    plt.savefig(tree_plot_path, dpi=900, bbox_inches=\"tight\")\n",
    "    plt.close()\n",
    "    print(f\"最佳決策樹圖（Highest split_gain）已儲存至: {tree_plot_path}\")\n",
    "\n",
    "    explainer = shap.TreeExplainer(lgb_model)\n",
    "    shap_values = explainer.shap_values(X_test)\n",
    "    shap_summary_path = os.path.join(result_dir, \"shap_summary\", f\"{target.replace(',', '_').replace(' ', '')}.png\")\n",
    "    plt.figure(figsize=(10, 6))\n",
    "    shap.summary_plot(shap_values, X_test, show=False)\n",
    "    plt.savefig(shap_summary_path, dpi=300, bbox_inches=\"tight\")\n",
    "    plt.close()\n",
    "    print(f\"SHAP 特徵重要性圖已儲存至: {shap_summary_path}\")\n",
    "\n",
    "    shap_bar_path = os.path.join(result_dir, \"shap_bar\", f\"{target.replace(',', '_').replace(' ', '')}.png\")\n",
    "    plt.figure(figsize=(10, 6))\n",
    "    shap.summary_plot(shap_values, X_test, plot_type=\"bar\", show=False)\n",
    "    plt.savefig(shap_bar_path, dpi=300, bbox_inches=\"tight\")\n",
    "    plt.close()\n",
    "    print(f\"SHAP 特徵影響條形圖已儲存至: {shap_bar_path}\")\n",
    "\n",
    "    # 提取最佳決策樹的根部規則（僅取根節點）\n",
    "    best_tree = tree_info[best_tree_index][\"tree_structure\"]\n",
    "    root_rule = (best_tree.get(\"split_feature\"), best_tree.get(\"threshold\"))\n",
    "    root_rules[target] = root_rule\n",
    "    # 提取廣度優先規則路徑（整棵樹，廣度順序）\n",
    "    path = get_breadth_first_path(best_tree)\n",
    "    rule_paths[target] = path\n",
    "    geo_coords.append(target)\n",
    "    grid_ids.append(target)"
   ]
  },
  {
   "cell_type": "code",
   "execution_count": null,
   "metadata": {},
   "outputs": [
    {
     "name": "stdout",
     "output_type": "stream",
     "text": [
      "群代表 (121.505, 25.11) 的決策樹圖已存至: C:\\thesis\\code\\result_lgb\\group_tree\\group_representative_tree_121.505_25.11.png\n",
      "群代表 (121.545, 25.005) 的決策樹圖已存至: C:\\thesis\\code\\result_lgb\\group_tree\\group_representative_tree_121.545_25.005.png\n",
      "群代表 (121.555, 25.0) 的決策樹圖已存至: C:\\thesis\\code\\result_lgb\\group_tree\\group_representative_tree_121.555_25.0.png\n",
      "群代表 (121.595, 25.075) 的決策樹圖已存至: C:\\thesis\\code\\result_lgb\\group_tree\\group_representative_tree_121.595_25.075.png\n",
      "群代表 (121.565, 25.02) 的決策樹圖已存至: C:\\thesis\\code\\result_lgb\\group_tree\\group_representative_tree_121.565_25.02.png\n",
      "群代表 (121.51, 25.125) 的決策樹圖已存至: C:\\thesis\\code\\result_lgb\\group_tree\\group_representative_tree_121.51_25.125.png\n",
      "群代表 (121.545, 24.985) 的決策樹圖已存至: C:\\thesis\\code\\result_lgb\\group_tree\\group_representative_tree_121.545_24.985.png\n",
      "群代表 (121.56, 25.025) 的決策樹圖已存至: C:\\thesis\\code\\result_lgb\\group_tree\\group_representative_tree_121.56_25.025.png\n",
      "群代表 (121.59, 25.07) 的決策樹圖已存至: C:\\thesis\\code\\result_lgb\\group_tree\\group_representative_tree_121.59_25.07.png\n",
      "群代表 (121.52, 25.105) 的決策樹圖已存至: C:\\thesis\\code\\result_lgb\\group_tree\\group_representative_tree_121.52_25.105.png\n",
      "群代表 (121.59, 25.06) 的決策樹圖已存至: C:\\thesis\\code\\result_lgb\\group_tree\\group_representative_tree_121.59_25.06.png\n",
      "群代表 (121.545, 25.075) 的決策樹圖已存至: C:\\thesis\\code\\result_lgb\\group_tree\\group_representative_tree_121.545_25.075.png\n",
      "群代表 (121.56, 25.07) 的決策樹圖已存至: C:\\thesis\\code\\result_lgb\\group_tree\\group_representative_tree_121.56_25.07.png\n",
      "群代表 (121.54, 25.025) 的決策樹圖已存至: C:\\thesis\\code\\result_lgb\\group_tree\\group_representative_tree_121.54_25.025.png\n",
      "群代表 (121.54, 25.03) 的決策樹圖已存至: C:\\thesis\\code\\result_lgb\\group_tree\\group_representative_tree_121.54_25.03.png\n",
      "群代表 (121.515, 25.035) 的決策樹圖已存至: C:\\thesis\\code\\result_lgb\\group_tree\\group_representative_tree_121.515_25.035.png\n",
      "群代表 (121.585, 25.065) 的決策樹圖已存至: C:\\thesis\\code\\result_lgb\\group_tree\\group_representative_tree_121.585_25.065.png\n",
      "群代表 (121.535, 25.105) 的決策樹圖已存至: C:\\thesis\\code\\result_lgb\\group_tree\\group_representative_tree_121.535_25.105.png\n",
      "群代表 (121.54, 25.105) 的決策樹圖已存至: C:\\thesis\\code\\result_lgb\\group_tree\\group_representative_tree_121.54_25.105.png\n"
     ]
    },
    {
     "name": "stderr",
     "output_type": "stream",
     "text": [
      "c:\\thesis\\code\\DIFFUSION_TREE\\env\\lib\\site-packages\\lightgbm\\plotting.py:821: RuntimeWarning: More than 20 figures have been opened. Figures created through the pyplot interface (`matplotlib.pyplot.figure`) are retained until explicitly closed and may consume too much memory. (To control this warning, see the rcParam `figure.max_open_warning`). Consider using `matplotlib.pyplot.close()`.\n",
      "  _, ax = plt.subplots(1, 1, figsize=figsize, dpi=dpi)\n"
     ]
    },
    {
     "name": "stdout",
     "output_type": "stream",
     "text": [
      "群代表 (121.55, 25.03) 的決策樹圖已存至: C:\\thesis\\code\\result_lgb\\group_tree\\group_representative_tree_121.55_25.03.png\n"
     ]
    },
    {
     "name": "stderr",
     "output_type": "stream",
     "text": [
      "C:\\Users\\702A\\AppData\\Local\\Temp\\ipykernel_64952\\3306400502.py:35: RuntimeWarning: More than 20 figures have been opened. Figures created through the pyplot interface (`matplotlib.pyplot.figure`) are retained until explicitly closed and may consume too much memory. (To control this warning, see the rcParam `figure.max_open_warning`). Consider using `matplotlib.pyplot.close()`.\n",
      "  plt.figure(figsize=(30, 18))\n"
     ]
    },
    {
     "name": "stdout",
     "output_type": "stream",
     "text": [
      "群代表 (121.59, 25.065) 的決策樹圖已存至: C:\\thesis\\code\\result_lgb\\group_tree\\group_representative_tree_121.59_25.065.png\n",
      "群代表 (121.53, 25.04) 的決策樹圖已存至: C:\\thesis\\code\\result_lgb\\group_tree\\group_representative_tree_121.53_25.04.png\n",
      "群代表 (121.585, 25.07) 的決策樹圖已存至: C:\\thesis\\code\\result_lgb\\group_tree\\group_representative_tree_121.585_25.07.png\n",
      "群代表 (121.54, 25.065) 的決策樹圖已存至: C:\\thesis\\code\\result_lgb\\group_tree\\group_representative_tree_121.54_25.065.png\n",
      "群代表 (121.58, 25.08) 的決策樹圖已存至: C:\\thesis\\code\\result_lgb\\group_tree\\group_representative_tree_121.58_25.08.png\n",
      "群代表 (121.55, 24.995) 的決策樹圖已存至: C:\\thesis\\code\\result_lgb\\group_tree\\group_representative_tree_121.55_24.995.png\n",
      "群代表 (121.595, 25.065) 的決策樹圖已存至: C:\\thesis\\code\\result_lgb\\group_tree\\group_representative_tree_121.595_25.065.png\n",
      "群代表 (121.595, 25.07) 的決策樹圖已存至: C:\\thesis\\code\\result_lgb\\group_tree\\group_representative_tree_121.595_25.07.png\n",
      "群代表 (121.535, 25.11) 的決策樹圖已存至: C:\\thesis\\code\\result_lgb\\group_tree\\group_representative_tree_121.535_25.11.png\n",
      "群代表 (121.545, 25.105) 的決策樹圖已存至: C:\\thesis\\code\\result_lgb\\group_tree\\group_representative_tree_121.545_25.105.png\n",
      "群代表 (121.56, 25.065) 的決策樹圖已存至: C:\\thesis\\code\\result_lgb\\group_tree\\group_representative_tree_121.56_25.065.png\n",
      "群代表 (121.555, 25.05) 的決策樹圖已存至: C:\\thesis\\code\\result_lgb\\group_tree\\group_representative_tree_121.555_25.05.png\n",
      "群代表 (121.58, 25.03) 的決策樹圖已存至: C:\\thesis\\code\\result_lgb\\group_tree\\group_representative_tree_121.58_25.03.png\n",
      "群代表 (121.55, 24.99) 的決策樹圖已存至: C:\\thesis\\code\\result_lgb\\group_tree\\group_representative_tree_121.55_24.99.png\n",
      "群代表 (121.555, 25.005) 的決策樹圖已存至: C:\\thesis\\code\\result_lgb\\group_tree\\group_representative_tree_121.555_25.005.png\n",
      "群代表 (121.565, 24.985) 的決策樹圖已存至: C:\\thesis\\code\\result_lgb\\group_tree\\group_representative_tree_121.565_24.985.png\n",
      "群代表 (121.565, 25.025) 的決策樹圖已存至: C:\\thesis\\code\\result_lgb\\group_tree\\group_representative_tree_121.565_25.025.png\n",
      "群代表 (121.52, 25.035) 的決策樹圖已存至: C:\\thesis\\code\\result_lgb\\group_tree\\group_representative_tree_121.52_25.035.png\n",
      "群代表 (121.53, 25.075) 的決策樹圖已存至: C:\\thesis\\code\\result_lgb\\group_tree\\group_representative_tree_121.53_25.075.png\n",
      "群代表 (121.53, 25.035) 的決策樹圖已存至: C:\\thesis\\code\\result_lgb\\group_tree\\group_representative_tree_121.53_25.035.png\n",
      "分群結果已儲存至: C:\\thesis\\code\\result_lgb\\grouping_results.csv\n",
      "基於決策樹根部規則(廣度分層)的地理分群圖已儲存至: C:\\thesis\\code\\result_lgb\\geo_grouping_by_root_feature_refined.png\n",
      "群代表 (121.505, 25.11) 的標註規則決策樹圖已存至: C:\\thesis\\code\\result_lgb\\group_tree\\group_representative_tree_121.505_25.11.png\n",
      "群代表 (121.545, 25.005) 的標註規則決策樹圖已存至: C:\\thesis\\code\\result_lgb\\group_tree\\group_representative_tree_121.545_25.005.png\n",
      "群代表 (121.555, 25.0) 的標註規則決策樹圖已存至: C:\\thesis\\code\\result_lgb\\group_tree\\group_representative_tree_121.555_25.0.png\n",
      "群代表 (121.595, 25.075) 的標註規則決策樹圖已存至: C:\\thesis\\code\\result_lgb\\group_tree\\group_representative_tree_121.595_25.075.png\n",
      "群代表 (121.565, 25.02) 的標註規則決策樹圖已存至: C:\\thesis\\code\\result_lgb\\group_tree\\group_representative_tree_121.565_25.02.png\n",
      "群代表 (121.51, 25.125) 的標註規則決策樹圖已存至: C:\\thesis\\code\\result_lgb\\group_tree\\group_representative_tree_121.51_25.125.png\n",
      "群代表 (121.545, 24.985) 的標註規則決策樹圖已存至: C:\\thesis\\code\\result_lgb\\group_tree\\group_representative_tree_121.545_24.985.png\n",
      "群代表 (121.56, 25.025) 的標註規則決策樹圖已存至: C:\\thesis\\code\\result_lgb\\group_tree\\group_representative_tree_121.56_25.025.png\n",
      "群代表 (121.59, 25.07) 的標註規則決策樹圖已存至: C:\\thesis\\code\\result_lgb\\group_tree\\group_representative_tree_121.59_25.07.png\n",
      "群代表 (121.52, 25.105) 的標註規則決策樹圖已存至: C:\\thesis\\code\\result_lgb\\group_tree\\group_representative_tree_121.52_25.105.png\n",
      "群代表 (121.59, 25.06) 的標註規則決策樹圖已存至: C:\\thesis\\code\\result_lgb\\group_tree\\group_representative_tree_121.59_25.06.png\n",
      "群代表 (121.545, 25.075) 的標註規則決策樹圖已存至: C:\\thesis\\code\\result_lgb\\group_tree\\group_representative_tree_121.545_25.075.png\n",
      "群代表 (121.56, 25.07) 的標註規則決策樹圖已存至: C:\\thesis\\code\\result_lgb\\group_tree\\group_representative_tree_121.56_25.07.png\n",
      "群代表 (121.54, 25.025) 的標註規則決策樹圖已存至: C:\\thesis\\code\\result_lgb\\group_tree\\group_representative_tree_121.54_25.025.png\n",
      "群代表 (121.54, 25.03) 的標註規則決策樹圖已存至: C:\\thesis\\code\\result_lgb\\group_tree\\group_representative_tree_121.54_25.03.png\n",
      "群代表 (121.515, 25.035) 的標註規則決策樹圖已存至: C:\\thesis\\code\\result_lgb\\group_tree\\group_representative_tree_121.515_25.035.png\n",
      "群代表 (121.585, 25.065) 的標註規則決策樹圖已存至: C:\\thesis\\code\\result_lgb\\group_tree\\group_representative_tree_121.585_25.065.png\n",
      "群代表 (121.535, 25.105) 的標註規則決策樹圖已存至: C:\\thesis\\code\\result_lgb\\group_tree\\group_representative_tree_121.535_25.105.png\n",
      "群代表 (121.54, 25.105) 的標註規則決策樹圖已存至: C:\\thesis\\code\\result_lgb\\group_tree\\group_representative_tree_121.54_25.105.png\n",
      "群代表 (121.55, 25.03) 的標註規則決策樹圖已存至: C:\\thesis\\code\\result_lgb\\group_tree\\group_representative_tree_121.55_25.03.png\n",
      "群代表 (121.59, 25.065) 的標註規則決策樹圖已存至: C:\\thesis\\code\\result_lgb\\group_tree\\group_representative_tree_121.59_25.065.png\n",
      "群代表 (121.53, 25.04) 的標註規則決策樹圖已存至: C:\\thesis\\code\\result_lgb\\group_tree\\group_representative_tree_121.53_25.04.png\n",
      "群代表 (121.585, 25.07) 的標註規則決策樹圖已存至: C:\\thesis\\code\\result_lgb\\group_tree\\group_representative_tree_121.585_25.07.png\n",
      "群代表 (121.54, 25.065) 的標註規則決策樹圖已存至: C:\\thesis\\code\\result_lgb\\group_tree\\group_representative_tree_121.54_25.065.png\n",
      "群代表 (121.58, 25.08) 的標註規則決策樹圖已存至: C:\\thesis\\code\\result_lgb\\group_tree\\group_representative_tree_121.58_25.08.png\n",
      "群代表 (121.55, 24.995) 的標註規則決策樹圖已存至: C:\\thesis\\code\\result_lgb\\group_tree\\group_representative_tree_121.55_24.995.png\n",
      "群代表 (121.595, 25.065) 的標註規則決策樹圖已存至: C:\\thesis\\code\\result_lgb\\group_tree\\group_representative_tree_121.595_25.065.png\n",
      "群代表 (121.595, 25.07) 的標註規則決策樹圖已存至: C:\\thesis\\code\\result_lgb\\group_tree\\group_representative_tree_121.595_25.07.png\n",
      "群代表 (121.535, 25.11) 的標註規則決策樹圖已存至: C:\\thesis\\code\\result_lgb\\group_tree\\group_representative_tree_121.535_25.11.png\n",
      "群代表 (121.545, 25.105) 的標註規則決策樹圖已存至: C:\\thesis\\code\\result_lgb\\group_tree\\group_representative_tree_121.545_25.105.png\n",
      "群代表 (121.56, 25.065) 的標註規則決策樹圖已存至: C:\\thesis\\code\\result_lgb\\group_tree\\group_representative_tree_121.56_25.065.png\n",
      "群代表 (121.555, 25.05) 的標註規則決策樹圖已存至: C:\\thesis\\code\\result_lgb\\group_tree\\group_representative_tree_121.555_25.05.png\n",
      "群代表 (121.58, 25.03) 的標註規則決策樹圖已存至: C:\\thesis\\code\\result_lgb\\group_tree\\group_representative_tree_121.58_25.03.png\n",
      "群代表 (121.55, 24.99) 的標註規則決策樹圖已存至: C:\\thesis\\code\\result_lgb\\group_tree\\group_representative_tree_121.55_24.99.png\n",
      "群代表 (121.555, 25.005) 的標註規則決策樹圖已存至: C:\\thesis\\code\\result_lgb\\group_tree\\group_representative_tree_121.555_25.005.png\n",
      "群代表 (121.565, 24.985) 的標註規則決策樹圖已存至: C:\\thesis\\code\\result_lgb\\group_tree\\group_representative_tree_121.565_24.985.png\n",
      "群代表 (121.565, 25.025) 的標註規則決策樹圖已存至: C:\\thesis\\code\\result_lgb\\group_tree\\group_representative_tree_121.565_25.025.png\n",
      "群代表 (121.52, 25.035) 的標註規則決策樹圖已存至: C:\\thesis\\code\\result_lgb\\group_tree\\group_representative_tree_121.52_25.035.png\n",
      "群代表 (121.53, 25.075) 的標註規則決策樹圖已存至: C:\\thesis\\code\\result_lgb\\group_tree\\group_representative_tree_121.53_25.075.png\n",
      "群代表 (121.53, 25.035) 的標註規則決策樹圖已存至: C:\\thesis\\code\\result_lgb\\group_tree\\group_representative_tree_121.53_25.035.png\n"
     ]
    },
    {
     "data": {
      "text/plain": [
       "<Figure size 3000x1800 with 0 Axes>"
      ]
     },
     "metadata": {},
     "output_type": "display_data"
    },
    {
     "data": {
      "text/plain": [
       "<Figure size 3000x1800 with 0 Axes>"
      ]
     },
     "metadata": {},
     "output_type": "display_data"
    },
    {
     "data": {
      "text/plain": [
       "<Figure size 3000x1800 with 0 Axes>"
      ]
     },
     "metadata": {},
     "output_type": "display_data"
    },
    {
     "data": {
      "text/plain": [
       "<Figure size 3000x1800 with 0 Axes>"
      ]
     },
     "metadata": {},
     "output_type": "display_data"
    },
    {
     "data": {
      "text/plain": [
       "<Figure size 3000x1800 with 0 Axes>"
      ]
     },
     "metadata": {},
     "output_type": "display_data"
    },
    {
     "data": {
      "text/plain": [
       "<Figure size 3000x1800 with 0 Axes>"
      ]
     },
     "metadata": {},
     "output_type": "display_data"
    },
    {
     "data": {
      "text/plain": [
       "<Figure size 3000x1800 with 0 Axes>"
      ]
     },
     "metadata": {},
     "output_type": "display_data"
    },
    {
     "data": {
      "text/plain": [
       "<Figure size 3000x1800 with 0 Axes>"
      ]
     },
     "metadata": {},
     "output_type": "display_data"
    },
    {
     "data": {
      "text/plain": [
       "<Figure size 3000x1800 with 0 Axes>"
      ]
     },
     "metadata": {},
     "output_type": "display_data"
    },
    {
     "data": {
      "text/plain": [
       "<Figure size 3000x1800 with 0 Axes>"
      ]
     },
     "metadata": {},
     "output_type": "display_data"
    },
    {
     "data": {
      "text/plain": [
       "<Figure size 3000x1800 with 0 Axes>"
      ]
     },
     "metadata": {},
     "output_type": "display_data"
    },
    {
     "data": {
      "text/plain": [
       "<Figure size 3000x1800 with 0 Axes>"
      ]
     },
     "metadata": {},
     "output_type": "display_data"
    },
    {
     "data": {
      "text/plain": [
       "<Figure size 3000x1800 with 0 Axes>"
      ]
     },
     "metadata": {},
     "output_type": "display_data"
    },
    {
     "data": {
      "text/plain": [
       "<Figure size 3000x1800 with 0 Axes>"
      ]
     },
     "metadata": {},
     "output_type": "display_data"
    },
    {
     "data": {
      "text/plain": [
       "<Figure size 3000x1800 with 0 Axes>"
      ]
     },
     "metadata": {},
     "output_type": "display_data"
    },
    {
     "data": {
      "text/plain": [
       "<Figure size 3000x1800 with 0 Axes>"
      ]
     },
     "metadata": {},
     "output_type": "display_data"
    },
    {
     "data": {
      "text/plain": [
       "<Figure size 3000x1800 with 0 Axes>"
      ]
     },
     "metadata": {},
     "output_type": "display_data"
    },
    {
     "data": {
      "text/plain": [
       "<Figure size 3000x1800 with 0 Axes>"
      ]
     },
     "metadata": {},
     "output_type": "display_data"
    },
    {
     "data": {
      "text/plain": [
       "<Figure size 3000x1800 with 0 Axes>"
      ]
     },
     "metadata": {},
     "output_type": "display_data"
    },
    {
     "data": {
      "text/plain": [
       "<Figure size 3000x1800 with 0 Axes>"
      ]
     },
     "metadata": {},
     "output_type": "display_data"
    },
    {
     "data": {
      "text/plain": [
       "<Figure size 3000x1800 with 0 Axes>"
      ]
     },
     "metadata": {},
     "output_type": "display_data"
    },
    {
     "data": {
      "text/plain": [
       "<Figure size 3000x1800 with 0 Axes>"
      ]
     },
     "metadata": {},
     "output_type": "display_data"
    },
    {
     "data": {
      "text/plain": [
       "<Figure size 3000x1800 with 0 Axes>"
      ]
     },
     "metadata": {},
     "output_type": "display_data"
    },
    {
     "data": {
      "text/plain": [
       "<Figure size 3000x1800 with 0 Axes>"
      ]
     },
     "metadata": {},
     "output_type": "display_data"
    },
    {
     "data": {
      "text/plain": [
       "<Figure size 3000x1800 with 0 Axes>"
      ]
     },
     "metadata": {},
     "output_type": "display_data"
    },
    {
     "data": {
      "text/plain": [
       "<Figure size 3000x1800 with 0 Axes>"
      ]
     },
     "metadata": {},
     "output_type": "display_data"
    },
    {
     "data": {
      "text/plain": [
       "<Figure size 3000x1800 with 0 Axes>"
      ]
     },
     "metadata": {},
     "output_type": "display_data"
    },
    {
     "data": {
      "text/plain": [
       "<Figure size 3000x1800 with 0 Axes>"
      ]
     },
     "metadata": {},
     "output_type": "display_data"
    },
    {
     "data": {
      "text/plain": [
       "<Figure size 3000x1800 with 0 Axes>"
      ]
     },
     "metadata": {},
     "output_type": "display_data"
    },
    {
     "data": {
      "text/plain": [
       "<Figure size 3000x1800 with 0 Axes>"
      ]
     },
     "metadata": {},
     "output_type": "display_data"
    },
    {
     "data": {
      "text/plain": [
       "<Figure size 3000x1800 with 0 Axes>"
      ]
     },
     "metadata": {},
     "output_type": "display_data"
    },
    {
     "data": {
      "text/plain": [
       "<Figure size 3000x1800 with 0 Axes>"
      ]
     },
     "metadata": {},
     "output_type": "display_data"
    },
    {
     "data": {
      "text/plain": [
       "<Figure size 3000x1800 with 0 Axes>"
      ]
     },
     "metadata": {},
     "output_type": "display_data"
    },
    {
     "data": {
      "text/plain": [
       "<Figure size 3000x1800 with 0 Axes>"
      ]
     },
     "metadata": {},
     "output_type": "display_data"
    },
    {
     "data": {
      "text/plain": [
       "<Figure size 3000x1800 with 0 Axes>"
      ]
     },
     "metadata": {},
     "output_type": "display_data"
    },
    {
     "data": {
      "text/plain": [
       "<Figure size 3000x1800 with 0 Axes>"
      ]
     },
     "metadata": {},
     "output_type": "display_data"
    },
    {
     "data": {
      "text/plain": [
       "<Figure size 3000x1800 with 0 Axes>"
      ]
     },
     "metadata": {},
     "output_type": "display_data"
    },
    {
     "data": {
      "text/plain": [
       "<Figure size 3000x1800 with 0 Axes>"
      ]
     },
     "metadata": {},
     "output_type": "display_data"
    },
    {
     "data": {
      "text/plain": [
       "<Figure size 3000x1800 with 0 Axes>"
      ]
     },
     "metadata": {},
     "output_type": "display_data"
    },
    {
     "data": {
      "text/plain": [
       "<Figure size 3000x1800 with 0 Axes>"
      ]
     },
     "metadata": {},
     "output_type": "display_data"
    },
    {
     "data": {
      "text/plain": [
       "<Figure size 3000x1800 with 0 Axes>"
      ]
     },
     "metadata": {},
     "output_type": "display_data"
    },
    {
     "data": {
      "text/plain": [
       "<Figure size 3000x1800 with 0 Axes>"
      ]
     },
     "metadata": {},
     "output_type": "display_data"
    },
    {
     "data": {
      "text/plain": [
       "<Figure size 3000x1800 with 0 Axes>"
      ]
     },
     "metadata": {},
     "output_type": "display_data"
    },
    {
     "data": {
      "text/plain": [
       "<Figure size 3000x1800 with 0 Axes>"
      ]
     },
     "metadata": {},
     "output_type": "display_data"
    },
    {
     "data": {
      "text/plain": [
       "<Figure size 3000x1800 with 0 Axes>"
      ]
     },
     "metadata": {},
     "output_type": "display_data"
    },
    {
     "data": {
      "text/plain": [
       "<Figure size 3000x1800 with 0 Axes>"
      ]
     },
     "metadata": {},
     "output_type": "display_data"
    },
    {
     "data": {
      "text/plain": [
       "<Figure size 3000x1800 with 0 Axes>"
      ]
     },
     "metadata": {},
     "output_type": "display_data"
    },
    {
     "data": {
      "text/plain": [
       "<Figure size 3000x1800 with 0 Axes>"
      ]
     },
     "metadata": {},
     "output_type": "display_data"
    },
    {
     "data": {
      "text/plain": [
       "<Figure size 3000x1800 with 0 Axes>"
      ]
     },
     "metadata": {},
     "output_type": "display_data"
    },
    {
     "data": {
      "text/plain": [
       "<Figure size 3000x1800 with 0 Axes>"
      ]
     },
     "metadata": {},
     "output_type": "display_data"
    },
    {
     "data": {
      "text/plain": [
       "<Figure size 3000x1800 with 0 Axes>"
      ]
     },
     "metadata": {},
     "output_type": "display_data"
    },
    {
     "data": {
      "text/plain": [
       "<Figure size 3000x1800 with 0 Axes>"
      ]
     },
     "metadata": {},
     "output_type": "display_data"
    },
    {
     "data": {
      "text/plain": [
       "<Figure size 3000x1800 with 0 Axes>"
      ]
     },
     "metadata": {},
     "output_type": "display_data"
    },
    {
     "data": {
      "text/plain": [
       "<Figure size 3000x1800 with 0 Axes>"
      ]
     },
     "metadata": {},
     "output_type": "display_data"
    },
    {
     "data": {
      "text/plain": [
       "<Figure size 3000x1800 with 0 Axes>"
      ]
     },
     "metadata": {},
     "output_type": "display_data"
    },
    {
     "data": {
      "text/plain": [
       "<Figure size 3000x1800 with 0 Axes>"
      ]
     },
     "metadata": {},
     "output_type": "display_data"
    },
    {
     "data": {
      "text/plain": [
       "<Figure size 3000x1800 with 0 Axes>"
      ]
     },
     "metadata": {},
     "output_type": "display_data"
    },
    {
     "data": {
      "text/plain": [
       "<Figure size 3000x1800 with 0 Axes>"
      ]
     },
     "metadata": {},
     "output_type": "display_data"
    },
    {
     "data": {
      "text/plain": [
       "<Figure size 3000x1800 with 0 Axes>"
      ]
     },
     "metadata": {},
     "output_type": "display_data"
    },
    {
     "data": {
      "text/plain": [
       "<Figure size 3000x1800 with 0 Axes>"
      ]
     },
     "metadata": {},
     "output_type": "display_data"
    },
    {
     "data": {
      "text/plain": [
       "<Figure size 3000x1800 with 0 Axes>"
      ]
     },
     "metadata": {},
     "output_type": "display_data"
    },
    {
     "data": {
      "text/plain": [
       "<Figure size 3000x1800 with 0 Axes>"
      ]
     },
     "metadata": {},
     "output_type": "display_data"
    },
    {
     "data": {
      "text/plain": [
       "<Figure size 3000x1800 with 0 Axes>"
      ]
     },
     "metadata": {},
     "output_type": "display_data"
    },
    {
     "data": {
      "text/plain": [
       "<Figure size 3000x1800 with 0 Axes>"
      ]
     },
     "metadata": {},
     "output_type": "display_data"
    },
    {
     "data": {
      "text/plain": [
       "<Figure size 3000x1800 with 0 Axes>"
      ]
     },
     "metadata": {},
     "output_type": "display_data"
    },
    {
     "data": {
      "text/plain": [
       "<Figure size 3000x1800 with 0 Axes>"
      ]
     },
     "metadata": {},
     "output_type": "display_data"
    },
    {
     "data": {
      "text/plain": [
       "<Figure size 3000x1800 with 0 Axes>"
      ]
     },
     "metadata": {},
     "output_type": "display_data"
    },
    {
     "data": {
      "text/plain": [
       "<Figure size 3000x1800 with 0 Axes>"
      ]
     },
     "metadata": {},
     "output_type": "display_data"
    },
    {
     "data": {
      "text/plain": [
       "<Figure size 3000x1800 with 0 Axes>"
      ]
     },
     "metadata": {},
     "output_type": "display_data"
    },
    {
     "data": {
      "text/plain": [
       "<Figure size 3000x1800 with 0 Axes>"
      ]
     },
     "metadata": {},
     "output_type": "display_data"
    },
    {
     "data": {
      "text/plain": [
       "<Figure size 3000x1800 with 0 Axes>"
      ]
     },
     "metadata": {},
     "output_type": "display_data"
    },
    {
     "data": {
      "text/plain": [
       "<Figure size 3000x1800 with 0 Axes>"
      ]
     },
     "metadata": {},
     "output_type": "display_data"
    },
    {
     "data": {
      "text/plain": [
       "<Figure size 3000x1800 with 0 Axes>"
      ]
     },
     "metadata": {},
     "output_type": "display_data"
    },
    {
     "data": {
      "text/plain": [
       "<Figure size 3000x1800 with 0 Axes>"
      ]
     },
     "metadata": {},
     "output_type": "display_data"
    },
    {
     "data": {
      "text/plain": [
       "<Figure size 3000x1800 with 0 Axes>"
      ]
     },
     "metadata": {},
     "output_type": "display_data"
    },
    {
     "data": {
      "text/plain": [
       "<Figure size 3000x1800 with 0 Axes>"
      ]
     },
     "metadata": {},
     "output_type": "display_data"
    },
    {
     "data": {
      "text/plain": [
       "<Figure size 3000x1800 with 0 Axes>"
      ]
     },
     "metadata": {},
     "output_type": "display_data"
    },
    {
     "data": {
      "text/plain": [
       "<Figure size 3000x1800 with 0 Axes>"
      ]
     },
     "metadata": {},
     "output_type": "display_data"
    },
    {
     "data": {
      "text/plain": [
       "<Figure size 3000x1800 with 0 Axes>"
      ]
     },
     "metadata": {},
     "output_type": "display_data"
    },
    {
     "data": {
      "text/plain": [
       "<Figure size 3000x1800 with 0 Axes>"
      ]
     },
     "metadata": {},
     "output_type": "display_data"
    }
   ],
   "source": [
    "# 分群規則：\n",
    "total_targets = len(target_columns)\n",
    "threshold = total_targets / 10.0\n",
    "\n",
    "final_groups = assign_group_by_feature_prefix(rule_paths, threshold)\n",
    "\n",
    "# 將每個群中 MSE 最低的座標選為群代表\n",
    "group_to_targets = {}\n",
    "for target, group_prefix in final_groups.items():\n",
    "    group_to_targets.setdefault(group_prefix, []).append(target)\n",
    "\n",
    "group_representative = {}\n",
    "for group_prefix, targets in group_to_targets.items():\n",
    "    best_target = min(targets, key=lambda t: target_mse[t])\n",
    "    group_representative[group_prefix] = best_target\n",
    "\n",
    "# 將群代表的模型視覺化，同時標示出該群的規則\n",
    "reverse_mapping = {v: k for k, v in feature_mapping.items()}\n",
    "for group_prefix, rep_target in group_representative.items():\n",
    "    model = target_models[rep_target]\n",
    "    best_tree_index = target_best_tree_index[rep_target]\n",
    "    \n",
    "    # 只使用群規則前綴 (group_prefix)，組成解釋文字\n",
    "    rule_features = []\n",
    "    for feature_index in group_prefix:\n",
    "        if feature_index < len(X_train_tree.columns):\n",
    "            feature_eng = list(X_train_tree.columns)[feature_index]\n",
    "        else:\n",
    "            feature_eng = str(feature_index)\n",
    "        feature_ch = reverse_mapping.get(feature_eng, feature_eng)\n",
    "        rule_features.append(feature_ch)\n",
    "    rule_text = f\"群代表座標: {rep_target}\\n群規則: \" + \"; \".join(rule_features)\n",
    "    \n",
    "    # 繪製決策樹圖，並在圖上標示解釋文字\n",
    "    plt.figure(figsize=(30, 18))\n",
    "    lgb.plot_tree(model, tree_index=best_tree_index, show_info=['split_gain'])\n",
    "    plt.suptitle(rule_text, fontsize=10)\n",
    "    safe_target = rep_target.replace(\"(\", \"\").replace(\")\", \"\").replace(\",\", \"_\").replace(\" \", \"\")\n",
    "    rep_tree_plot_path = os.path.join(result_dir, \"group_tree\", f\"group_representative_tree_{safe_target}.png\")\n",
    "    plt.savefig(rep_tree_plot_path, dpi=900, bbox_inches=\"tight\")\n",
    "    plt.close()\n",
    "    print(f\"群代表 {rep_target} 的決策樹圖已存至: {rep_tree_plot_path}\")\n",
    "\n",
    "\n",
    "\n",
    "# 建立 target -> 分組標籤對照表：將唯一前綴映射到數值標籤\n",
    "unique_prefixes = {v for v in final_groups.values()}\n",
    "prefix_to_label = {prefix: idx for idx, prefix in enumerate(unique_prefixes)}\n",
    "group_labels = {target: prefix_to_label[final_groups[target]] for target in final_groups}\n",
    "\n",
    "# 輸出分群結果到 CSV：僅顯示分組時使用的特徵名稱 (中文)\n",
    "group_rows = []\n",
    "for prefix, label in prefix_to_label.items():\n",
    "    rules_str = []\n",
    "    for feature_idx in prefix:\n",
    "        if feature_idx < len(X_train_tree.columns):\n",
    "            feature_eng = list(X_train_tree.columns)[feature_idx]\n",
    "        else:\n",
    "            feature_eng = str(feature_idx)\n",
    "        feature_ch = reverse_mapping.get(feature_eng, feature_eng)\n",
    "        rules_str.append(f\"{feature_ch}\")\n",
    "    prefix_str = \"; \".join(rules_str)\n",
    "    targets_in_prefix = [t for t, p in final_groups.items() if p == prefix]\n",
    "    count = len(targets_in_prefix)\n",
    "    rep_target = group_representative[prefix]\n",
    "    rep_mse = target_mse[rep_target]\n",
    "    group_mse = np.mean([target_mse[t] for t in targets_in_prefix])\n",
    "    overall_mse = np.mean(list(target_mse.values()))\n",
    "    group_rows.append({\n",
    "        \"規則\": prefix_str,\n",
    "        \"座標數\": count,\n",
    "        \"分組標籤\": label,\n",
    "        \"群代表座標\": rep_target,\n",
    "        \"代表座標MSE\": rep_mse,\n",
    "        \"群平均MSE\": group_mse,\n",
    "        \"總平均MSE\": overall_mse,\n",
    "        \"目標\": \", \".join(targets_in_prefix)\n",
    "    })\n",
    "\n",
    "group_df = pd.DataFrame(group_rows)\n",
    "excel_path = os.path.join(result_dir, \"grouping_results.csv\")\n",
    "group_df.to_csv(excel_path, index=False, encoding='utf-8-sig')\n",
    "print(\"分群結果已儲存至:\", excel_path)\n",
    "\n",
    "# 視覺化：將 geo_coords (存放 target 字串，格式 \"(lon, lat)\") 轉為數值型 tuple\n",
    "parsed_coords = [tuple(map(float, coord.strip(\"() \").split(\",\"))) for coord in target_columns]\n",
    "group_label_list = [group_labels[t] for t in grid_ids]\n",
    "all_lons = [coord[0] for coord in parsed_coords]\n",
    "all_lats = [coord[1] for coord in parsed_coords]\n",
    "\n",
    "plt.figure(figsize=(10, 8))\n",
    "plt.scatter(all_lons, all_lats, c=group_label_list, cmap='viridis', s=50, alpha=0.7)\n",
    "plt.ticklabel_format(useOffset=False, style='plain', axis='both')\n",
    "plt.xlabel(\"Longitude\")\n",
    "plt.ylabel(\"Latitude\")\n",
    "plt.title(\"基於決策樹根部規則(廣度分層)分群的地理分布\")\n",
    "plt.colorbar(label=\"Group Label\")\n",
    "grouping_path = os.path.join(result_dir, \"geo_grouping_by_root_feature_refined.png\")\n",
    "plt.savefig(grouping_path, dpi=300, bbox_inches=\"tight\")\n",
    "plt.close()\n",
    "print(\"基於決策樹根部規則(廣度分層)的地理分群圖已儲存至:\", grouping_path)\n",
    "\n",
    "\n",
    "# 建立儲存群代表決策樹的子目錄\n",
    "group_tree_dir = os.path.join(result_dir, \"group_tree\")\n",
    "os.makedirs(group_tree_dir, exist_ok=True)\n",
    "\n",
    "# 對每個群代表進行繪圖與標示群規則\n",
    "for prefix, rep_target in group_representative.items():\n",
    "    # 從 group_rows 中找出對應群規則字串\n",
    "    rule_str = \"\"\n",
    "    for row in group_rows:\n",
    "        if row[\"群代表座標\"] == rep_target:\n",
    "            rule_str = row[\"規則\"]\n",
    "            break\n",
    "    # 取得該群代表的決策樹模型\n",
    "    model = target_models[rep_target]\n",
    "    plt.figure(figsize=(30, 18))\n",
    "    # 繪製決策樹\n",
    "    lgb.plot_tree(\n",
    "    model, \n",
    "    tree_index=target_best_tree_index[rep_target], \n",
    "    show_info=['split_gain'],\n",
    "    graph_attr={\n",
    "        'ranksep': '0.75',  # 層與層之間的距離（預設約 0.75）\n",
    "        'nodesep': '0.25'   # 同層節點之間的距離（預設約 0.25）\n",
    "    })\n",
    "    # 在圖上標題處加入群代表與群規則說明\n",
    "    # 調整子圖布局，讓繪圖區域往上移\n",
    "    plt.suptitle(f\"群代表: {rep_target}\\n群規則: {rule_str}\", fontsize=5)\n",
    "    safe_target = rep_target.replace(\"(\", \"\").replace(\")\", \"\").replace(\",\", \"_\").replace(\" \", \"\")\n",
    "    group_tree_path = os.path.join(group_tree_dir, f\"group_representative_tree_{safe_target}.png\")\n",
    "    plt.savefig(group_tree_path, dpi=900, bbox_inches=\"tight\")\n",
    "    plt.close()\n",
    "    print(f\"群代表 {rep_target} 的標註規則決策樹圖已存至: {group_tree_path}\")\n"
   ]
  }
 ],
 "metadata": {
  "kernelspec": {
   "display_name": "env",
   "language": "python",
   "name": "python3"
  },
  "language_info": {
   "codemirror_mode": {
    "name": "ipython",
    "version": 3
   },
   "file_extension": ".py",
   "mimetype": "text/x-python",
   "name": "python",
   "nbconvert_exporter": "python",
   "pygments_lexer": "ipython3",
   "version": "3.9.13"
  }
 },
 "nbformat": 4,
 "nbformat_minor": 2
}
